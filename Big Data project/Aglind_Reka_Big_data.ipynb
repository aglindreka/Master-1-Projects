{
 "cells": [
  {
   "cell_type": "markdown",
   "metadata": {
    "application/vnd.databricks.v1+cell": {
     "cellMetadata": {},
     "inputWidgets": {},
     "nuid": "e44ec0e5-f976-4c36-95ee-097277de2d6f",
     "showTitle": false,
     "title": ""
    }
   },
   "source": [
    "# Spark Session\n",
    "\n",
    "All distributed operations with Spark are done using so-called Spark Session. Usually one is already created by your cluster's administrator."
   ]
  },
  {
   "cell_type": "code",
   "execution_count": 0,
   "metadata": {
    "application/vnd.databricks.v1+cell": {
     "cellMetadata": {},
     "inputWidgets": {},
     "nuid": "0a0a4787-532b-4855-aca1-99423c9ec6eb",
     "showTitle": false,
     "title": ""
    },
    "jupyter": {
     "outputs_hidden": false
    }
   },
   "outputs": [
    {
     "data": {
      "text/html": [
       "\n",
       "            <div>\n",
       "                <p><b>SparkSession - hive</b></p>\n",
       "                \n",
       "        <div>\n",
       "            <p><b>SparkContext</b></p>\n",
       "\n",
       "            <p><a href=\"/?o=9471301036371#setting/sparkui/0107-115554-ouyo9mv6/driver-7117606350486419193\">Spark UI</a></p>\n",
       "\n",
       "            <dl>\n",
       "              <dt>Version</dt>\n",
       "                <dd><code>v3.3.0</code></dd>\n",
       "              <dt>Master</dt>\n",
       "                <dd><code>local[8]</code></dd>\n",
       "              <dt>AppName</dt>\n",
       "                <dd><code>Databricks Shell</code></dd>\n",
       "            </dl>\n",
       "        </div>\n",
       "        \n",
       "            </div>\n",
       "        "
      ]
     },
     "metadata": {
      "application/vnd.databricks.v1+output": {
       "addedWidgets": {},
       "arguments": {},
       "data": "\n            <div>\n                <p><b>SparkSession - hive</b></p>\n                \n        <div>\n            <p><b>SparkContext</b></p>\n\n            <p><a href=\"/?o=9471301036371#setting/sparkui/0107-115554-ouyo9mv6/driver-7117606350486419193\">Spark UI</a></p>\n\n            <dl>\n              <dt>Version</dt>\n                <dd><code>v3.3.0</code></dd>\n              <dt>Master</dt>\n                <dd><code>local[8]</code></dd>\n              <dt>AppName</dt>\n                <dd><code>Databricks Shell</code></dd>\n            </dl>\n        </div>\n        \n            </div>\n        ",
       "datasetInfos": [],
       "metadata": {},
       "removedWidgets": [],
       "textData": null,
       "type": "htmlSandbox"
      }
     },
     "output_type": "display_data"
    }
   ],
   "source": [
    "spark"
   ]
  },
  {
   "cell_type": "code",
   "execution_count": 0,
   "metadata": {
    "application/vnd.databricks.v1+cell": {
     "cellMetadata": {},
     "inputWidgets": {},
     "nuid": "f01b87c8-f81f-49f2-aea2-53dd9624c289",
     "showTitle": false,
     "title": ""
    }
   },
   "outputs": [
    {
     "data": {
      "text/plain": [
       "Python interpreter will be restarted.\n",
       "Collecting kaggle\n",
       "  Downloading kaggle-1.5.12.tar.gz (58 kB)\n",
       "Requirement already satisfied: six>=1.10 in /databricks/python3/lib/python3.9/site-packages (from kaggle) (1.16.0)\n",
       "Requirement already satisfied: certifi in /databricks/python3/lib/python3.9/site-packages (from kaggle) (2021.10.8)\n",
       "Requirement already satisfied: python-dateutil in /databricks/python3/lib/python3.9/site-packages (from kaggle) (2.8.2)\n",
       "Requirement already satisfied: requests in /databricks/python3/lib/python3.9/site-packages (from kaggle) (2.26.0)\n",
       "Collecting tqdm\n",
       "  Downloading tqdm-4.64.1-py2.py3-none-any.whl (78 kB)\n",
       "Collecting python-slugify\n",
       "  Downloading python_slugify-7.0.0-py2.py3-none-any.whl (9.4 kB)\n",
       "Requirement already satisfied: urllib3 in /databricks/python3/lib/python3.9/site-packages (from kaggle) (1.26.7)\n",
       "Collecting text-unidecode>=1.3\n",
       "  Downloading text_unidecode-1.3-py2.py3-none-any.whl (78 kB)\n",
       "Requirement already satisfied: idna<4,>=2.5 in /databricks/python3/lib/python3.9/site-packages (from requests->kaggle) (3.2)\n",
       "Requirement already satisfied: charset-normalizer~=2.0.0 in /databricks/python3/lib/python3.9/site-packages (from requests->kaggle) (2.0.4)\n",
       "Building wheels for collected packages: kaggle\n",
       "  Building wheel for kaggle (setup.py): started\n",
       "  Building wheel for kaggle (setup.py): finished with status 'done'\n",
       "  Created wheel for kaggle: filename=kaggle-1.5.12-py3-none-any.whl size=73051 sha256=df323c7f1b79dd22fbf20d489ab4794e716f942d2b8a56ed85591250dfcbea9e\n",
       "  Stored in directory: /root/.cache/pip/wheels/ac/b2/c3/fa4706d469b5879105991d1c8be9a3c2ef329ba9fe2ce5085e\n",
       "Successfully built kaggle\n",
       "Installing collected packages: text-unidecode, tqdm, python-slugify, kaggle\n",
       "Successfully installed kaggle-1.5.12 python-slugify-7.0.0 text-unidecode-1.3 tqdm-4.64.1\n",
       "Python interpreter will be restarted.\n"
      ]
     },
     "metadata": {
      "application/vnd.databricks.v1+output": {
       "addedWidgets": {},
       "arguments": {},
       "data": "Python interpreter will be restarted.\nCollecting kaggle\n  Downloading kaggle-1.5.12.tar.gz (58 kB)\nRequirement already satisfied: six>=1.10 in /databricks/python3/lib/python3.9/site-packages (from kaggle) (1.16.0)\nRequirement already satisfied: certifi in /databricks/python3/lib/python3.9/site-packages (from kaggle) (2021.10.8)\nRequirement already satisfied: python-dateutil in /databricks/python3/lib/python3.9/site-packages (from kaggle) (2.8.2)\nRequirement already satisfied: requests in /databricks/python3/lib/python3.9/site-packages (from kaggle) (2.26.0)\nCollecting tqdm\n  Downloading tqdm-4.64.1-py2.py3-none-any.whl (78 kB)\nCollecting python-slugify\n  Downloading python_slugify-7.0.0-py2.py3-none-any.whl (9.4 kB)\nRequirement already satisfied: urllib3 in /databricks/python3/lib/python3.9/site-packages (from kaggle) (1.26.7)\nCollecting text-unidecode>=1.3\n  Downloading text_unidecode-1.3-py2.py3-none-any.whl (78 kB)\nRequirement already satisfied: idna<4,>=2.5 in /databricks/python3/lib/python3.9/site-packages (from requests->kaggle) (3.2)\nRequirement already satisfied: charset-normalizer~=2.0.0 in /databricks/python3/lib/python3.9/site-packages (from requests->kaggle) (2.0.4)\nBuilding wheels for collected packages: kaggle\n  Building wheel for kaggle (setup.py): started\n  Building wheel for kaggle (setup.py): finished with status 'done'\n  Created wheel for kaggle: filename=kaggle-1.5.12-py3-none-any.whl size=73051 sha256=df323c7f1b79dd22fbf20d489ab4794e716f942d2b8a56ed85591250dfcbea9e\n  Stored in directory: /root/.cache/pip/wheels/ac/b2/c3/fa4706d469b5879105991d1c8be9a3c2ef329ba9fe2ce5085e\nSuccessfully built kaggle\nInstalling collected packages: text-unidecode, tqdm, python-slugify, kaggle\nSuccessfully installed kaggle-1.5.12 python-slugify-7.0.0 text-unidecode-1.3 tqdm-4.64.1\nPython interpreter will be restarted.\n",
       "datasetInfos": [],
       "metadata": {},
       "removedWidgets": [],
       "type": "ansi"
      }
     },
     "output_type": "display_data"
    }
   ],
   "source": [
    "pip install kaggle"
   ]
  },
  {
   "cell_type": "code",
   "execution_count": 0,
   "metadata": {
    "application/vnd.databricks.v1+cell": {
     "cellMetadata": {},
     "inputWidgets": {},
     "nuid": "77529153-3b44-4f72-9481-3e4a74447534",
     "showTitle": false,
     "title": ""
    }
   },
   "outputs": [
    {
     "data": {
      "text/plain": [
       "Out[1]: False"
      ]
     },
     "metadata": {
      "application/vnd.databricks.v1+output": {
       "addedWidgets": {},
       "arguments": {},
       "data": "Out[1]: False",
       "datasetInfos": [],
       "metadata": {},
       "removedWidgets": [],
       "type": "ansi"
      }
     },
     "output_type": "display_data"
    }
   ],
   "source": [
    "dbutils.fs.rm(\"file:///root/.kaggle\")"
   ]
  },
  {
   "cell_type": "code",
   "execution_count": 0,
   "metadata": {
    "application/vnd.databricks.v1+cell": {
     "cellMetadata": {},
     "inputWidgets": {},
     "nuid": "373dd872-7a5b-47b2-a78f-88acacd79ae5",
     "showTitle": false,
     "title": ""
    }
   },
   "outputs": [
    {
     "data": {
      "text/plain": [
       "Out[2]: True"
      ]
     },
     "metadata": {
      "application/vnd.databricks.v1+output": {
       "addedWidgets": {},
       "arguments": {},
       "data": "Out[2]: True",
       "datasetInfos": [],
       "metadata": {},
       "removedWidgets": [],
       "type": "ansi"
      }
     },
     "output_type": "display_data"
    }
   ],
   "source": [
    "dbutils.fs.mkdirs(\"file:///root/.kaggle/\")    #Create a new folder"
   ]
  },
  {
   "cell_type": "code",
   "execution_count": 0,
   "metadata": {
    "application/vnd.databricks.v1+cell": {
     "cellMetadata": {},
     "inputWidgets": {},
     "nuid": "9b2a44dd-5169-494d-bde6-1b8df3bb87ff",
     "showTitle": false,
     "title": ""
    }
   },
   "outputs": [
    {
     "data": {
      "text/plain": [
       "Out[3]: True"
      ]
     },
     "metadata": {
      "application/vnd.databricks.v1+output": {
       "addedWidgets": {},
       "arguments": {},
       "data": "Out[3]: True",
       "datasetInfos": [],
       "metadata": {},
       "removedWidgets": [],
       "type": "ansi"
      }
     },
     "output_type": "display_data"
    }
   ],
   "source": [
    "dbutils.fs.cp(\"dbfs:///FileStore/kaggle.json\",\"file:///root/.kaggle/\") #copy kaggle.json in root/.."
   ]
  },
  {
   "cell_type": "code",
   "execution_count": 0,
   "metadata": {
    "application/vnd.databricks.v1+cell": {
     "cellMetadata": {},
     "inputWidgets": {},
     "nuid": "f69812d8-c98b-48bf-9c73-ce09c2379c24",
     "showTitle": false,
     "title": ""
    }
   },
   "outputs": [
    {
     "data": {
      "text/plain": [
       "Out[4]: [FileInfo(path='file:/root/.kaggle/kaggle.json', name='kaggle.json', size=66, modificationTime=1673528877003)]"
      ]
     },
     "metadata": {
      "application/vnd.databricks.v1+output": {
       "addedWidgets": {},
       "arguments": {},
       "data": "Out[4]: [FileInfo(path='file:/root/.kaggle/kaggle.json', name='kaggle.json', size=66, modificationTime=1673528877003)]",
       "datasetInfos": [],
       "metadata": {},
       "removedWidgets": [],
       "type": "ansi"
      }
     },
     "output_type": "display_data"
    }
   ],
   "source": [
    "dbutils.fs.ls(\"file:///root/.kaggle/\") #verify"
   ]
  },
  {
   "cell_type": "code",
   "execution_count": 0,
   "metadata": {
    "application/vnd.databricks.v1+cell": {
     "cellMetadata": {},
     "inputWidgets": {},
     "nuid": "c1bdc075-a45c-4b33-9c43-701cb66f6fcb",
     "showTitle": false,
     "title": ""
    }
   },
   "outputs": [
    {
     "data": {
      "text/plain": [
       "Requirement already satisfied: kaggle in /local_disk0/.ephemeral_nfs/envs/pythonEnv-9d0a0ff3-7e85-4fc8-910e-859d3ab5516c/lib/python3.9/site-packages (1.5.12)\r\n",
       "Requirement already satisfied: python-slugify in /local_disk0/.ephemeral_nfs/envs/pythonEnv-9d0a0ff3-7e85-4fc8-910e-859d3ab5516c/lib/python3.9/site-packages (from kaggle) (7.0.0)\r\n",
       "Requirement already satisfied: certifi in /databricks/python3/lib/python3.9/site-packages (from kaggle) (2021.10.8)\r\n",
       "Requirement already satisfied: python-dateutil in /databricks/python3/lib/python3.9/site-packages (from kaggle) (2.8.2)\r\n",
       "Requirement already satisfied: urllib3 in /databricks/python3/lib/python3.9/site-packages (from kaggle) (1.26.7)\r\n",
       "Requirement already satisfied: six>=1.10 in /databricks/python3/lib/python3.9/site-packages (from kaggle) (1.16.0)\r\n",
       "Requirement already satisfied: tqdm in /local_disk0/.ephemeral_nfs/envs/pythonEnv-9d0a0ff3-7e85-4fc8-910e-859d3ab5516c/lib/python3.9/site-packages (from kaggle) (4.64.1)\r\n",
       "Requirement already satisfied: requests in /databricks/python3/lib/python3.9/site-packages (from kaggle) (2.26.0)\r\n",
       "Requirement already satisfied: text-unidecode>=1.3 in /local_disk0/.ephemeral_nfs/envs/pythonEnv-9d0a0ff3-7e85-4fc8-910e-859d3ab5516c/lib/python3.9/site-packages (from python-slugify->kaggle) (1.3)\r\n",
       "Requirement already satisfied: idna<4,>=2.5 in /databricks/python3/lib/python3.9/site-packages (from requests->kaggle) (3.2)\r\n",
       "Requirement already satisfied: charset-normalizer~=2.0.0 in /databricks/python3/lib/python3.9/site-packages (from requests->kaggle) (2.0.4)\r\n",
       "\u001b[33mWARNING: You are using pip version 21.2.4; however, version 22.3.1 is available.\r\n",
       "You should consider upgrading via the '/local_disk0/.ephemeral_nfs/envs/pythonEnv-9d0a0ff3-7e85-4fc8-910e-859d3ab5516c/bin/python -m pip install --upgrade pip' command.\u001b[0m\r\n",
       "Warning: Your Kaggle API key is readable by other users on this system! To fix this, you can run 'chmod 600 /root/.kaggle/kaggle.json'\n"
      ]
     },
     "metadata": {
      "application/vnd.databricks.v1+output": {
       "addedWidgets": {},
       "arguments": {},
       "data": "Requirement already satisfied: kaggle in /local_disk0/.ephemeral_nfs/envs/pythonEnv-9d0a0ff3-7e85-4fc8-910e-859d3ab5516c/lib/python3.9/site-packages (1.5.12)\r\nRequirement already satisfied: python-slugify in /local_disk0/.ephemeral_nfs/envs/pythonEnv-9d0a0ff3-7e85-4fc8-910e-859d3ab5516c/lib/python3.9/site-packages (from kaggle) (7.0.0)\r\nRequirement already satisfied: certifi in /databricks/python3/lib/python3.9/site-packages (from kaggle) (2021.10.8)\r\nRequirement already satisfied: python-dateutil in /databricks/python3/lib/python3.9/site-packages (from kaggle) (2.8.2)\r\nRequirement already satisfied: urllib3 in /databricks/python3/lib/python3.9/site-packages (from kaggle) (1.26.7)\r\nRequirement already satisfied: six>=1.10 in /databricks/python3/lib/python3.9/site-packages (from kaggle) (1.16.0)\r\nRequirement already satisfied: tqdm in /local_disk0/.ephemeral_nfs/envs/pythonEnv-9d0a0ff3-7e85-4fc8-910e-859d3ab5516c/lib/python3.9/site-packages (from kaggle) (4.64.1)\r\nRequirement already satisfied: requests in /databricks/python3/lib/python3.9/site-packages (from kaggle) (2.26.0)\r\nRequirement already satisfied: text-unidecode>=1.3 in /local_disk0/.ephemeral_nfs/envs/pythonEnv-9d0a0ff3-7e85-4fc8-910e-859d3ab5516c/lib/python3.9/site-packages (from python-slugify->kaggle) (1.3)\r\nRequirement already satisfied: idna<4,>=2.5 in /databricks/python3/lib/python3.9/site-packages (from requests->kaggle) (3.2)\r\nRequirement already satisfied: charset-normalizer~=2.0.0 in /databricks/python3/lib/python3.9/site-packages (from requests->kaggle) (2.0.4)\r\n\u001b[33mWARNING: You are using pip version 21.2.4; however, version 22.3.1 is available.\r\nYou should consider upgrading via the '/local_disk0/.ephemeral_nfs/envs/pythonEnv-9d0a0ff3-7e85-4fc8-910e-859d3ab5516c/bin/python -m pip install --upgrade pip' command.\u001b[0m\r\nWarning: Your Kaggle API key is readable by other users on this system! To fix this, you can run 'chmod 600 /root/.kaggle/kaggle.json'\n",
       "datasetInfos": [],
       "metadata": {},
       "removedWidgets": [],
       "type": "ansi"
      }
     },
     "output_type": "display_data"
    }
   ],
   "source": [
    "!pip install kaggle\n",
    "import kaggle"
   ]
  },
  {
   "cell_type": "code",
   "execution_count": 0,
   "metadata": {
    "application/vnd.databricks.v1+cell": {
     "cellMetadata": {},
     "inputWidgets": {},
     "nuid": "90e7dae7-e04e-4af3-9703-be17ea7fa6ef",
     "showTitle": false,
     "title": ""
    }
   },
   "outputs": [
    {
     "data": {
      "text/plain": [
       "Warning: Your Kaggle API key is readable by other users on this system! To fix this, you can run 'chmod 600 /root/.kaggle/kaggle.json'\r\n",
       "Downloading covid19-hospital-treatment.zip to /databricks/driver\r\n",
       "\r",
       "  0%|                                               | 0.00/4.48M [00:00<?, ?B/s]\r\n",
       "\r",
       "100%|██████████████████████████████████████| 4.48M/4.48M [00:00<00:00, 59.1MB/s]\r\n"
      ]
     },
     "metadata": {
      "application/vnd.databricks.v1+output": {
       "addedWidgets": {},
       "arguments": {},
       "data": "Warning: Your Kaggle API key is readable by other users on this system! To fix this, you can run 'chmod 600 /root/.kaggle/kaggle.json'\r\nDownloading covid19-hospital-treatment.zip to /databricks/driver\r\n\r  0%|                                               | 0.00/4.48M [00:00<?, ?B/s]\r\n\r100%|██████████████████████████████████████| 4.48M/4.48M [00:00<00:00, 59.1MB/s]\r\n",
       "datasetInfos": [],
       "metadata": {},
       "removedWidgets": [],
       "type": "ansi"
      }
     },
     "output_type": "display_data"
    }
   ],
   "source": [
    "!kaggle datasets download -d arashnic/covid19-hospital-treatment"
   ]
  },
  {
   "cell_type": "code",
   "execution_count": 0,
   "metadata": {
    "application/vnd.databricks.v1+cell": {
     "cellMetadata": {},
     "inputWidgets": {},
     "nuid": "96438dcd-9d42-4f88-8bd8-591058382db7",
     "showTitle": false,
     "title": ""
    }
   },
   "outputs": [
    {
     "data": {
      "text/plain": [
       "Archive:  covid19-hospital-treatment.zip\r\n",
       "  inflating: host_train.csv          \r\n"
      ]
     },
     "metadata": {
      "application/vnd.databricks.v1+output": {
       "addedWidgets": {},
       "arguments": {},
       "data": "Archive:  covid19-hospital-treatment.zip\r\n  inflating: host_train.csv          \r\n",
       "datasetInfos": [],
       "metadata": {},
       "removedWidgets": [],
       "type": "ansi"
      }
     },
     "output_type": "display_data"
    }
   ],
   "source": [
    "!unzip covid19-hospital-treatment.zip"
   ]
  },
  {
   "cell_type": "code",
   "execution_count": 0,
   "metadata": {
    "application/vnd.databricks.v1+cell": {
     "cellMetadata": {},
     "inputWidgets": {},
     "nuid": "3faf4fe9-bf9d-4e6c-9005-3450cb647c73",
     "showTitle": false,
     "title": ""
    }
   },
   "outputs": [],
   "source": [
    "import os\n",
    "file_name = \"host_train.csv\"\n",
    "file_path = os.path.join(os.getcwd(), file_name)"
   ]
  },
  {
   "cell_type": "code",
   "execution_count": 0,
   "metadata": {
    "application/vnd.databricks.v1+cell": {
     "cellMetadata": {},
     "inputWidgets": {},
     "nuid": "c6b6d19d-2e80-4dfe-80a6-42b05aea728b",
     "showTitle": false,
     "title": ""
    }
   },
   "outputs": [],
   "source": [
    "dbutils.fs.cp(f\"file://{file_path}\",\"dbfs:///\")\n",
    "raw_lines = spark.read.csv(\n",
    "    f\"dbfs:///{file_name}\"\n",
    ")\n",
    "#.to_pandas_on_spark()"
   ]
  },
  {
   "cell_type": "markdown",
   "metadata": {
    "application/vnd.databricks.v1+cell": {
     "cellMetadata": {},
     "inputWidgets": {},
     "nuid": "6f7ee685-3067-464f-94b1-80d271c4106c",
     "showTitle": false,
     "title": ""
    }
   },
   "source": [
    "Here all the libraries I'll need"
   ]
  },
  {
   "cell_type": "code",
   "execution_count": 0,
   "metadata": {
    "application/vnd.databricks.v1+cell": {
     "cellMetadata": {},
     "inputWidgets": {},
     "nuid": "069c47c2-2a13-4f9a-acbb-de2d54a65cc1",
     "showTitle": false,
     "title": ""
    }
   },
   "outputs": [],
   "source": [
    "from pyspark.sql.types import IntegerType,BooleanType,DateType,FloatType\n",
    "# for categorical variables you can do one-hot encoding\n",
    "from pyspark.ml.feature import OneHotEncoder, StringIndexer\n",
    "# how to do scaling and prepare number columns for feeding a model\n",
    "from pyspark.ml.feature import VectorAssembler, MinMaxScaler\n",
    "# feature engineering\n",
    "from pyspark.ml.pipeline import Pipeline\n",
    "from pyspark.ml.feature import Tokenizer, HashingTF, IDF\n",
    "from pyspark.ml.regression import LinearRegression\n",
    "\n",
    "from pyspark.ml.feature import VectorAssembler, MinMaxScaler\n",
    "from pyspark.ml.feature import StandardScaler\n",
    "\n",
    "from pyspark.sql.functions import col,isnan,when,count\n",
    "\n",
    "from pyspark.ml.classification import LogisticRegression\n",
    "from pyspark.ml.classification import RandomForestClassifier\n",
    "\n",
    "from pyspark.ml.classification import LogisticRegression, OneVsRest\n",
    "from pyspark.ml.evaluation import MulticlassClassificationEvaluator\n",
    "\n",
    "from pyspark.ml.classification import DecisionTreeClassifier"
   ]
  },
  {
   "cell_type": "code",
   "execution_count": 0,
   "metadata": {
    "application/vnd.databricks.v1+cell": {
     "cellMetadata": {},
     "inputWidgets": {},
     "nuid": "a0ba1d6d-4179-47db-a401-b2a483b14b8c",
     "showTitle": false,
     "title": ""
    }
   },
   "outputs": [
    {
     "data": {
      "text/plain": [
       "Out[11]: Row(_c0='case_id', _c1='Hospital', _c2='Hospital_type', _c3='Hospital_city', _c4='Hospital_region', _c5='Available_Extra_Rooms_in_Hospital', _c6='Department', _c7='Ward_Type', _c8='Ward_Facility', _c9='Bed_Grade', _c10='patientid', _c11='City_Code_Patient', _c12='Type of Admission', _c13='Illness_Severity', _c14='Patient_Visitors', _c15='Age', _c16='Admission_Deposit', _c17='Stay_Days')"
      ]
     },
     "metadata": {
      "application/vnd.databricks.v1+output": {
       "addedWidgets": {},
       "arguments": {},
       "data": "Out[11]: Row(_c0='case_id', _c1='Hospital', _c2='Hospital_type', _c3='Hospital_city', _c4='Hospital_region', _c5='Available_Extra_Rooms_in_Hospital', _c6='Department', _c7='Ward_Type', _c8='Ward_Facility', _c9='Bed_Grade', _c10='patientid', _c11='City_Code_Patient', _c12='Type of Admission', _c13='Illness_Severity', _c14='Patient_Visitors', _c15='Age', _c16='Admission_Deposit', _c17='Stay_Days')",
       "datasetInfos": [],
       "metadata": {},
       "removedWidgets": [],
       "type": "ansi"
      }
     },
     "output_type": "display_data"
    }
   ],
   "source": [
    "raw_lines.head()"
   ]
  },
  {
   "cell_type": "markdown",
   "metadata": {
    "application/vnd.databricks.v1+cell": {
     "cellMetadata": {},
     "inputWidgets": {},
     "nuid": "e883efe4-3222-4579-be13-460c6dc78852",
     "showTitle": false,
     "title": ""
    }
   },
   "source": [
    "##########               HERE STARTS THE PROJECT                    ###############################"
   ]
  },
  {
   "cell_type": "code",
   "execution_count": 0,
   "metadata": {
    "application/vnd.databricks.v1+cell": {
     "cellMetadata": {},
     "inputWidgets": {},
     "nuid": "098f68dc-6977-408c-a23a-9e77aa25049c",
     "showTitle": false,
     "title": ""
    }
   },
   "outputs": [
    {
     "data": {
      "application/vnd.databricks.v1+bamboolib_hint": "{\"pd.DataFrames\": [], \"version\": \"0.0.1\"}",
      "text/plain": []
     },
     "metadata": {
      "application/vnd.databricks.v1+output": {
       "addedWidgets": {},
       "arguments": {},
       "data": {
        "application/vnd.databricks.v1+bamboolib_hint": "{\"pd.DataFrames\": [], \"version\": \"0.0.1\"}",
        "text/plain": ""
       },
       "datasetInfos": [],
       "metadata": {
        "kernelSessionId": "45ca9887-6295d0f43b871e52cb1aefa0"
       },
       "removedWidgets": [],
       "type": "mimeBundle"
      }
     },
     "output_type": "display_data"
    }
   ],
   "source": [
    "import pandas as pd\n",
    "pandas_df = raw_lines.toPandas()\n",
    "for i in raw_lines.columns:\n",
    "    raw_lines = raw_lines.withColumnRenamed(i,pandas_df[i][0])\n",
    "\n",
    "#pd.dataFrame(raw_lines).head(2)"
   ]
  },
  {
   "cell_type": "code",
   "execution_count": 0,
   "metadata": {
    "application/vnd.databricks.v1+cell": {
     "cellMetadata": {},
     "inputWidgets": {},
     "nuid": "66132e54-32b2-464b-88ff-bd7c64414141",
     "showTitle": false,
     "title": ""
    }
   },
   "outputs": [
    {
     "data": {
      "text/plain": [
       "<class 'pandas.core.frame.DataFrame'>\n",
       "RangeIndex: 318439 entries, 0 to 318438\n",
       "Data columns (total 18 columns):\n",
       " #   Column  Non-Null Count   Dtype \n",
       "---  ------  --------------   ----- \n",
       " 0   _c0     318439 non-null  object\n",
       " 1   _c1     318439 non-null  object\n",
       " 2   _c2     318439 non-null  object\n",
       " 3   _c3     318439 non-null  object\n",
       " 4   _c4     318439 non-null  object\n",
       " 5   _c5     318439 non-null  object\n",
       " 6   _c6     318439 non-null  object\n",
       " 7   _c7     318439 non-null  object\n",
       " 8   _c8     318439 non-null  object\n",
       " 9   _c9     318326 non-null  object\n",
       " 10  _c10    318439 non-null  object\n",
       " 11  _c11    313907 non-null  object\n",
       " 12  _c12    318439 non-null  object\n",
       " 13  _c13    318439 non-null  object\n",
       " 14  _c14    318439 non-null  object\n",
       " 15  _c15    318439 non-null  object\n",
       " 16  _c16    318439 non-null  object\n",
       " 17  _c17    318439 non-null  object\n",
       "dtypes: object(18)\n",
       "memory usage: 43.7+ MB\n"
      ]
     },
     "metadata": {
      "application/vnd.databricks.v1+output": {
       "addedWidgets": {},
       "arguments": {},
       "data": "<class 'pandas.core.frame.DataFrame'>\nRangeIndex: 318439 entries, 0 to 318438\nData columns (total 18 columns):\n #   Column  Non-Null Count   Dtype \n---  ------  --------------   ----- \n 0   _c0     318439 non-null  object\n 1   _c1     318439 non-null  object\n 2   _c2     318439 non-null  object\n 3   _c3     318439 non-null  object\n 4   _c4     318439 non-null  object\n 5   _c5     318439 non-null  object\n 6   _c6     318439 non-null  object\n 7   _c7     318439 non-null  object\n 8   _c8     318439 non-null  object\n 9   _c9     318326 non-null  object\n 10  _c10    318439 non-null  object\n 11  _c11    313907 non-null  object\n 12  _c12    318439 non-null  object\n 13  _c13    318439 non-null  object\n 14  _c14    318439 non-null  object\n 15  _c15    318439 non-null  object\n 16  _c16    318439 non-null  object\n 17  _c17    318439 non-null  object\ndtypes: object(18)\nmemory usage: 43.7+ MB\n",
       "datasetInfos": [],
       "metadata": {},
       "removedWidgets": [],
       "type": "ansi"
      }
     },
     "output_type": "display_data"
    }
   ],
   "source": [
    "pandas_df.info()"
   ]
  },
  {
   "cell_type": "code",
   "execution_count": 0,
   "metadata": {
    "application/vnd.databricks.v1+cell": {
     "cellMetadata": {},
     "inputWidgets": {},
     "nuid": "c2a9bba6-8328-4be6-be5b-0b99f4eaa4ed",
     "showTitle": false,
     "title": ""
    }
   },
   "outputs": [
    {
     "data": {
      "text/plain": [
       "Out[14]: <bound method DataFrame.show of DataFrame[case_id: string, Hospital: string, Hospital_type: string, Hospital_city: string, Hospital_region: string, Available_Extra_Rooms_in_Hospital: string, Department: string, Ward_Type: string, Ward_Facility: string, Bed_Grade: string, patientid: string, City_Code_Patient: string, Type of Admission: string, Illness_Severity: string, Patient_Visitors: string, Age: string, Admission_Deposit: string, Stay_Days: string]>"
      ]
     },
     "metadata": {
      "application/vnd.databricks.v1+output": {
       "addedWidgets": {},
       "arguments": {},
       "data": "Out[14]: <bound method DataFrame.show of DataFrame[case_id: string, Hospital: string, Hospital_type: string, Hospital_city: string, Hospital_region: string, Available_Extra_Rooms_in_Hospital: string, Department: string, Ward_Type: string, Ward_Facility: string, Bed_Grade: string, patientid: string, City_Code_Patient: string, Type of Admission: string, Illness_Severity: string, Patient_Visitors: string, Age: string, Admission_Deposit: string, Stay_Days: string]>",
       "datasetInfos": [],
       "metadata": {},
       "removedWidgets": [],
       "type": "ansi"
      }
     },
     "output_type": "display_data"
    }
   ],
   "source": [
    "raw_lines.show"
   ]
  },
  {
   "cell_type": "markdown",
   "metadata": {
    "application/vnd.databricks.v1+cell": {
     "cellMetadata": {},
     "inputWidgets": {},
     "nuid": "3562f388-9356-4bb6-a8d0-1f3326f0130e",
     "showTitle": false,
     "title": ""
    }
   },
   "source": [
    "####Covid 19 treatments\n",
    "\n",
    "The COVID-19 pandemic has placed an unprecedented strain on health systems in all the world, with rapidly increasing demand for healthcare in hospitals and intensive care units. As the pandemic escalates, determining the resulting needs for healthcare resources (beds, staff, equipment, intensive therapies) has become a key priority for many countries, principally in Italy where the pandemic hited the first in Europe, and puted our healthcare system in big difficulties. Projecting future demand requires estimates of how long patients with COVID-19 need different levels of hospital care. While healthcare management has various use cases for using data science, patient length of stay is one critical parameter to observe and predict for us if we want to improve the efficiency of the healthcare management in a hospitals.\n",
    "\n",
    "The task is to accurately predict the Length of Stay for each patient on case by case basis so that the Hospitals can use this information for optimal resource allocation and better functioning. The length of stay is divided into 11 different classes ranging from 0-10 days to more than 100 days."
   ]
  },
  {
   "cell_type": "code",
   "execution_count": 0,
   "metadata": {
    "application/vnd.databricks.v1+cell": {
     "cellMetadata": {},
     "inputWidgets": {},
     "nuid": "b36499c8-8a12-409b-bdf7-35c787087372",
     "showTitle": false,
     "title": ""
    }
   },
   "outputs": [],
   "source": [
    "df_covid = raw_lines"
   ]
  },
  {
   "cell_type": "code",
   "execution_count": 0,
   "metadata": {
    "application/vnd.databricks.v1+cell": {
     "cellMetadata": {},
     "inputWidgets": {},
     "nuid": "616c21bf-4fa4-4fa9-b80d-703ff9c4a29d",
     "showTitle": false,
     "title": ""
    }
   },
   "outputs": [
    {
     "data": {
      "text/plain": [
       "+-------+--------+-------------+-------------+---------------+---------------------------------+------------+---------+-------------+---------+---------+-----------------+-----------------+----------------+----------------+-----+-----------------+---------+\n",
       "|case_id|Hospital|Hospital_type|Hospital_city|Hospital_region|Available_Extra_Rooms_in_Hospital|  Department|Ward_Type|Ward_Facility|Bed_Grade|patientid|City_Code_Patient|Type of Admission|Illness_Severity|Patient_Visitors|  Age|Admission_Deposit|Stay_Days|\n",
       "+-------+--------+-------------+-------------+---------------+---------------------------------+------------+---------+-------------+---------+---------+-----------------+-----------------+----------------+----------------+-----+-----------------+---------+\n",
       "|case_id|Hospital|Hospital_type|Hospital_city|Hospital_region|             Available_Extra_R...|  Department|Ward_Type|Ward_Facility|Bed_Grade|patientid|City_Code_Patient|Type of Admission|Illness_Severity|Patient_Visitors|  Age|Admission_Deposit|Stay_Days|\n",
       "|      1|       8|            2|            3|              2|                                3|radiotherapy|        R|            F|      2.0|    31397|              7.0|        Emergency|         Extreme|               2|51-60|           4911.0|     0-10|\n",
       "|      2|       2|            2|            5|              2|                                2|radiotherapy|        S|            F|      2.0|    31397|              7.0|           Trauma|         Extreme|               2|51-60|           5954.0|    41-50|\n",
       "|      3|      10|            4|            1|              0|                                2|  anesthesia|        S|            E|      2.0|    31397|              7.0|           Trauma|         Extreme|               2|51-60|           4745.0|    31-40|\n",
       "|      4|      26|            1|            2|              1|                                2|radiotherapy|        R|            D|      2.0|    31397|              7.0|           Trauma|         Extreme|               2|51-60|           7272.0|    41-50|\n",
       "|      5|      26|            1|            2|              1|                                2|radiotherapy|        S|            D|      2.0|    31397|              7.0|           Trauma|         Extreme|               2|51-60|           5558.0|    41-50|\n",
       "|      6|      23|            0|            6|              0|                                2|  anesthesia|        S|            F|      2.0|    31397|              7.0|           Trauma|         Extreme|               2|51-60|           4449.0|    11-20|\n",
       "+-------+--------+-------------+-------------+---------------+---------------------------------+------------+---------+-------------+---------+---------+-----------------+-----------------+----------------+----------------+-----+-----------------+---------+\n",
       "only showing top 7 rows\n",
       "\n"
      ]
     },
     "metadata": {
      "application/vnd.databricks.v1+output": {
       "addedWidgets": {},
       "arguments": {},
       "data": "+-------+--------+-------------+-------------+---------------+---------------------------------+------------+---------+-------------+---------+---------+-----------------+-----------------+----------------+----------------+-----+-----------------+---------+\n|case_id|Hospital|Hospital_type|Hospital_city|Hospital_region|Available_Extra_Rooms_in_Hospital|  Department|Ward_Type|Ward_Facility|Bed_Grade|patientid|City_Code_Patient|Type of Admission|Illness_Severity|Patient_Visitors|  Age|Admission_Deposit|Stay_Days|\n+-------+--------+-------------+-------------+---------------+---------------------------------+------------+---------+-------------+---------+---------+-----------------+-----------------+----------------+----------------+-----+-----------------+---------+\n|case_id|Hospital|Hospital_type|Hospital_city|Hospital_region|             Available_Extra_R...|  Department|Ward_Type|Ward_Facility|Bed_Grade|patientid|City_Code_Patient|Type of Admission|Illness_Severity|Patient_Visitors|  Age|Admission_Deposit|Stay_Days|\n|      1|       8|            2|            3|              2|                                3|radiotherapy|        R|            F|      2.0|    31397|              7.0|        Emergency|         Extreme|               2|51-60|           4911.0|     0-10|\n|      2|       2|            2|            5|              2|                                2|radiotherapy|        S|            F|      2.0|    31397|              7.0|           Trauma|         Extreme|               2|51-60|           5954.0|    41-50|\n|      3|      10|            4|            1|              0|                                2|  anesthesia|        S|            E|      2.0|    31397|              7.0|           Trauma|         Extreme|               2|51-60|           4745.0|    31-40|\n|      4|      26|            1|            2|              1|                                2|radiotherapy|        R|            D|      2.0|    31397|              7.0|           Trauma|         Extreme|               2|51-60|           7272.0|    41-50|\n|      5|      26|            1|            2|              1|                                2|radiotherapy|        S|            D|      2.0|    31397|              7.0|           Trauma|         Extreme|               2|51-60|           5558.0|    41-50|\n|      6|      23|            0|            6|              0|                                2|  anesthesia|        S|            F|      2.0|    31397|              7.0|           Trauma|         Extreme|               2|51-60|           4449.0|    11-20|\n+-------+--------+-------------+-------------+---------------+---------------------------------+------------+---------+-------------+---------+---------+-----------------+-----------------+----------------+----------------+-----+-----------------+---------+\nonly showing top 7 rows\n\n",
       "datasetInfos": [],
       "metadata": {},
       "removedWidgets": [],
       "type": "ansi"
      }
     },
     "output_type": "display_data"
    }
   ],
   "source": [
    "df_covid.show(7) #To see the first 10 rows of the dataset"
   ]
  },
  {
   "cell_type": "code",
   "execution_count": 0,
   "metadata": {
    "application/vnd.databricks.v1+cell": {
     "cellMetadata": {},
     "inputWidgets": {},
     "nuid": "e144d711-0492-4bd0-aea9-c248bed3c77e",
     "showTitle": false,
     "title": ""
    }
   },
   "outputs": [
    {
     "data": {
      "text/plain": [
       "Out[17]: [('case_id', 'string'),\n",
       " ('Hospital', 'string'),\n",
       " ('Hospital_type', 'string'),\n",
       " ('Hospital_city', 'string'),\n",
       " ('Hospital_region', 'string'),\n",
       " ('Available_Extra_Rooms_in_Hospital', 'string'),\n",
       " ('Department', 'string'),\n",
       " ('Ward_Type', 'string'),\n",
       " ('Ward_Facility', 'string'),\n",
       " ('Bed_Grade', 'string'),\n",
       " ('patientid', 'string'),\n",
       " ('City_Code_Patient', 'string'),\n",
       " ('Type of Admission', 'string'),\n",
       " ('Illness_Severity', 'string'),\n",
       " ('Patient_Visitors', 'string'),\n",
       " ('Age', 'string'),\n",
       " ('Admission_Deposit', 'string'),\n",
       " ('Stay_Days', 'string')]"
      ]
     },
     "metadata": {
      "application/vnd.databricks.v1+output": {
       "addedWidgets": {},
       "arguments": {},
       "data": "Out[17]: [('case_id', 'string'),\n ('Hospital', 'string'),\n ('Hospital_type', 'string'),\n ('Hospital_city', 'string'),\n ('Hospital_region', 'string'),\n ('Available_Extra_Rooms_in_Hospital', 'string'),\n ('Department', 'string'),\n ('Ward_Type', 'string'),\n ('Ward_Facility', 'string'),\n ('Bed_Grade', 'string'),\n ('patientid', 'string'),\n ('City_Code_Patient', 'string'),\n ('Type of Admission', 'string'),\n ('Illness_Severity', 'string'),\n ('Patient_Visitors', 'string'),\n ('Age', 'string'),\n ('Admission_Deposit', 'string'),\n ('Stay_Days', 'string')]",
       "datasetInfos": [],
       "metadata": {},
       "removedWidgets": [],
       "type": "ansi"
      }
     },
     "output_type": "display_data"
    }
   ],
   "source": [
    "df_covid.dtypes ## all the columns are type string"
   ]
  },
  {
   "cell_type": "code",
   "execution_count": 0,
   "metadata": {
    "application/vnd.databricks.v1+cell": {
     "cellMetadata": {},
     "inputWidgets": {},
     "nuid": "1b965c81-6c21-4f21-8455-53daca975ec8",
     "showTitle": false,
     "title": ""
    }
   },
   "outputs": [
    {
     "data": {
      "text/html": [
       "<div>\n",
       "<style scoped>\n",
       "    .dataframe tbody tr th:only-of-type {\n",
       "        vertical-align: middle;\n",
       "    }\n",
       "\n",
       "    .dataframe tbody tr th {\n",
       "        vertical-align: top;\n",
       "    }\n",
       "\n",
       "    .dataframe thead th {\n",
       "        text-align: right;\n",
       "    }\n",
       "</style>\n",
       "<table border=\"1\" class=\"dataframe\">\n",
       "  <thead>\n",
       "    <tr style=\"text-align: right;\">\n",
       "      <th></th>\n",
       "      <th>summary</th>\n",
       "      <th>case_id</th>\n",
       "      <th>Hospital</th>\n",
       "      <th>Hospital_type</th>\n",
       "      <th>Hospital_city</th>\n",
       "      <th>Hospital_region</th>\n",
       "      <th>Available_Extra_Rooms_in_Hospital</th>\n",
       "      <th>Department</th>\n",
       "      <th>Ward_Type</th>\n",
       "      <th>Ward_Facility</th>\n",
       "      <th>Bed_Grade</th>\n",
       "      <th>patientid</th>\n",
       "      <th>City_Code_Patient</th>\n",
       "      <th>Type of Admission</th>\n",
       "      <th>Illness_Severity</th>\n",
       "      <th>Patient_Visitors</th>\n",
       "      <th>Age</th>\n",
       "      <th>Admission_Deposit</th>\n",
       "      <th>Stay_Days</th>\n",
       "    </tr>\n",
       "  </thead>\n",
       "  <tbody>\n",
       "    <tr>\n",
       "      <th>0</th>\n",
       "      <td>count</td>\n",
       "      <td>318439</td>\n",
       "      <td>318439</td>\n",
       "      <td>318439</td>\n",
       "      <td>318439</td>\n",
       "      <td>318439</td>\n",
       "      <td>318439</td>\n",
       "      <td>318439</td>\n",
       "      <td>318439</td>\n",
       "      <td>318439</td>\n",
       "      <td>318326</td>\n",
       "      <td>318439</td>\n",
       "      <td>313907</td>\n",
       "      <td>318439</td>\n",
       "      <td>318439</td>\n",
       "      <td>318439</td>\n",
       "      <td>318439</td>\n",
       "      <td>318439</td>\n",
       "      <td>318439</td>\n",
       "    </tr>\n",
       "    <tr>\n",
       "      <th>1</th>\n",
       "      <td>mean</td>\n",
       "      <td>159219.5</td>\n",
       "      <td>18.318840716246175</td>\n",
       "      <td>1.2568412061374585</td>\n",
       "      <td>4.771716943329627</td>\n",
       "      <td>0.7780980913081982</td>\n",
       "      <td>3.1976271676119055</td>\n",
       "      <td>None</td>\n",
       "      <td>None</td>\n",
       "      <td>None</td>\n",
       "      <td>2.625806958297338</td>\n",
       "      <td>65747.57947229916</td>\n",
       "      <td>7.251858836721821</td>\n",
       "      <td>None</td>\n",
       "      <td>None</td>\n",
       "      <td>3.2840992595104854</td>\n",
       "      <td>None</td>\n",
       "      <td>4880.749392346391</td>\n",
       "      <td>None</td>\n",
       "    </tr>\n",
       "    <tr>\n",
       "      <th>2</th>\n",
       "      <td>stddev</td>\n",
       "      <td>91925.276847557</td>\n",
       "      <td>8.633754885795044</td>\n",
       "      <td>1.535712038183557</td>\n",
       "      <td>3.1025353546703163</td>\n",
       "      <td>0.7525271792894246</td>\n",
       "      <td>1.1681714278597128</td>\n",
       "      <td>None</td>\n",
       "      <td>None</td>\n",
       "      <td>None</td>\n",
       "      <td>0.8731458045921738</td>\n",
       "      <td>37979.93644002388</td>\n",
       "      <td>4.745265561141453</td>\n",
       "      <td>None</td>\n",
       "      <td>None</td>\n",
       "      <td>1.7640613895592003</td>\n",
       "      <td>None</td>\n",
       "      <td>1086.7762536416237</td>\n",
       "      <td>None</td>\n",
       "    </tr>\n",
       "    <tr>\n",
       "      <th>3</th>\n",
       "      <td>min</td>\n",
       "      <td>1</td>\n",
       "      <td>1</td>\n",
       "      <td>0</td>\n",
       "      <td>1</td>\n",
       "      <td>0</td>\n",
       "      <td>0</td>\n",
       "      <td>Department</td>\n",
       "      <td>P</td>\n",
       "      <td>A</td>\n",
       "      <td>1.0</td>\n",
       "      <td>1</td>\n",
       "      <td>1.0</td>\n",
       "      <td>Emergency</td>\n",
       "      <td>Extreme</td>\n",
       "      <td>0</td>\n",
       "      <td>0-10</td>\n",
       "      <td>10010.0</td>\n",
       "      <td>0-10</td>\n",
       "    </tr>\n",
       "    <tr>\n",
       "      <th>4</th>\n",
       "      <td>25%</td>\n",
       "      <td>79615.0</td>\n",
       "      <td>11.0</td>\n",
       "      <td>0.0</td>\n",
       "      <td>2.0</td>\n",
       "      <td>0.0</td>\n",
       "      <td>2.0</td>\n",
       "      <td>None</td>\n",
       "      <td>None</td>\n",
       "      <td>None</td>\n",
       "      <td>2.0</td>\n",
       "      <td>32844.0</td>\n",
       "      <td>4.0</td>\n",
       "      <td>None</td>\n",
       "      <td>None</td>\n",
       "      <td>2.0</td>\n",
       "      <td>None</td>\n",
       "      <td>4186.0</td>\n",
       "      <td>None</td>\n",
       "    </tr>\n",
       "    <tr>\n",
       "      <th>5</th>\n",
       "      <td>50%</td>\n",
       "      <td>159198.0</td>\n",
       "      <td>19.0</td>\n",
       "      <td>1.0</td>\n",
       "      <td>5.0</td>\n",
       "      <td>1.0</td>\n",
       "      <td>3.0</td>\n",
       "      <td>None</td>\n",
       "      <td>None</td>\n",
       "      <td>None</td>\n",
       "      <td>3.0</td>\n",
       "      <td>65719.0</td>\n",
       "      <td>8.0</td>\n",
       "      <td>None</td>\n",
       "      <td>None</td>\n",
       "      <td>3.0</td>\n",
       "      <td>None</td>\n",
       "      <td>4741.0</td>\n",
       "      <td>None</td>\n",
       "    </tr>\n",
       "    <tr>\n",
       "      <th>6</th>\n",
       "      <td>75%</td>\n",
       "      <td>238826.0</td>\n",
       "      <td>26.0</td>\n",
       "      <td>2.0</td>\n",
       "      <td>7.0</td>\n",
       "      <td>1.0</td>\n",
       "      <td>4.0</td>\n",
       "      <td>None</td>\n",
       "      <td>None</td>\n",
       "      <td>None</td>\n",
       "      <td>3.0</td>\n",
       "      <td>98463.0</td>\n",
       "      <td>8.0</td>\n",
       "      <td>None</td>\n",
       "      <td>None</td>\n",
       "      <td>4.0</td>\n",
       "      <td>None</td>\n",
       "      <td>5408.0</td>\n",
       "      <td>None</td>\n",
       "    </tr>\n",
       "    <tr>\n",
       "      <th>7</th>\n",
       "      <td>max</td>\n",
       "      <td>case_id</td>\n",
       "      <td>Hospital</td>\n",
       "      <td>Hospital_type</td>\n",
       "      <td>Hospital_city</td>\n",
       "      <td>Hospital_region</td>\n",
       "      <td>Available_Extra_Rooms_in_Hospital</td>\n",
       "      <td>surgery</td>\n",
       "      <td>Ward_Type</td>\n",
       "      <td>Ward_Facility</td>\n",
       "      <td>Bed_Grade</td>\n",
       "      <td>patientid</td>\n",
       "      <td>City_Code_Patient</td>\n",
       "      <td>Urgent</td>\n",
       "      <td>Moderate</td>\n",
       "      <td>Patient_Visitors</td>\n",
       "      <td>Age</td>\n",
       "      <td>Admission_Deposit</td>\n",
       "      <td>Stay_Days</td>\n",
       "    </tr>\n",
       "  </tbody>\n",
       "</table>\n",
       "</div>"
      ]
     },
     "metadata": {
      "application/vnd.databricks.v1+output": {
       "addedWidgets": {},
       "arguments": {},
       "data": "<div>\n<style scoped>\n    .dataframe tbody tr th:only-of-type {\n        vertical-align: middle;\n    }\n\n    .dataframe tbody tr th {\n        vertical-align: top;\n    }\n\n    .dataframe thead th {\n        text-align: right;\n    }\n</style>\n<table border=\"1\" class=\"dataframe\">\n  <thead>\n    <tr style=\"text-align: right;\">\n      <th></th>\n      <th>summary</th>\n      <th>case_id</th>\n      <th>Hospital</th>\n      <th>Hospital_type</th>\n      <th>Hospital_city</th>\n      <th>Hospital_region</th>\n      <th>Available_Extra_Rooms_in_Hospital</th>\n      <th>Department</th>\n      <th>Ward_Type</th>\n      <th>Ward_Facility</th>\n      <th>Bed_Grade</th>\n      <th>patientid</th>\n      <th>City_Code_Patient</th>\n      <th>Type of Admission</th>\n      <th>Illness_Severity</th>\n      <th>Patient_Visitors</th>\n      <th>Age</th>\n      <th>Admission_Deposit</th>\n      <th>Stay_Days</th>\n    </tr>\n  </thead>\n  <tbody>\n    <tr>\n      <th>0</th>\n      <td>count</td>\n      <td>318439</td>\n      <td>318439</td>\n      <td>318439</td>\n      <td>318439</td>\n      <td>318439</td>\n      <td>318439</td>\n      <td>318439</td>\n      <td>318439</td>\n      <td>318439</td>\n      <td>318326</td>\n      <td>318439</td>\n      <td>313907</td>\n      <td>318439</td>\n      <td>318439</td>\n      <td>318439</td>\n      <td>318439</td>\n      <td>318439</td>\n      <td>318439</td>\n    </tr>\n    <tr>\n      <th>1</th>\n      <td>mean</td>\n      <td>159219.5</td>\n      <td>18.318840716246175</td>\n      <td>1.2568412061374585</td>\n      <td>4.771716943329627</td>\n      <td>0.7780980913081982</td>\n      <td>3.1976271676119055</td>\n      <td>None</td>\n      <td>None</td>\n      <td>None</td>\n      <td>2.625806958297338</td>\n      <td>65747.57947229916</td>\n      <td>7.251858836721821</td>\n      <td>None</td>\n      <td>None</td>\n      <td>3.2840992595104854</td>\n      <td>None</td>\n      <td>4880.749392346391</td>\n      <td>None</td>\n    </tr>\n    <tr>\n      <th>2</th>\n      <td>stddev</td>\n      <td>91925.276847557</td>\n      <td>8.633754885795044</td>\n      <td>1.535712038183557</td>\n      <td>3.1025353546703163</td>\n      <td>0.7525271792894246</td>\n      <td>1.1681714278597128</td>\n      <td>None</td>\n      <td>None</td>\n      <td>None</td>\n      <td>0.8731458045921738</td>\n      <td>37979.93644002388</td>\n      <td>4.745265561141453</td>\n      <td>None</td>\n      <td>None</td>\n      <td>1.7640613895592003</td>\n      <td>None</td>\n      <td>1086.7762536416237</td>\n      <td>None</td>\n    </tr>\n    <tr>\n      <th>3</th>\n      <td>min</td>\n      <td>1</td>\n      <td>1</td>\n      <td>0</td>\n      <td>1</td>\n      <td>0</td>\n      <td>0</td>\n      <td>Department</td>\n      <td>P</td>\n      <td>A</td>\n      <td>1.0</td>\n      <td>1</td>\n      <td>1.0</td>\n      <td>Emergency</td>\n      <td>Extreme</td>\n      <td>0</td>\n      <td>0-10</td>\n      <td>10010.0</td>\n      <td>0-10</td>\n    </tr>\n    <tr>\n      <th>4</th>\n      <td>25%</td>\n      <td>79615.0</td>\n      <td>11.0</td>\n      <td>0.0</td>\n      <td>2.0</td>\n      <td>0.0</td>\n      <td>2.0</td>\n      <td>None</td>\n      <td>None</td>\n      <td>None</td>\n      <td>2.0</td>\n      <td>32844.0</td>\n      <td>4.0</td>\n      <td>None</td>\n      <td>None</td>\n      <td>2.0</td>\n      <td>None</td>\n      <td>4186.0</td>\n      <td>None</td>\n    </tr>\n    <tr>\n      <th>5</th>\n      <td>50%</td>\n      <td>159198.0</td>\n      <td>19.0</td>\n      <td>1.0</td>\n      <td>5.0</td>\n      <td>1.0</td>\n      <td>3.0</td>\n      <td>None</td>\n      <td>None</td>\n      <td>None</td>\n      <td>3.0</td>\n      <td>65719.0</td>\n      <td>8.0</td>\n      <td>None</td>\n      <td>None</td>\n      <td>3.0</td>\n      <td>None</td>\n      <td>4741.0</td>\n      <td>None</td>\n    </tr>\n    <tr>\n      <th>6</th>\n      <td>75%</td>\n      <td>238826.0</td>\n      <td>26.0</td>\n      <td>2.0</td>\n      <td>7.0</td>\n      <td>1.0</td>\n      <td>4.0</td>\n      <td>None</td>\n      <td>None</td>\n      <td>None</td>\n      <td>3.0</td>\n      <td>98463.0</td>\n      <td>8.0</td>\n      <td>None</td>\n      <td>None</td>\n      <td>4.0</td>\n      <td>None</td>\n      <td>5408.0</td>\n      <td>None</td>\n    </tr>\n    <tr>\n      <th>7</th>\n      <td>max</td>\n      <td>case_id</td>\n      <td>Hospital</td>\n      <td>Hospital_type</td>\n      <td>Hospital_city</td>\n      <td>Hospital_region</td>\n      <td>Available_Extra_Rooms_in_Hospital</td>\n      <td>surgery</td>\n      <td>Ward_Type</td>\n      <td>Ward_Facility</td>\n      <td>Bed_Grade</td>\n      <td>patientid</td>\n      <td>City_Code_Patient</td>\n      <td>Urgent</td>\n      <td>Moderate</td>\n      <td>Patient_Visitors</td>\n      <td>Age</td>\n      <td>Admission_Deposit</td>\n      <td>Stay_Days</td>\n    </tr>\n  </tbody>\n</table>\n</div>",
       "datasetInfos": [],
       "metadata": {},
       "removedWidgets": [],
       "textData": null,
       "type": "htmlSandbox"
      }
     },
     "output_type": "display_data"
    }
   ],
   "source": [
    "df_covid.summary().toPandas()"
   ]
  },
  {
   "cell_type": "code",
   "execution_count": 0,
   "metadata": {
    "application/vnd.databricks.v1+cell": {
     "cellMetadata": {},
     "inputWidgets": {},
     "nuid": "89704ccb-de88-48b5-8a84-e512b6e7675e",
     "showTitle": false,
     "title": ""
    }
   },
   "outputs": [
    {
     "data": {
      "text/plain": [
       "Out[19]: 318439"
      ]
     },
     "metadata": {
      "application/vnd.databricks.v1+output": {
       "addedWidgets": {},
       "arguments": {},
       "data": "Out[19]: 318439",
       "datasetInfos": [],
       "metadata": {},
       "removedWidgets": [],
       "type": "ansi"
      }
     },
     "output_type": "display_data"
    }
   ],
   "source": [
    "df_covid.count()  #the total number of rows in the  dataset  #318439"
   ]
  },
  {
   "cell_type": "code",
   "execution_count": 0,
   "metadata": {
    "application/vnd.databricks.v1+cell": {
     "cellMetadata": {},
     "inputWidgets": {},
     "nuid": "a7ebdc46-23e4-4f8b-b97b-2ec9ad954fd8",
     "showTitle": false,
     "title": ""
    }
   },
   "outputs": [
    {
     "data": {
      "text/plain": [
       "+-------+---------------+------------------+------------------+------------------+------------------+---------------------------------+----------+---------+-------------+------------------+-----------------+-----------------+-----------------+----------------+------------------+------+------------------+---------+\n",
       "|summary|        case_id|          Hospital|     Hospital_type|     Hospital_city|   Hospital_region|Available_Extra_Rooms_in_Hospital|Department|Ward_Type|Ward_Facility|         Bed_Grade|        patientid|City_Code_Patient|Type of Admission|Illness_Severity|  Patient_Visitors|   Age| Admission_Deposit|Stay_Days|\n",
       "+-------+---------------+------------------+------------------+------------------+------------------+---------------------------------+----------+---------+-------------+------------------+-----------------+-----------------+-----------------+----------------+------------------+------+------------------+---------+\n",
       "|  count|         318439|            318439|            318439|            318439|            318439|                           318439|    318439|   318439|       318439|            318326|           318439|           313907|           318439|          318439|            318439|318439|            318439|   318439|\n",
       "|   mean|       159219.5|18.318840716246175|1.2568412061374585| 4.771716943329627|0.7780980913081982|               3.1976271676119055|      null|     null|         null| 2.625806958297338|65747.57947229916|7.251858836721821|             null|            null|3.2840992595104854|  null| 4880.749392346391|     null|\n",
       "| stddev|91925.276847557| 8.633754885795044| 1.535712038183557|3.1025353546703163|0.7525271792894246|               1.1681714278597128|      null|     null|         null|0.8731458045921738|37979.93644002388|4.745265561141453|             null|            null|1.7640613895592003|  null|1086.7762536416237|     null|\n",
       "|    min|              1|                 1|                 0|                 1|                 0|                                0|Department|        P|            A|               1.0|                1|              1.0|        Emergency|         Extreme|                 0|  0-10|           10010.0|     0-10|\n",
       "|    max|        case_id|          Hospital|     Hospital_type|     Hospital_city|   Hospital_region|             Available_Extra_R...|   surgery|Ward_Type|Ward_Facility|         Bed_Grade|        patientid|City_Code_Patient|           Urgent|        Moderate|  Patient_Visitors|   Age| Admission_Deposit|Stay_Days|\n",
       "+-------+---------------+------------------+------------------+------------------+------------------+---------------------------------+----------+---------+-------------+------------------+-----------------+-----------------+-----------------+----------------+------------------+------+------------------+---------+\n",
       "\n"
      ]
     },
     "metadata": {
      "application/vnd.databricks.v1+output": {
       "addedWidgets": {},
       "arguments": {},
       "data": "+-------+---------------+------------------+------------------+------------------+------------------+---------------------------------+----------+---------+-------------+------------------+-----------------+-----------------+-----------------+----------------+------------------+------+------------------+---------+\n|summary|        case_id|          Hospital|     Hospital_type|     Hospital_city|   Hospital_region|Available_Extra_Rooms_in_Hospital|Department|Ward_Type|Ward_Facility|         Bed_Grade|        patientid|City_Code_Patient|Type of Admission|Illness_Severity|  Patient_Visitors|   Age| Admission_Deposit|Stay_Days|\n+-------+---------------+------------------+------------------+------------------+------------------+---------------------------------+----------+---------+-------------+------------------+-----------------+-----------------+-----------------+----------------+------------------+------+------------------+---------+\n|  count|         318439|            318439|            318439|            318439|            318439|                           318439|    318439|   318439|       318439|            318326|           318439|           313907|           318439|          318439|            318439|318439|            318439|   318439|\n|   mean|       159219.5|18.318840716246175|1.2568412061374585| 4.771716943329627|0.7780980913081982|               3.1976271676119055|      null|     null|         null| 2.625806958297338|65747.57947229916|7.251858836721821|             null|            null|3.2840992595104854|  null| 4880.749392346391|     null|\n| stddev|91925.276847557| 8.633754885795044| 1.535712038183557|3.1025353546703163|0.7525271792894246|               1.1681714278597128|      null|     null|         null|0.8731458045921738|37979.93644002388|4.745265561141453|             null|            null|1.7640613895592003|  null|1086.7762536416237|     null|\n|    min|              1|                 1|                 0|                 1|                 0|                                0|Department|        P|            A|               1.0|                1|              1.0|        Emergency|         Extreme|                 0|  0-10|           10010.0|     0-10|\n|    max|        case_id|          Hospital|     Hospital_type|     Hospital_city|   Hospital_region|             Available_Extra_R...|   surgery|Ward_Type|Ward_Facility|         Bed_Grade|        patientid|City_Code_Patient|           Urgent|        Moderate|  Patient_Visitors|   Age| Admission_Deposit|Stay_Days|\n+-------+---------------+------------------+------------------+------------------+------------------+---------------------------------+----------+---------+-------------+------------------+-----------------+-----------------+-----------------+----------------+------------------+------+------------------+---------+\n\n",
       "datasetInfos": [],
       "metadata": {},
       "removedWidgets": [],
       "type": "ansi"
      }
     },
     "output_type": "display_data"
    }
   ],
   "source": [
    "df_covid.describe().show()"
   ]
  },
  {
   "cell_type": "markdown",
   "metadata": {
    "application/vnd.databricks.v1+cell": {
     "cellMetadata": {},
     "inputWidgets": {},
     "nuid": "2f257d57-c883-4567-a185-25a8d166b174",
     "showTitle": false,
     "title": ""
    }
   },
   "source": [
    "Convert the three variables in int (\"Admission_Deposit\", \"Patient_Visitors\", \"Available_Extra_Rooms_in_Hospital\")"
   ]
  },
  {
   "cell_type": "code",
   "execution_count": 0,
   "metadata": {
    "application/vnd.databricks.v1+cell": {
     "cellMetadata": {},
     "inputWidgets": {},
     "nuid": "e0b25615-c4b5-4514-9618-83a0b03f2731",
     "showTitle": false,
     "title": ""
    }
   },
   "outputs": [],
   "source": [
    "df_covid = df_covid.withColumn(\"Admission_Deposit\", df_covid.Admission_Deposit.cast('int'))"
   ]
  },
  {
   "cell_type": "code",
   "execution_count": 0,
   "metadata": {
    "application/vnd.databricks.v1+cell": {
     "cellMetadata": {},
     "inputWidgets": {},
     "nuid": "f8431a37-af95-45eb-b67f-31968fdf6b1b",
     "showTitle": false,
     "title": ""
    }
   },
   "outputs": [],
   "source": [
    "df_covid = df_covid.withColumn(\"Patient_Visitors\", df_covid.Patient_Visitors.cast('int'))"
   ]
  },
  {
   "cell_type": "code",
   "execution_count": 0,
   "metadata": {
    "application/vnd.databricks.v1+cell": {
     "cellMetadata": {},
     "inputWidgets": {},
     "nuid": "9cdc8a5a-d3f5-44b9-bd7d-0c658ecd9d37",
     "showTitle": false,
     "title": ""
    }
   },
   "outputs": [],
   "source": [
    "df_covid = df_covid.withColumn(\"Available_Extra_Rooms_in_Hospital\", df_covid.Available_Extra_Rooms_in_Hospital.cast('int'))"
   ]
  },
  {
   "cell_type": "code",
   "execution_count": 0,
   "metadata": {
    "application/vnd.databricks.v1+cell": {
     "cellMetadata": {},
     "inputWidgets": {},
     "nuid": "2880d411-5cf8-4832-8ffc-df0aae2f6b89",
     "showTitle": false,
     "title": ""
    }
   },
   "outputs": [],
   "source": [
    "df_covid = df_covid.withColumn(\"Available_Extra_Rooms_in_Hospital\",df_covid.Available_Extra_Rooms_in_Hospital.cast('int'))"
   ]
  },
  {
   "cell_type": "markdown",
   "metadata": {
    "application/vnd.databricks.v1+cell": {
     "cellMetadata": {},
     "inputWidgets": {},
     "nuid": "d827933d-0ea4-49f9-9ed2-dab56a042534",
     "showTitle": false,
     "title": ""
    }
   },
   "source": [
    "I want to see the new dataset with the three new column in int and I'll make a new copy of the dataset"
   ]
  },
  {
   "cell_type": "code",
   "execution_count": 0,
   "metadata": {
    "application/vnd.databricks.v1+cell": {
     "cellMetadata": {},
     "inputWidgets": {},
     "nuid": "8d2a97b3-0ca4-48a0-9aad-82c426b922c8",
     "showTitle": false,
     "title": ""
    }
   },
   "outputs": [],
   "source": [
    "df_covid.show\n",
    "df_new_covid = df_covid"
   ]
  },
  {
   "cell_type": "markdown",
   "metadata": {
    "application/vnd.databricks.v1+cell": {
     "cellMetadata": {},
     "inputWidgets": {},
     "nuid": "af5a3929-5b88-495d-9f00-5dcabe1ec2a9",
     "showTitle": false,
     "title": ""
    }
   },
   "source": [
    "I'll drop the columns that dosen't give me information in the previsions at the end."
   ]
  },
  {
   "cell_type": "markdown",
   "metadata": {
    "application/vnd.databricks.v1+cell": {
     "cellMetadata": {},
     "inputWidgets": {},
     "nuid": "04566d1f-5fd1-46d7-8217-61fa42db2fb8",
     "showTitle": false,
     "title": ""
    }
   },
   "source": [
    "Data Preprocessing"
   ]
  },
  {
   "cell_type": "code",
   "execution_count": 0,
   "metadata": {
    "application/vnd.databricks.v1+cell": {
     "cellMetadata": {},
     "inputWidgets": {},
     "nuid": "254c9475-7c09-4c89-92bb-781ad6d4e13b",
     "showTitle": false,
     "title": ""
    }
   },
   "outputs": [
    {
     "data": {
      "text/plain": [
       "Out[25]: <bound method DataFrame.show of DataFrame[Hospital: string, Hospital_type: string, Hospital_city: string, Available_Extra_Rooms_in_Hospital: int, Department: string, Ward_Type: string, Ward_Facility: string, Bed_Grade: string, City_Code_Patient: string, Type of Admission: string, Illness_Severity: string, Patient_Visitors: int, Age: string, Admission_Deposit: int, Stay_Days: string]>"
      ]
     },
     "metadata": {
      "application/vnd.databricks.v1+output": {
       "addedWidgets": {},
       "arguments": {},
       "data": "Out[25]: <bound method DataFrame.show of DataFrame[Hospital: string, Hospital_type: string, Hospital_city: string, Available_Extra_Rooms_in_Hospital: int, Department: string, Ward_Type: string, Ward_Facility: string, Bed_Grade: string, City_Code_Patient: string, Type of Admission: string, Illness_Severity: string, Patient_Visitors: int, Age: string, Admission_Deposit: int, Stay_Days: string]>",
       "datasetInfos": [],
       "metadata": {},
       "removedWidgets": [],
       "type": "ansi"
      }
     },
     "output_type": "display_data"
    }
   ],
   "source": [
    "#None of these columns gives me important information, so I can delete them\n",
    "df_new_covid = df_new_covid.drop(\"case_id\")\n",
    "df_new_covid = df_new_covid.drop(\"patientid\")\n",
    "df_new_covid = df_new_covid.drop(\"Hospital_region\")\n",
    "df_new_covid.show"
   ]
  },
  {
   "cell_type": "code",
   "execution_count": 0,
   "metadata": {
    "application/vnd.databricks.v1+cell": {
     "cellMetadata": {},
     "inputWidgets": {},
     "nuid": "5ed4914c-ed28-450e-8d5f-c4702cd0c68f",
     "showTitle": false,
     "title": ""
    }
   },
   "outputs": [
    {
     "data": {
      "text/plain": [
       "Out[26]: DataFrame[Hospital: string, Hospital_type: string, Hospital_city: string, Available_Extra_Rooms_in_Hospital: int, Department: string, Ward_Type: string, Ward_Facility: string, Bed_Grade: string, City_Code_Patient: string, Type of Admission: string, Illness_Severity: string, Patient_Visitors: int, Age: string, Admission_Deposit: int, Stay_Days: string]"
      ]
     },
     "metadata": {
      "application/vnd.databricks.v1+output": {
       "addedWidgets": {},
       "arguments": {},
       "data": "Out[26]: DataFrame[Hospital: string, Hospital_type: string, Hospital_city: string, Available_Extra_Rooms_in_Hospital: int, Department: string, Ward_Type: string, Ward_Facility: string, Bed_Grade: string, City_Code_Patient: string, Type of Admission: string, Illness_Severity: string, Patient_Visitors: int, Age: string, Admission_Deposit: int, Stay_Days: string]",
       "datasetInfos": [],
       "metadata": {},
       "removedWidgets": [],
       "type": "ansi"
      }
     },
     "output_type": "display_data"
    }
   ],
   "source": [
    "df_new_covid"
   ]
  },
  {
   "cell_type": "code",
   "execution_count": 0,
   "metadata": {
    "application/vnd.databricks.v1+cell": {
     "cellMetadata": {},
     "inputWidgets": {},
     "nuid": "8b69373d-9db5-4fa9-bffe-d3085db84813",
     "showTitle": false,
     "title": ""
    }
   },
   "outputs": [
    {
     "data": {
      "text/plain": [
       "+--------+-------------+-------------+---------------------------------+----------+---------+-------------+---------+-----------------+-----------------+----------------+----------------+---+-----------------+---------+\n",
       "|Hospital|Hospital_type|Hospital_city|Available_Extra_Rooms_in_Hospital|Department|Ward_Type|Ward_Facility|Bed_Grade|City_Code_Patient|Type of Admission|Illness_Severity|Patient_Visitors|Age|Admission_Deposit|Stay_Days|\n",
       "+--------+-------------+-------------+---------------------------------+----------+---------+-------------+---------+-----------------+-----------------+----------------+----------------+---+-----------------+---------+\n",
       "|       0|            0|            0|                                1|         0|        0|            0|      113|             4532|                0|               0|               1|  0|                1|        0|\n",
       "+--------+-------------+-------------+---------------------------------+----------+---------+-------------+---------+-----------------+-----------------+----------------+----------------+---+-----------------+---------+\n",
       "\n"
      ]
     },
     "metadata": {
      "application/vnd.databricks.v1+output": {
       "addedWidgets": {},
       "arguments": {},
       "data": "+--------+-------------+-------------+---------------------------------+----------+---------+-------------+---------+-----------------+-----------------+----------------+----------------+---+-----------------+---------+\n|Hospital|Hospital_type|Hospital_city|Available_Extra_Rooms_in_Hospital|Department|Ward_Type|Ward_Facility|Bed_Grade|City_Code_Patient|Type of Admission|Illness_Severity|Patient_Visitors|Age|Admission_Deposit|Stay_Days|\n+--------+-------------+-------------+---------------------------------+----------+---------+-------------+---------+-----------------+-----------------+----------------+----------------+---+-----------------+---------+\n|       0|            0|            0|                                1|         0|        0|            0|      113|             4532|                0|               0|               1|  0|                1|        0|\n+--------+-------------+-------------+---------------------------------+----------+---------+-------------+---------+-----------------+-----------------+----------------+----------------+---+-----------------+---------+\n\n",
       "datasetInfos": [],
       "metadata": {},
       "removedWidgets": [],
       "type": "ansi"
      }
     },
     "output_type": "display_data"
    }
   ],
   "source": [
    "df_new_covid.select([count(when(col(c).contains('None') | \\\n",
    "                            col(c).contains('NULL') | \\\n",
    "                            (col(c) == '' ) | \\\n",
    "                            col(c).isNull() | \\\n",
    "                            isnan(c), c \n",
    "                           )).alias(c)\n",
    "                    for c in df_new_covid.columns]).show()\n",
    "#which columns have missing values and how much, so in case I've columns with too much missing values I, like more than 60% of missing values, I can eleminate directly\n",
    "#but like I see, the number off missing values is not too high, so I decide to mantain them all."
   ]
  },
  {
   "cell_type": "code",
   "execution_count": 0,
   "metadata": {
    "application/vnd.databricks.v1+cell": {
     "cellMetadata": {},
     "inputWidgets": {},
     "nuid": "5c3d5dc8-eb37-4e84-b03f-0a4027d9f69c",
     "showTitle": false,
     "title": ""
    }
   },
   "outputs": [],
   "source": [
    "\n",
    "import numpy as np\n",
    "df_new_covid.dtypes[3][1] == 'int'\n",
    "range(0,len(df_new_covid.columns))\n",
    "pandas_new = df_new_covid.toPandas()\n",
    "pandas_new = pandas_new.iloc[1: , :]\n"
   ]
  },
  {
   "cell_type": "code",
   "execution_count": 0,
   "metadata": {
    "application/vnd.databricks.v1+cell": {
     "cellMetadata": {},
     "inputWidgets": {},
     "nuid": "3f04f3a2-ec12-4a1a-b12f-52b2fa0b48ea",
     "showTitle": false,
     "title": ""
    }
   },
   "outputs": [],
   "source": [
    "#for the categorical data I'm filling the missing values with 0, for the numerical I'm filling with the median\n",
    "for i in range(0,len(df_new_covid.columns)):\n",
    "    if df_new_covid.dtypes[i][1] == 'int':\n",
    "        df_new_covid = df_new_covid.fillna(value=np.median(pandas_new.iloc[:,i]))\n",
    "    else:\n",
    "        df_new_covid = df_new_covid.fillna(value=\"0\")"
   ]
  },
  {
   "cell_type": "code",
   "execution_count": 0,
   "metadata": {
    "application/vnd.databricks.v1+cell": {
     "cellMetadata": {},
     "inputWidgets": {},
     "nuid": "c73bcfbd-bdcb-4885-be3c-76e30da4c2e8",
     "showTitle": false,
     "title": ""
    }
   },
   "outputs": [
    {
     "data": {
      "text/plain": [
       "+--------+-------------+-------------+---------------------------------+----------+---------+-------------+---------+-----------------+-----------------+----------------+----------------+---+-----------------+---------+\n",
       "|Hospital|Hospital_type|Hospital_city|Available_Extra_Rooms_in_Hospital|Department|Ward_Type|Ward_Facility|Bed_Grade|City_Code_Patient|Type of Admission|Illness_Severity|Patient_Visitors|Age|Admission_Deposit|Stay_Days|\n",
       "+--------+-------------+-------------+---------------------------------+----------+---------+-------------+---------+-----------------+-----------------+----------------+----------------+---+-----------------+---------+\n",
       "|       0|            0|            0|                                0|         0|        0|            0|        0|                0|                0|               0|               0|  0|                0|        0|\n",
       "+--------+-------------+-------------+---------------------------------+----------+---------+-------------+---------+-----------------+-----------------+----------------+----------------+---+-----------------+---------+\n",
       "\n"
      ]
     },
     "metadata": {
      "application/vnd.databricks.v1+output": {
       "addedWidgets": {},
       "arguments": {},
       "data": "+--------+-------------+-------------+---------------------------------+----------+---------+-------------+---------+-----------------+-----------------+----------------+----------------+---+-----------------+---------+\n|Hospital|Hospital_type|Hospital_city|Available_Extra_Rooms_in_Hospital|Department|Ward_Type|Ward_Facility|Bed_Grade|City_Code_Patient|Type of Admission|Illness_Severity|Patient_Visitors|Age|Admission_Deposit|Stay_Days|\n+--------+-------------+-------------+---------------------------------+----------+---------+-------------+---------+-----------------+-----------------+----------------+----------------+---+-----------------+---------+\n|       0|            0|            0|                                0|         0|        0|            0|        0|                0|                0|               0|               0|  0|                0|        0|\n+--------+-------------+-------------+---------------------------------+----------+---------+-------------+---------+-----------------+-----------------+----------------+----------------+---+-----------------+---------+\n\n",
       "datasetInfos": [],
       "metadata": {},
       "removedWidgets": [],
       "type": "ansi"
      }
     },
     "output_type": "display_data"
    }
   ],
   "source": [
    "#After filling the null values, here I control if I've anymore null values, to be sure\n",
    "df_new_covid.select([count(when(col(c).contains('None') | \\\n",
    "                            col(c).contains('NULL') | \\\n",
    "                            (col(c) == '' ) | \\\n",
    "                            col(c).isNull() | \\\n",
    "                            isnan(c), c \n",
    "                           )).alias(c)\n",
    "                    for c in df_new_covid.columns]).show()"
   ]
  },
  {
   "cell_type": "markdown",
   "metadata": {
    "application/vnd.databricks.v1+cell": {
     "cellMetadata": {},
     "inputWidgets": {},
     "nuid": "17994e73-4702-4f9d-806a-d3f7d8965114",
     "showTitle": false,
     "title": ""
    }
   },
   "source": [
    "I've filled the null values in the numerical with the median and in categorical with 0"
   ]
  },
  {
   "cell_type": "markdown",
   "metadata": {
    "application/vnd.databricks.v1+cell": {
     "cellMetadata": {},
     "inputWidgets": {},
     "nuid": "69f7ba2c-f08a-4f81-8a8b-b05aeaab65d5",
     "showTitle": false,
     "title": ""
    }
   },
   "source": [
    "I'll create two pipelines, one for the categorical columns, and one for the numerical:"
   ]
  },
  {
   "cell_type": "code",
   "execution_count": 0,
   "metadata": {
    "application/vnd.databricks.v1+cell": {
     "cellMetadata": {},
     "inputWidgets": {},
     "nuid": "391f424e-d15a-4d03-9050-58658df74fd8",
     "showTitle": false,
     "title": ""
    }
   },
   "outputs": [],
   "source": [
    "pipeline_categorical = Pipeline(stages=[\n",
    "    StringIndexer(inputCol=\"Department\", outputCol=\"DepartmentI\"),\n",
    "    OneHotEncoder(inputCol=\"DepartmentI\", outputCol=\"DepartmentOhe\"),\n",
    "    \n",
    "    StringIndexer(inputCol=\"Ward_Type\", outputCol=\"Ward_TypeI\"),\n",
    "    OneHotEncoder(inputCol=\"Ward_TypeI\", outputCol=\"Ward_TypeOhe\"),\n",
    "    \n",
    "    StringIndexer(inputCol=\"Hospital_city\", outputCol=\"Hospital_cityI\"),\n",
    "    OneHotEncoder(inputCol=\"Hospital_cityI\", outputCol=\"Hospital_cityOhe\"),\n",
    "    \n",
    "   StringIndexer(inputCol=\"City_Code_Patient\", outputCol=\"City_Code_PatientI\"),\n",
    "    OneHotEncoder(inputCol=\"City_Code_PatientI\", outputCol=\"City_Code_PatientOhe\"),\n",
    "    \n",
    "    StringIndexer(inputCol=\"Ward_Facility\", outputCol=\"Ward_FacilityI\"),\n",
    "    OneHotEncoder(inputCol=\"Ward_FacilityI\", outputCol=\"Ward_FacilityOhe\"),\n",
    "    \n",
    "    StringIndexer(inputCol=\"Hospital\", outputCol=\"HospitalI\"),\n",
    "    \n",
    "    StringIndexer(inputCol=\"Hospital_type\", outputCol=\"Hospital_typeI\"),\n",
    "    \n",
    "    \n",
    "    StringIndexer(inputCol=\"Illness_Severity\",outputCol=\"Illness_SeverityI\"),  \n",
    "    OneHotEncoder(inputCol=\"Illness_SeverityI\", outputCol=\"Illness_SeverityOhe\"),\n",
    "    \n",
    "    StringIndexer(inputCol=\"Bed_Grade\",outputCol=\"Bed_GradeI\"),  \n",
    "    OneHotEncoder(inputCol=\"Bed_GradeI\", outputCol=\"Bed_GradeOhe\"),\n",
    "    \n",
    "    StringIndexer(inputCol=\"Age\",outputCol=\"AgeI\"),  \n",
    "    OneHotEncoder(inputCol=\"AgeI\", outputCol=\"AgeOhe\"),\n",
    "    \n",
    "    StringIndexer(inputCol=\"Type of Admission\",outputCol=\"Type of AdmissionI\"),  \n",
    "    OneHotEncoder(inputCol=\"Type of AdmissionI\", outputCol=\"Type of AdmissionOhe\"),\n",
    "    \n",
    "    VectorAssembler(\n",
    "    inputCols=[\"City_Code_PatientOhe\",\"Hospital_cityOhe\",\"Type of AdmissionOhe\",\"AgeOhe\",\"DepartmentOhe\",\"Ward_TypeOhe\",\"Ward_FacilityOhe\",\"HospitalI\",\"Hospital_typeI\",\"Illness_SeverityOhe\",\"Bed_GradeOhe\"],\n",
    "  \n",
    "    outputCol=\"features_categorical\")\n",
    "    \n",
    "])"
   ]
  },
  {
   "cell_type": "code",
   "execution_count": 0,
   "metadata": {
    "application/vnd.databricks.v1+cell": {
     "cellMetadata": {},
     "inputWidgets": {},
     "nuid": "8eac055c-c420-4478-8d1c-cce575e5e1fc",
     "showTitle": false,
     "title": ""
    }
   },
   "outputs": [],
   "source": [
    "#For the numerical\n",
    "pipeline_numerical = Pipeline(stages=[\n",
    "    VectorAssembler(\n",
    "        inputCols=[\"Available_Extra_Rooms_in_Hospital\",\"Patient_Visitors\",\"Admission_Deposit\"],\n",
    "        outputCol=\"features_numerical\"\n",
    "    ),\n",
    "    StandardScaler(\n",
    "    inputCol=\"features_numerical\",outputCol=\"numerical_sc\"\n",
    "    )\n",
    "])"
   ]
  },
  {
   "cell_type": "code",
   "execution_count": 0,
   "metadata": {
    "application/vnd.databricks.v1+cell": {
     "cellMetadata": {},
     "inputWidgets": {},
     "nuid": "36bb63ca-97f6-4fcb-8f27-ade8916aaf36",
     "showTitle": false,
     "title": ""
    }
   },
   "outputs": [],
   "source": [
    "pipeline_y = Pipeline(stages=[\n",
    "    \n",
    "        StringIndexer(\n",
    "        inputCol = 'Stay_Days', outputCol = 'labelI'\n",
    "    )\n",
    "])\n",
    "#A pipeline for y"
   ]
  },
  {
   "cell_type": "markdown",
   "metadata": {
    "application/vnd.databricks.v1+cell": {
     "cellMetadata": {},
     "inputWidgets": {},
     "nuid": "dd3d6f09-21cd-425d-8864-818dee406f37",
     "showTitle": false,
     "title": ""
    }
   },
   "source": [
    "I'll build the model"
   ]
  },
  {
   "cell_type": "code",
   "execution_count": 0,
   "metadata": {
    "application/vnd.databricks.v1+cell": {
     "cellMetadata": {},
     "inputWidgets": {},
     "nuid": "911b4a4b-b0cb-411c-bb1a-e8f66c3cd5b9",
     "showTitle": false,
     "title": ""
    }
   },
   "outputs": [],
   "source": [
    "preprocessor = Pipeline(stages=[\n",
    "    pipeline_categorical,pipeline_numerical, pipeline_y, \n",
    "    VectorAssembler(inputCols=[\"numerical_sc\", \"features_categorical\"], outputCol=\"features_final\"),\n",
    "    \n",
    "])"
   ]
  },
  {
   "cell_type": "code",
   "execution_count": 0,
   "metadata": {
    "application/vnd.databricks.v1+cell": {
     "cellMetadata": {},
     "inputWidgets": {},
     "nuid": "605c8400-ccdf-405b-a645-d9145cc4831e",
     "showTitle": false,
     "title": ""
    }
   },
   "outputs": [],
   "source": [
    "data_by_pipeline = preprocessor.fit(df_new_covid).transform(df_new_covid)\n",
    "# Transforming of the  dataset by pipeline"
   ]
  },
  {
   "cell_type": "code",
   "execution_count": 0,
   "metadata": {
    "application/vnd.databricks.v1+cell": {
     "cellMetadata": {},
     "inputWidgets": {},
     "nuid": "0d484e4a-29e5-424b-a096-56842f0bd3fe",
     "showTitle": false,
     "title": ""
    }
   },
   "outputs": [],
   "source": [
    "covid_19 = data_by_pipeline.limit(250000)  # Sampling 250000 rows "
   ]
  },
  {
   "cell_type": "markdown",
   "metadata": {
    "application/vnd.databricks.v1+cell": {
     "cellMetadata": {},
     "inputWidgets": {},
     "nuid": "f506d50b-9f66-45a5-ae35-55f46ca3248d",
     "showTitle": false,
     "title": ""
    }
   },
   "source": [
    "I'll split the data by 75 and 25"
   ]
  },
  {
   "cell_type": "code",
   "execution_count": 0,
   "metadata": {
    "application/vnd.databricks.v1+cell": {
     "cellMetadata": {},
     "inputWidgets": {},
     "nuid": "ff698ab7-3b97-449a-979b-feee2f715c14",
     "showTitle": false,
     "title": ""
    }
   },
   "outputs": [
    {
     "data": {
      "text/plain": [
       "Training covid Dataset Count: 187068\n",
       "Test covid Dataset Count: 62932\n"
      ]
     },
     "metadata": {
      "application/vnd.databricks.v1+output": {
       "addedWidgets": {},
       "arguments": {},
       "data": "Training covid Dataset Count: 187068\nTest covid Dataset Count: 62932\n",
       "datasetInfos": [],
       "metadata": {},
       "removedWidgets": [],
       "type": "ansi"
      }
     },
     "output_type": "display_data"
    }
   ],
   "source": [
    "train_covid, test_covid = covid_19.randomSplit([0.75, 0.25], seed = 2023)\n",
    "print(\"Training covid Dataset Count: \" + str(train_covid.count()))\n",
    "print(\"Test covid Dataset Count: \" + str(test_covid.count()))"
   ]
  },
  {
   "cell_type": "markdown",
   "metadata": {
    "application/vnd.databricks.v1+cell": {
     "cellMetadata": {},
     "inputWidgets": {},
     "nuid": "aad1c1c1-0c83-40d2-b07f-e19ab547b50b",
     "showTitle": false,
     "title": ""
    }
   },
   "source": [
    "Logistic regression and OneVsRest Classifier"
   ]
  },
  {
   "cell_type": "code",
   "execution_count": 0,
   "metadata": {
    "application/vnd.databricks.v1+cell": {
     "cellMetadata": {},
     "inputWidgets": {},
     "nuid": "a1389ab1-db3b-4da4-b992-85b3462d18fc",
     "showTitle": false,
     "title": ""
    }
   },
   "outputs": [],
   "source": [
    "# Base classifier.\n",
    "lr = LogisticRegression(maxIter=50, regParam=0.3, elasticNetParam=0.8, fitIntercept=True)\n",
    "\n",
    "# One Vs Rest Classifier.\n",
    "LR_OVR = OneVsRest(classifier=lr,labelCol=\"labelI\", featuresCol=\"features_final\")\n",
    "# Train the model.\n",
    "model_ovr = LR_OVR.fit(train_covid)\n",
    "\n",
    "# score on test data.\n",
    "y_pred = model_ovr.transform(test_covid)\n"
   ]
  },
  {
   "cell_type": "code",
   "execution_count": 0,
   "metadata": {
    "application/vnd.databricks.v1+cell": {
     "cellMetadata": {},
     "inputWidgets": {},
     "nuid": "e30ca8e7-7216-4c60-8852-711f765d336e",
     "showTitle": false,
     "title": ""
    }
   },
   "outputs": [
    {
     "data": {
      "text/plain": [
       "Accuracy score is equal to  0.278316 \n"
      ]
     },
     "metadata": {
      "application/vnd.databricks.v1+output": {
       "addedWidgets": {},
       "arguments": {},
       "data": "Accuracy score is equal to  0.278316 \n",
       "datasetInfos": [],
       "metadata": {},
       "removedWidgets": [],
       "type": "ansi"
      }
     },
     "output_type": "display_data"
    }
   ],
   "source": [
    "#Calculate the accuracy like my dataset is balanced\n",
    "evaluator = MulticlassClassificationEvaluator(\n",
    "labelCol=\"labelI\", predictionCol=\"prediction\", metricName=\"accuracy\")\n",
    "accuracy = evaluator.evaluate(y_pred)\n",
    "print(\"Accuracy score is equal to  %g \" % (accuracy))"
   ]
  },
  {
   "cell_type": "code",
   "execution_count": 0,
   "metadata": {
    "application/vnd.databricks.v1+cell": {
     "cellMetadata": {},
     "inputWidgets": {},
     "nuid": "05865d12-b785-48a7-8aeb-c7217c121484",
     "showTitle": false,
     "title": ""
    }
   },
   "outputs": [
    {
     "data": {
      "text/html": [
       "<div>\n",
       "<style scoped>\n",
       "    .dataframe tbody tr th:only-of-type {\n",
       "        vertical-align: middle;\n",
       "    }\n",
       "\n",
       "    .dataframe tbody tr th {\n",
       "        vertical-align: top;\n",
       "    }\n",
       "\n",
       "    .dataframe thead th {\n",
       "        text-align: right;\n",
       "    }\n",
       "</style>\n",
       "<table border=\"1\" class=\"dataframe\">\n",
       "  <thead>\n",
       "    <tr style=\"text-align: right;\">\n",
       "      <th></th>\n",
       "      <th>prediction_labelI</th>\n",
       "      <th>0.0</th>\n",
       "      <th>1.0</th>\n",
       "      <th>10.0</th>\n",
       "      <th>2.0</th>\n",
       "      <th>3.0</th>\n",
       "      <th>4.0</th>\n",
       "      <th>5.0</th>\n",
       "      <th>6.0</th>\n",
       "      <th>7.0</th>\n",
       "      <th>8.0</th>\n",
       "      <th>9.0</th>\n",
       "    </tr>\n",
       "  </thead>\n",
       "  <tbody>\n",
       "    <tr>\n",
       "      <th>0</th>\n",
       "      <td>0.0</td>\n",
       "      <td>17515</td>\n",
       "      <td>14778</td>\n",
       "      <td>538</td>\n",
       "      <td>11375</td>\n",
       "      <td>7200</td>\n",
       "      <td>4173</td>\n",
       "      <td>2274</td>\n",
       "      <td>2120</td>\n",
       "      <td>1363</td>\n",
       "      <td>1032</td>\n",
       "      <td>564</td>\n",
       "    </tr>\n",
       "  </tbody>\n",
       "</table>\n",
       "</div>"
      ]
     },
     "metadata": {
      "application/vnd.databricks.v1+output": {
       "addedWidgets": {},
       "arguments": {},
       "data": "<div>\n<style scoped>\n    .dataframe tbody tr th:only-of-type {\n        vertical-align: middle;\n    }\n\n    .dataframe tbody tr th {\n        vertical-align: top;\n    }\n\n    .dataframe thead th {\n        text-align: right;\n    }\n</style>\n<table border=\"1\" class=\"dataframe\">\n  <thead>\n    <tr style=\"text-align: right;\">\n      <th></th>\n      <th>prediction_labelI</th>\n      <th>0.0</th>\n      <th>1.0</th>\n      <th>10.0</th>\n      <th>2.0</th>\n      <th>3.0</th>\n      <th>4.0</th>\n      <th>5.0</th>\n      <th>6.0</th>\n      <th>7.0</th>\n      <th>8.0</th>\n      <th>9.0</th>\n    </tr>\n  </thead>\n  <tbody>\n    <tr>\n      <th>0</th>\n      <td>0.0</td>\n      <td>17515</td>\n      <td>14778</td>\n      <td>538</td>\n      <td>11375</td>\n      <td>7200</td>\n      <td>4173</td>\n      <td>2274</td>\n      <td>2120</td>\n      <td>1363</td>\n      <td>1032</td>\n      <td>564</td>\n    </tr>\n  </tbody>\n</table>\n</div>",
       "datasetInfos": [],
       "metadata": {},
       "removedWidgets": [],
       "textData": null,
       "type": "htmlSandbox"
      }
     },
     "output_type": "display_data"
    }
   ],
   "source": [
    "#confusion matrix\n",
    "cm_dt_result = y_pred.crosstab(\"prediction\", \"labelI\")\n",
    "cm_dt_result = cm_dt_result.toPandas()\n",
    "cm_dt_result.sort_values(by = ['prediction_labelI'])"
   ]
  },
  {
   "cell_type": "code",
   "execution_count": 0,
   "metadata": {
    "application/vnd.databricks.v1+cell": {
     "cellMetadata": {},
     "inputWidgets": {},
     "nuid": "fa87ebd6-cb84-4894-ac3f-d522edb177f7",
     "showTitle": false,
     "title": ""
    }
   },
   "outputs": [
    {
     "data": {
      "text/plain": [
       "              precision    recall  f1-score   support\n",
       "\n",
       "         0.0       0.28      1.00      0.44     17515\n",
       "         1.0       0.00      0.00      0.00     14778\n",
       "         2.0       0.00      0.00      0.00     11375\n",
       "         3.0       0.00      0.00      0.00      7200\n",
       "         4.0       0.00      0.00      0.00      4173\n",
       "         5.0       0.00      0.00      0.00      2274\n",
       "         6.0       0.00      0.00      0.00      2120\n",
       "         7.0       0.00      0.00      0.00      1363\n",
       "         8.0       0.00      0.00      0.00      1032\n",
       "         9.0       0.00      0.00      0.00       564\n",
       "        10.0       0.00      0.00      0.00       538\n",
       "\n",
       "    accuracy                           0.28     62932\n",
       "   macro avg       0.03      0.09      0.04     62932\n",
       "weighted avg       0.08      0.28      0.12     62932\n",
       "\n",
       "/databricks/python/lib/python3.9/site-packages/sklearn/metrics/_classification.py:1248: UndefinedMetricWarning: Precision and F-score are ill-defined and being set to 0.0 in labels with no predicted samples. Use `zero_division` parameter to control this behavior.\n",
       "  _warn_prf(average, modifier, msg_start, len(result))\n",
       "/databricks/python/lib/python3.9/site-packages/sklearn/metrics/_classification.py:1248: UndefinedMetricWarning: Precision and F-score are ill-defined and being set to 0.0 in labels with no predicted samples. Use `zero_division` parameter to control this behavior.\n",
       "  _warn_prf(average, modifier, msg_start, len(result))\n",
       "/databricks/python/lib/python3.9/site-packages/sklearn/metrics/_classification.py:1248: UndefinedMetricWarning: Precision and F-score are ill-defined and being set to 0.0 in labels with no predicted samples. Use `zero_division` parameter to control this behavior.\n",
       "  _warn_prf(average, modifier, msg_start, len(result))\n"
      ]
     },
     "metadata": {
      "application/vnd.databricks.v1+output": {
       "addedWidgets": {},
       "arguments": {},
       "data": "              precision    recall  f1-score   support\n\n         0.0       0.28      1.00      0.44     17515\n         1.0       0.00      0.00      0.00     14778\n         2.0       0.00      0.00      0.00     11375\n         3.0       0.00      0.00      0.00      7200\n         4.0       0.00      0.00      0.00      4173\n         5.0       0.00      0.00      0.00      2274\n         6.0       0.00      0.00      0.00      2120\n         7.0       0.00      0.00      0.00      1363\n         8.0       0.00      0.00      0.00      1032\n         9.0       0.00      0.00      0.00       564\n        10.0       0.00      0.00      0.00       538\n\n    accuracy                           0.28     62932\n   macro avg       0.03      0.09      0.04     62932\nweighted avg       0.08      0.28      0.12     62932\n\n/databricks/python/lib/python3.9/site-packages/sklearn/metrics/_classification.py:1248: UndefinedMetricWarning: Precision and F-score are ill-defined and being set to 0.0 in labels with no predicted samples. Use `zero_division` parameter to control this behavior.\n  _warn_prf(average, modifier, msg_start, len(result))\n/databricks/python/lib/python3.9/site-packages/sklearn/metrics/_classification.py:1248: UndefinedMetricWarning: Precision and F-score are ill-defined and being set to 0.0 in labels with no predicted samples. Use `zero_division` parameter to control this behavior.\n  _warn_prf(average, modifier, msg_start, len(result))\n/databricks/python/lib/python3.9/site-packages/sklearn/metrics/_classification.py:1248: UndefinedMetricWarning: Precision and F-score are ill-defined and being set to 0.0 in labels with no predicted samples. Use `zero_division` parameter to control this behavior.\n  _warn_prf(average, modifier, msg_start, len(result))\n",
       "datasetInfos": [],
       "metadata": {},
       "removedWidgets": [],
       "type": "ansi"
      }
     },
     "output_type": "display_data"
    }
   ],
   "source": [
    "y_true = y_pred.select(['labelI']).collect()\n",
    "y_pred1 = y_pred.select(['prediction']).collect()\n",
    "\n",
    "from sklearn.metrics import classification_report, confusion_matrix\n",
    "print(classification_report(y_true, y_pred1))"
   ]
  },
  {
   "cell_type": "markdown",
   "metadata": {
    "application/vnd.databricks.v1+cell": {
     "cellMetadata": {},
     "inputWidgets": {},
     "nuid": "2adb162f-81df-4eab-90a9-282145e8ad9a",
     "showTitle": false,
     "title": ""
    }
   },
   "source": [
    "DecisionTreeClassifier"
   ]
  },
  {
   "cell_type": "code",
   "execution_count": 0,
   "metadata": {
    "application/vnd.databricks.v1+cell": {
     "cellMetadata": {},
     "inputWidgets": {},
     "nuid": "4dc4f187-107a-470f-a30b-d1d802110741",
     "showTitle": false,
     "title": ""
    }
   },
   "outputs": [],
   "source": [
    "dtc = DecisionTreeClassifier(labelCol=\"labelI\", featuresCol=\"features_final\", maxBins = 33)\n",
    "dtc_Model = dtc.fit(train_covid)\n",
    "dtc_Model_trasform = dtc_Model.transform(train_covid)\n",
    "y_pred_dtc = dtc_Model.transform(test_covid)"
   ]
  },
  {
   "cell_type": "code",
   "execution_count": 0,
   "metadata": {
    "application/vnd.databricks.v1+cell": {
     "cellMetadata": {},
     "inputWidgets": {},
     "nuid": "3c0c3962-f70d-4f89-9a16-546ee3ee4432",
     "showTitle": false,
     "title": ""
    }
   },
   "outputs": [
    {
     "data": {
      "text/plain": [
       "Test Accuracy = 0.390167 \n"
      ]
     },
     "metadata": {
      "application/vnd.databricks.v1+output": {
       "addedWidgets": {},
       "arguments": {},
       "data": "Test Accuracy = 0.390167 \n",
       "datasetInfos": [],
       "metadata": {},
       "removedWidgets": [],
       "type": "ansi"
      }
     },
     "output_type": "display_data"
    }
   ],
   "source": [
    "evaluator = MulticlassClassificationEvaluator(\n",
    "labelCol=\"labelI\", predictionCol=\"prediction\", metricName=\"accuracy\")\n",
    "accuracy = evaluator.evaluate(y_pred_dtc)\n",
    "print(\"Test Accuracy = %g \" % (accuracy))"
   ]
  },
  {
   "cell_type": "code",
   "execution_count": 0,
   "metadata": {
    "application/vnd.databricks.v1+cell": {
     "cellMetadata": {},
     "inputWidgets": {},
     "nuid": "f6b5cac2-a8a4-479f-b513-df34bd20490d",
     "showTitle": false,
     "title": ""
    }
   },
   "outputs": [
    {
     "data": {
      "text/html": [
       "<div>\n",
       "<style scoped>\n",
       "    .dataframe tbody tr th:only-of-type {\n",
       "        vertical-align: middle;\n",
       "    }\n",
       "\n",
       "    .dataframe tbody tr th {\n",
       "        vertical-align: top;\n",
       "    }\n",
       "\n",
       "    .dataframe thead th {\n",
       "        text-align: right;\n",
       "    }\n",
       "</style>\n",
       "<table border=\"1\" class=\"dataframe\">\n",
       "  <thead>\n",
       "    <tr style=\"text-align: right;\">\n",
       "      <th></th>\n",
       "      <th>prediction_labelI</th>\n",
       "      <th>0.0</th>\n",
       "      <th>1.0</th>\n",
       "      <th>10.0</th>\n",
       "      <th>2.0</th>\n",
       "      <th>3.0</th>\n",
       "      <th>4.0</th>\n",
       "      <th>5.0</th>\n",
       "      <th>6.0</th>\n",
       "      <th>7.0</th>\n",
       "      <th>8.0</th>\n",
       "      <th>9.0</th>\n",
       "    </tr>\n",
       "  </thead>\n",
       "  <tbody>\n",
       "    <tr>\n",
       "      <th>0</th>\n",
       "      <td>0.0</td>\n",
       "      <td>11569</td>\n",
       "      <td>6717</td>\n",
       "      <td>275</td>\n",
       "      <td>4820</td>\n",
       "      <td>1342</td>\n",
       "      <td>1921</td>\n",
       "      <td>1447</td>\n",
       "      <td>330</td>\n",
       "      <td>96</td>\n",
       "      <td>53</td>\n",
       "      <td>87</td>\n",
       "    </tr>\n",
       "    <tr>\n",
       "      <th>1</th>\n",
       "      <td>1.0</td>\n",
       "      <td>5364</td>\n",
       "      <td>6873</td>\n",
       "      <td>97</td>\n",
       "      <td>2113</td>\n",
       "      <td>506</td>\n",
       "      <td>1931</td>\n",
       "      <td>514</td>\n",
       "      <td>112</td>\n",
       "      <td>68</td>\n",
       "      <td>37</td>\n",
       "      <td>27</td>\n",
       "    </tr>\n",
       "    <tr>\n",
       "      <th>2</th>\n",
       "      <td>2.0</td>\n",
       "      <td>30</td>\n",
       "      <td>87</td>\n",
       "      <td>17</td>\n",
       "      <td>534</td>\n",
       "      <td>488</td>\n",
       "      <td>0</td>\n",
       "      <td>34</td>\n",
       "      <td>144</td>\n",
       "      <td>43</td>\n",
       "      <td>50</td>\n",
       "      <td>33</td>\n",
       "    </tr>\n",
       "    <tr>\n",
       "      <th>4</th>\n",
       "      <td>3.0</td>\n",
       "      <td>361</td>\n",
       "      <td>916</td>\n",
       "      <td>123</td>\n",
       "      <td>3778</td>\n",
       "      <td>4729</td>\n",
       "      <td>18</td>\n",
       "      <td>228</td>\n",
       "      <td>1341</td>\n",
       "      <td>604</td>\n",
       "      <td>820</td>\n",
       "      <td>331</td>\n",
       "    </tr>\n",
       "    <tr>\n",
       "      <th>5</th>\n",
       "      <td>4.0</td>\n",
       "      <td>174</td>\n",
       "      <td>182</td>\n",
       "      <td>11</td>\n",
       "      <td>90</td>\n",
       "      <td>48</td>\n",
       "      <td>303</td>\n",
       "      <td>34</td>\n",
       "      <td>11</td>\n",
       "      <td>6</td>\n",
       "      <td>3</td>\n",
       "      <td>5</td>\n",
       "    </tr>\n",
       "    <tr>\n",
       "      <th>3</th>\n",
       "      <td>7.0</td>\n",
       "      <td>17</td>\n",
       "      <td>3</td>\n",
       "      <td>15</td>\n",
       "      <td>40</td>\n",
       "      <td>87</td>\n",
       "      <td>0</td>\n",
       "      <td>17</td>\n",
       "      <td>182</td>\n",
       "      <td>546</td>\n",
       "      <td>69</td>\n",
       "      <td>81</td>\n",
       "    </tr>\n",
       "  </tbody>\n",
       "</table>\n",
       "</div>"
      ]
     },
     "metadata": {
      "application/vnd.databricks.v1+output": {
       "addedWidgets": {},
       "arguments": {},
       "data": "<div>\n<style scoped>\n    .dataframe tbody tr th:only-of-type {\n        vertical-align: middle;\n    }\n\n    .dataframe tbody tr th {\n        vertical-align: top;\n    }\n\n    .dataframe thead th {\n        text-align: right;\n    }\n</style>\n<table border=\"1\" class=\"dataframe\">\n  <thead>\n    <tr style=\"text-align: right;\">\n      <th></th>\n      <th>prediction_labelI</th>\n      <th>0.0</th>\n      <th>1.0</th>\n      <th>10.0</th>\n      <th>2.0</th>\n      <th>3.0</th>\n      <th>4.0</th>\n      <th>5.0</th>\n      <th>6.0</th>\n      <th>7.0</th>\n      <th>8.0</th>\n      <th>9.0</th>\n    </tr>\n  </thead>\n  <tbody>\n    <tr>\n      <th>0</th>\n      <td>0.0</td>\n      <td>11569</td>\n      <td>6717</td>\n      <td>275</td>\n      <td>4820</td>\n      <td>1342</td>\n      <td>1921</td>\n      <td>1447</td>\n      <td>330</td>\n      <td>96</td>\n      <td>53</td>\n      <td>87</td>\n    </tr>\n    <tr>\n      <th>1</th>\n      <td>1.0</td>\n      <td>5364</td>\n      <td>6873</td>\n      <td>97</td>\n      <td>2113</td>\n      <td>506</td>\n      <td>1931</td>\n      <td>514</td>\n      <td>112</td>\n      <td>68</td>\n      <td>37</td>\n      <td>27</td>\n    </tr>\n    <tr>\n      <th>2</th>\n      <td>2.0</td>\n      <td>30</td>\n      <td>87</td>\n      <td>17</td>\n      <td>534</td>\n      <td>488</td>\n      <td>0</td>\n      <td>34</td>\n      <td>144</td>\n      <td>43</td>\n      <td>50</td>\n      <td>33</td>\n    </tr>\n    <tr>\n      <th>4</th>\n      <td>3.0</td>\n      <td>361</td>\n      <td>916</td>\n      <td>123</td>\n      <td>3778</td>\n      <td>4729</td>\n      <td>18</td>\n      <td>228</td>\n      <td>1341</td>\n      <td>604</td>\n      <td>820</td>\n      <td>331</td>\n    </tr>\n    <tr>\n      <th>5</th>\n      <td>4.0</td>\n      <td>174</td>\n      <td>182</td>\n      <td>11</td>\n      <td>90</td>\n      <td>48</td>\n      <td>303</td>\n      <td>34</td>\n      <td>11</td>\n      <td>6</td>\n      <td>3</td>\n      <td>5</td>\n    </tr>\n    <tr>\n      <th>3</th>\n      <td>7.0</td>\n      <td>17</td>\n      <td>3</td>\n      <td>15</td>\n      <td>40</td>\n      <td>87</td>\n      <td>0</td>\n      <td>17</td>\n      <td>182</td>\n      <td>546</td>\n      <td>69</td>\n      <td>81</td>\n    </tr>\n  </tbody>\n</table>\n</div>",
       "datasetInfos": [],
       "metadata": {},
       "removedWidgets": [],
       "textData": null,
       "type": "htmlSandbox"
      }
     },
     "output_type": "display_data"
    }
   ],
   "source": [
    "#confusion matrix\n",
    "cm_dt_result_dtc = y_pred_dtc.crosstab(\"prediction\", \"labelI\")\n",
    "cm_dt_result_dtc = cm_dt_result_dtc.toPandas()\n",
    "cm_dt_result_dtc.sort_values(by = ['prediction_labelI'])"
   ]
  },
  {
   "cell_type": "code",
   "execution_count": 0,
   "metadata": {
    "application/vnd.databricks.v1+cell": {
     "cellMetadata": {},
     "inputWidgets": {},
     "nuid": "a9e6247b-922d-40a0-9d1d-a3218795f346",
     "showTitle": false,
     "title": ""
    }
   },
   "outputs": [
    {
     "data": {
      "text/plain": [
       "              precision    recall  f1-score   support\n",
       "\n",
       "         0.0       0.40      0.66      0.50     17515\n",
       "         1.0       0.39      0.47      0.42     14778\n",
       "         2.0       0.37      0.05      0.08     11375\n",
       "         3.0       0.36      0.66      0.46      7200\n",
       "         4.0       0.35      0.07      0.12      4173\n",
       "         5.0       0.00      0.00      0.00      2274\n",
       "         6.0       0.00      0.00      0.00      2120\n",
       "         7.0       0.52      0.40      0.45      1363\n",
       "         8.0       0.00      0.00      0.00      1032\n",
       "         9.0       0.00      0.00      0.00       564\n",
       "        10.0       0.00      0.00      0.00       538\n",
       "\n",
       "    accuracy                           0.39     62932\n",
       "   macro avg       0.22      0.21      0.19     62932\n",
       "weighted avg       0.35      0.39      0.32     62932\n",
       "\n",
       "/databricks/python/lib/python3.9/site-packages/sklearn/metrics/_classification.py:1248: UndefinedMetricWarning: Precision and F-score are ill-defined and being set to 0.0 in labels with no predicted samples. Use `zero_division` parameter to control this behavior.\n",
       "  _warn_prf(average, modifier, msg_start, len(result))\n",
       "/databricks/python/lib/python3.9/site-packages/sklearn/metrics/_classification.py:1248: UndefinedMetricWarning: Precision and F-score are ill-defined and being set to 0.0 in labels with no predicted samples. Use `zero_division` parameter to control this behavior.\n",
       "  _warn_prf(average, modifier, msg_start, len(result))\n",
       "/databricks/python/lib/python3.9/site-packages/sklearn/metrics/_classification.py:1248: UndefinedMetricWarning: Precision and F-score are ill-defined and being set to 0.0 in labels with no predicted samples. Use `zero_division` parameter to control this behavior.\n",
       "  _warn_prf(average, modifier, msg_start, len(result))\n"
      ]
     },
     "metadata": {
      "application/vnd.databricks.v1+output": {
       "addedWidgets": {},
       "arguments": {},
       "data": "              precision    recall  f1-score   support\n\n         0.0       0.40      0.66      0.50     17515\n         1.0       0.39      0.47      0.42     14778\n         2.0       0.37      0.05      0.08     11375\n         3.0       0.36      0.66      0.46      7200\n         4.0       0.35      0.07      0.12      4173\n         5.0       0.00      0.00      0.00      2274\n         6.0       0.00      0.00      0.00      2120\n         7.0       0.52      0.40      0.45      1363\n         8.0       0.00      0.00      0.00      1032\n         9.0       0.00      0.00      0.00       564\n        10.0       0.00      0.00      0.00       538\n\n    accuracy                           0.39     62932\n   macro avg       0.22      0.21      0.19     62932\nweighted avg       0.35      0.39      0.32     62932\n\n/databricks/python/lib/python3.9/site-packages/sklearn/metrics/_classification.py:1248: UndefinedMetricWarning: Precision and F-score are ill-defined and being set to 0.0 in labels with no predicted samples. Use `zero_division` parameter to control this behavior.\n  _warn_prf(average, modifier, msg_start, len(result))\n/databricks/python/lib/python3.9/site-packages/sklearn/metrics/_classification.py:1248: UndefinedMetricWarning: Precision and F-score are ill-defined and being set to 0.0 in labels with no predicted samples. Use `zero_division` parameter to control this behavior.\n  _warn_prf(average, modifier, msg_start, len(result))\n/databricks/python/lib/python3.9/site-packages/sklearn/metrics/_classification.py:1248: UndefinedMetricWarning: Precision and F-score are ill-defined and being set to 0.0 in labels with no predicted samples. Use `zero_division` parameter to control this behavior.\n  _warn_prf(average, modifier, msg_start, len(result))\n",
       "datasetInfos": [],
       "metadata": {},
       "removedWidgets": [],
       "type": "ansi"
      }
     },
     "output_type": "display_data"
    }
   ],
   "source": [
    "y_true_dtc = y_pred_dtc.select(['labelI']).collect()\n",
    "y_pred1_dtc = y_pred_dtc.select(['prediction']).collect()\n",
    "\n",
    "from sklearn.metrics import classification_report, confusion_matrix\n",
    "print(classification_report(y_true_dtc, y_pred1_dtc))"
   ]
  },
  {
   "cell_type": "code",
   "execution_count": 0,
   "metadata": {
    "application/vnd.databricks.v1+cell": {
     "cellMetadata": {},
     "inputWidgets": {},
     "nuid": "0833e7bb-8013-47f9-bdbc-b036ca7ba3ab",
     "showTitle": false,
     "title": ""
    }
   },
   "outputs": [],
   "source": [
    "from pyspark.ml.classification import LinearSVC"
   ]
  },
  {
   "cell_type": "markdown",
   "metadata": {
    "application/vnd.databricks.v1+cell": {
     "cellMetadata": {},
     "inputWidgets": {},
     "nuid": "e407aaa4-0c6f-4c82-9b2a-1a134dab6722",
     "showTitle": false,
     "title": ""
    }
   },
   "source": [
    "LinearSVC and OneVsRest"
   ]
  },
  {
   "cell_type": "code",
   "execution_count": 0,
   "metadata": {
    "application/vnd.databricks.v1+cell": {
     "cellMetadata": {},
     "inputWidgets": {},
     "nuid": "5f84b45d-cea1-4f51-938f-e2a2ca2625d5",
     "showTitle": false,
     "title": ""
    }
   },
   "outputs": [],
   "source": [
    "lsvc = LinearSVC(maxIter=10, regParam=0.1)\n",
    "# One Vs Rest Classifier.\n",
    "LR_OVR = OneVsRest(classifier=lsvc,labelCol=\"labelI\", featuresCol=\"features_final\")\n",
    "# Train the model.\n",
    "model_ovr = LR_OVR.fit(train_covid)\n",
    "\n",
    "# score on test data.\n",
    "y_pred_lsvc = model_ovr.transform(test_covid)"
   ]
  },
  {
   "cell_type": "code",
   "execution_count": 0,
   "metadata": {
    "application/vnd.databricks.v1+cell": {
     "cellMetadata": {},
     "inputWidgets": {},
     "nuid": "9e3989fb-db9f-40ca-bed2-402a0f024923",
     "showTitle": false,
     "title": ""
    }
   },
   "outputs": [
    {
     "data": {
      "text/plain": [
       "Accuracy score is equal to  0.347852 \n"
      ]
     },
     "metadata": {
      "application/vnd.databricks.v1+output": {
       "addedWidgets": {},
       "arguments": {},
       "data": "Accuracy score is equal to  0.347852 \n",
       "datasetInfos": [],
       "metadata": {},
       "removedWidgets": [],
       "type": "ansi"
      }
     },
     "output_type": "display_data"
    }
   ],
   "source": [
    "# Select (prediction, true label) and compute test error\n",
    "evaluator = MulticlassClassificationEvaluator(\n",
    "labelCol=\"labelI\", predictionCol=\"prediction\", metricName=\"accuracy\")\n",
    "accuracy = evaluator.evaluate(y_pred_lsvc)\n",
    "print(\"Accuracy score is equal to  %g \" % (accuracy))"
   ]
  },
  {
   "cell_type": "code",
   "execution_count": 0,
   "metadata": {
    "application/vnd.databricks.v1+cell": {
     "cellMetadata": {},
     "inputWidgets": {},
     "nuid": "dde5b834-35a7-4101-951e-eb89d8924f8a",
     "showTitle": false,
     "title": ""
    }
   },
   "outputs": [
    {
     "data": {
      "text/html": [
       "<div>\n",
       "<style scoped>\n",
       "    .dataframe tbody tr th:only-of-type {\n",
       "        vertical-align: middle;\n",
       "    }\n",
       "\n",
       "    .dataframe tbody tr th {\n",
       "        vertical-align: top;\n",
       "    }\n",
       "\n",
       "    .dataframe thead th {\n",
       "        text-align: right;\n",
       "    }\n",
       "</style>\n",
       "<table border=\"1\" class=\"dataframe\">\n",
       "  <thead>\n",
       "    <tr style=\"text-align: right;\">\n",
       "      <th></th>\n",
       "      <th>prediction_labelI</th>\n",
       "      <th>0.0</th>\n",
       "      <th>1.0</th>\n",
       "      <th>10.0</th>\n",
       "      <th>2.0</th>\n",
       "      <th>3.0</th>\n",
       "      <th>4.0</th>\n",
       "      <th>5.0</th>\n",
       "      <th>6.0</th>\n",
       "      <th>7.0</th>\n",
       "      <th>8.0</th>\n",
       "      <th>9.0</th>\n",
       "    </tr>\n",
       "  </thead>\n",
       "  <tbody>\n",
       "    <tr>\n",
       "      <th>0</th>\n",
       "      <td>0.0</td>\n",
       "      <td>14708</td>\n",
       "      <td>10782</td>\n",
       "      <td>320</td>\n",
       "      <td>5782</td>\n",
       "      <td>1623</td>\n",
       "      <td>2802</td>\n",
       "      <td>1681</td>\n",
       "      <td>329</td>\n",
       "      <td>126</td>\n",
       "      <td>72</td>\n",
       "      <td>95</td>\n",
       "    </tr>\n",
       "    <tr>\n",
       "      <th>3</th>\n",
       "      <td>1.0</td>\n",
       "      <td>522</td>\n",
       "      <td>1000</td>\n",
       "      <td>17</td>\n",
       "      <td>694</td>\n",
       "      <td>329</td>\n",
       "      <td>364</td>\n",
       "      <td>75</td>\n",
       "      <td>79</td>\n",
       "      <td>21</td>\n",
       "      <td>19</td>\n",
       "      <td>18</td>\n",
       "    </tr>\n",
       "    <tr>\n",
       "      <th>2</th>\n",
       "      <td>10.0</td>\n",
       "      <td>39</td>\n",
       "      <td>42</td>\n",
       "      <td>4</td>\n",
       "      <td>47</td>\n",
       "      <td>45</td>\n",
       "      <td>21</td>\n",
       "      <td>11</td>\n",
       "      <td>17</td>\n",
       "      <td>4</td>\n",
       "      <td>5</td>\n",
       "      <td>2</td>\n",
       "    </tr>\n",
       "    <tr>\n",
       "      <th>6</th>\n",
       "      <td>2.0</td>\n",
       "      <td>1389</td>\n",
       "      <td>1853</td>\n",
       "      <td>93</td>\n",
       "      <td>2883</td>\n",
       "      <td>2241</td>\n",
       "      <td>442</td>\n",
       "      <td>261</td>\n",
       "      <td>674</td>\n",
       "      <td>169</td>\n",
       "      <td>208</td>\n",
       "      <td>161</td>\n",
       "    </tr>\n",
       "    <tr>\n",
       "      <th>8</th>\n",
       "      <td>3.0</td>\n",
       "      <td>225</td>\n",
       "      <td>378</td>\n",
       "      <td>40</td>\n",
       "      <td>1263</td>\n",
       "      <td>1861</td>\n",
       "      <td>42</td>\n",
       "      <td>98</td>\n",
       "      <td>486</td>\n",
       "      <td>168</td>\n",
       "      <td>278</td>\n",
       "      <td>116</td>\n",
       "    </tr>\n",
       "    <tr>\n",
       "      <th>9</th>\n",
       "      <td>4.0</td>\n",
       "      <td>338</td>\n",
       "      <td>500</td>\n",
       "      <td>8</td>\n",
       "      <td>205</td>\n",
       "      <td>70</td>\n",
       "      <td>427</td>\n",
       "      <td>54</td>\n",
       "      <td>26</td>\n",
       "      <td>14</td>\n",
       "      <td>8</td>\n",
       "      <td>6</td>\n",
       "    </tr>\n",
       "    <tr>\n",
       "      <th>1</th>\n",
       "      <td>5.0</td>\n",
       "      <td>42</td>\n",
       "      <td>29</td>\n",
       "      <td>2</td>\n",
       "      <td>30</td>\n",
       "      <td>15</td>\n",
       "      <td>17</td>\n",
       "      <td>11</td>\n",
       "      <td>7</td>\n",
       "      <td>1</td>\n",
       "      <td>0</td>\n",
       "      <td>3</td>\n",
       "    </tr>\n",
       "    <tr>\n",
       "      <th>4</th>\n",
       "      <td>6.0</td>\n",
       "      <td>182</td>\n",
       "      <td>167</td>\n",
       "      <td>18</td>\n",
       "      <td>336</td>\n",
       "      <td>550</td>\n",
       "      <td>58</td>\n",
       "      <td>56</td>\n",
       "      <td>206</td>\n",
       "      <td>69</td>\n",
       "      <td>40</td>\n",
       "      <td>67</td>\n",
       "    </tr>\n",
       "    <tr>\n",
       "      <th>7</th>\n",
       "      <td>7.0</td>\n",
       "      <td>70</td>\n",
       "      <td>26</td>\n",
       "      <td>36</td>\n",
       "      <td>135</td>\n",
       "      <td>466</td>\n",
       "      <td>0</td>\n",
       "      <td>27</td>\n",
       "      <td>296</td>\n",
       "      <td>791</td>\n",
       "      <td>402</td>\n",
       "      <td>96</td>\n",
       "    </tr>\n",
       "    <tr>\n",
       "      <th>5</th>\n",
       "      <td>9.0</td>\n",
       "      <td>0</td>\n",
       "      <td>1</td>\n",
       "      <td>0</td>\n",
       "      <td>0</td>\n",
       "      <td>0</td>\n",
       "      <td>0</td>\n",
       "      <td>0</td>\n",
       "      <td>0</td>\n",
       "      <td>0</td>\n",
       "      <td>0</td>\n",
       "      <td>0</td>\n",
       "    </tr>\n",
       "  </tbody>\n",
       "</table>\n",
       "</div>"
      ]
     },
     "metadata": {
      "application/vnd.databricks.v1+output": {
       "addedWidgets": {},
       "arguments": {},
       "data": "<div>\n<style scoped>\n    .dataframe tbody tr th:only-of-type {\n        vertical-align: middle;\n    }\n\n    .dataframe tbody tr th {\n        vertical-align: top;\n    }\n\n    .dataframe thead th {\n        text-align: right;\n    }\n</style>\n<table border=\"1\" class=\"dataframe\">\n  <thead>\n    <tr style=\"text-align: right;\">\n      <th></th>\n      <th>prediction_labelI</th>\n      <th>0.0</th>\n      <th>1.0</th>\n      <th>10.0</th>\n      <th>2.0</th>\n      <th>3.0</th>\n      <th>4.0</th>\n      <th>5.0</th>\n      <th>6.0</th>\n      <th>7.0</th>\n      <th>8.0</th>\n      <th>9.0</th>\n    </tr>\n  </thead>\n  <tbody>\n    <tr>\n      <th>0</th>\n      <td>0.0</td>\n      <td>14708</td>\n      <td>10782</td>\n      <td>320</td>\n      <td>5782</td>\n      <td>1623</td>\n      <td>2802</td>\n      <td>1681</td>\n      <td>329</td>\n      <td>126</td>\n      <td>72</td>\n      <td>95</td>\n    </tr>\n    <tr>\n      <th>3</th>\n      <td>1.0</td>\n      <td>522</td>\n      <td>1000</td>\n      <td>17</td>\n      <td>694</td>\n      <td>329</td>\n      <td>364</td>\n      <td>75</td>\n      <td>79</td>\n      <td>21</td>\n      <td>19</td>\n      <td>18</td>\n    </tr>\n    <tr>\n      <th>2</th>\n      <td>10.0</td>\n      <td>39</td>\n      <td>42</td>\n      <td>4</td>\n      <td>47</td>\n      <td>45</td>\n      <td>21</td>\n      <td>11</td>\n      <td>17</td>\n      <td>4</td>\n      <td>5</td>\n      <td>2</td>\n    </tr>\n    <tr>\n      <th>6</th>\n      <td>2.0</td>\n      <td>1389</td>\n      <td>1853</td>\n      <td>93</td>\n      <td>2883</td>\n      <td>2241</td>\n      <td>442</td>\n      <td>261</td>\n      <td>674</td>\n      <td>169</td>\n      <td>208</td>\n      <td>161</td>\n    </tr>\n    <tr>\n      <th>8</th>\n      <td>3.0</td>\n      <td>225</td>\n      <td>378</td>\n      <td>40</td>\n      <td>1263</td>\n      <td>1861</td>\n      <td>42</td>\n      <td>98</td>\n      <td>486</td>\n      <td>168</td>\n      <td>278</td>\n      <td>116</td>\n    </tr>\n    <tr>\n      <th>9</th>\n      <td>4.0</td>\n      <td>338</td>\n      <td>500</td>\n      <td>8</td>\n      <td>205</td>\n      <td>70</td>\n      <td>427</td>\n      <td>54</td>\n      <td>26</td>\n      <td>14</td>\n      <td>8</td>\n      <td>6</td>\n    </tr>\n    <tr>\n      <th>1</th>\n      <td>5.0</td>\n      <td>42</td>\n      <td>29</td>\n      <td>2</td>\n      <td>30</td>\n      <td>15</td>\n      <td>17</td>\n      <td>11</td>\n      <td>7</td>\n      <td>1</td>\n      <td>0</td>\n      <td>3</td>\n    </tr>\n    <tr>\n      <th>4</th>\n      <td>6.0</td>\n      <td>182</td>\n      <td>167</td>\n      <td>18</td>\n      <td>336</td>\n      <td>550</td>\n      <td>58</td>\n      <td>56</td>\n      <td>206</td>\n      <td>69</td>\n      <td>40</td>\n      <td>67</td>\n    </tr>\n    <tr>\n      <th>7</th>\n      <td>7.0</td>\n      <td>70</td>\n      <td>26</td>\n      <td>36</td>\n      <td>135</td>\n      <td>466</td>\n      <td>0</td>\n      <td>27</td>\n      <td>296</td>\n      <td>791</td>\n      <td>402</td>\n      <td>96</td>\n    </tr>\n    <tr>\n      <th>5</th>\n      <td>9.0</td>\n      <td>0</td>\n      <td>1</td>\n      <td>0</td>\n      <td>0</td>\n      <td>0</td>\n      <td>0</td>\n      <td>0</td>\n      <td>0</td>\n      <td>0</td>\n      <td>0</td>\n      <td>0</td>\n    </tr>\n  </tbody>\n</table>\n</div>",
       "datasetInfos": [],
       "metadata": {},
       "removedWidgets": [],
       "textData": null,
       "type": "htmlSandbox"
      }
     },
     "output_type": "display_data"
    }
   ],
   "source": [
    "#confusion matrix\n",
    "cm_dt_result_lsvc = y_pred_lsvc.crosstab(\"prediction\", \"labelI\")\n",
    "cm_dt_result_lsvc = cm_dt_result_lsvc.toPandas()\n",
    "cm_dt_result_lsvc.sort_values(by = ['prediction_labelI'])"
   ]
  },
  {
   "cell_type": "code",
   "execution_count": 0,
   "metadata": {
    "application/vnd.databricks.v1+cell": {
     "cellMetadata": {},
     "inputWidgets": {},
     "nuid": "473fe924-0096-43b8-bdd4-c3a549f52db5",
     "showTitle": false,
     "title": ""
    }
   },
   "outputs": [
    {
     "data": {
      "text/plain": [
       "              precision    recall  f1-score   support\n",
       "\n",
       "         0.0       0.38      0.84      0.53     17515\n",
       "         1.0       0.32      0.07      0.11     14778\n",
       "         2.0       0.28      0.25      0.27     11375\n",
       "         3.0       0.38      0.26      0.31      7200\n",
       "         4.0       0.26      0.10      0.15      4173\n",
       "         5.0       0.07      0.00      0.01      2274\n",
       "         6.0       0.12      0.10      0.11      2120\n",
       "         7.0       0.34      0.58      0.43      1363\n",
       "         8.0       0.00      0.00      0.00      1032\n",
       "         9.0       0.00      0.00      0.00       564\n",
       "        10.0       0.02      0.01      0.01       538\n",
       "\n",
       "    accuracy                           0.35     62932\n",
       "   macro avg       0.20      0.20      0.17     62932\n",
       "weighted avg       0.31      0.35      0.28     62932\n",
       "\n",
       "/databricks/python/lib/python3.9/site-packages/sklearn/metrics/_classification.py:1248: UndefinedMetricWarning: Precision and F-score are ill-defined and being set to 0.0 in labels with no predicted samples. Use `zero_division` parameter to control this behavior.\n",
       "  _warn_prf(average, modifier, msg_start, len(result))\n",
       "/databricks/python/lib/python3.9/site-packages/sklearn/metrics/_classification.py:1248: UndefinedMetricWarning: Precision and F-score are ill-defined and being set to 0.0 in labels with no predicted samples. Use `zero_division` parameter to control this behavior.\n",
       "  _warn_prf(average, modifier, msg_start, len(result))\n",
       "/databricks/python/lib/python3.9/site-packages/sklearn/metrics/_classification.py:1248: UndefinedMetricWarning: Precision and F-score are ill-defined and being set to 0.0 in labels with no predicted samples. Use `zero_division` parameter to control this behavior.\n",
       "  _warn_prf(average, modifier, msg_start, len(result))\n"
      ]
     },
     "metadata": {
      "application/vnd.databricks.v1+output": {
       "addedWidgets": {},
       "arguments": {},
       "data": "              precision    recall  f1-score   support\n\n         0.0       0.38      0.84      0.53     17515\n         1.0       0.32      0.07      0.11     14778\n         2.0       0.28      0.25      0.27     11375\n         3.0       0.38      0.26      0.31      7200\n         4.0       0.26      0.10      0.15      4173\n         5.0       0.07      0.00      0.01      2274\n         6.0       0.12      0.10      0.11      2120\n         7.0       0.34      0.58      0.43      1363\n         8.0       0.00      0.00      0.00      1032\n         9.0       0.00      0.00      0.00       564\n        10.0       0.02      0.01      0.01       538\n\n    accuracy                           0.35     62932\n   macro avg       0.20      0.20      0.17     62932\nweighted avg       0.31      0.35      0.28     62932\n\n/databricks/python/lib/python3.9/site-packages/sklearn/metrics/_classification.py:1248: UndefinedMetricWarning: Precision and F-score are ill-defined and being set to 0.0 in labels with no predicted samples. Use `zero_division` parameter to control this behavior.\n  _warn_prf(average, modifier, msg_start, len(result))\n/databricks/python/lib/python3.9/site-packages/sklearn/metrics/_classification.py:1248: UndefinedMetricWarning: Precision and F-score are ill-defined and being set to 0.0 in labels with no predicted samples. Use `zero_division` parameter to control this behavior.\n  _warn_prf(average, modifier, msg_start, len(result))\n/databricks/python/lib/python3.9/site-packages/sklearn/metrics/_classification.py:1248: UndefinedMetricWarning: Precision and F-score are ill-defined and being set to 0.0 in labels with no predicted samples. Use `zero_division` parameter to control this behavior.\n  _warn_prf(average, modifier, msg_start, len(result))\n",
       "datasetInfos": [],
       "metadata": {},
       "removedWidgets": [],
       "type": "ansi"
      }
     },
     "output_type": "display_data"
    }
   ],
   "source": [
    "y_true_lsvc = y_pred_lsvc.select(['labelI']).collect()\n",
    "y_pred1_lsvc = y_pred_lsvc.select(['prediction']).collect()\n",
    "\n",
    "from sklearn.metrics import classification_report\n",
    "print(classification_report(y_true_lsvc, y_pred1_lsvc))"
   ]
  },
  {
   "cell_type": "markdown",
   "metadata": {
    "application/vnd.databricks.v1+cell": {
     "cellMetadata": {},
     "inputWidgets": {},
     "nuid": "31318d40-20d5-4c91-834f-2b19d9d1dd24",
     "showTitle": false,
     "title": ""
    }
   },
   "source": [
    "Random Forest Classifier"
   ]
  },
  {
   "cell_type": "code",
   "execution_count": 0,
   "metadata": {
    "application/vnd.databricks.v1+cell": {
     "cellMetadata": {},
     "inputWidgets": {},
     "nuid": "67caba86-305c-408b-8780-af4478e288b5",
     "showTitle": false,
     "title": ""
    }
   },
   "outputs": [],
   "source": [
    "rfc = RandomForestClassifier(featuresCol = 'features_final', labelCol = 'labelI', maxBins = 33)\n",
    "rfc_Model = rfc.fit(train_covid)\n",
    "rfc_Model_trasform = rfc_Model.transform(train_covid)\n",
    "y_pred_rfc = rfc_Model.transform(test_covid)"
   ]
  },
  {
   "cell_type": "code",
   "execution_count": 0,
   "metadata": {
    "application/vnd.databricks.v1+cell": {
     "cellMetadata": {},
     "inputWidgets": {},
     "nuid": "11e80b09-d653-4ef9-98f1-e7336921246a",
     "showTitle": false,
     "title": ""
    }
   },
   "outputs": [
    {
     "data": {
      "text/plain": [
       "Accuracy score is equal to  0.355987 \n"
      ]
     },
     "metadata": {
      "application/vnd.databricks.v1+output": {
       "addedWidgets": {},
       "arguments": {},
       "data": "Accuracy score is equal to  0.355987 \n",
       "datasetInfos": [],
       "metadata": {},
       "removedWidgets": [],
       "type": "ansi"
      }
     },
     "output_type": "display_data"
    }
   ],
   "source": [
    "evaluator = MulticlassClassificationEvaluator(\n",
    "labelCol=\"labelI\", predictionCol=\"prediction\", metricName=\"accuracy\")\n",
    "accuracy = evaluator.evaluate(y_pred_rfc)\n",
    "print(\"Accuracy score is equal to  %g \" % (accuracy))"
   ]
  },
  {
   "cell_type": "code",
   "execution_count": 0,
   "metadata": {
    "application/vnd.databricks.v1+cell": {
     "cellMetadata": {},
     "inputWidgets": {},
     "nuid": "225478e4-f7aa-4376-92e7-4ecd23d1cecd",
     "showTitle": false,
     "title": ""
    }
   },
   "outputs": [
    {
     "data": {
      "text/html": [
       "<div>\n",
       "<style scoped>\n",
       "    .dataframe tbody tr th:only-of-type {\n",
       "        vertical-align: middle;\n",
       "    }\n",
       "\n",
       "    .dataframe tbody tr th {\n",
       "        vertical-align: top;\n",
       "    }\n",
       "\n",
       "    .dataframe thead th {\n",
       "        text-align: right;\n",
       "    }\n",
       "</style>\n",
       "<table border=\"1\" class=\"dataframe\">\n",
       "  <thead>\n",
       "    <tr style=\"text-align: right;\">\n",
       "      <th></th>\n",
       "      <th>prediction_labelI</th>\n",
       "      <th>0.0</th>\n",
       "      <th>1.0</th>\n",
       "      <th>10.0</th>\n",
       "      <th>2.0</th>\n",
       "      <th>3.0</th>\n",
       "      <th>4.0</th>\n",
       "      <th>5.0</th>\n",
       "      <th>6.0</th>\n",
       "      <th>7.0</th>\n",
       "      <th>8.0</th>\n",
       "      <th>9.0</th>\n",
       "    </tr>\n",
       "  </thead>\n",
       "  <tbody>\n",
       "    <tr>\n",
       "      <th>0</th>\n",
       "      <td>0.0</td>\n",
       "      <td>14517</td>\n",
       "      <td>9701</td>\n",
       "      <td>388</td>\n",
       "      <td>6964</td>\n",
       "      <td>3384</td>\n",
       "      <td>2714</td>\n",
       "      <td>1838</td>\n",
       "      <td>984</td>\n",
       "      <td>423</td>\n",
       "      <td>266</td>\n",
       "      <td>289</td>\n",
       "    </tr>\n",
       "    <tr>\n",
       "      <th>3</th>\n",
       "      <td>1.0</td>\n",
       "      <td>2726</td>\n",
       "      <td>4386</td>\n",
       "      <td>56</td>\n",
       "      <td>1594</td>\n",
       "      <td>610</td>\n",
       "      <td>1447</td>\n",
       "      <td>276</td>\n",
       "      <td>169</td>\n",
       "      <td>68</td>\n",
       "      <td>66</td>\n",
       "      <td>34</td>\n",
       "    </tr>\n",
       "    <tr>\n",
       "      <th>1</th>\n",
       "      <td>2.0</td>\n",
       "      <td>150</td>\n",
       "      <td>403</td>\n",
       "      <td>44</td>\n",
       "      <td>1774</td>\n",
       "      <td>1480</td>\n",
       "      <td>8</td>\n",
       "      <td>72</td>\n",
       "      <td>418</td>\n",
       "      <td>376</td>\n",
       "      <td>296</td>\n",
       "      <td>99</td>\n",
       "    </tr>\n",
       "    <tr>\n",
       "      <th>2</th>\n",
       "      <td>3.0</td>\n",
       "      <td>122</td>\n",
       "      <td>288</td>\n",
       "      <td>50</td>\n",
       "      <td>1043</td>\n",
       "      <td>1726</td>\n",
       "      <td>4</td>\n",
       "      <td>88</td>\n",
       "      <td>549</td>\n",
       "      <td>496</td>\n",
       "      <td>404</td>\n",
       "      <td>142</td>\n",
       "    </tr>\n",
       "  </tbody>\n",
       "</table>\n",
       "</div>"
      ]
     },
     "metadata": {
      "application/vnd.databricks.v1+output": {
       "addedWidgets": {},
       "arguments": {},
       "data": "<div>\n<style scoped>\n    .dataframe tbody tr th:only-of-type {\n        vertical-align: middle;\n    }\n\n    .dataframe tbody tr th {\n        vertical-align: top;\n    }\n\n    .dataframe thead th {\n        text-align: right;\n    }\n</style>\n<table border=\"1\" class=\"dataframe\">\n  <thead>\n    <tr style=\"text-align: right;\">\n      <th></th>\n      <th>prediction_labelI</th>\n      <th>0.0</th>\n      <th>1.0</th>\n      <th>10.0</th>\n      <th>2.0</th>\n      <th>3.0</th>\n      <th>4.0</th>\n      <th>5.0</th>\n      <th>6.0</th>\n      <th>7.0</th>\n      <th>8.0</th>\n      <th>9.0</th>\n    </tr>\n  </thead>\n  <tbody>\n    <tr>\n      <th>0</th>\n      <td>0.0</td>\n      <td>14517</td>\n      <td>9701</td>\n      <td>388</td>\n      <td>6964</td>\n      <td>3384</td>\n      <td>2714</td>\n      <td>1838</td>\n      <td>984</td>\n      <td>423</td>\n      <td>266</td>\n      <td>289</td>\n    </tr>\n    <tr>\n      <th>3</th>\n      <td>1.0</td>\n      <td>2726</td>\n      <td>4386</td>\n      <td>56</td>\n      <td>1594</td>\n      <td>610</td>\n      <td>1447</td>\n      <td>276</td>\n      <td>169</td>\n      <td>68</td>\n      <td>66</td>\n      <td>34</td>\n    </tr>\n    <tr>\n      <th>1</th>\n      <td>2.0</td>\n      <td>150</td>\n      <td>403</td>\n      <td>44</td>\n      <td>1774</td>\n      <td>1480</td>\n      <td>8</td>\n      <td>72</td>\n      <td>418</td>\n      <td>376</td>\n      <td>296</td>\n      <td>99</td>\n    </tr>\n    <tr>\n      <th>2</th>\n      <td>3.0</td>\n      <td>122</td>\n      <td>288</td>\n      <td>50</td>\n      <td>1043</td>\n      <td>1726</td>\n      <td>4</td>\n      <td>88</td>\n      <td>549</td>\n      <td>496</td>\n      <td>404</td>\n      <td>142</td>\n    </tr>\n  </tbody>\n</table>\n</div>",
       "datasetInfos": [],
       "metadata": {},
       "removedWidgets": [],
       "textData": null,
       "type": "htmlSandbox"
      }
     },
     "output_type": "display_data"
    }
   ],
   "source": [
    "#confusion matrix\n",
    "cm_dt_result_rfc = y_pred_rfc.crosstab(\"prediction\", \"labelI\")\n",
    "cm_dt_result_rfc = cm_dt_result_rfc.toPandas()\n",
    "cm_dt_result_rfc.sort_values(by = ['prediction_labelI'])"
   ]
  },
  {
   "cell_type": "code",
   "execution_count": 0,
   "metadata": {
    "application/vnd.databricks.v1+cell": {
     "cellMetadata": {},
     "inputWidgets": {},
     "nuid": "1f993aa4-275d-4ea8-9a26-d7942bd812b2",
     "showTitle": false,
     "title": ""
    }
   },
   "outputs": [
    {
     "data": {
      "text/plain": [
       "              precision    recall  f1-score   support\n",
       "\n",
       "         0.0       0.35      0.83      0.49     17515\n",
       "         1.0       0.38      0.30      0.33     14778\n",
       "         2.0       0.35      0.16      0.22     11375\n",
       "         3.0       0.35      0.24      0.29      7200\n",
       "         4.0       0.00      0.00      0.00      4173\n",
       "         5.0       0.00      0.00      0.00      2274\n",
       "         6.0       0.00      0.00      0.00      2120\n",
       "         7.0       0.00      0.00      0.00      1363\n",
       "         8.0       0.00      0.00      0.00      1032\n",
       "         9.0       0.00      0.00      0.00       564\n",
       "        10.0       0.00      0.00      0.00       538\n",
       "\n",
       "    accuracy                           0.36     62932\n",
       "   macro avg       0.13      0.14      0.12     62932\n",
       "weighted avg       0.29      0.36      0.29     62932\n",
       "\n",
       "/databricks/python/lib/python3.9/site-packages/sklearn/metrics/_classification.py:1248: UndefinedMetricWarning: Precision and F-score are ill-defined and being set to 0.0 in labels with no predicted samples. Use `zero_division` parameter to control this behavior.\n",
       "  _warn_prf(average, modifier, msg_start, len(result))\n",
       "/databricks/python/lib/python3.9/site-packages/sklearn/metrics/_classification.py:1248: UndefinedMetricWarning: Precision and F-score are ill-defined and being set to 0.0 in labels with no predicted samples. Use `zero_division` parameter to control this behavior.\n",
       "  _warn_prf(average, modifier, msg_start, len(result))\n",
       "/databricks/python/lib/python3.9/site-packages/sklearn/metrics/_classification.py:1248: UndefinedMetricWarning: Precision and F-score are ill-defined and being set to 0.0 in labels with no predicted samples. Use `zero_division` parameter to control this behavior.\n",
       "  _warn_prf(average, modifier, msg_start, len(result))\n"
      ]
     },
     "metadata": {
      "application/vnd.databricks.v1+output": {
       "addedWidgets": {},
       "arguments": {},
       "data": "              precision    recall  f1-score   support\n\n         0.0       0.35      0.83      0.49     17515\n         1.0       0.38      0.30      0.33     14778\n         2.0       0.35      0.16      0.22     11375\n         3.0       0.35      0.24      0.29      7200\n         4.0       0.00      0.00      0.00      4173\n         5.0       0.00      0.00      0.00      2274\n         6.0       0.00      0.00      0.00      2120\n         7.0       0.00      0.00      0.00      1363\n         8.0       0.00      0.00      0.00      1032\n         9.0       0.00      0.00      0.00       564\n        10.0       0.00      0.00      0.00       538\n\n    accuracy                           0.36     62932\n   macro avg       0.13      0.14      0.12     62932\nweighted avg       0.29      0.36      0.29     62932\n\n/databricks/python/lib/python3.9/site-packages/sklearn/metrics/_classification.py:1248: UndefinedMetricWarning: Precision and F-score are ill-defined and being set to 0.0 in labels with no predicted samples. Use `zero_division` parameter to control this behavior.\n  _warn_prf(average, modifier, msg_start, len(result))\n/databricks/python/lib/python3.9/site-packages/sklearn/metrics/_classification.py:1248: UndefinedMetricWarning: Precision and F-score are ill-defined and being set to 0.0 in labels with no predicted samples. Use `zero_division` parameter to control this behavior.\n  _warn_prf(average, modifier, msg_start, len(result))\n/databricks/python/lib/python3.9/site-packages/sklearn/metrics/_classification.py:1248: UndefinedMetricWarning: Precision and F-score are ill-defined and being set to 0.0 in labels with no predicted samples. Use `zero_division` parameter to control this behavior.\n  _warn_prf(average, modifier, msg_start, len(result))\n",
       "datasetInfos": [],
       "metadata": {},
       "removedWidgets": [],
       "type": "ansi"
      }
     },
     "output_type": "display_data"
    }
   ],
   "source": [
    "y_true_rfc = y_pred_rfc.select(['labelI']).collect()\n",
    "y_pred1_rfc = y_pred_rfc.select(['prediction']).collect()\n",
    "\n",
    "from sklearn.metrics import classification_report\n",
    "print(classification_report(y_true_rfc, y_pred1_rfc))"
   ]
  },
  {
   "cell_type": "markdown",
   "metadata": {
    "application/vnd.databricks.v1+cell": {
     "cellMetadata": {},
     "inputWidgets": {},
     "nuid": "9272bff4-807b-434b-a93c-ef8ccd3713da",
     "showTitle": false,
     "title": ""
    }
   },
   "source": [
    "Naive Bayes Classifier"
   ]
  },
  {
   "cell_type": "code",
   "execution_count": 0,
   "metadata": {
    "application/vnd.databricks.v1+cell": {
     "cellMetadata": {},
     "inputWidgets": {},
     "nuid": "ca40746d-7f88-462c-9a71-a892b830746f",
     "showTitle": false,
     "title": ""
    }
   },
   "outputs": [],
   "source": [
    "from pyspark.ml.classification import NaiveBayes\n",
    "\n",
    "nbm = NaiveBayes(smoothing=1.0, modelType=\"multinomial\",labelCol=\"labelI\", featuresCol=\"features_final\")\n",
    "nbm_Model = nbm.fit(train_covid)\n",
    "\n",
    "y_pred_nbm = nbm_Model.transform(test_covid)"
   ]
  },
  {
   "cell_type": "code",
   "execution_count": 0,
   "metadata": {
    "application/vnd.databricks.v1+cell": {
     "cellMetadata": {},
     "inputWidgets": {},
     "nuid": "4ac1bffe-613a-424b-8200-cfdbd7f4d02d",
     "showTitle": false,
     "title": ""
    }
   },
   "outputs": [
    {
     "data": {
      "text/plain": [
       "Test Accuracy = 0.330468 \n"
      ]
     },
     "metadata": {
      "application/vnd.databricks.v1+output": {
       "addedWidgets": {},
       "arguments": {},
       "data": "Test Accuracy = 0.330468 \n",
       "datasetInfos": [],
       "metadata": {},
       "removedWidgets": [],
       "type": "ansi"
      }
     },
     "output_type": "display_data"
    }
   ],
   "source": [
    "# Select (prediction, true label) and compute test error\n",
    "evaluator = MulticlassClassificationEvaluator(\n",
    "labelCol=\"labelI\", predictionCol=\"prediction\", metricName=\"accuracy\")\n",
    "accuracy = evaluator.evaluate(y_pred_nbm)\n",
    "print(\"Test Accuracy = %g \" % (accuracy))"
   ]
  },
  {
   "cell_type": "code",
   "execution_count": 0,
   "metadata": {
    "application/vnd.databricks.v1+cell": {
     "cellMetadata": {},
     "inputWidgets": {},
     "nuid": "1b3994cb-60ad-49b1-ba3c-defe3ad30bea",
     "showTitle": false,
     "title": ""
    }
   },
   "outputs": [
    {
     "data": {
      "text/html": [
       "<div>\n",
       "<style scoped>\n",
       "    .dataframe tbody tr th:only-of-type {\n",
       "        vertical-align: middle;\n",
       "    }\n",
       "\n",
       "    .dataframe tbody tr th {\n",
       "        vertical-align: top;\n",
       "    }\n",
       "\n",
       "    .dataframe thead th {\n",
       "        text-align: right;\n",
       "    }\n",
       "</style>\n",
       "<table border=\"1\" class=\"dataframe\">\n",
       "  <thead>\n",
       "    <tr style=\"text-align: right;\">\n",
       "      <th></th>\n",
       "      <th>prediction_labelI</th>\n",
       "      <th>0.0</th>\n",
       "      <th>1.0</th>\n",
       "      <th>10.0</th>\n",
       "      <th>2.0</th>\n",
       "      <th>3.0</th>\n",
       "      <th>4.0</th>\n",
       "      <th>5.0</th>\n",
       "      <th>6.0</th>\n",
       "      <th>7.0</th>\n",
       "      <th>8.0</th>\n",
       "      <th>9.0</th>\n",
       "    </tr>\n",
       "  </thead>\n",
       "  <tbody>\n",
       "    <tr>\n",
       "      <th>0</th>\n",
       "      <td>0.0</td>\n",
       "      <td>10759</td>\n",
       "      <td>6127</td>\n",
       "      <td>289</td>\n",
       "      <td>5173</td>\n",
       "      <td>2523</td>\n",
       "      <td>1639</td>\n",
       "      <td>1416</td>\n",
       "      <td>707</td>\n",
       "      <td>201</td>\n",
       "      <td>147</td>\n",
       "      <td>188</td>\n",
       "    </tr>\n",
       "    <tr>\n",
       "      <th>3</th>\n",
       "      <td>1.0</td>\n",
       "      <td>4916</td>\n",
       "      <td>6814</td>\n",
       "      <td>117</td>\n",
       "      <td>3694</td>\n",
       "      <td>1778</td>\n",
       "      <td>1847</td>\n",
       "      <td>505</td>\n",
       "      <td>408</td>\n",
       "      <td>156</td>\n",
       "      <td>200</td>\n",
       "      <td>74</td>\n",
       "    </tr>\n",
       "    <tr>\n",
       "      <th>2</th>\n",
       "      <td>10.0</td>\n",
       "      <td>4</td>\n",
       "      <td>2</td>\n",
       "      <td>0</td>\n",
       "      <td>1</td>\n",
       "      <td>3</td>\n",
       "      <td>0</td>\n",
       "      <td>3</td>\n",
       "      <td>0</td>\n",
       "      <td>0</td>\n",
       "      <td>0</td>\n",
       "      <td>0</td>\n",
       "    </tr>\n",
       "    <tr>\n",
       "      <th>4</th>\n",
       "      <td>2.0</td>\n",
       "      <td>339</td>\n",
       "      <td>396</td>\n",
       "      <td>29</td>\n",
       "      <td>524</td>\n",
       "      <td>521</td>\n",
       "      <td>114</td>\n",
       "      <td>83</td>\n",
       "      <td>194</td>\n",
       "      <td>101</td>\n",
       "      <td>103</td>\n",
       "      <td>50</td>\n",
       "    </tr>\n",
       "    <tr>\n",
       "      <th>6</th>\n",
       "      <td>3.0</td>\n",
       "      <td>1213</td>\n",
       "      <td>1170</td>\n",
       "      <td>65</td>\n",
       "      <td>1764</td>\n",
       "      <td>2123</td>\n",
       "      <td>395</td>\n",
       "      <td>216</td>\n",
       "      <td>644</td>\n",
       "      <td>491</td>\n",
       "      <td>450</td>\n",
       "      <td>189</td>\n",
       "    </tr>\n",
       "    <tr>\n",
       "      <th>8</th>\n",
       "      <td>4.0</td>\n",
       "      <td>227</td>\n",
       "      <td>229</td>\n",
       "      <td>10</td>\n",
       "      <td>121</td>\n",
       "      <td>64</td>\n",
       "      <td>163</td>\n",
       "      <td>31</td>\n",
       "      <td>16</td>\n",
       "      <td>2</td>\n",
       "      <td>5</td>\n",
       "      <td>5</td>\n",
       "    </tr>\n",
       "    <tr>\n",
       "      <th>1</th>\n",
       "      <td>5.0</td>\n",
       "      <td>30</td>\n",
       "      <td>14</td>\n",
       "      <td>6</td>\n",
       "      <td>21</td>\n",
       "      <td>12</td>\n",
       "      <td>12</td>\n",
       "      <td>6</td>\n",
       "      <td>3</td>\n",
       "      <td>2</td>\n",
       "      <td>1</td>\n",
       "      <td>2</td>\n",
       "    </tr>\n",
       "    <tr>\n",
       "      <th>5</th>\n",
       "      <td>7.0</td>\n",
       "      <td>27</td>\n",
       "      <td>26</td>\n",
       "      <td>22</td>\n",
       "      <td>77</td>\n",
       "      <td>175</td>\n",
       "      <td>3</td>\n",
       "      <td>14</td>\n",
       "      <td>147</td>\n",
       "      <td>408</td>\n",
       "      <td>126</td>\n",
       "      <td>56</td>\n",
       "    </tr>\n",
       "    <tr>\n",
       "      <th>7</th>\n",
       "      <td>8.0</td>\n",
       "      <td>0</td>\n",
       "      <td>0</td>\n",
       "      <td>0</td>\n",
       "      <td>0</td>\n",
       "      <td>1</td>\n",
       "      <td>0</td>\n",
       "      <td>0</td>\n",
       "      <td>1</td>\n",
       "      <td>2</td>\n",
       "      <td>0</td>\n",
       "      <td>0</td>\n",
       "    </tr>\n",
       "  </tbody>\n",
       "</table>\n",
       "</div>"
      ]
     },
     "metadata": {
      "application/vnd.databricks.v1+output": {
       "addedWidgets": {},
       "arguments": {},
       "data": "<div>\n<style scoped>\n    .dataframe tbody tr th:only-of-type {\n        vertical-align: middle;\n    }\n\n    .dataframe tbody tr th {\n        vertical-align: top;\n    }\n\n    .dataframe thead th {\n        text-align: right;\n    }\n</style>\n<table border=\"1\" class=\"dataframe\">\n  <thead>\n    <tr style=\"text-align: right;\">\n      <th></th>\n      <th>prediction_labelI</th>\n      <th>0.0</th>\n      <th>1.0</th>\n      <th>10.0</th>\n      <th>2.0</th>\n      <th>3.0</th>\n      <th>4.0</th>\n      <th>5.0</th>\n      <th>6.0</th>\n      <th>7.0</th>\n      <th>8.0</th>\n      <th>9.0</th>\n    </tr>\n  </thead>\n  <tbody>\n    <tr>\n      <th>0</th>\n      <td>0.0</td>\n      <td>10759</td>\n      <td>6127</td>\n      <td>289</td>\n      <td>5173</td>\n      <td>2523</td>\n      <td>1639</td>\n      <td>1416</td>\n      <td>707</td>\n      <td>201</td>\n      <td>147</td>\n      <td>188</td>\n    </tr>\n    <tr>\n      <th>3</th>\n      <td>1.0</td>\n      <td>4916</td>\n      <td>6814</td>\n      <td>117</td>\n      <td>3694</td>\n      <td>1778</td>\n      <td>1847</td>\n      <td>505</td>\n      <td>408</td>\n      <td>156</td>\n      <td>200</td>\n      <td>74</td>\n    </tr>\n    <tr>\n      <th>2</th>\n      <td>10.0</td>\n      <td>4</td>\n      <td>2</td>\n      <td>0</td>\n      <td>1</td>\n      <td>3</td>\n      <td>0</td>\n      <td>3</td>\n      <td>0</td>\n      <td>0</td>\n      <td>0</td>\n      <td>0</td>\n    </tr>\n    <tr>\n      <th>4</th>\n      <td>2.0</td>\n      <td>339</td>\n      <td>396</td>\n      <td>29</td>\n      <td>524</td>\n      <td>521</td>\n      <td>114</td>\n      <td>83</td>\n      <td>194</td>\n      <td>101</td>\n      <td>103</td>\n      <td>50</td>\n    </tr>\n    <tr>\n      <th>6</th>\n      <td>3.0</td>\n      <td>1213</td>\n      <td>1170</td>\n      <td>65</td>\n      <td>1764</td>\n      <td>2123</td>\n      <td>395</td>\n      <td>216</td>\n      <td>644</td>\n      <td>491</td>\n      <td>450</td>\n      <td>189</td>\n    </tr>\n    <tr>\n      <th>8</th>\n      <td>4.0</td>\n      <td>227</td>\n      <td>229</td>\n      <td>10</td>\n      <td>121</td>\n      <td>64</td>\n      <td>163</td>\n      <td>31</td>\n      <td>16</td>\n      <td>2</td>\n      <td>5</td>\n      <td>5</td>\n    </tr>\n    <tr>\n      <th>1</th>\n      <td>5.0</td>\n      <td>30</td>\n      <td>14</td>\n      <td>6</td>\n      <td>21</td>\n      <td>12</td>\n      <td>12</td>\n      <td>6</td>\n      <td>3</td>\n      <td>2</td>\n      <td>1</td>\n      <td>2</td>\n    </tr>\n    <tr>\n      <th>5</th>\n      <td>7.0</td>\n      <td>27</td>\n      <td>26</td>\n      <td>22</td>\n      <td>77</td>\n      <td>175</td>\n      <td>3</td>\n      <td>14</td>\n      <td>147</td>\n      <td>408</td>\n      <td>126</td>\n      <td>56</td>\n    </tr>\n    <tr>\n      <th>7</th>\n      <td>8.0</td>\n      <td>0</td>\n      <td>0</td>\n      <td>0</td>\n      <td>0</td>\n      <td>1</td>\n      <td>0</td>\n      <td>0</td>\n      <td>1</td>\n      <td>2</td>\n      <td>0</td>\n      <td>0</td>\n    </tr>\n  </tbody>\n</table>\n</div>",
       "datasetInfos": [],
       "metadata": {},
       "removedWidgets": [],
       "textData": null,
       "type": "htmlSandbox"
      }
     },
     "output_type": "display_data"
    }
   ],
   "source": [
    "#confusion matrix\n",
    "cm_dt_result_nbm = y_pred_nbm.crosstab(\"prediction\", \"labelI\")\n",
    "cm_dt_result_nbm = cm_dt_result_nbm.toPandas()\n",
    "cm_dt_result_nbm.sort_values(by = ['prediction_labelI'])"
   ]
  },
  {
   "cell_type": "code",
   "execution_count": 0,
   "metadata": {
    "application/vnd.databricks.v1+cell": {
     "cellMetadata": {},
     "inputWidgets": {},
     "nuid": "3cc967cd-d715-4b51-918b-4a4f30e5a4f1",
     "showTitle": false,
     "title": ""
    }
   },
   "outputs": [
    {
     "data": {
      "text/plain": [
       "              precision    recall  f1-score   support\n",
       "\n",
       "         0.0       0.37      0.61      0.46     17515\n",
       "         1.0       0.33      0.46      0.39     14778\n",
       "         2.0       0.21      0.05      0.08     11375\n",
       "         3.0       0.24      0.29      0.27      7200\n",
       "         4.0       0.19      0.04      0.06      4173\n",
       "         5.0       0.06      0.00      0.01      2274\n",
       "         6.0       0.00      0.00      0.00      2120\n",
       "         7.0       0.38      0.30      0.33      1363\n",
       "         8.0       0.00      0.00      0.00      1032\n",
       "         9.0       0.00      0.00      0.00       564\n",
       "        10.0       0.00      0.00      0.00       538\n",
       "\n",
       "    accuracy                           0.33     62932\n",
       "   macro avg       0.16      0.16      0.14     62932\n",
       "weighted avg       0.27      0.33      0.27     62932\n",
       "\n",
       "/databricks/python/lib/python3.9/site-packages/sklearn/metrics/_classification.py:1248: UndefinedMetricWarning: Precision and F-score are ill-defined and being set to 0.0 in labels with no predicted samples. Use `zero_division` parameter to control this behavior.\n",
       "  _warn_prf(average, modifier, msg_start, len(result))\n",
       "/databricks/python/lib/python3.9/site-packages/sklearn/metrics/_classification.py:1248: UndefinedMetricWarning: Precision and F-score are ill-defined and being set to 0.0 in labels with no predicted samples. Use `zero_division` parameter to control this behavior.\n",
       "  _warn_prf(average, modifier, msg_start, len(result))\n",
       "/databricks/python/lib/python3.9/site-packages/sklearn/metrics/_classification.py:1248: UndefinedMetricWarning: Precision and F-score are ill-defined and being set to 0.0 in labels with no predicted samples. Use `zero_division` parameter to control this behavior.\n",
       "  _warn_prf(average, modifier, msg_start, len(result))\n"
      ]
     },
     "metadata": {
      "application/vnd.databricks.v1+output": {
       "addedWidgets": {},
       "arguments": {},
       "data": "              precision    recall  f1-score   support\n\n         0.0       0.37      0.61      0.46     17515\n         1.0       0.33      0.46      0.39     14778\n         2.0       0.21      0.05      0.08     11375\n         3.0       0.24      0.29      0.27      7200\n         4.0       0.19      0.04      0.06      4173\n         5.0       0.06      0.00      0.01      2274\n         6.0       0.00      0.00      0.00      2120\n         7.0       0.38      0.30      0.33      1363\n         8.0       0.00      0.00      0.00      1032\n         9.0       0.00      0.00      0.00       564\n        10.0       0.00      0.00      0.00       538\n\n    accuracy                           0.33     62932\n   macro avg       0.16      0.16      0.14     62932\nweighted avg       0.27      0.33      0.27     62932\n\n/databricks/python/lib/python3.9/site-packages/sklearn/metrics/_classification.py:1248: UndefinedMetricWarning: Precision and F-score are ill-defined and being set to 0.0 in labels with no predicted samples. Use `zero_division` parameter to control this behavior.\n  _warn_prf(average, modifier, msg_start, len(result))\n/databricks/python/lib/python3.9/site-packages/sklearn/metrics/_classification.py:1248: UndefinedMetricWarning: Precision and F-score are ill-defined and being set to 0.0 in labels with no predicted samples. Use `zero_division` parameter to control this behavior.\n  _warn_prf(average, modifier, msg_start, len(result))\n/databricks/python/lib/python3.9/site-packages/sklearn/metrics/_classification.py:1248: UndefinedMetricWarning: Precision and F-score are ill-defined and being set to 0.0 in labels with no predicted samples. Use `zero_division` parameter to control this behavior.\n  _warn_prf(average, modifier, msg_start, len(result))\n",
       "datasetInfos": [],
       "metadata": {},
       "removedWidgets": [],
       "type": "ansi"
      }
     },
     "output_type": "display_data"
    }
   ],
   "source": [
    "y_true_nbm = y_pred_nbm.select(['labelI']).collect()\n",
    "y_pred1_nbm = y_pred_nbm.select(['prediction']).collect()\n",
    "\n",
    "from sklearn.metrics import classification_report\n",
    "print(classification_report(y_true_nbm, y_pred1_nbm))"
   ]
  },
  {
   "cell_type": "code",
   "execution_count": 0,
   "metadata": {
    "application/vnd.databricks.v1+cell": {
     "cellMetadata": {},
     "inputWidgets": {},
     "nuid": "4aff3870-15b1-43cd-9630-6dcdf5cbc61a",
     "showTitle": false,
     "title": ""
    }
   },
   "outputs": [],
   "source": [
    "from pyspark.ml.tuning import ParamGridBuilder\n",
    "from pyspark.ml.tuning import TrainValidationSplit\n",
    "\n",
    "param_grid = (\n",
    "    ParamGridBuilder()\n",
    "    .addGrid(rfc.maxDepth, [3,5,10,20])\n",
    "    \n",
    "    .build()\n",
    ")"
   ]
  },
  {
   "cell_type": "code",
   "execution_count": 0,
   "metadata": {
    "application/vnd.databricks.v1+cell": {
     "cellMetadata": {},
     "inputWidgets": {},
     "nuid": "ace11272-9027-4543-9b26-9c4f90853da9",
     "showTitle": false,
     "title": ""
    }
   },
   "outputs": [],
   "source": [
    "tune = TrainValidationSplit(estimator=rfc,\n",
    "                           estimatorParamMaps=param_grid,\n",
    "                           evaluator=MulticlassClassificationEvaluator(labelCol=\"labelI\",metricName=\"accuracy\"),\n",
    "                           trainRatio=0.75,\n",
    "                          collectSubModels=True)\n",
    "\n",
    "\n",
    "model = tune.fit(train_covid)\n"
   ]
  },
  {
   "cell_type": "code",
   "execution_count": 0,
   "metadata": {
    "application/vnd.databricks.v1+cell": {
     "cellMetadata": {},
     "inputWidgets": {},
     "nuid": "725b866b-96af-447c-bad4-82fa5870969e",
     "showTitle": false,
     "title": ""
    }
   },
   "outputs": [],
   "source": [
    "predictions_y = model.transform(test_covid) # Using our best model "
   ]
  },
  {
   "cell_type": "code",
   "execution_count": 0,
   "metadata": {
    "application/vnd.databricks.v1+cell": {
     "cellMetadata": {},
     "inputWidgets": {},
     "nuid": "db6f1597-224f-4c83-9f01-66e6c13eec98",
     "showTitle": false,
     "title": ""
    }
   },
   "outputs": [
    {
     "data": {
      "text/plain": [
       "Test Accuracy = 0.418023 \n"
      ]
     },
     "metadata": {
      "application/vnd.databricks.v1+output": {
       "addedWidgets": {},
       "arguments": {},
       "data": "Test Accuracy = 0.418023 \n",
       "datasetInfos": [],
       "metadata": {},
       "removedWidgets": [],
       "type": "ansi"
      }
     },
     "output_type": "display_data"
    }
   ],
   "source": [
    "# Select (prediction, true label) and compute test error\n",
    "evaluator = MulticlassClassificationEvaluator(\n",
    "    labelCol=\"labelI\", predictionCol=\"prediction\", metricName=\"accuracy\")\n",
    "accuracy = evaluator.evaluate(predictions_y)\n",
    "print(\"Test Accuracy = %g \" % (accuracy))"
   ]
  },
  {
   "cell_type": "markdown",
   "metadata": {
    "application/vnd.databricks.v1+cell": {
     "cellMetadata": {},
     "inputWidgets": {},
     "nuid": "3d041999-0203-4fee-bc6a-54afe85aa8a7",
     "showTitle": false,
     "title": ""
    }
   },
   "source": [
    "The best model is Random Forest Classifier with an accuracy of 36%, very low, but the best, after the hyperparametre tuning our accuracy increases to 42%"
   ]
  }
 ],
 "metadata": {
  "application/vnd.databricks.v1+notebook": {
   "dashboards": [],
   "language": "python",
   "notebookMetadata": {
    "pythonIndentUnit": 4
   },
   "notebookName": "data on covid19",
   "notebookOrigID": 1048031412587365,
   "widgets": {}
  },
  "kernelspec": {
   "display_name": "Python 3 (ipykernel)",
   "language": "python",
   "name": "python3"
  },
  "language_info": {
   "codemirror_mode": {
    "name": "ipython",
    "version": 3
   },
   "file_extension": ".py",
   "mimetype": "text/x-python",
   "name": "python",
   "nbconvert_exporter": "python",
   "pygments_lexer": "ipython3",
   "version": "3.11.4"
  },
  "name": "data-munging.ipynb"
 },
 "nbformat": 4,
 "nbformat_minor": 1
}
