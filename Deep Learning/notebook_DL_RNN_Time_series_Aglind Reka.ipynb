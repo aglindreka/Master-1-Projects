{
 "cells": [
  {
   "cell_type": "markdown",
   "metadata": {},
   "source": [
    "# Time series prediction with LSTM (student notebook)\n",
    "\n",
    "Neural networks like Long Short-Term Memory (LSTM) recurrent neural networks are able to almost seamlessly model problems with multiple input variables.\n",
    "\n",
    "This is a great benefit in time series forecasting, where classical linear methods can be difficult to adapt to multivariate or multiple input forecasting problems.\n",
    "\n",
    "In this lab, you will discover how you can develop an LSTM model for multivariate time series forecasting with the Keras deep learning library."
   ]
  },
  {
   "cell_type": "code",
   "execution_count": 44,
   "metadata": {
    "ExecuteTime": {
     "end_time": "2022-01-29T14:25:22.175838Z",
     "start_time": "2022-01-29T14:25:22.074091Z"
    }
   },
   "outputs": [
    {
     "data": {
      "text/html": [
       "<div id=\"my_id_menu_nb\">run previous cell, wait for 2 seconds</div>\n",
       "<script>\n",
       "function repeat_indent_string(n){\n",
       "    var a = \"\" ;\n",
       "    for ( ; n > 0 ; --n)\n",
       "        a += \"    \";\n",
       "    return a;\n",
       "}\n",
       "// look up into all sections and builds an automated menu //\n",
       "var update_menu_string = function(begin, lfirst, llast, sformat, send, keep_item, begin_format, end_format) {\n",
       "    var anchors = document.getElementsByClassName(\"section\");\n",
       "    if (anchors.length == 0) {\n",
       "        anchors = document.getElementsByClassName(\"text_cell_render rendered_html\");\n",
       "    }\n",
       "    var i,t;\n",
       "    var text_menu = begin;\n",
       "    var text_memo = \"<pre>\\nlength:\" + anchors.length + \"\\n\";\n",
       "    var ind = \"\";\n",
       "    var memo_level = 1;\n",
       "    var href;\n",
       "    var tags = [];\n",
       "    var main_item = 0;\n",
       "    var format_open = 0;\n",
       "    for (i = 0; i <= llast; i++)\n",
       "        tags.push(\"h\" + i);\n",
       "\n",
       "    for (i = 0; i < anchors.length; i++) {\n",
       "        text_memo += \"**\" + anchors[i].id + \"--\\n\";\n",
       "\n",
       "        var child = null;\n",
       "        for(t = 0; t < tags.length; t++) {\n",
       "            var r = anchors[i].getElementsByTagName(tags[t]);\n",
       "            if (r.length > 0) {\n",
       "child = r[0];\n",
       "break;\n",
       "            }\n",
       "        }\n",
       "        if (child == null) {\n",
       "            text_memo += \"null\\n\";\n",
       "            continue;\n",
       "        }\n",
       "        if (anchors[i].hasAttribute(\"id\")) {\n",
       "            // when converted in RST\n",
       "            href = anchors[i].id;\n",
       "            text_memo += \"#1-\" + href;\n",
       "            // passer à child suivant (le chercher)\n",
       "        }\n",
       "        else if (child.hasAttribute(\"id\")) {\n",
       "            // in a notebook\n",
       "            href = child.id;\n",
       "            text_memo += \"#2-\" + href;\n",
       "        }\n",
       "        else {\n",
       "            text_memo += \"#3-\" + \"*\" + \"\\n\";\n",
       "            continue;\n",
       "        }\n",
       "        var title = child.textContent;\n",
       "        var level = parseInt(child.tagName.substring(1,2));\n",
       "\n",
       "        text_memo += \"--\" + level + \"?\" + lfirst + \"--\" + title + \"\\n\";\n",
       "\n",
       "        if ((level < lfirst) || (level > llast)) {\n",
       "            continue ;\n",
       "        }\n",
       "        if (title.endsWith('¶')) {\n",
       "            title = title.substring(0,title.length-1).replace(\"<\", \"&lt;\")\n",
       "         .replace(\">\", \"&gt;\").replace(\"&\", \"&amp;\");\n",
       "        }\n",
       "        if (title.length == 0) {\n",
       "            continue;\n",
       "        }\n",
       "\n",
       "        while (level < memo_level) {\n",
       "            text_menu += end_format + \"</ul>\\n\";\n",
       "            format_open -= 1;\n",
       "            memo_level -= 1;\n",
       "        }\n",
       "        if (level == lfirst) {\n",
       "            main_item += 1;\n",
       "        }\n",
       "        if (keep_item != -1 && main_item != keep_item + 1) {\n",
       "            // alert(main_item + \" - \" + level + \" - \" + keep_item);\n",
       "            continue;\n",
       "        }\n",
       "        while (level > memo_level) {\n",
       "            text_menu += \"<ul>\\n\";\n",
       "            memo_level += 1;\n",
       "        }\n",
       "        text_menu += repeat_indent_string(level-2);\n",
       "        text_menu += begin_format + sformat.replace(\"__HREF__\", href).replace(\"__TITLE__\", title);\n",
       "        format_open += 1;\n",
       "    }\n",
       "    while (1 < memo_level) {\n",
       "        text_menu += end_format + \"</ul>\\n\";\n",
       "        memo_level -= 1;\n",
       "        format_open -= 1;\n",
       "    }\n",
       "    text_menu += send;\n",
       "    //text_menu += \"\\n\" + text_memo;\n",
       "\n",
       "    while (format_open > 0) {\n",
       "        text_menu += end_format;\n",
       "        format_open -= 1;\n",
       "    }\n",
       "    return text_menu;\n",
       "};\n",
       "var update_menu = function() {\n",
       "    var sbegin = \"\";\n",
       "    var sformat = '<a href=\"#__HREF__\">__TITLE__</a>';\n",
       "    var send = \"\";\n",
       "    var begin_format = '<li>';\n",
       "    var end_format = '</li>';\n",
       "    var keep_item = -1;\n",
       "    var text_menu = update_menu_string(sbegin, 2, 4, sformat, send, keep_item,\n",
       "       begin_format, end_format);\n",
       "    var menu = document.getElementById(\"my_id_menu_nb\");\n",
       "    menu.innerHTML=text_menu;\n",
       "};\n",
       "window.setTimeout(update_menu,2000);\n",
       "            </script>"
      ],
      "text/plain": [
       "<IPython.core.display.HTML object>"
      ]
     },
     "execution_count": 44,
     "metadata": {},
     "output_type": "execute_result"
    }
   ],
   "source": [
    "\"\"\"\n",
    "(Practical tip) Table of contents can be compiled directly in jupyter notebooks using the following code:\n",
    "I set an exception: if the package is in your installation you can import it otherwise you download it \n",
    "then import it.\n",
    "\"\"\"\n",
    "try:\n",
    "    from jyquickhelper import add_notebook_menu \n",
    "except:\n",
    "    !pip install jyquickhelper\n",
    "    from jyquickhelper import add_notebook_menu\n",
    "    \n",
    "\"\"\"\n",
    "Output Table of contents to navigate easily in the notebook. \n",
    "For interested readers, the package also includes Ipython magic commands to go back to this cell\n",
    "wherever you are in the notebook to look for cells faster\n",
    "\"\"\"\n",
    "add_notebook_menu()"
   ]
  },
  {
   "cell_type": "markdown",
   "metadata": {},
   "source": [
    "## Imports"
   ]
  },
  {
   "cell_type": "code",
   "execution_count": 45,
   "metadata": {},
   "outputs": [],
   "source": [
    "import ssl\n",
    "\n",
    "ssl._create_default_https_context = ssl._create_unverified_context"
   ]
  },
  {
   "cell_type": "code",
   "execution_count": 46,
   "metadata": {},
   "outputs": [],
   "source": [
    "import matplotlib.pyplot as plt\n",
    "\n",
    "import math\n",
    "import numpy as np \n",
    "import pandas as pd"
   ]
  },
  {
   "cell_type": "code",
   "execution_count": 47,
   "metadata": {},
   "outputs": [],
   "source": [
    "from sklearn.compose import ColumnTransformer\n",
    "from sklearn.pipeline import Pipeline, FeatureUnion\n",
    "from sklearn.impute import SimpleImputer\n",
    "from sklearn.preprocessing import StandardScaler, OneHotEncoder, MinMaxScaler\n",
    "from sklearn.metrics import mean_squared_error"
   ]
  },
  {
   "cell_type": "code",
   "execution_count": 48,
   "metadata": {
    "ExecuteTime": {
     "end_time": "2021-10-05T11:20:34.597080Z",
     "start_time": "2021-10-05T11:20:30.132002Z"
    }
   },
   "outputs": [],
   "source": [
    "import tensorflow as tf\n",
    "from tensorflow.keras.callbacks import EarlyStopping\n",
    "from tensorflow.keras.models import Model\n",
    "from tensorflow.keras.layers import Input, Dense, Embedding, Flatten, LSTM, Bidirectional, AveragePooling1D, RepeatVector\n",
    "from tensorflow.keras import utils"
   ]
  },
  {
   "cell_type": "markdown",
   "metadata": {},
   "source": [
    "## LSTM network for uni-variate time series\n",
    "\n",
    "LSTM can be used to model univariate time series forecasting problems.\n",
    "\n",
    "These problems consist of a single set of observations and a model is needed to learn from the past set of observations in order to forecast the next value in the sequence.\n",
    "\n",
    "We will demonstrate a number of variations of the LSTM model for univariate time series forecasting.\n",
    "\n",
    "Be careful not to draw hasty conclusions about the relative performance of the models. The number of layers or neurons are highly variable between models."
   ]
  },
  {
   "cell_type": "markdown",
   "metadata": {},
   "source": [
    "### Data preparation\n",
    "\n",
    "#### A first example\n",
    "\n",
    "Consider a given univariate sequence: `[10, 20, 30, 40, 50, 60, 70, 80, 90]`\n",
    "\n",
    "We can divide the sequence into multiple input/output patterns called samples, where three time steps are used as input and one time step is used as output for the one-step prediction that is being learned.\n",
    "\n",
    "`X,\t\t\t\ty\n",
    "10, 20, 30\t\t40\n",
    "20, 30, 40\t\t50\n",
    "30, 40, 50\t\t60\n",
    "...`\n",
    "\n",
    "The `series_to_supervised()` function below implements this behavior and will split a given univariate sequence into multiple samples where each sample has a specified number of time steps (`n_in, by default 3`) and the output has also a specified number of time steps (`n_out, by default 1`).\n",
    "\n",
    "By default, the data to predict is the last columns."
   ]
  },
  {
   "cell_type": "code",
   "execution_count": 49,
   "metadata": {
    "ExecuteTime": {
     "end_time": "2022-01-29T14:26:15.251343Z",
     "start_time": "2022-01-29T14:26:15.241331Z"
    }
   },
   "outputs": [],
   "source": [
    "def series_to_supervised(data, n_in=3, n_out=1, output=None, dropnan=True):\n",
    "    n_vars = 1 if type(data) is list else data.shape[1]\n",
    "    output =  [data.columns[-1]] if output is None else output\n",
    "    df = pd.DataFrame(data)\n",
    "    cols, names = list(), list()\n",
    "    \n",
    "    # input sequence (t-n, ... t-1)\n",
    "    for i in range(n_in, 0, -1):\n",
    "        cols += [df.shift(i)]\n",
    "        names += [('%s(t-%d)' % (j, i)) for j in data.columns]\n",
    "    \n",
    "    # forecast sequence (t, t+1, ... t+n)\n",
    "    for i in range(0, n_out):\n",
    "        cols += [df[output].shift(-i)]\n",
    "        if i == 0:\n",
    "            names += [('%s(t)' % (j)) for j in output]\n",
    "        else:\n",
    "            names += [('%s(t+%d)' % (j, i)) for j in output]\n",
    "    \n",
    "    # put it all together\n",
    "    agg = pd.concat(cols, axis=1)\n",
    "    agg.columns = names\n",
    "    \n",
    "    # drop rows with NaN values\n",
    "    if dropnan:\n",
    "        agg.dropna(inplace=True)\n",
    "    return agg"
   ]
  },
  {
   "cell_type": "markdown",
   "metadata": {
    "ExecuteTime": {
     "end_time": "2022-01-29T14:26:44.037802Z",
     "start_time": "2022-01-29T14:26:44.021395Z"
    }
   },
   "source": [
    "<font color='red'>\n",
    "$TO DO - Students$\n",
    "\n",
    "* create the time series mentioned in the first exemple.\n",
    "</font>"
   ]
  },
  {
   "cell_type": "code",
   "execution_count": 50,
   "metadata": {
    "ExecuteTime": {
     "end_time": "2022-02-02T08:05:05.695951Z",
     "start_time": "2022-02-02T08:05:05.687809Z"
    }
   },
   "outputs": [
    {
     "data": {
      "text/html": [
       "<div>\n",
       "<style scoped>\n",
       "    .dataframe tbody tr th:only-of-type {\n",
       "        vertical-align: middle;\n",
       "    }\n",
       "\n",
       "    .dataframe tbody tr th {\n",
       "        vertical-align: top;\n",
       "    }\n",
       "\n",
       "    .dataframe thead th {\n",
       "        text-align: right;\n",
       "    }\n",
       "</style>\n",
       "<table border=\"1\" class=\"dataframe\">\n",
       "  <thead>\n",
       "    <tr style=\"text-align: right;\">\n",
       "      <th></th>\n",
       "      <th>0</th>\n",
       "    </tr>\n",
       "  </thead>\n",
       "  <tbody>\n",
       "    <tr>\n",
       "      <th>0</th>\n",
       "      <td>0</td>\n",
       "    </tr>\n",
       "    <tr>\n",
       "      <th>1</th>\n",
       "      <td>10</td>\n",
       "    </tr>\n",
       "    <tr>\n",
       "      <th>2</th>\n",
       "      <td>20</td>\n",
       "    </tr>\n",
       "    <tr>\n",
       "      <th>3</th>\n",
       "      <td>30</td>\n",
       "    </tr>\n",
       "    <tr>\n",
       "      <th>4</th>\n",
       "      <td>40</td>\n",
       "    </tr>\n",
       "    <tr>\n",
       "      <th>5</th>\n",
       "      <td>50</td>\n",
       "    </tr>\n",
       "    <tr>\n",
       "      <th>6</th>\n",
       "      <td>60</td>\n",
       "    </tr>\n",
       "    <tr>\n",
       "      <th>7</th>\n",
       "      <td>70</td>\n",
       "    </tr>\n",
       "  </tbody>\n",
       "</table>\n",
       "</div>"
      ],
      "text/plain": [
       "    0\n",
       "0   0\n",
       "1  10\n",
       "2  20\n",
       "3  30\n",
       "4  40\n",
       "5  50\n",
       "6  60\n",
       "7  70"
      ]
     },
     "execution_count": 50,
     "metadata": {},
     "output_type": "execute_result"
    }
   ],
   "source": [
    "my_time_series = list(range(0, 80, 10))\n",
    "my_time_series = pd.DataFrame(data= my_time_series)\n",
    "my_time_series"
   ]
  },
  {
   "cell_type": "code",
   "execution_count": 51,
   "metadata": {
    "ExecuteTime": {
     "end_time": "2022-02-02T08:05:06.447611Z",
     "start_time": "2022-02-02T08:05:06.306492Z"
    }
   },
   "outputs": [
    {
     "data": {
      "text/html": [
       "<div>\n",
       "<style scoped>\n",
       "    .dataframe tbody tr th:only-of-type {\n",
       "        vertical-align: middle;\n",
       "    }\n",
       "\n",
       "    .dataframe tbody tr th {\n",
       "        vertical-align: top;\n",
       "    }\n",
       "\n",
       "    .dataframe thead th {\n",
       "        text-align: right;\n",
       "    }\n",
       "</style>\n",
       "<table border=\"1\" class=\"dataframe\">\n",
       "  <thead>\n",
       "    <tr style=\"text-align: right;\">\n",
       "      <th></th>\n",
       "      <th>0(t-1)</th>\n",
       "      <th>0(t)</th>\n",
       "      <th>0(t+1)</th>\n",
       "      <th>0(t+2)</th>\n",
       "    </tr>\n",
       "  </thead>\n",
       "  <tbody>\n",
       "    <tr>\n",
       "      <th>1</th>\n",
       "      <td>0.0</td>\n",
       "      <td>10</td>\n",
       "      <td>20.0</td>\n",
       "      <td>30.0</td>\n",
       "    </tr>\n",
       "    <tr>\n",
       "      <th>2</th>\n",
       "      <td>10.0</td>\n",
       "      <td>20</td>\n",
       "      <td>30.0</td>\n",
       "      <td>40.0</td>\n",
       "    </tr>\n",
       "    <tr>\n",
       "      <th>3</th>\n",
       "      <td>20.0</td>\n",
       "      <td>30</td>\n",
       "      <td>40.0</td>\n",
       "      <td>50.0</td>\n",
       "    </tr>\n",
       "    <tr>\n",
       "      <th>4</th>\n",
       "      <td>30.0</td>\n",
       "      <td>40</td>\n",
       "      <td>50.0</td>\n",
       "      <td>60.0</td>\n",
       "    </tr>\n",
       "    <tr>\n",
       "      <th>5</th>\n",
       "      <td>40.0</td>\n",
       "      <td>50</td>\n",
       "      <td>60.0</td>\n",
       "      <td>70.0</td>\n",
       "    </tr>\n",
       "  </tbody>\n",
       "</table>\n",
       "</div>"
      ],
      "text/plain": [
       "   0(t-1)  0(t)  0(t+1)  0(t+2)\n",
       "1     0.0    10    20.0    30.0\n",
       "2    10.0    20    30.0    40.0\n",
       "3    20.0    30    40.0    50.0\n",
       "4    30.0    40    50.0    60.0\n",
       "5    40.0    50    60.0    70.0"
      ]
     },
     "execution_count": 51,
     "metadata": {},
     "output_type": "execute_result"
    }
   ],
   "source": [
    "data = series_to_supervised(my_time_series, n_in=my_time_series.shape[1], n_out= 3)\n",
    "data.head()"
   ]
  },
  {
   "cell_type": "markdown",
   "metadata": {
    "ExecuteTime": {
     "end_time": "2022-02-02T08:04:26.423558Z",
     "start_time": "2022-02-02T08:04:26.413885Z"
    }
   },
   "source": [
    "<font color='blue'>\n",
    "    <bold>Head of the previous dataset</bold>\n",
    "\n",
    "`\t0(t-3)\t0(t-2)\t0(t-1)\t0(t)\n",
    "3\t0.0\t10.0\t20.0\t30\n",
    "4\t10.0\t20.0\t30.0\t40\n",
    "5\t20.0\t30.0\t40.0\t50\n",
    "6\t30.0\t40.0\t50.0\t60\n",
    "7\t40.0\t50.0\t60.0\t70\n",
    "`\n",
    "</font>"
   ]
  },
  {
   "cell_type": "markdown",
   "metadata": {},
   "source": [
    "#### Do the same for a more sophisticated series"
   ]
  },
  {
   "cell_type": "code",
   "execution_count": 52,
   "metadata": {
    "ExecuteTime": {
     "end_time": "2022-01-29T14:29:34.174411Z",
     "start_time": "2022-01-29T14:29:33.942263Z"
    }
   },
   "outputs": [],
   "source": [
    "SIZE = 250\n",
    "time_stamps = range(SIZE)\n",
    "\n",
    "fct = lambda x: x*math.sin(x)\n",
    "time_series = pd.DataFrame(data={\"data\":[fct(x) for x in range(SIZE)]})\n",
    "n_features = time_series.shape[1] # for univariate time series"
   ]
  },
  {
   "cell_type": "markdown",
   "metadata": {},
   "source": [
    "<font color='red'>\n",
    "$TO DO - Students$\n",
    "\n",
    "* Plot the time series generated thanks to x --> x*sin(x) with 250 timestamps\n",
    "* label x and y axis\n",
    "</font>"
   ]
  },
  {
   "cell_type": "code",
   "execution_count": 53,
   "metadata": {},
   "outputs": [
    {
     "data": {
      "text/plain": [
       "[<matplotlib.lines.Line2D at 0x1e1d5b523d0>]"
      ]
     },
     "execution_count": 53,
     "metadata": {},
     "output_type": "execute_result"
    },
    {
     "data": {
      "image/png": "[encoded data removed]",
      "text/plain": [
       "<Figure size 432x288 with 1 Axes>"
      ]
     },
     "metadata": {
      "needs_background": "light"
     },
     "output_type": "display_data"
    }
   ],
   "source": [
    "\"\"\" FILL \"\"\"\n",
    "plt.plot(time_series)"
   ]
  },
  {
   "cell_type": "markdown",
   "metadata": {},
   "source": [
    "<font color='red'>\n",
    "$TO DO - Students$\n",
    "\n",
    "* Using `series_to_supervise` split data into samples with n_in = 6 and n_out = 1\n",
    "* Put the result in variable data\n",
    "</font>"
   ]
  },
  {
   "cell_type": "code",
   "execution_count": 54,
   "metadata": {
    "ExecuteTime": {
     "end_time": "2021-10-05T11:20:40.151621Z",
     "start_time": "2021-10-05T11:20:40.129102Z"
    }
   },
   "outputs": [
    {
     "data": {
      "text/html": [
       "<div>\n",
       "<style scoped>\n",
       "    .dataframe tbody tr th:only-of-type {\n",
       "        vertical-align: middle;\n",
       "    }\n",
       "\n",
       "    .dataframe tbody tr th {\n",
       "        vertical-align: top;\n",
       "    }\n",
       "\n",
       "    .dataframe thead th {\n",
       "        text-align: right;\n",
       "    }\n",
       "</style>\n",
       "<table border=\"1\" class=\"dataframe\">\n",
       "  <thead>\n",
       "    <tr style=\"text-align: right;\">\n",
       "      <th></th>\n",
       "      <th>data(t-6)</th>\n",
       "      <th>data(t-5)</th>\n",
       "      <th>data(t-4)</th>\n",
       "      <th>data(t-3)</th>\n",
       "      <th>data(t-2)</th>\n",
       "      <th>data(t-1)</th>\n",
       "      <th>data(t)</th>\n",
       "    </tr>\n",
       "  </thead>\n",
       "  <tbody>\n",
       "    <tr>\n",
       "      <th>6</th>\n",
       "      <td>0.000000</td>\n",
       "      <td>0.841471</td>\n",
       "      <td>1.818595</td>\n",
       "      <td>0.423360</td>\n",
       "      <td>-3.027210</td>\n",
       "      <td>-4.794621</td>\n",
       "      <td>-1.676493</td>\n",
       "    </tr>\n",
       "    <tr>\n",
       "      <th>7</th>\n",
       "      <td>0.841471</td>\n",
       "      <td>1.818595</td>\n",
       "      <td>0.423360</td>\n",
       "      <td>-3.027210</td>\n",
       "      <td>-4.794621</td>\n",
       "      <td>-1.676493</td>\n",
       "      <td>4.598906</td>\n",
       "    </tr>\n",
       "    <tr>\n",
       "      <th>8</th>\n",
       "      <td>1.818595</td>\n",
       "      <td>0.423360</td>\n",
       "      <td>-3.027210</td>\n",
       "      <td>-4.794621</td>\n",
       "      <td>-1.676493</td>\n",
       "      <td>4.598906</td>\n",
       "      <td>7.914866</td>\n",
       "    </tr>\n",
       "    <tr>\n",
       "      <th>9</th>\n",
       "      <td>0.423360</td>\n",
       "      <td>-3.027210</td>\n",
       "      <td>-4.794621</td>\n",
       "      <td>-1.676493</td>\n",
       "      <td>4.598906</td>\n",
       "      <td>7.914866</td>\n",
       "      <td>3.709066</td>\n",
       "    </tr>\n",
       "    <tr>\n",
       "      <th>10</th>\n",
       "      <td>-3.027210</td>\n",
       "      <td>-4.794621</td>\n",
       "      <td>-1.676493</td>\n",
       "      <td>4.598906</td>\n",
       "      <td>7.914866</td>\n",
       "      <td>3.709066</td>\n",
       "      <td>-5.440211</td>\n",
       "    </tr>\n",
       "  </tbody>\n",
       "</table>\n",
       "</div>"
      ],
      "text/plain": [
       "    data(t-6)  data(t-5)  data(t-4)  data(t-3)  data(t-2)  data(t-1)   data(t)\n",
       "6    0.000000   0.841471   1.818595   0.423360  -3.027210  -4.794621 -1.676493\n",
       "7    0.841471   1.818595   0.423360  -3.027210  -4.794621  -1.676493  4.598906\n",
       "8    1.818595   0.423360  -3.027210  -4.794621  -1.676493   4.598906  7.914866\n",
       "9    0.423360  -3.027210  -4.794621  -1.676493   4.598906   7.914866  3.709066\n",
       "10  -3.027210  -4.794621  -1.676493   4.598906   7.914866   3.709066 -5.440211"
      ]
     },
     "execution_count": 54,
     "metadata": {},
     "output_type": "execute_result"
    }
   ],
   "source": [
    "\"\"\" FILL \"\"\"\n",
    "n_in = 6\n",
    "n_out = 1\n",
    "data = series_to_supervised(time_series, n_in= n_in, n_out= n_out)\n",
    "data.head()"
   ]
  },
  {
   "cell_type": "markdown",
   "metadata": {
    "ExecuteTime": {
     "end_time": "2022-02-02T08:08:28.888096Z",
     "start_time": "2022-02-02T08:08:28.865976Z"
    }
   },
   "source": [
    "<font color='blue'>\n",
    "    <bold>Head of the previous dataset</bold>\n",
    "\n",
    "`idx  data(t-6)\t data(t-5)\t data(t-4)\t data(t-3)\t data(t-2)\t data(t-1)\t data(t)\n",
    " 6\t 0.000000\t 0.841471\t 1.818595\t 0.423360\t-3.027210\t-4.794621\t-1.676493\n",
    " 7\t 0.841471\t 1.818595\t 0.423360\t-3.027210\t-4.794621\t-1.676493\t 4.598906\n",
    " 8\t 1.818595\t 0.423360\t-3.027210\t-4.794621\t-1.676493\t 4.598906\t 7.914866\n",
    " 9\t 0.423360\t-3.027210\t-4.794621\t-1.676493\t 4.598906\t 7.914866\t 3.709066\n",
    "10\t-3.027210\t-4.794621\t-1.676493\t 4.598906\t 7.914866\t 3.709066\t-5.440211\n",
    "`\n",
    "</font>"
   ]
  },
  {
   "cell_type": "markdown",
   "metadata": {},
   "source": [
    "Contrary to the approaches used so far, we cannot separate the data into TRAIN, VALID and TEST in a random way, since we are dealing with time series where the order is important.\n",
    "\n",
    "The TRAIN data will therefore necessarily be at the beginning, then we will find the VALIDATION data and finally the TEST data.\n",
    "\n",
    "Here are the chosen indices."
   ]
  },
  {
   "cell_type": "code",
   "execution_count": 55,
   "metadata": {
    "ExecuteTime": {
     "end_time": "2021-10-05T11:20:41.520790Z",
     "start_time": "2021-10-05T11:20:41.514078Z"
    }
   },
   "outputs": [
    {
     "name": "stdout",
     "output_type": "stream",
     "text": [
      "TRAIN=time_series[:196]\n",
      "VALID=time_series[196:220]\n",
      "TEST=time_series[220:]\n"
     ]
    }
   ],
   "source": [
    "testAndValid = 0.1\n",
    "\n",
    "SPLIT = int(testAndValid*len(data))\n",
    "idx_train = len(data)-2*SPLIT\n",
    "idx_test = len(data)-SPLIT\n",
    "\n",
    "print(\"TRAIN=time_series[:\"+str(idx_train)+\"]\")\n",
    "print(\"VALID=time_series[\"+str(idx_train)+\":\"+str(idx_test)+\"]\")\n",
    "print(\"TEST=time_series[\"+str(idx_test)+\":]\")\n",
    "\n",
    "TRAIN=data[:idx_train]\n",
    "VAL=data[idx_train:idx_test]\n",
    "TEST=data[idx_test:]"
   ]
  },
  {
   "cell_type": "code",
   "execution_count": 56,
   "metadata": {
    "ExecuteTime": {
     "end_time": "2021-10-05T11:20:42.334185Z",
     "start_time": "2021-10-05T11:20:42.030549Z"
    }
   },
   "outputs": [
    {
     "data": {
      "image/png": "[encoded data removed]",
      "text/plain": [
       "<Figure size 720x288 with 1 Axes>"
      ]
     },
     "metadata": {
      "needs_background": "light"
     },
     "output_type": "display_data"
    }
   ],
   "source": [
    "plt.figure(figsize=(10, 4))\n",
    "plt.plot(TRAIN['data(t)'], label=\"train\")\n",
    "plt.plot(VAL['data(t)'], label=\"val\")\n",
    "plt.plot(TEST['data(t)'], label=\"test\")\n",
    "plt.legend()\n",
    "plt.xlabel(\"time stamps\");\n",
    "plt.ylabel(\"time series\");"
   ]
  },
  {
   "cell_type": "markdown",
   "metadata": {},
   "source": [
    "<font color='red'>\n",
    "$TO DO - Students$\n",
    "\n",
    "* complete the code for preprocessing your train/validation/test datasets.\n",
    "</font>"
   ]
  },
  {
   "cell_type": "code",
   "execution_count": 57,
   "metadata": {
    "ExecuteTime": {
     "end_time": "2021-10-05T11:20:42.720955Z",
     "start_time": "2021-10-05T11:20:42.693316Z"
    }
   },
   "outputs": [
    {
     "data": {
      "text/plain": [
       "((196, 6, 1), (196,))"
      ]
     },
     "execution_count": 57,
     "metadata": {},
     "output_type": "execute_result"
    }
   ],
   "source": [
    "# split into input and outputs\n",
    "train_X, train_y = TRAIN.values[:, :-n_out], TRAIN.values[:, -n_out]\n",
    "val_X, val_y =VAL.values[:, :-n_out], VAL.values[:, -n_out]\n",
    "test_X, test_y = VAL.values[:, :-n_out], VAL.values[:, -n_out]\n",
    "\n",
    "# reshape input to be 3D [samples, timesteps, features]\n",
    "train_X = train_X.reshape((-1, n_in, n_features))\n",
    "val_X = val_X.reshape((-1, n_in, n_features))\n",
    "test_X = test_X.reshape((-1, n_in, n_features))\n",
    "\n",
    "train_X.shape, train_y.shape"
   ]
  },
  {
   "cell_type": "markdown",
   "metadata": {
    "ExecuteTime": {
     "end_time": "2022-02-02T08:10:29.453097Z",
     "start_time": "2022-02-02T08:10:29.443677Z"
    }
   },
   "source": [
    "<font color='blue'>\n",
    "<bold>\n",
    "train_X.shape = (196, 6, 1)\n",
    "\n",
    "train_y.shape = (196,)\n",
    "</font>"
   ]
  },
  {
   "cell_type": "markdown",
   "metadata": {},
   "source": [
    "### Build a first network using LSTM cells\n",
    "<br>\n",
    "<font color='red'>\n",
    "$TO DO - Students$\n",
    "\n",
    "* Look carefully at the following cell\n",
    "* What is the impact of the `return_sequences` parameter of the LSTM cell? (change the value: False or True and observe the shape of the output).\n",
    "</font>"
   ]
  },
  {
   "cell_type": "code",
   "execution_count": 58,
   "metadata": {
    "ExecuteTime": {
     "end_time": "2021-10-05T11:20:43.941277Z",
     "start_time": "2021-10-05T11:20:43.705510Z"
    }
   },
   "outputs": [
    {
     "name": "stdout",
     "output_type": "stream",
     "text": [
      "Model: \"model_4\"\n",
      "_________________________________________________________________\n",
      " Layer (type)                Output Shape              Param #   \n",
      "=================================================================\n",
      " input_5 (InputLayer)        [(None, 6, 1)]            0         \n",
      "                                                                 \n",
      " lstm_6 (LSTM)               (None, 16)                1152      \n",
      "                                                                 \n",
      " dense_4 (Dense)             (None, 1)                 17        \n",
      "                                                                 \n",
      "=================================================================\n",
      "Total params: 1,169\n",
      "Trainable params: 1,169\n",
      "Non-trainable params: 0\n",
      "_________________________________________________________________\n"
     ]
    }
   ],
   "source": [
    "LSTM_SIZE = 16\n",
    "\n",
    "inputs = Input(shape=(n_in, n_features))\n",
    "hidden = LSTM(LSTM_SIZE, return_sequences=False, activation='relu')(inputs)\n",
    "outputs = Dense(n_out, activation='linear')(hidden)\n",
    "model = Model(inputs=inputs, outputs=outputs)\n",
    "model.summary()"
   ]
  },
  {
   "cell_type": "markdown",
   "metadata": {},
   "source": [
    "<font color='red'>\n",
    "$TO DO - Students$\n",
    "\n",
    "* Is it Regression or Classification problem ?\n",
    "* Complete the function build_and_fit used to train your RNN model.\n",
    "* compile : as usual\n",
    "* fit : as usual but...\n",
    "    * Be careful, you have to set the shuffle parameter to false in order to take the data in order.\n",
    "    * Use the validation set to control the overfitting in the earlystopping callback\n",
    "</font>"
   ]
  },
  {
   "cell_type": "code",
   "execution_count": 16,
   "metadata": {
    "ExecuteTime": {
     "end_time": "2021-10-05T11:20:44.132605Z",
     "start_time": "2021-10-05T11:20:44.121509Z"
    }
   },
   "outputs": [],
   "source": [
    "def build_and_fit(model, X_train, y_train, X_val, y_val, X_test, y_test):\n",
    "    model.compile(optimizer = 'adam', loss = 'mse', metrics = ['mae']) # Fix the loss='mse' and metrics=['mae']. \n",
    "    es = EarlyStopping(monitor = \"val_loss\", mode= \"min\", patience = 10, restore_best_weights=True)\n",
    "    callbacks = [es]\n",
    "    history = model.fit(X_train, y_train, epochs = 200,\n",
    "                       validation_data = (val_X, val_y),\n",
    "                       callbacks = callbacks,\n",
    "                       verbose = 1,\n",
    "                       shuffle = False) # epochs = 200, EarlyStopping, use validation_data\n",
    "    y_pred = model.predict(test_X)\n",
    "    \n",
    "    # plot history\n",
    "    plt.figure(figsize=(20,8))\n",
    "\n",
    "    plt.subplot(331)\n",
    "    plt.plot(history.history['loss'][3:], label='loss')\n",
    "    plt.plot(history.history['val_loss'][3:], label='val_loss')\n",
    "    plt.legend()\n",
    "    \n",
    "    plt.subplot(332)\n",
    "    plt.plot(history.history['mae'][3:], label='mae')\n",
    "    plt.plot(history.history['val_mae'][3:], label='val_mae')\n",
    "    plt.legend()\n",
    "    \n",
    "    plt.subplot(333)\n",
    "    plt.plot(range(len(y_train)), y_train, label=\"train\")\n",
    "    plt.plot(range(len(y_train), len(y_train)+len(y_val)), y_val, label=\"valid\")\n",
    "    plt.plot(range(len(y_train)+len(y_val), len(y_train)+len(y_val)+len(y_pred)), y_test, label=\"test\")\n",
    "    plt.plot(range(len(y_train)+len(y_val), len(y_train)+len(y_val)+len(y_pred)), y_pred, label=\"predict\")\n",
    "\n",
    "    plt.legend(loc='center left')\n",
    "    plt.show()\n",
    "    \n",
    "    return model"
   ]
  },
  {
   "cell_type": "code",
   "execution_count": 17,
   "metadata": {
    "ExecuteTime": {
     "end_time": "2021-10-05T11:20:50.230976Z",
     "start_time": "2021-10-05T11:20:44.536847Z"
    }
   },
   "outputs": [
    {
     "name": "stdout",
     "output_type": "stream",
     "text": [
      "Epoch 1/200\n",
      "7/7 [==============================] - 3s 108ms/step - loss: 7336.0771 - mae: 67.7646 - val_loss: 25046.6250 - val_mae: 142.8801\n",
      "Epoch 2/200\n",
      "7/7 [==============================] - 0s 12ms/step - loss: 7238.5903 - mae: 67.2687 - val_loss: 24759.6406 - val_mae: 142.1894\n",
      "Epoch 3/200\n",
      "7/7 [==============================] - 0s 11ms/step - loss: 7144.0796 - mae: 66.8116 - val_loss: 24518.1309 - val_mae: 141.7300\n",
      "Epoch 4/200\n",
      "7/7 [==============================] - 0s 11ms/step - loss: 7023.7285 - mae: 66.2744 - val_loss: 24115.1816 - val_mae: 140.6150\n",
      "Epoch 5/200\n",
      "7/7 [==============================] - 0s 12ms/step - loss: 6851.9399 - mae: 65.5304 - val_loss: 23348.8125 - val_mae: 138.3677\n",
      "Epoch 6/200\n",
      "7/7 [==============================] - 0s 12ms/step - loss: 6607.7085 - mae: 64.5038 - val_loss: 22313.9629 - val_mae: 135.3071\n",
      "Epoch 7/200\n",
      "7/7 [==============================] - 0s 11ms/step - loss: 6247.4873 - mae: 62.8743 - val_loss: 20638.7168 - val_mae: 129.8967\n",
      "Epoch 8/200\n",
      "7/7 [==============================] - 0s 12ms/step - loss: 5797.2598 - mae: 60.5178 - val_loss: 19055.4551 - val_mae: 125.7457\n",
      "Epoch 9/200\n",
      "7/7 [==============================] - 0s 12ms/step - loss: 5402.8306 - mae: 58.4933 - val_loss: 17684.1562 - val_mae: 121.8979\n",
      "Epoch 10/200\n",
      "7/7 [==============================] - 0s 12ms/step - loss: 4966.8774 - mae: 56.3783 - val_loss: 15712.4072 - val_mae: 115.5579\n",
      "Epoch 11/200\n",
      "7/7 [==============================] - 0s 13ms/step - loss: 4251.9414 - mae: 52.8307 - val_loss: 12830.3486 - val_mae: 105.1371\n",
      "Epoch 12/200\n",
      "7/7 [==============================] - 0s 12ms/step - loss: 3299.6646 - mae: 47.3050 - val_loss: 9173.5293 - val_mae: 89.1970\n",
      "Epoch 13/200\n",
      "7/7 [==============================] - 0s 12ms/step - loss: 2080.3298 - mae: 37.8841 - val_loss: 5307.5747 - val_mae: 64.4119\n",
      "Epoch 14/200\n",
      "7/7 [==============================] - 0s 13ms/step - loss: 1170.1925 - mae: 27.0665 - val_loss: 2340.3357 - val_mae: 38.2781\n",
      "Epoch 15/200\n",
      "7/7 [==============================] - 0s 13ms/step - loss: 632.1623 - mae: 18.3678 - val_loss: 1452.0459 - val_mae: 29.9455\n",
      "Epoch 16/200\n",
      "7/7 [==============================] - 0s 11ms/step - loss: 464.7547 - mae: 15.5917 - val_loss: 1403.5553 - val_mae: 28.2593\n",
      "Epoch 17/200\n",
      "7/7 [==============================] - 0s 12ms/step - loss: 345.1644 - mae: 13.1294 - val_loss: 1082.2753 - val_mae: 25.8122\n",
      "Epoch 18/200\n",
      "7/7 [==============================] - 0s 11ms/step - loss: 259.0435 - mae: 11.1100 - val_loss: 735.1089 - val_mae: 21.1743\n",
      "Epoch 19/200\n",
      "7/7 [==============================] - 0s 12ms/step - loss: 186.0387 - mae: 9.5084 - val_loss: 518.0336 - val_mae: 16.9257\n",
      "Epoch 20/200\n",
      "7/7 [==============================] - 0s 11ms/step - loss: 138.6590 - mae: 8.3225 - val_loss: 320.1690 - val_mae: 12.8238\n",
      "Epoch 21/200\n",
      "7/7 [==============================] - 0s 11ms/step - loss: 89.6368 - mae: 7.0883 - val_loss: 156.7520 - val_mae: 10.2954\n",
      "Epoch 22/200\n",
      "7/7 [==============================] - 0s 11ms/step - loss: 56.5990 - mae: 5.8482 - val_loss: 111.0284 - val_mae: 8.9357\n",
      "Epoch 23/200\n",
      "7/7 [==============================] - 0s 12ms/step - loss: 50.7770 - mae: 5.6640 - val_loss: 154.2028 - val_mae: 9.8728\n",
      "Epoch 24/200\n",
      "7/7 [==============================] - 0s 12ms/step - loss: 50.8738 - mae: 5.6426 - val_loss: 195.1613 - val_mae: 11.0390\n",
      "Epoch 25/200\n",
      "7/7 [==============================] - 0s 15ms/step - loss: 46.9000 - mae: 5.3443 - val_loss: 204.2118 - val_mae: 10.9732\n",
      "Epoch 26/200\n",
      "7/7 [==============================] - 0s 14ms/step - loss: 45.6509 - mae: 5.2682 - val_loss: 148.6198 - val_mae: 9.0467\n",
      "Epoch 27/200\n",
      "7/7 [==============================] - 0s 14ms/step - loss: 42.7961 - mae: 5.1153 - val_loss: 126.0332 - val_mae: 8.8245\n",
      "Epoch 28/200\n",
      "7/7 [==============================] - 0s 12ms/step - loss: 40.2013 - mae: 4.9801 - val_loss: 108.7468 - val_mae: 8.1066\n",
      "Epoch 29/200\n",
      "7/7 [==============================] - 0s 13ms/step - loss: 37.6345 - mae: 4.7361 - val_loss: 111.5872 - val_mae: 8.4884\n",
      "Epoch 30/200\n",
      "7/7 [==============================] - 0s 21ms/step - loss: 36.6535 - mae: 4.6568 - val_loss: 121.1940 - val_mae: 8.7460\n",
      "Epoch 31/200\n",
      "7/7 [==============================] - 0s 26ms/step - loss: 35.3802 - mae: 4.5900 - val_loss: 115.8737 - val_mae: 8.5753\n",
      "Epoch 32/200\n",
      "7/7 [==============================] - 0s 23ms/step - loss: 34.0606 - mae: 4.4785 - val_loss: 113.5395 - val_mae: 8.4949\n",
      "Epoch 33/200\n",
      "7/7 [==============================] - 0s 19ms/step - loss: 33.0657 - mae: 4.4073 - val_loss: 109.7254 - val_mae: 8.2348\n",
      "Epoch 34/200\n",
      "7/7 [==============================] - 0s 19ms/step - loss: 31.9954 - mae: 4.3494 - val_loss: 102.9837 - val_mae: 7.8870\n",
      "Epoch 35/200\n",
      "7/7 [==============================] - 0s 23ms/step - loss: 31.0346 - mae: 4.2781 - val_loss: 102.7320 - val_mae: 7.9242\n",
      "Epoch 36/200\n",
      "7/7 [==============================] - 0s 19ms/step - loss: 30.1640 - mae: 4.2236 - val_loss: 101.8750 - val_mae: 7.9225\n",
      "Epoch 37/200\n",
      "7/7 [==============================] - 0s 25ms/step - loss: 29.2573 - mae: 4.1633 - val_loss: 102.7191 - val_mae: 7.9965\n",
      "Epoch 38/200\n",
      "7/7 [==============================] - 0s 15ms/step - loss: 28.3676 - mae: 4.1049 - val_loss: 103.9535 - val_mae: 8.1083\n",
      "Epoch 39/200\n",
      "7/7 [==============================] - 0s 18ms/step - loss: 27.4879 - mae: 4.0452 - val_loss: 104.8354 - val_mae: 8.2079\n",
      "Epoch 40/200\n",
      "7/7 [==============================] - 0s 15ms/step - loss: 26.6277 - mae: 3.9880 - val_loss: 105.5207 - val_mae: 8.2921\n",
      "Epoch 41/200\n",
      "7/7 [==============================] - 0s 15ms/step - loss: 25.7967 - mae: 3.9326 - val_loss: 105.4242 - val_mae: 8.3345\n",
      "Epoch 42/200\n",
      "7/7 [==============================] - 0s 16ms/step - loss: 24.9935 - mae: 3.8774 - val_loss: 104.6210 - val_mae: 8.3496\n",
      "Epoch 43/200\n",
      "7/7 [==============================] - 0s 14ms/step - loss: 24.2084 - mae: 3.8188 - val_loss: 102.1857 - val_mae: 8.2895\n",
      "Epoch 44/200\n",
      "7/7 [==============================] - 0s 13ms/step - loss: 23.4500 - mae: 3.7577 - val_loss: 99.5431 - val_mae: 8.2033\n",
      "Epoch 45/200\n",
      "7/7 [==============================] - 0s 12ms/step - loss: 22.7063 - mae: 3.7027 - val_loss: 95.0666 - val_mae: 8.0051\n",
      "Epoch 46/200\n",
      "7/7 [==============================] - 0s 13ms/step - loss: 21.9925 - mae: 3.6390 - val_loss: 92.8374 - val_mae: 7.8074\n",
      "Epoch 47/200\n",
      "7/7 [==============================] - 0s 14ms/step - loss: 21.3163 - mae: 3.6026 - val_loss: 86.8339 - val_mae: 7.4571\n",
      "Epoch 48/200\n",
      "7/7 [==============================] - 0s 12ms/step - loss: 20.6684 - mae: 3.5368 - val_loss: 96.7196 - val_mae: 8.1855\n",
      "Epoch 49/200\n",
      "7/7 [==============================] - 0s 12ms/step - loss: 20.0603 - mae: 3.5123 - val_loss: 85.7618 - val_mae: 7.4837\n",
      "Epoch 50/200\n",
      "7/7 [==============================] - 0s 11ms/step - loss: 22.0926 - mae: 3.4800 - val_loss: 102.6487 - val_mae: 8.2669\n",
      "Epoch 51/200\n",
      "7/7 [==============================] - 0s 14ms/step - loss: 34.5691 - mae: 4.6646 - val_loss: 149.1732 - val_mae: 10.3553\n",
      "Epoch 52/200\n",
      "7/7 [==============================] - 0s 12ms/step - loss: 23.6594 - mae: 3.8090 - val_loss: 65.2422 - val_mae: 6.6541\n",
      "Epoch 53/200\n",
      "7/7 [==============================] - 0s 51ms/step - loss: 25.3848 - mae: 4.0749 - val_loss: 122.3170 - val_mae: 8.3985\n",
      "Epoch 54/200\n",
      "7/7 [==============================] - 0s 30ms/step - loss: 24.4075 - mae: 3.9355 - val_loss: 108.6418 - val_mae: 7.8297\n",
      "Epoch 55/200\n",
      "7/7 [==============================] - 0s 17ms/step - loss: 20.3116 - mae: 3.6541 - val_loss: 93.3217 - val_mae: 7.7397\n",
      "Epoch 56/200\n",
      "7/7 [==============================] - 0s 16ms/step - loss: 18.2242 - mae: 3.4574 - val_loss: 95.7931 - val_mae: 8.0947\n",
      "Epoch 57/200\n",
      "7/7 [==============================] - 0s 16ms/step - loss: 16.9236 - mae: 3.2734 - val_loss: 88.9516 - val_mae: 7.8820\n",
      "Epoch 58/200\n",
      "7/7 [==============================] - 0s 14ms/step - loss: 15.5047 - mae: 3.0713 - val_loss: 77.5739 - val_mae: 7.3494\n",
      "Epoch 59/200\n",
      "7/7 [==============================] - 0s 12ms/step - loss: 14.6431 - mae: 2.9437 - val_loss: 71.6401 - val_mae: 7.0362\n",
      "Epoch 60/200\n",
      "7/7 [==============================] - 0s 16ms/step - loss: 14.0785 - mae: 2.8674 - val_loss: 71.4919 - val_mae: 7.0321\n",
      "Epoch 61/200\n",
      "7/7 [==============================] - 0s 14ms/step - loss: 13.4984 - mae: 2.8125 - val_loss: 70.6088 - val_mae: 7.0423\n",
      "Epoch 62/200\n",
      "7/7 [==============================] - 0s 14ms/step - loss: 12.9272 - mae: 2.7250 - val_loss: 69.5159 - val_mae: 7.0405\n",
      "1/1 [==============================] - 1s 502ms/step\n"
     ]
    },
    {
     "data": {
      "image/png": "[encoded data removed]",
      "text/plain": [
       "<Figure size 1440x576 with 3 Axes>"
      ]
     },
     "metadata": {
      "needs_background": "light"
     },
     "output_type": "display_data"
    }
   ],
   "source": [
    "model = build_and_fit(model, train_X, train_y, val_X, val_y, test_X, test_y)"
   ]
  },
  {
   "cell_type": "markdown",
   "metadata": {},
   "source": [
    "### Stacked Bi-LSTM\n",
    "\n",
    "In order to improve the performance of the model, it's possible to:\n",
    "- stack LSTM with `return_sequence=True` for all levels except the last one where `return_sequence=False`\n",
    "- use Bi-LSTM"
   ]
  },
  {
   "cell_type": "markdown",
   "metadata": {},
   "source": [
    "<font color='red'>\n",
    "$TO DO - Students$\n",
    "\n",
    "* Build a model stacking 3 BI-LSTM layers \n",
    "</font>"
   ]
  },
  {
   "cell_type": "code",
   "execution_count": 18,
   "metadata": {
    "ExecuteTime": {
     "end_time": "2021-10-05T11:20:53.709575Z",
     "start_time": "2021-10-05T11:20:53.261527Z"
    }
   },
   "outputs": [
    {
     "name": "stdout",
     "output_type": "stream",
     "text": [
      "Model: \"model_1\"\n",
      "_________________________________________________________________\n",
      " Layer (type)                Output Shape              Param #   \n",
      "=================================================================\n",
      " input_2 (InputLayer)        [(None, 6, 1)]            0         \n",
      "                                                                 \n",
      " bidirectional (Bidirectiona  (None, 6, 32)            2304      \n",
      " l)                                                              \n",
      "                                                                 \n",
      " bidirectional_1 (Bidirectio  (None, 6, 32)            6272      \n",
      " nal)                                                            \n",
      "                                                                 \n",
      " bidirectional_2 (Bidirectio  (None, 32)               6272      \n",
      " nal)                                                            \n",
      "                                                                 \n",
      " dense_1 (Dense)             (None, 1)                 33        \n",
      "                                                                 \n",
      "=================================================================\n",
      "Total params: 14,881\n",
      "Trainable params: 14,881\n",
      "Non-trainable params: 0\n",
      "_________________________________________________________________\n"
     ]
    }
   ],
   "source": [
    "inputs = Input(shape=(n_in, n_features))\n",
    "\"\"\" FILL hidden 1 \"\"\"\n",
    "bi_ltsm1=Bidirectional(\n",
    "    layer=LSTM(\n",
    "        units=LSTM_SIZE,\n",
    "        return_sequences=True,\n",
    "        activation=\"relu\",\n",
    "        )\n",
    "    )(inputs)\n",
    "\"\"\" FILL hidden 2 \"\"\"\n",
    "bi_ltsm2=Bidirectional(\n",
    "    layer=LSTM(\n",
    "        units=LSTM_SIZE,\n",
    "        return_sequences=True,\n",
    "        activation=\"relu\",\n",
    "        )\n",
    "    )(bi_ltsm1)\n",
    "\"\"\" FILL hidden 3 \"\"\"\n",
    "bi_ltsm3=Bidirectional(\n",
    "    layer=LSTM(\n",
    "        units=LSTM_SIZE,\n",
    "        return_sequences=False,\n",
    "        activation=\"relu\",\n",
    "        )\n",
    "    )(bi_ltsm2)\n",
    "outputs = Dense(n_out,activation=\"linear\")(bi_ltsm3)\n",
    "model = Model(inputs=inputs, outputs=outputs)\n",
    "model.summary()"
   ]
  },
  {
   "cell_type": "code",
   "execution_count": 19,
   "metadata": {
    "ExecuteTime": {
     "end_time": "2021-10-05T11:21:15.051362Z",
     "start_time": "2021-10-05T11:20:57.765335Z"
    }
   },
   "outputs": [
    {
     "name": "stdout",
     "output_type": "stream",
     "text": [
      "Epoch 1/200\n",
      "7/7 [==============================] - 14s 352ms/step - loss: 6467.5225 - mae: 63.6314 - val_loss: 21032.6738 - val_mae: 131.4861\n",
      "Epoch 2/200\n",
      "7/7 [==============================] - 0s 25ms/step - loss: 5686.6567 - mae: 59.7258 - val_loss: 18338.3730 - val_mae: 122.3440\n",
      "Epoch 3/200\n",
      "7/7 [==============================] - 0s 24ms/step - loss: 4842.9702 - mae: 55.3723 - val_loss: 15334.9453 - val_mae: 111.7979\n",
      "Epoch 4/200\n",
      "7/7 [==============================] - 0s 22ms/step - loss: 3826.3469 - mae: 49.5316 - val_loss: 11714.9062 - val_mae: 95.2142\n",
      "Epoch 5/200\n",
      "7/7 [==============================] - 0s 23ms/step - loss: 2942.0864 - mae: 42.0868 - val_loss: 9037.2344 - val_mae: 78.6357\n",
      "Epoch 6/200\n",
      "7/7 [==============================] - 0s 23ms/step - loss: 2164.2910 - mae: 34.1751 - val_loss: 6552.5020 - val_mae: 64.4536\n",
      "Epoch 7/200\n",
      "7/7 [==============================] - 0s 24ms/step - loss: 1596.1600 - mae: 29.1986 - val_loss: 5071.0762 - val_mae: 56.1170\n",
      "Epoch 8/200\n",
      "7/7 [==============================] - 0s 24ms/step - loss: 1009.5005 - mae: 22.6740 - val_loss: 3394.3438 - val_mae: 45.2597\n",
      "Epoch 9/200\n",
      "7/7 [==============================] - 0s 23ms/step - loss: 555.9319 - mae: 17.0227 - val_loss: 1938.2994 - val_mae: 34.2076\n",
      "Epoch 10/200\n",
      "7/7 [==============================] - 0s 22ms/step - loss: 360.2127 - mae: 14.0210 - val_loss: 1074.3453 - val_mae: 27.1100\n",
      "Epoch 11/200\n",
      "7/7 [==============================] - 0s 23ms/step - loss: 223.4642 - mae: 10.9037 - val_loss: 674.5097 - val_mae: 21.6215\n",
      "Epoch 12/200\n",
      "7/7 [==============================] - 0s 25ms/step - loss: 187.2979 - mae: 10.1402 - val_loss: 848.2319 - val_mae: 22.8007\n",
      "Epoch 13/200\n",
      "7/7 [==============================] - 0s 24ms/step - loss: 207.0379 - mae: 8.9927 - val_loss: 737.8597 - val_mae: 23.0461\n",
      "Epoch 14/200\n",
      "7/7 [==============================] - 0s 22ms/step - loss: 175.8997 - mae: 8.1233 - val_loss: 448.9734 - val_mae: 15.9472\n",
      "Epoch 15/200\n",
      "7/7 [==============================] - 0s 22ms/step - loss: 157.1528 - mae: 7.5723 - val_loss: 476.8810 - val_mae: 15.3749\n",
      "Epoch 16/200\n",
      "7/7 [==============================] - 0s 21ms/step - loss: 64.8004 - mae: 6.0135 - val_loss: 499.2238 - val_mae: 16.7256\n",
      "Epoch 17/200\n",
      "7/7 [==============================] - 0s 22ms/step - loss: 55.1975 - mae: 5.5642 - val_loss: 321.8167 - val_mae: 12.7712\n",
      "Epoch 18/200\n",
      "7/7 [==============================] - 0s 20ms/step - loss: 40.9274 - mae: 4.9267 - val_loss: 204.1755 - val_mae: 9.9514\n",
      "Epoch 19/200\n",
      "7/7 [==============================] - 0s 18ms/step - loss: 37.4073 - mae: 4.2541 - val_loss: 257.5367 - val_mae: 11.3514\n",
      "Epoch 20/200\n",
      "7/7 [==============================] - 0s 20ms/step - loss: 31.3426 - mae: 4.1400 - val_loss: 277.1312 - val_mae: 12.1227\n",
      "Epoch 21/200\n",
      "7/7 [==============================] - 0s 20ms/step - loss: 27.1002 - mae: 3.7610 - val_loss: 221.6923 - val_mae: 10.9754\n",
      "Epoch 22/200\n",
      "7/7 [==============================] - 0s 20ms/step - loss: 24.0014 - mae: 3.4731 - val_loss: 159.1881 - val_mae: 9.0616\n",
      "Epoch 23/200\n",
      "7/7 [==============================] - 0s 19ms/step - loss: 21.9497 - mae: 3.3172 - val_loss: 151.4563 - val_mae: 9.5123\n",
      "Epoch 24/200\n",
      "7/7 [==============================] - 0s 20ms/step - loss: 18.6185 - mae: 3.0184 - val_loss: 141.2274 - val_mae: 9.0230\n",
      "Epoch 25/200\n",
      "7/7 [==============================] - 0s 19ms/step - loss: 16.3357 - mae: 2.8055 - val_loss: 142.3276 - val_mae: 8.9364\n",
      "Epoch 26/200\n",
      "7/7 [==============================] - 0s 21ms/step - loss: 14.4551 - mae: 2.5633 - val_loss: 140.3520 - val_mae: 8.7302\n",
      "Epoch 27/200\n",
      "7/7 [==============================] - 0s 18ms/step - loss: 12.9531 - mae: 2.4242 - val_loss: 162.1518 - val_mae: 9.2640\n",
      "Epoch 28/200\n",
      "7/7 [==============================] - 0s 19ms/step - loss: 11.8887 - mae: 2.3180 - val_loss: 176.3772 - val_mae: 9.6879\n",
      "Epoch 29/200\n",
      "7/7 [==============================] - 0s 20ms/step - loss: 10.5008 - mae: 2.1576 - val_loss: 179.7123 - val_mae: 9.7708\n",
      "Epoch 30/200\n",
      "7/7 [==============================] - 0s 19ms/step - loss: 9.4813 - mae: 2.0523 - val_loss: 193.0348 - val_mae: 10.0205\n",
      "Epoch 31/200\n",
      "7/7 [==============================] - 0s 20ms/step - loss: 8.4340 - mae: 1.8904 - val_loss: 204.5678 - val_mae: 10.2143\n",
      "Epoch 32/200\n",
      "7/7 [==============================] - 0s 20ms/step - loss: 7.7277 - mae: 1.7768 - val_loss: 205.5305 - val_mae: 10.2712\n",
      "Epoch 33/200\n",
      "7/7 [==============================] - 0s 20ms/step - loss: 7.1175 - mae: 1.7046 - val_loss: 197.8020 - val_mae: 9.9788\n",
      "Epoch 34/200\n",
      "7/7 [==============================] - 0s 21ms/step - loss: 6.6330 - mae: 1.6483 - val_loss: 200.6146 - val_mae: 10.1193\n",
      "Epoch 35/200\n",
      "7/7 [==============================] - 0s 20ms/step - loss: 6.3845 - mae: 1.6200 - val_loss: 189.1338 - val_mae: 9.6972\n",
      "Epoch 36/200\n",
      "7/7 [==============================] - 0s 20ms/step - loss: 6.1364 - mae: 1.6319 - val_loss: 193.0509 - val_mae: 9.9611\n",
      "1/1 [==============================] - 1s 1s/step\n"
     ]
    },
    {
     "data": {
      "image/png": "[encoded data removed]",
      "text/plain": [
       "<Figure size 1440x576 with 3 Axes>"
      ]
     },
     "metadata": {
      "needs_background": "light"
     },
     "output_type": "display_data"
    }
   ],
   "source": [
    "model = build_and_fit(model, train_X, train_y, val_X, val_y, test_X, test_y)"
   ]
  },
  {
   "cell_type": "markdown",
   "metadata": {},
   "source": [
    "## LSTM network for multi-variate time series \n",
    "\n",
    "Multivariate time series data means data where there is more than one observation for each time step.\n",
    "\n",
    "There are two main models we may need with multivariate time series data. These are the multiple input series or the multiple parallel series depending on whether we want to predict one or more of the variables.\n",
    "\n",
    "In this notebook, we focus on the first case: as input, several time series and as output (the prediction), a single time series."
   ]
  },
  {
   "cell_type": "markdown",
   "metadata": {},
   "source": [
    "### Prepare the data\n",
    "\n",
    "We reuse the same `series_to_supervise()` function in order to build a dataset with :\n",
    "* n_in elements for each series\n",
    "* n_out elements for each series to be predict\n",
    "\n",
    "You have also to select one (Multiple Input Series) or many time series (Multiple Parallel Series) to predict."
   ]
  },
  {
   "cell_type": "code",
   "execution_count": 20,
   "metadata": {
    "ExecuteTime": {
     "end_time": "2021-10-05T11:21:19.002802Z",
     "start_time": "2021-10-05T11:21:18.994544Z"
    }
   },
   "outputs": [],
   "source": [
    "# Get the time series\n",
    "fct2 = lambda x: 2*x\n",
    "time_series1 = [fct(x) for x in range(SIZE)]\n",
    "time_series2 = [fct2(x) for x in range(SIZE)]\n",
    "out_seq = [time_series1[i]+time_series2[i] for i in range(SIZE)]"
   ]
  },
  {
   "cell_type": "code",
   "execution_count": 21,
   "metadata": {
    "ExecuteTime": {
     "end_time": "2021-10-05T11:21:19.964480Z",
     "start_time": "2021-10-05T11:21:19.950931Z"
    }
   },
   "outputs": [
    {
     "data": {
      "text/html": [
       "<div>\n",
       "<style scoped>\n",
       "    .dataframe tbody tr th:only-of-type {\n",
       "        vertical-align: middle;\n",
       "    }\n",
       "\n",
       "    .dataframe tbody tr th {\n",
       "        vertical-align: top;\n",
       "    }\n",
       "\n",
       "    .dataframe thead th {\n",
       "        text-align: right;\n",
       "    }\n",
       "</style>\n",
       "<table border=\"1\" class=\"dataframe\">\n",
       "  <thead>\n",
       "    <tr style=\"text-align: right;\">\n",
       "      <th></th>\n",
       "      <th>f1</th>\n",
       "      <th>f2</th>\n",
       "      <th>output</th>\n",
       "    </tr>\n",
       "  </thead>\n",
       "  <tbody>\n",
       "    <tr>\n",
       "      <th>0</th>\n",
       "      <td>0.000000</td>\n",
       "      <td>0</td>\n",
       "      <td>0.000000</td>\n",
       "    </tr>\n",
       "    <tr>\n",
       "      <th>1</th>\n",
       "      <td>0.841471</td>\n",
       "      <td>2</td>\n",
       "      <td>2.841471</td>\n",
       "    </tr>\n",
       "    <tr>\n",
       "      <th>2</th>\n",
       "      <td>1.818595</td>\n",
       "      <td>4</td>\n",
       "      <td>5.818595</td>\n",
       "    </tr>\n",
       "    <tr>\n",
       "      <th>3</th>\n",
       "      <td>0.423360</td>\n",
       "      <td>6</td>\n",
       "      <td>6.423360</td>\n",
       "    </tr>\n",
       "    <tr>\n",
       "      <th>4</th>\n",
       "      <td>-3.027210</td>\n",
       "      <td>8</td>\n",
       "      <td>4.972790</td>\n",
       "    </tr>\n",
       "  </tbody>\n",
       "</table>\n",
       "</div>"
      ],
      "text/plain": [
       "         f1  f2    output\n",
       "0  0.000000   0  0.000000\n",
       "1  0.841471   2  2.841471\n",
       "2  1.818595   4  5.818595\n",
       "3  0.423360   6  6.423360\n",
       "4 -3.027210   8  4.972790"
      ]
     },
     "execution_count": 21,
     "metadata": {},
     "output_type": "execute_result"
    }
   ],
   "source": [
    "# Get the dataset\n",
    "dataset = pd.DataFrame(data={\"f1\":time_series1, \"f2\":time_series2, \"output\":out_seq}, index=range(SIZE))\n",
    "n_features = dataset.shape[1] # for multivariate time series\n",
    "dataset.head()"
   ]
  },
  {
   "cell_type": "markdown",
   "metadata": {},
   "source": [
    "As with the univariate time series, we must structure these data into samples with input and output elements.\n",
    "An LSTM model needs sufficient context to learn a mapping from an input sequence to an output value. LSTMs can support parallel input time series as separate variables or features. Therefore, we need to split the data into samples maintaining the order of observations across the two input sequences.\n",
    "\n",
    "If we chose six input time steps for the three features, we have to transform the dataset in the following way."
   ]
  },
  {
   "cell_type": "code",
   "execution_count": 22,
   "metadata": {
    "ExecuteTime": {
     "end_time": "2021-10-05T11:21:21.637591Z",
     "start_time": "2021-10-05T11:21:21.603113Z"
    }
   },
   "outputs": [
    {
     "data": {
      "text/html": [
       "<div>\n",
       "<style scoped>\n",
       "    .dataframe tbody tr th:only-of-type {\n",
       "        vertical-align: middle;\n",
       "    }\n",
       "\n",
       "    .dataframe tbody tr th {\n",
       "        vertical-align: top;\n",
       "    }\n",
       "\n",
       "    .dataframe thead th {\n",
       "        text-align: right;\n",
       "    }\n",
       "</style>\n",
       "<table border=\"1\" class=\"dataframe\">\n",
       "  <thead>\n",
       "    <tr style=\"text-align: right;\">\n",
       "      <th></th>\n",
       "      <th>f1(t-6)</th>\n",
       "      <th>f2(t-6)</th>\n",
       "      <th>output(t-6)</th>\n",
       "      <th>f1(t-5)</th>\n",
       "      <th>f2(t-5)</th>\n",
       "      <th>output(t-5)</th>\n",
       "      <th>f1(t-4)</th>\n",
       "      <th>f2(t-4)</th>\n",
       "      <th>output(t-4)</th>\n",
       "      <th>f1(t-3)</th>\n",
       "      <th>f2(t-3)</th>\n",
       "      <th>output(t-3)</th>\n",
       "      <th>f1(t-2)</th>\n",
       "      <th>f2(t-2)</th>\n",
       "      <th>output(t-2)</th>\n",
       "      <th>f1(t-1)</th>\n",
       "      <th>f2(t-1)</th>\n",
       "      <th>output(t-1)</th>\n",
       "      <th>output(t)</th>\n",
       "    </tr>\n",
       "  </thead>\n",
       "  <tbody>\n",
       "    <tr>\n",
       "      <th>6</th>\n",
       "      <td>0.000000</td>\n",
       "      <td>0.0</td>\n",
       "      <td>0.000000</td>\n",
       "      <td>0.841471</td>\n",
       "      <td>2.0</td>\n",
       "      <td>2.841471</td>\n",
       "      <td>1.818595</td>\n",
       "      <td>4.0</td>\n",
       "      <td>5.818595</td>\n",
       "      <td>0.423360</td>\n",
       "      <td>6.0</td>\n",
       "      <td>6.423360</td>\n",
       "      <td>-3.027210</td>\n",
       "      <td>8.0</td>\n",
       "      <td>4.972790</td>\n",
       "      <td>-4.794621</td>\n",
       "      <td>10.0</td>\n",
       "      <td>5.205379</td>\n",
       "      <td>10.323507</td>\n",
       "    </tr>\n",
       "    <tr>\n",
       "      <th>7</th>\n",
       "      <td>0.841471</td>\n",
       "      <td>2.0</td>\n",
       "      <td>2.841471</td>\n",
       "      <td>1.818595</td>\n",
       "      <td>4.0</td>\n",
       "      <td>5.818595</td>\n",
       "      <td>0.423360</td>\n",
       "      <td>6.0</td>\n",
       "      <td>6.423360</td>\n",
       "      <td>-3.027210</td>\n",
       "      <td>8.0</td>\n",
       "      <td>4.972790</td>\n",
       "      <td>-4.794621</td>\n",
       "      <td>10.0</td>\n",
       "      <td>5.205379</td>\n",
       "      <td>-1.676493</td>\n",
       "      <td>12.0</td>\n",
       "      <td>10.323507</td>\n",
       "      <td>18.598906</td>\n",
       "    </tr>\n",
       "    <tr>\n",
       "      <th>8</th>\n",
       "      <td>1.818595</td>\n",
       "      <td>4.0</td>\n",
       "      <td>5.818595</td>\n",
       "      <td>0.423360</td>\n",
       "      <td>6.0</td>\n",
       "      <td>6.423360</td>\n",
       "      <td>-3.027210</td>\n",
       "      <td>8.0</td>\n",
       "      <td>4.972790</td>\n",
       "      <td>-4.794621</td>\n",
       "      <td>10.0</td>\n",
       "      <td>5.205379</td>\n",
       "      <td>-1.676493</td>\n",
       "      <td>12.0</td>\n",
       "      <td>10.323507</td>\n",
       "      <td>4.598906</td>\n",
       "      <td>14.0</td>\n",
       "      <td>18.598906</td>\n",
       "      <td>23.914866</td>\n",
       "    </tr>\n",
       "    <tr>\n",
       "      <th>9</th>\n",
       "      <td>0.423360</td>\n",
       "      <td>6.0</td>\n",
       "      <td>6.423360</td>\n",
       "      <td>-3.027210</td>\n",
       "      <td>8.0</td>\n",
       "      <td>4.972790</td>\n",
       "      <td>-4.794621</td>\n",
       "      <td>10.0</td>\n",
       "      <td>5.205379</td>\n",
       "      <td>-1.676493</td>\n",
       "      <td>12.0</td>\n",
       "      <td>10.323507</td>\n",
       "      <td>4.598906</td>\n",
       "      <td>14.0</td>\n",
       "      <td>18.598906</td>\n",
       "      <td>7.914866</td>\n",
       "      <td>16.0</td>\n",
       "      <td>23.914866</td>\n",
       "      <td>21.709066</td>\n",
       "    </tr>\n",
       "    <tr>\n",
       "      <th>10</th>\n",
       "      <td>-3.027210</td>\n",
       "      <td>8.0</td>\n",
       "      <td>4.972790</td>\n",
       "      <td>-4.794621</td>\n",
       "      <td>10.0</td>\n",
       "      <td>5.205379</td>\n",
       "      <td>-1.676493</td>\n",
       "      <td>12.0</td>\n",
       "      <td>10.323507</td>\n",
       "      <td>4.598906</td>\n",
       "      <td>14.0</td>\n",
       "      <td>18.598906</td>\n",
       "      <td>7.914866</td>\n",
       "      <td>16.0</td>\n",
       "      <td>23.914866</td>\n",
       "      <td>3.709066</td>\n",
       "      <td>18.0</td>\n",
       "      <td>21.709066</td>\n",
       "      <td>14.559789</td>\n",
       "    </tr>\n",
       "  </tbody>\n",
       "</table>\n",
       "</div>"
      ],
      "text/plain": [
       "     f1(t-6)  f2(t-6)  output(t-6)   f1(t-5)  f2(t-5)  output(t-5)   f1(t-4)  \\\n",
       "6   0.000000      0.0     0.000000  0.841471      2.0     2.841471  1.818595   \n",
       "7   0.841471      2.0     2.841471  1.818595      4.0     5.818595  0.423360   \n",
       "8   1.818595      4.0     5.818595  0.423360      6.0     6.423360 -3.027210   \n",
       "9   0.423360      6.0     6.423360 -3.027210      8.0     4.972790 -4.794621   \n",
       "10 -3.027210      8.0     4.972790 -4.794621     10.0     5.205379 -1.676493   \n",
       "\n",
       "    f2(t-4)  output(t-4)   f1(t-3)  f2(t-3)  output(t-3)   f1(t-2)  f2(t-2)  \\\n",
       "6       4.0     5.818595  0.423360      6.0     6.423360 -3.027210      8.0   \n",
       "7       6.0     6.423360 -3.027210      8.0     4.972790 -4.794621     10.0   \n",
       "8       8.0     4.972790 -4.794621     10.0     5.205379 -1.676493     12.0   \n",
       "9      10.0     5.205379 -1.676493     12.0    10.323507  4.598906     14.0   \n",
       "10     12.0    10.323507  4.598906     14.0    18.598906  7.914866     16.0   \n",
       "\n",
       "    output(t-2)   f1(t-1)  f2(t-1)  output(t-1)  output(t)  \n",
       "6      4.972790 -4.794621     10.0     5.205379  10.323507  \n",
       "7      5.205379 -1.676493     12.0    10.323507  18.598906  \n",
       "8     10.323507  4.598906     14.0    18.598906  23.914866  \n",
       "9     18.598906  7.914866     16.0    23.914866  21.709066  \n",
       "10    23.914866  3.709066     18.0    21.709066  14.559789  "
      ]
     },
     "execution_count": 22,
     "metadata": {},
     "output_type": "execute_result"
    }
   ],
   "source": [
    "# As previously, prepare the dataset\n",
    "''' In the followig example, we select \n",
    "- n_in number of time steps (6)\n",
    "- n_out number of time steps of output\n",
    "- and one serie to predict : output\n",
    "'''\n",
    "n_features = dataset.shape[1] # for multivariate time series\n",
    "n_in = 6\n",
    "n_out = 1\n",
    "output = [\"output\"]\n",
    "\n",
    "data = series_to_supervised(dataset, n_in, n_out, output=output)\n",
    "data.head()"
   ]
  },
  {
   "cell_type": "code",
   "execution_count": 23,
   "metadata": {
    "ExecuteTime": {
     "end_time": "2021-10-05T11:21:22.808795Z",
     "start_time": "2021-10-05T11:21:22.778140Z"
    }
   },
   "outputs": [
    {
     "name": "stdout",
     "output_type": "stream",
     "text": [
      "TRAIN=time_series[:196]\n",
      "VALID=time_series[196:220]\n",
      "TEST=time_series[220:]\n"
     ]
    }
   ],
   "source": [
    "# Split dataset into TRAIN, VAL and TEST\n",
    "testAndValid = 0.1\n",
    "\n",
    "SPLIT = int(testAndValid*len(data))\n",
    "idx_train = len(data)-2*SPLIT\n",
    "idx_test = len(data)-SPLIT\n",
    "\n",
    "print(\"TRAIN=time_series[:\"+str(idx_train)+\"]\")\n",
    "print(\"VALID=time_series[\"+str(idx_train)+\":\"+str(idx_test)+\"]\")\n",
    "print(\"TEST=time_series[\"+str(idx_test)+\":]\")\n",
    "\n",
    "TRAIN=data[:idx_train]\n",
    "VAL=data[idx_train:idx_test]\n",
    "TEST=data[idx_test:]"
   ]
  },
  {
   "cell_type": "markdown",
   "metadata": {
    "ExecuteTime": {
     "end_time": "2022-01-29T14:41:03.436214Z",
     "start_time": "2022-01-29T14:41:03.427098Z"
    }
   },
   "source": [
    "<font color='red'>\n",
    "$TO DO - Students$\n",
    "\n",
    "* build train_X, val_X, test_X and train_y, val_y and test_y as before. Then print the shapes of tensors\n",
    "    * train_X is a 3D-tensor (196, 6, 3) for me\n",
    "    * train_y is a 1D-tensor (196,)\n",
    "</font>"
   ]
  },
  {
   "cell_type": "code",
   "execution_count": 24,
   "metadata": {
    "ExecuteTime": {
     "end_time": "2022-01-29T15:21:30.540318Z",
     "start_time": "2022-01-29T15:21:30.522817Z"
    }
   },
   "outputs": [
    {
     "data": {
      "text/plain": [
       "((196, 6, 3), (196,))"
      ]
     },
     "execution_count": 24,
     "metadata": {},
     "output_type": "execute_result"
    }
   ],
   "source": [
    "\"\"\" FILL \"\"\"\n",
    "# split into input and outputs\n",
    "train_X, train_y = TRAIN.values[:, :-n_out], TRAIN.values[:, -n_out]\n",
    "val_X, val_y =VAL.values[:, :-n_out], VAL.values[:, -n_out]\n",
    "test_X, test_y = VAL.values[:, :-n_out], VAL.values[:, -n_out]\n",
    "\n",
    "# reshape input to be 3D [samples, timesteps, features]\n",
    "train_X = train_X.reshape((-1, n_in, n_features))\n",
    "val_X = val_X.reshape((-1, n_in, n_features))\n",
    "test_X = test_X.reshape((-1, n_in, n_features))\n",
    "\n",
    "train_X.shape, train_y.shape"
   ]
  },
  {
   "cell_type": "markdown",
   "metadata": {},
   "source": [
    "### Build a neuronal model"
   ]
  },
  {
   "cell_type": "markdown",
   "metadata": {},
   "source": [
    "Any of the varieties of LSTMs in the previous section can be used, such as a Vanilla, Stacked, Bidirectional. It's also possible to use CNN or mixed CNN and LSTM.\n",
    "\n",
    "We will use a Vanilla LSTM where the number of time steps and parallel series (features) are specified for the input layer via the input_shape argument."
   ]
  },
  {
   "cell_type": "code",
   "execution_count": 25,
   "metadata": {
    "ExecuteTime": {
     "end_time": "2021-10-05T11:21:26.613409Z",
     "start_time": "2021-10-05T11:21:26.508414Z"
    }
   },
   "outputs": [
    {
     "name": "stdout",
     "output_type": "stream",
     "text": [
      "Model: \"model_2\"\n",
      "_________________________________________________________________\n",
      " Layer (type)                Output Shape              Param #   \n",
      "=================================================================\n",
      " input_3 (InputLayer)        [(None, 6, 3)]            0         \n",
      "                                                                 \n",
      " lstm_4 (LSTM)               (None, 16)                1280      \n",
      "                                                                 \n",
      " dense_2 (Dense)             (None, 1)                 17        \n",
      "                                                                 \n",
      "=================================================================\n",
      "Total params: 1,297\n",
      "Trainable params: 1,297\n",
      "Non-trainable params: 0\n",
      "_________________________________________________________________\n"
     ]
    }
   ],
   "source": [
    "inputs = Input(shape=(n_in, n_features))\n",
    "hidden = LSTM(LSTM_SIZE, return_sequences=False, activation='relu')(inputs)\n",
    "outputs = Dense(n_out, activation='linear')(hidden)\n",
    "model = Model(inputs, outputs)\n",
    "model.summary()"
   ]
  },
  {
   "cell_type": "code",
   "execution_count": 26,
   "metadata": {
    "ExecuteTime": {
     "end_time": "2021-10-05T11:21:37.636496Z",
     "start_time": "2021-10-05T11:21:27.532691Z"
    }
   },
   "outputs": [
    {
     "name": "stdout",
     "output_type": "stream",
     "text": [
      "Epoch 1/200\n",
      "7/7 [==============================] - 2s 72ms/step - loss: 51615.7656 - mae: 177.8926 - val_loss: 150547.3906 - val_mae: 348.6499\n",
      "Epoch 2/200\n",
      "7/7 [==============================] - 0s 12ms/step - loss: 38579.1758 - mae: 155.9697 - val_loss: 110068.4375 - val_mae: 293.7109\n",
      "Epoch 3/200\n",
      "7/7 [==============================] - 0s 12ms/step - loss: 28418.7363 - mae: 132.3574 - val_loss: 79871.2656 - val_mae: 248.6865\n",
      "Epoch 4/200\n",
      "7/7 [==============================] - 0s 11ms/step - loss: 20579.0371 - mae: 113.1248 - val_loss: 61990.1836 - val_mae: 216.2433\n",
      "Epoch 5/200\n",
      "7/7 [==============================] - 0s 10ms/step - loss: 14266.8965 - mae: 95.6009 - val_loss: 34068.1602 - val_mae: 165.2074\n",
      "Epoch 6/200\n",
      "7/7 [==============================] - 0s 11ms/step - loss: 7605.6211 - mae: 69.5412 - val_loss: 18432.0059 - val_mae: 115.8389\n",
      "Epoch 7/200\n",
      "7/7 [==============================] - 0s 11ms/step - loss: 4274.9302 - mae: 49.6528 - val_loss: 12844.5029 - val_mae: 99.0031\n",
      "Epoch 8/200\n",
      "7/7 [==============================] - 0s 11ms/step - loss: 3230.2764 - mae: 42.1166 - val_loss: 10194.1914 - val_mae: 84.4828\n",
      "Epoch 9/200\n",
      "7/7 [==============================] - 0s 11ms/step - loss: 2972.1179 - mae: 40.3116 - val_loss: 8811.3857 - val_mae: 80.3130\n",
      "Epoch 10/200\n",
      "7/7 [==============================] - 0s 10ms/step - loss: 2454.5793 - mae: 35.6085 - val_loss: 9193.2129 - val_mae: 84.2524\n",
      "Epoch 11/200\n",
      "7/7 [==============================] - 0s 11ms/step - loss: 2802.6533 - mae: 39.5680 - val_loss: 9488.8418 - val_mae: 84.6959\n",
      "Epoch 12/200\n",
      "7/7 [==============================] - 0s 10ms/step - loss: 2876.9460 - mae: 39.1327 - val_loss: 8399.5107 - val_mae: 78.5267\n",
      "Epoch 13/200\n",
      "7/7 [==============================] - 0s 11ms/step - loss: 2916.3367 - mae: 39.5556 - val_loss: 8009.1367 - val_mae: 76.8924\n",
      "Epoch 14/200\n",
      "7/7 [==============================] - 0s 11ms/step - loss: 2606.1641 - mae: 37.3841 - val_loss: 7083.8848 - val_mae: 71.0524\n",
      "Epoch 15/200\n",
      "7/7 [==============================] - 0s 15ms/step - loss: 2613.6274 - mae: 36.5365 - val_loss: 6870.0254 - val_mae: 69.0316\n",
      "Epoch 16/200\n",
      "7/7 [==============================] - 0s 10ms/step - loss: 2321.1399 - mae: 34.3655 - val_loss: 6892.1016 - val_mae: 68.4208\n",
      "Epoch 17/200\n",
      "7/7 [==============================] - 0s 11ms/step - loss: 2258.1987 - mae: 33.9218 - val_loss: 6776.8926 - val_mae: 67.9487\n",
      "Epoch 18/200\n",
      "7/7 [==============================] - 0s 11ms/step - loss: 2165.7576 - mae: 32.8465 - val_loss: 6659.7935 - val_mae: 67.8662\n",
      "Epoch 19/200\n",
      "7/7 [==============================] - 0s 11ms/step - loss: 2148.9902 - mae: 32.6042 - val_loss: 7384.2280 - val_mae: 75.2258\n",
      "Epoch 20/200\n",
      "7/7 [==============================] - 0s 11ms/step - loss: 2615.7275 - mae: 37.3205 - val_loss: 9552.6006 - val_mae: 86.1406\n",
      "Epoch 21/200\n",
      "7/7 [==============================] - 0s 11ms/step - loss: 3295.9009 - mae: 40.6118 - val_loss: 8957.7861 - val_mae: 81.3072\n",
      "Epoch 22/200\n",
      "7/7 [==============================] - 0s 11ms/step - loss: 2835.5657 - mae: 37.8697 - val_loss: 13386.6221 - val_mae: 96.2943\n",
      "Epoch 23/200\n",
      "7/7 [==============================] - 0s 10ms/step - loss: 2488.3640 - mae: 34.6394 - val_loss: 7931.9980 - val_mae: 71.4294\n",
      "Epoch 24/200\n",
      "7/7 [==============================] - 0s 11ms/step - loss: 2176.7788 - mae: 33.4060 - val_loss: 7768.6406 - val_mae: 69.3663\n",
      "Epoch 25/200\n",
      "7/7 [==============================] - 0s 10ms/step - loss: 2052.1726 - mae: 33.1413 - val_loss: 8659.3369 - val_mae: 76.3781\n",
      "Epoch 26/200\n",
      "7/7 [==============================] - 0s 12ms/step - loss: 3491.2690 - mae: 39.6845 - val_loss: 15323.7178 - val_mae: 93.4800\n",
      "Epoch 27/200\n",
      "7/7 [==============================] - 0s 14ms/step - loss: 3889.6165 - mae: 40.6968 - val_loss: 11780.5234 - val_mae: 81.5156\n",
      "Epoch 28/200\n",
      "7/7 [==============================] - 0s 13ms/step - loss: 2949.6865 - mae: 38.5845 - val_loss: 10442.6162 - val_mae: 83.2601\n",
      "1/1 [==============================] - 0s 319ms/step\n"
     ]
    },
    {
     "data": {
      "image/png": "[encoded data removed]",
      "text/plain": [
       "<Figure size 1440x576 with 3 Axes>"
      ]
     },
     "metadata": {
      "needs_background": "light"
     },
     "output_type": "display_data"
    }
   ],
   "source": [
    "model = build_and_fit(model, train_X, train_y, val_X, val_y, test_X, test_y)"
   ]
  },
  {
   "cell_type": "markdown",
   "metadata": {},
   "source": [
    "## Lab work: Air Pollution Forecasting\n",
    "\n",
    "This is a dataset that reports on the weather and the level of pollution each hour for five years at the US embassy in Beijing, China.\n",
    "\n",
    "The data includes the date-time, the pollution called PM2.5 concentration, and the weather information including dew point, temperature, pressure, wind direction, wind speed and the cumulative number of hours of snow and rain. The complete feature list in the raw data is as follows:\n",
    "\n",
    "1. No: row number\n",
    "1. year: year of data in this row\n",
    "1. month: month of data in this row\n",
    "1. day: day of data in this row\n",
    "1. hour: hour of data in this row\n",
    "1. pm2.5: PM2.5 concentration\n",
    "1. DEWP: Dew Point\n",
    "1. TEMP: Temperature\n",
    "1. PRES: Pressure\n",
    "1. cbwd: Combined wind direction\n",
    "1. Iws: Cumulated wind speed\n",
    "1. Is: Cumulated hours of snow\n",
    "1. Ir: Cumulated hours of rain\n",
    "\n",
    "We can use this data and frame a forecasting problem where, given the weather conditions and pollution for prior hours, we forecast the pollution at the next hour.\n",
    "\n",
    "This dataset can be used to frame other forecasting problems."
   ]
  },
  {
   "cell_type": "markdown",
   "metadata": {},
   "source": [
    "## Load the data"
   ]
  },
  {
   "cell_type": "code",
   "execution_count": 27,
   "metadata": {
    "ExecuteTime": {
     "end_time": "2021-10-05T11:21:49.916418Z",
     "start_time": "2021-10-05T11:21:49.912398Z"
    }
   },
   "outputs": [],
   "source": [
    "DATAPATH = \"https://www.i3s.unice.fr/~riveill/dataset/pollution.csv\""
   ]
  },
  {
   "cell_type": "code",
   "execution_count": 28,
   "metadata": {
    "ExecuteTime": {
     "end_time": "2021-10-05T11:21:51.859318Z",
     "start_time": "2021-10-05T11:21:51.213792Z"
    }
   },
   "outputs": [
    {
     "data": {
      "text/html": [
       "<div>\n",
       "<style scoped>\n",
       "    .dataframe tbody tr th:only-of-type {\n",
       "        vertical-align: middle;\n",
       "    }\n",
       "\n",
       "    .dataframe tbody tr th {\n",
       "        vertical-align: top;\n",
       "    }\n",
       "\n",
       "    .dataframe thead th {\n",
       "        text-align: right;\n",
       "    }\n",
       "</style>\n",
       "<table border=\"1\" class=\"dataframe\">\n",
       "  <thead>\n",
       "    <tr style=\"text-align: right;\">\n",
       "      <th></th>\n",
       "      <th>pollution</th>\n",
       "      <th>dew</th>\n",
       "      <th>temp</th>\n",
       "      <th>press</th>\n",
       "      <th>wnd_dir</th>\n",
       "      <th>wnd_spd</th>\n",
       "      <th>snow</th>\n",
       "      <th>rain</th>\n",
       "    </tr>\n",
       "    <tr>\n",
       "      <th>date</th>\n",
       "      <th></th>\n",
       "      <th></th>\n",
       "      <th></th>\n",
       "      <th></th>\n",
       "      <th></th>\n",
       "      <th></th>\n",
       "      <th></th>\n",
       "      <th></th>\n",
       "    </tr>\n",
       "  </thead>\n",
       "  <tbody>\n",
       "    <tr>\n",
       "      <th>2010-01-02 00:00:00</th>\n",
       "      <td>129.0</td>\n",
       "      <td>-16</td>\n",
       "      <td>-4.0</td>\n",
       "      <td>1020.0</td>\n",
       "      <td>SE</td>\n",
       "      <td>1.79</td>\n",
       "      <td>0</td>\n",
       "      <td>0</td>\n",
       "    </tr>\n",
       "    <tr>\n",
       "      <th>2010-01-02 01:00:00</th>\n",
       "      <td>148.0</td>\n",
       "      <td>-15</td>\n",
       "      <td>-4.0</td>\n",
       "      <td>1020.0</td>\n",
       "      <td>SE</td>\n",
       "      <td>2.68</td>\n",
       "      <td>0</td>\n",
       "      <td>0</td>\n",
       "    </tr>\n",
       "    <tr>\n",
       "      <th>2010-01-02 02:00:00</th>\n",
       "      <td>159.0</td>\n",
       "      <td>-11</td>\n",
       "      <td>-5.0</td>\n",
       "      <td>1021.0</td>\n",
       "      <td>SE</td>\n",
       "      <td>3.57</td>\n",
       "      <td>0</td>\n",
       "      <td>0</td>\n",
       "    </tr>\n",
       "    <tr>\n",
       "      <th>2010-01-02 03:00:00</th>\n",
       "      <td>181.0</td>\n",
       "      <td>-7</td>\n",
       "      <td>-5.0</td>\n",
       "      <td>1022.0</td>\n",
       "      <td>SE</td>\n",
       "      <td>5.36</td>\n",
       "      <td>1</td>\n",
       "      <td>0</td>\n",
       "    </tr>\n",
       "    <tr>\n",
       "      <th>2010-01-02 04:00:00</th>\n",
       "      <td>138.0</td>\n",
       "      <td>-7</td>\n",
       "      <td>-5.0</td>\n",
       "      <td>1022.0</td>\n",
       "      <td>SE</td>\n",
       "      <td>6.25</td>\n",
       "      <td>2</td>\n",
       "      <td>0</td>\n",
       "    </tr>\n",
       "  </tbody>\n",
       "</table>\n",
       "</div>"
      ],
      "text/plain": [
       "                     pollution  dew  temp   press wnd_dir  wnd_spd  snow  rain\n",
       "date                                                                          \n",
       "2010-01-02 00:00:00      129.0  -16  -4.0  1020.0      SE     1.79     0     0\n",
       "2010-01-02 01:00:00      148.0  -15  -4.0  1020.0      SE     2.68     0     0\n",
       "2010-01-02 02:00:00      159.0  -11  -5.0  1021.0      SE     3.57     0     0\n",
       "2010-01-02 03:00:00      181.0   -7  -5.0  1022.0      SE     5.36     1     0\n",
       "2010-01-02 04:00:00      138.0   -7  -5.0  1022.0      SE     6.25     2     0"
      ]
     },
     "execution_count": 28,
     "metadata": {},
     "output_type": "execute_result"
    }
   ],
   "source": [
    "# Read the dataset\n",
    "data = pd.read_csv(DATAPATH, sep=\",\", header=0, index_col=0)\n",
    "data.head()"
   ]
  },
  {
   "cell_type": "code",
   "execution_count": 29,
   "metadata": {
    "ExecuteTime": {
     "end_time": "2021-10-05T11:21:53.257136Z",
     "start_time": "2021-10-05T11:21:52.563877Z"
    }
   },
   "outputs": [
    {
     "data": {
      "image/png": "[encoded data removed]",
      "text/plain": [
       "<Figure size 432x288 with 8 Axes>"
      ]
     },
     "metadata": {
      "needs_background": "light"
     },
     "output_type": "display_data"
    }
   ],
   "source": [
    "plt.figure()\n",
    "for i, column in enumerate(data.columns):\n",
    "    plt.subplot(len(data.columns), 1, i+1)\n",
    "    plt.plot(data[column].to_numpy())\n",
    "    plt.title(column, y=0.5, loc='right')\n",
    "plt.show()"
   ]
  },
  {
   "cell_type": "markdown",
   "metadata": {},
   "source": [
    "### Construct the dataset"
   ]
  },
  {
   "cell_type": "markdown",
   "metadata": {},
   "source": [
    "The first step is to prepare the pollution dataset for the LSTM.\n",
    "\n",
    "This involves framing the dataset as a supervised learning problem and normalizing the input variables.\n",
    "\n",
    "We will frame the supervised learning problem as predicting the pollution at the current hour (t) given the pollution measurement and weather conditions at the prior time step."
   ]
  },
  {
   "cell_type": "code",
   "execution_count": 30,
   "metadata": {
    "ExecuteTime": {
     "end_time": "2021-10-05T11:21:54.570978Z",
     "start_time": "2021-10-05T11:21:54.558990Z"
    }
   },
   "outputs": [
    {
     "data": {
      "text/plain": [
       "8"
      ]
     },
     "execution_count": 30,
     "metadata": {},
     "output_type": "execute_result"
    }
   ],
   "source": [
    "n_features = data.shape[1] # for multivariate time series\n",
    "n_in = 6\n",
    "n_out = 1\n",
    "output = [\"pollution\"]\n",
    "\n",
    "n_features"
   ]
  },
  {
   "cell_type": "markdown",
   "metadata": {
    "ExecuteTime": {
     "end_time": "2022-01-29T15:23:32.105879Z",
     "start_time": "2022-01-29T15:23:32.096418Z"
    }
   },
   "source": [
    "<font color='red'>\n",
    "$TO DO - Students$\n",
    "\n",
    "* using `series_to_supervised` function build the dataset\n",
    "</font>"
   ]
  },
  {
   "cell_type": "code",
   "execution_count": 31,
   "metadata": {
    "ExecuteTime": {
     "end_time": "2021-10-05T11:21:55.559562Z",
     "start_time": "2021-10-05T11:21:55.422286Z"
    }
   },
   "outputs": [
    {
     "data": {
      "text/html": [
       "<div>\n",
       "<style scoped>\n",
       "    .dataframe tbody tr th:only-of-type {\n",
       "        vertical-align: middle;\n",
       "    }\n",
       "\n",
       "    .dataframe tbody tr th {\n",
       "        vertical-align: top;\n",
       "    }\n",
       "\n",
       "    .dataframe thead th {\n",
       "        text-align: right;\n",
       "    }\n",
       "</style>\n",
       "<table border=\"1\" class=\"dataframe\">\n",
       "  <thead>\n",
       "    <tr style=\"text-align: right;\">\n",
       "      <th></th>\n",
       "      <th>pollution(t-6)</th>\n",
       "      <th>dew(t-6)</th>\n",
       "      <th>temp(t-6)</th>\n",
       "      <th>press(t-6)</th>\n",
       "      <th>wnd_dir(t-6)</th>\n",
       "      <th>wnd_spd(t-6)</th>\n",
       "      <th>snow(t-6)</th>\n",
       "      <th>rain(t-6)</th>\n",
       "      <th>pollution(t-5)</th>\n",
       "      <th>dew(t-5)</th>\n",
       "      <th>...</th>\n",
       "      <th>rain(t-2)</th>\n",
       "      <th>pollution(t-1)</th>\n",
       "      <th>dew(t-1)</th>\n",
       "      <th>temp(t-1)</th>\n",
       "      <th>press(t-1)</th>\n",
       "      <th>wnd_dir(t-1)</th>\n",
       "      <th>wnd_spd(t-1)</th>\n",
       "      <th>snow(t-1)</th>\n",
       "      <th>rain(t-1)</th>\n",
       "      <th>pollution(t)</th>\n",
       "    </tr>\n",
       "    <tr>\n",
       "      <th>date</th>\n",
       "      <th></th>\n",
       "      <th></th>\n",
       "      <th></th>\n",
       "      <th></th>\n",
       "      <th></th>\n",
       "      <th></th>\n",
       "      <th></th>\n",
       "      <th></th>\n",
       "      <th></th>\n",
       "      <th></th>\n",
       "      <th></th>\n",
       "      <th></th>\n",
       "      <th></th>\n",
       "      <th></th>\n",
       "      <th></th>\n",
       "      <th></th>\n",
       "      <th></th>\n",
       "      <th></th>\n",
       "      <th></th>\n",
       "      <th></th>\n",
       "      <th></th>\n",
       "    </tr>\n",
       "  </thead>\n",
       "  <tbody>\n",
       "    <tr>\n",
       "      <th>2010-01-02 06:00:00</th>\n",
       "      <td>129.0</td>\n",
       "      <td>-16.0</td>\n",
       "      <td>-4.0</td>\n",
       "      <td>1020.0</td>\n",
       "      <td>SE</td>\n",
       "      <td>1.79</td>\n",
       "      <td>0.0</td>\n",
       "      <td>0.0</td>\n",
       "      <td>148.0</td>\n",
       "      <td>-15.0</td>\n",
       "      <td>...</td>\n",
       "      <td>0.0</td>\n",
       "      <td>109.0</td>\n",
       "      <td>-7.0</td>\n",
       "      <td>-6.0</td>\n",
       "      <td>1022.0</td>\n",
       "      <td>SE</td>\n",
       "      <td>7.14</td>\n",
       "      <td>3.0</td>\n",
       "      <td>0.0</td>\n",
       "      <td>105.0</td>\n",
       "    </tr>\n",
       "    <tr>\n",
       "      <th>2010-01-02 07:00:00</th>\n",
       "      <td>148.0</td>\n",
       "      <td>-15.0</td>\n",
       "      <td>-4.0</td>\n",
       "      <td>1020.0</td>\n",
       "      <td>SE</td>\n",
       "      <td>2.68</td>\n",
       "      <td>0.0</td>\n",
       "      <td>0.0</td>\n",
       "      <td>159.0</td>\n",
       "      <td>-11.0</td>\n",
       "      <td>...</td>\n",
       "      <td>0.0</td>\n",
       "      <td>105.0</td>\n",
       "      <td>-7.0</td>\n",
       "      <td>-6.0</td>\n",
       "      <td>1023.0</td>\n",
       "      <td>SE</td>\n",
       "      <td>8.93</td>\n",
       "      <td>4.0</td>\n",
       "      <td>0.0</td>\n",
       "      <td>124.0</td>\n",
       "    </tr>\n",
       "    <tr>\n",
       "      <th>2010-01-02 08:00:00</th>\n",
       "      <td>159.0</td>\n",
       "      <td>-11.0</td>\n",
       "      <td>-5.0</td>\n",
       "      <td>1021.0</td>\n",
       "      <td>SE</td>\n",
       "      <td>3.57</td>\n",
       "      <td>0.0</td>\n",
       "      <td>0.0</td>\n",
       "      <td>181.0</td>\n",
       "      <td>-7.0</td>\n",
       "      <td>...</td>\n",
       "      <td>0.0</td>\n",
       "      <td>124.0</td>\n",
       "      <td>-7.0</td>\n",
       "      <td>-5.0</td>\n",
       "      <td>1024.0</td>\n",
       "      <td>SE</td>\n",
       "      <td>10.72</td>\n",
       "      <td>0.0</td>\n",
       "      <td>0.0</td>\n",
       "      <td>120.0</td>\n",
       "    </tr>\n",
       "    <tr>\n",
       "      <th>2010-01-02 09:00:00</th>\n",
       "      <td>181.0</td>\n",
       "      <td>-7.0</td>\n",
       "      <td>-5.0</td>\n",
       "      <td>1022.0</td>\n",
       "      <td>SE</td>\n",
       "      <td>5.36</td>\n",
       "      <td>1.0</td>\n",
       "      <td>0.0</td>\n",
       "      <td>138.0</td>\n",
       "      <td>-7.0</td>\n",
       "      <td>...</td>\n",
       "      <td>0.0</td>\n",
       "      <td>120.0</td>\n",
       "      <td>-8.0</td>\n",
       "      <td>-6.0</td>\n",
       "      <td>1024.0</td>\n",
       "      <td>SE</td>\n",
       "      <td>12.51</td>\n",
       "      <td>0.0</td>\n",
       "      <td>0.0</td>\n",
       "      <td>132.0</td>\n",
       "    </tr>\n",
       "    <tr>\n",
       "      <th>2010-01-02 10:00:00</th>\n",
       "      <td>138.0</td>\n",
       "      <td>-7.0</td>\n",
       "      <td>-5.0</td>\n",
       "      <td>1022.0</td>\n",
       "      <td>SE</td>\n",
       "      <td>6.25</td>\n",
       "      <td>2.0</td>\n",
       "      <td>0.0</td>\n",
       "      <td>109.0</td>\n",
       "      <td>-7.0</td>\n",
       "      <td>...</td>\n",
       "      <td>0.0</td>\n",
       "      <td>132.0</td>\n",
       "      <td>-7.0</td>\n",
       "      <td>-5.0</td>\n",
       "      <td>1025.0</td>\n",
       "      <td>SE</td>\n",
       "      <td>14.30</td>\n",
       "      <td>0.0</td>\n",
       "      <td>0.0</td>\n",
       "      <td>140.0</td>\n",
       "    </tr>\n",
       "  </tbody>\n",
       "</table>\n",
       "<p>5 rows × 49 columns</p>\n",
       "</div>"
      ],
      "text/plain": [
       "                     pollution(t-6)  dew(t-6)  temp(t-6)  press(t-6)  \\\n",
       "date                                                                   \n",
       "2010-01-02 06:00:00           129.0     -16.0       -4.0      1020.0   \n",
       "2010-01-02 07:00:00           148.0     -15.0       -4.0      1020.0   \n",
       "2010-01-02 08:00:00           159.0     -11.0       -5.0      1021.0   \n",
       "2010-01-02 09:00:00           181.0      -7.0       -5.0      1022.0   \n",
       "2010-01-02 10:00:00           138.0      -7.0       -5.0      1022.0   \n",
       "\n",
       "                    wnd_dir(t-6)  wnd_spd(t-6)  snow(t-6)  rain(t-6)  \\\n",
       "date                                                                   \n",
       "2010-01-02 06:00:00           SE          1.79        0.0        0.0   \n",
       "2010-01-02 07:00:00           SE          2.68        0.0        0.0   \n",
       "2010-01-02 08:00:00           SE          3.57        0.0        0.0   \n",
       "2010-01-02 09:00:00           SE          5.36        1.0        0.0   \n",
       "2010-01-02 10:00:00           SE          6.25        2.0        0.0   \n",
       "\n",
       "                     pollution(t-5)  dew(t-5)  ...  rain(t-2)  pollution(t-1)  \\\n",
       "date                                           ...                              \n",
       "2010-01-02 06:00:00           148.0     -15.0  ...        0.0           109.0   \n",
       "2010-01-02 07:00:00           159.0     -11.0  ...        0.0           105.0   \n",
       "2010-01-02 08:00:00           181.0      -7.0  ...        0.0           124.0   \n",
       "2010-01-02 09:00:00           138.0      -7.0  ...        0.0           120.0   \n",
       "2010-01-02 10:00:00           109.0      -7.0  ...        0.0           132.0   \n",
       "\n",
       "                    dew(t-1)  temp(t-1)  press(t-1)  wnd_dir(t-1)  \\\n",
       "date                                                                \n",
       "2010-01-02 06:00:00     -7.0       -6.0      1022.0            SE   \n",
       "2010-01-02 07:00:00     -7.0       -6.0      1023.0            SE   \n",
       "2010-01-02 08:00:00     -7.0       -5.0      1024.0            SE   \n",
       "2010-01-02 09:00:00     -8.0       -6.0      1024.0            SE   \n",
       "2010-01-02 10:00:00     -7.0       -5.0      1025.0            SE   \n",
       "\n",
       "                     wnd_spd(t-1)  snow(t-1)  rain(t-1)  pollution(t)  \n",
       "date                                                                   \n",
       "2010-01-02 06:00:00          7.14        3.0        0.0         105.0  \n",
       "2010-01-02 07:00:00          8.93        4.0        0.0         124.0  \n",
       "2010-01-02 08:00:00         10.72        0.0        0.0         120.0  \n",
       "2010-01-02 09:00:00         12.51        0.0        0.0         132.0  \n",
       "2010-01-02 10:00:00         14.30        0.0        0.0         140.0  \n",
       "\n",
       "[5 rows x 49 columns]"
      ]
     },
     "execution_count": 31,
     "metadata": {},
     "output_type": "execute_result"
    }
   ],
   "source": [
    "data_set = series_to_supervised(data, n_in, n_out, output=output)\n",
    "data_set.head()"
   ]
  },
  {
   "cell_type": "code",
   "execution_count": 32,
   "metadata": {
    "ExecuteTime": {
     "end_time": "2021-10-05T11:21:56.389487Z",
     "start_time": "2021-10-05T11:21:56.377464Z"
    }
   },
   "outputs": [
    {
     "data": {
      "text/plain": [
       "pollution(t-6)    float64\n",
       "dew(t-6)          float64\n",
       "temp(t-6)         float64\n",
       "press(t-6)        float64\n",
       "wnd_dir(t-6)       object\n",
       "wnd_spd(t-6)      float64\n",
       "snow(t-6)         float64\n",
       "rain(t-6)         float64\n",
       "pollution(t-5)    float64\n",
       "dew(t-5)          float64\n",
       "temp(t-5)         float64\n",
       "press(t-5)        float64\n",
       "wnd_dir(t-5)       object\n",
       "wnd_spd(t-5)      float64\n",
       "snow(t-5)         float64\n",
       "rain(t-5)         float64\n",
       "pollution(t-4)    float64\n",
       "dew(t-4)          float64\n",
       "temp(t-4)         float64\n",
       "press(t-4)        float64\n",
       "wnd_dir(t-4)       object\n",
       "wnd_spd(t-4)      float64\n",
       "snow(t-4)         float64\n",
       "rain(t-4)         float64\n",
       "pollution(t-3)    float64\n",
       "dew(t-3)          float64\n",
       "temp(t-3)         float64\n",
       "press(t-3)        float64\n",
       "wnd_dir(t-3)       object\n",
       "wnd_spd(t-3)      float64\n",
       "snow(t-3)         float64\n",
       "rain(t-3)         float64\n",
       "pollution(t-2)    float64\n",
       "dew(t-2)          float64\n",
       "temp(t-2)         float64\n",
       "press(t-2)        float64\n",
       "wnd_dir(t-2)       object\n",
       "wnd_spd(t-2)      float64\n",
       "snow(t-2)         float64\n",
       "rain(t-2)         float64\n",
       "pollution(t-1)    float64\n",
       "dew(t-1)          float64\n",
       "temp(t-1)         float64\n",
       "press(t-1)        float64\n",
       "wnd_dir(t-1)       object\n",
       "wnd_spd(t-1)      float64\n",
       "snow(t-1)         float64\n",
       "rain(t-1)         float64\n",
       "pollution(t)      float64\n",
       "dtype: object"
      ]
     },
     "execution_count": 32,
     "metadata": {},
     "output_type": "execute_result"
    }
   ],
   "source": [
    "data_set.dtypes"
   ]
  },
  {
   "cell_type": "markdown",
   "metadata": {},
   "source": [
    "<font color='blue'>\n",
    "<bold>dataset.dtypes gives the following result for me</bold>\n",
    "\n",
    "<pre>\n",
    "pollution(t-6)    float64\n",
    "dew(t-6)          float64\n",
    "temp(t-6)         float64\n",
    "press(t-6)        float64\n",
    "wnd_dir(t-6)       object\n",
    "wnd_spd(t-6)      float64\n",
    "snow(t-6)         float64\n",
    "rain(t-6)         float64\n",
    "pollution(t-5)    float64\n",
    "dew(t-5)          float64\n",
    "temp(t-5)         float64\n",
    "press(t-5)        float64\n",
    "wnd_dir(t-5)       object\n",
    "wnd_spd(t-5)      float64\n",
    "snow(t-5)         float64\n",
    "rain(t-5)         float64\n",
    "pollution(t-4)    float64\n",
    "dew(t-4)          float64\n",
    "temp(t-4)         float64\n",
    "press(t-4)        float64\n",
    "wnd_dir(t-4)       object\n",
    "wnd_spd(t-4)      float64\n",
    "snow(t-4)         float64\n",
    "rain(t-4)         float64\n",
    "pollution(t-3)    float64\n",
    "dew(t-3)          float64\n",
    "temp(t-3)         float64\n",
    "press(t-3)        float64\n",
    "wnd_dir(t-3)       object\n",
    "wnd_spd(t-3)      float64\n",
    "snow(t-3)         float64\n",
    "rain(t-3)         float64\n",
    "pollution(t-2)    float64\n",
    "dew(t-2)          float64\n",
    "temp(t-2)         float64\n",
    "press(t-2)        float64\n",
    "wnd_dir(t-2)       object\n",
    "wnd_spd(t-2)      float64\n",
    "snow(t-2)         float64\n",
    "rain(t-2)         float64\n",
    "pollution(t-1)    float64\n",
    "dew(t-1)          float64\n",
    "temp(t-1)         float64\n",
    "press(t-1)        float64\n",
    "wnd_dir(t-1)       object\n",
    "wnd_spd(t-1)      float64\n",
    "snow(t-1)         float64\n",
    "rain(t-1)         float64\n",
    "pollution(t)      float64\n",
    "dtype: object\n",
    "<pre>\n",
    "</font>"
   ]
  },
  {
   "cell_type": "markdown",
   "metadata": {},
   "source": [
    "First, we must split the prepared dataset into train and test sets. To speed up the training of the model for this demonstration, we will only fit the model on the first year of data, then evaluate it on the remaining 4 years of data. \n",
    "\n",
    "The example below splits the dataset into train and test sets, then splits the train and test sets into input and output variables. Finally, the inputs (X) are reshaped into the 3D format expected by LSTMs, namely [samples, timesteps, features]."
   ]
  },
  {
   "cell_type": "code",
   "execution_count": 33,
   "metadata": {
    "ExecuteTime": {
     "end_time": "2021-10-05T11:21:57.878625Z",
     "start_time": "2021-10-05T11:21:57.754945Z"
    }
   },
   "outputs": [
    {
     "data": {
      "text/plain": [
       "((8760, 6, 8), (8760,))"
      ]
     },
     "execution_count": 33,
     "metadata": {},
     "output_type": "execute_result"
    }
   ],
   "source": [
    "# get the values\n",
    "values = data_set.values\n",
    "\n",
    "# split into train and test sets\n",
    "n_train_hours = 365 * 24\n",
    "train = values[:n_train_hours, :]\n",
    "val = values[n_train_hours:2*n_train_hours, :]\n",
    "test = values[2*n_train_hours:, :]\n",
    "\n",
    "# split into input and outputs\n",
    "train_X, train_y = train[:, :-n_out], np.array(train[:, -n_out], dtype=\"float64\")\n",
    "val_X, val_y = val[:, :-n_out], np.array(val[:, -n_out], dtype=\"float64\")\n",
    "test_X, test_y = test[:, :-n_out], np.array(test[:, -n_out], dtype=\"float64\")\n",
    "\n",
    "# reshape input to be 3D [samples, timesteps, features]\n",
    "train_X = train_X.reshape((train_X.shape[0], n_in, n_features))\n",
    "val_X = val_X.reshape((val_X.shape[0], n_in, n_features))\n",
    "test_X = test_X.reshape((test_X.shape[0], n_in, n_features))\n",
    "train_X.shape, train_y.shape\n"
   ]
  },
  {
   "cell_type": "markdown",
   "metadata": {},
   "source": [
    "### Encode and normalize dataset"
   ]
  },
  {
   "cell_type": "markdown",
   "metadata": {},
   "source": [
    "Data encoding and normalization\n",
    "* The wind direction feature is label encoded (integer encoded).\n",
    "* All features are normalized\n",
    "\n",
    "And then the dataset is transformed into a supervised learning problem. The weather variables for the hour to be predicted (t) are then removed."
   ]
  },
  {
   "cell_type": "code",
   "execution_count": 34,
   "metadata": {
    "ExecuteTime": {
     "end_time": "2021-10-05T11:21:59.374382Z",
     "start_time": "2021-10-05T11:21:59.100558Z"
    }
   },
   "outputs": [
    {
     "data": {
      "text/plain": [
       "7"
      ]
     },
     "execution_count": 34,
     "metadata": {},
     "output_type": "execute_result"
    }
   ],
   "source": [
    "numeric_features = [i for i, t in enumerate(data_set.dtypes[:-n_out]) if t in ['float64', 'int32']]\n",
    "numeric_transformer = Pipeline(steps=[\n",
    "    ('imputer', SimpleImputer(strategy='median')),\n",
    "    ('scaler', StandardScaler())])\n",
    "\n",
    "categorical_features = [i for i in range(len(dataset.columns)-n_out) if i not in numeric_features]\n",
    "categorical_transformer = OneHotEncoder(handle_unknown='ignore')\n",
    "\n",
    "preprocessor = ColumnTransformer(\n",
    "    transformers=[\n",
    "        ('num', numeric_transformer, numeric_features),\n",
    "        ('cat', categorical_transformer, categorical_features)])\n",
    "\n",
    "train_X_enc = preprocessor.fit_transform(train_X.reshape(len(train_X), -1)).reshape(len(train_X), n_in, -1)\n",
    "val_X_enc = preprocessor.fit_transform(val_X.reshape(len(val_X), -1)).reshape(len(val_X), n_in, -1)\n",
    "test_X_enc = preprocessor.transform(test_X.reshape(len(test_X), -1)).reshape(len(test_X), n_in, -1)\n",
    "                                                                                    \n",
    "n_features = train_X_enc.shape[2] # Change with oneHotEncode\n",
    "n_features"
   ]
  },
  {
   "cell_type": "markdown",
   "metadata": {},
   "source": [
    "Running the code below prepare the data. Executing the next cell, prints the first 5 rows of the transformed dataset. We can see the 8 input variables (input series) and the 1 output variable (pollution level at the current hour)."
   ]
  },
  {
   "cell_type": "markdown",
   "metadata": {},
   "source": [
    "### Build, Compile, Fit, Predict and Evaluate a model\n",
    "<br>\n",
    "<font color='red'>\n",
    "$TO DO - Students$\n",
    "\n",
    "* Build your model\n",
    "    * Put the number of hidden layers you want. If possible more than one.\n",
    "</font>"
   ]
  },
  {
   "cell_type": "code",
   "execution_count": 35,
   "metadata": {
    "ExecuteTime": {
     "end_time": "2021-10-05T11:22:00.977488Z",
     "start_time": "2021-10-05T11:22:00.871405Z"
    }
   },
   "outputs": [
    {
     "name": "stdout",
     "output_type": "stream",
     "text": [
      "Model: \"model_3\"\n",
      "_________________________________________________________________\n",
      " Layer (type)                Output Shape              Param #   \n",
      "=================================================================\n",
      " input_4 (InputLayer)        [(None, 6, 7)]            0         \n",
      "                                                                 \n",
      " lstm_5 (LSTM)               (None, 25)                3300      \n",
      "                                                                 \n",
      " dense_3 (Dense)             (None, 1)                 26        \n",
      "                                                                 \n",
      "=================================================================\n",
      "Total params: 3,326\n",
      "Trainable params: 3,326\n",
      "Non-trainable params: 0\n",
      "_________________________________________________________________\n"
     ]
    }
   ],
   "source": [
    "LSTM_SIZE = 25\n",
    "\n",
    "inputs = Input(shape=(n_in, n_features))\n",
    "hidden = LSTM(LSTM_SIZE, return_sequences=False, activation='relu')(inputs)\n",
    "outputs = Dense(n_out, activation='linear')(hidden)\n",
    "model = Model(inputs=inputs, outputs=outputs)\n",
    "model.summary()"
   ]
  },
  {
   "cell_type": "markdown",
   "metadata": {},
   "source": [
    "<font color='red'>\n",
    "$TO DO - Students$\n",
    "\n",
    "* Compile your model\n",
    "</font>"
   ]
  },
  {
   "cell_type": "code",
   "execution_count": 60,
   "metadata": {
    "ExecuteTime": {
     "end_time": "2021-10-05T11:22:01.487980Z",
     "start_time": "2021-10-05T11:22:01.476341Z"
    }
   },
   "outputs": [],
   "source": [
    "# Compile the model\n",
    "model.compile(optimizer = 'adam', loss = 'mse', metrics = ['mae'])"
   ]
  },
  {
   "cell_type": "markdown",
   "metadata": {},
   "source": [
    "<font color='red'>\n",
    "$TO DO - Students$\n",
    "\n",
    "* Fit your model using `EarlyStopping`\n",
    "</font>"
   ]
  },
  {
   "cell_type": "code",
   "execution_count": 61,
   "metadata": {
    "ExecuteTime": {
     "end_time": "2021-10-05T11:22:46.035637Z",
     "start_time": "2021-10-05T11:22:02.120718Z"
    }
   },
   "outputs": [
    {
     "name": "stdout",
     "output_type": "stream",
     "text": [
      "Epoch 1/200\n",
      "7/7 [==============================] - 3s 80ms/step - loss: 6767.8350 - mae: 65.4345 - val_loss: 22932.5996 - val_mae: 138.2092\n",
      "Epoch 2/200\n",
      "7/7 [==============================] - 0s 11ms/step - loss: 6530.1650 - mae: 64.2132 - val_loss: 21971.3496 - val_mae: 135.4740\n",
      "Epoch 3/200\n",
      "7/7 [==============================] - 0s 11ms/step - loss: 6265.8145 - mae: 62.8738 - val_loss: 20997.6270 - val_mae: 132.5652\n",
      "Epoch 4/200\n",
      "7/7 [==============================] - 0s 10ms/step - loss: 5878.5142 - mae: 60.9515 - val_loss: 19783.1660 - val_mae: 128.8803\n",
      "Epoch 5/200\n",
      "7/7 [==============================] - 0s 10ms/step - loss: 5253.1128 - mae: 57.5377 - val_loss: 16815.4336 - val_mae: 117.9760\n",
      "Epoch 6/200\n",
      "7/7 [==============================] - 0s 10ms/step - loss: 4620.8267 - mae: 53.7752 - val_loss: 13947.3359 - val_mae: 106.7063\n",
      "Epoch 7/200\n",
      "7/7 [==============================] - 0s 10ms/step - loss: 3849.7690 - mae: 49.7482 - val_loss: 11703.9688 - val_mae: 97.8793\n",
      "Epoch 8/200\n",
      "7/7 [==============================] - 0s 10ms/step - loss: 3134.8496 - mae: 45.4965 - val_loss: 9276.9697 - val_mae: 87.3605\n",
      "Epoch 9/200\n",
      "7/7 [==============================] - 0s 10ms/step - loss: 2484.5454 - mae: 40.8033 - val_loss: 7150.4946 - val_mae: 74.0657\n",
      "Epoch 10/200\n",
      "7/7 [==============================] - 0s 10ms/step - loss: 2178.4248 - mae: 37.4308 - val_loss: 6450.4453 - val_mae: 70.0715\n",
      "Epoch 11/200\n",
      "7/7 [==============================] - 0s 10ms/step - loss: 1905.5604 - mae: 35.1184 - val_loss: 5961.2407 - val_mae: 67.8481\n",
      "Epoch 12/200\n",
      "7/7 [==============================] - 0s 10ms/step - loss: 1651.2858 - mae: 32.1577 - val_loss: 5229.2378 - val_mae: 61.1589\n",
      "Epoch 13/200\n",
      "7/7 [==============================] - 0s 11ms/step - loss: 1438.2583 - mae: 28.8281 - val_loss: 4582.2202 - val_mae: 54.7292\n",
      "Epoch 14/200\n",
      "7/7 [==============================] - 0s 10ms/step - loss: 1236.7642 - mae: 25.4689 - val_loss: 4218.9351 - val_mae: 51.8337\n",
      "Epoch 15/200\n",
      "7/7 [==============================] - 0s 10ms/step - loss: 1121.3767 - mae: 23.4198 - val_loss: 3906.9065 - val_mae: 48.8018\n",
      "Epoch 16/200\n",
      "7/7 [==============================] - 0s 10ms/step - loss: 1053.6931 - mae: 22.1920 - val_loss: 3688.6836 - val_mae: 46.8453\n",
      "Epoch 17/200\n",
      "7/7 [==============================] - 0s 10ms/step - loss: 971.7531 - mae: 21.0015 - val_loss: 3436.2483 - val_mae: 45.7703\n",
      "Epoch 18/200\n",
      "7/7 [==============================] - 0s 10ms/step - loss: 882.6116 - mae: 20.2360 - val_loss: 2842.8115 - val_mae: 41.2316\n",
      "Epoch 19/200\n",
      "7/7 [==============================] - 0s 10ms/step - loss: 777.2552 - mae: 19.1552 - val_loss: 2426.2751 - val_mae: 37.3185\n",
      "Epoch 20/200\n",
      "7/7 [==============================] - 0s 10ms/step - loss: 657.5675 - mae: 17.7115 - val_loss: 2136.4915 - val_mae: 35.4787\n",
      "Epoch 21/200\n",
      "7/7 [==============================] - 0s 11ms/step - loss: 569.7629 - mae: 16.7422 - val_loss: 2028.8209 - val_mae: 37.1018\n",
      "Epoch 22/200\n",
      "7/7 [==============================] - 0s 10ms/step - loss: 481.4051 - mae: 15.7774 - val_loss: 1941.3031 - val_mae: 35.5153\n",
      "Epoch 23/200\n",
      "7/7 [==============================] - 0s 11ms/step - loss: 427.6269 - mae: 15.0693 - val_loss: 1345.1332 - val_mae: 28.5737\n",
      "Epoch 24/200\n",
      "7/7 [==============================] - 0s 12ms/step - loss: 377.5981 - mae: 14.1727 - val_loss: 1139.5128 - val_mae: 27.1301\n",
      "Epoch 25/200\n",
      "7/7 [==============================] - 0s 11ms/step - loss: 340.7335 - mae: 13.8758 - val_loss: 1911.0126 - val_mae: 33.7799\n",
      "Epoch 26/200\n",
      "7/7 [==============================] - 0s 10ms/step - loss: 246.4875 - mae: 12.1664 - val_loss: 791.0229 - val_mae: 23.1229\n",
      "Epoch 27/200\n",
      "7/7 [==============================] - 0s 11ms/step - loss: 206.7664 - mae: 11.1755 - val_loss: 722.0640 - val_mae: 20.7018\n",
      "Epoch 28/200\n",
      "7/7 [==============================] - 0s 11ms/step - loss: 157.8707 - mae: 9.8188 - val_loss: 543.2012 - val_mae: 17.4475\n",
      "Epoch 29/200\n",
      "7/7 [==============================] - 0s 11ms/step - loss: 111.1873 - mae: 8.2161 - val_loss: 529.9912 - val_mae: 18.1099\n",
      "Epoch 30/200\n",
      "7/7 [==============================] - 0s 10ms/step - loss: 102.9606 - mae: 7.8036 - val_loss: 921.6125 - val_mae: 21.2892\n",
      "Epoch 31/200\n",
      "7/7 [==============================] - 0s 11ms/step - loss: 98.1398 - mae: 7.6963 - val_loss: 610.7798 - val_mae: 18.8428\n",
      "Epoch 32/200\n",
      "7/7 [==============================] - 0s 12ms/step - loss: 92.9388 - mae: 7.4791 - val_loss: 453.1393 - val_mae: 17.3364\n",
      "Epoch 33/200\n",
      "7/7 [==============================] - 0s 12ms/step - loss: 82.1184 - mae: 6.9878 - val_loss: 400.7389 - val_mae: 15.9769\n",
      "Epoch 34/200\n",
      "7/7 [==============================] - 0s 12ms/step - loss: 73.9161 - mae: 6.4739 - val_loss: 356.3770 - val_mae: 15.2244\n",
      "Epoch 35/200\n",
      "7/7 [==============================] - 0s 11ms/step - loss: 67.8434 - mae: 6.2049 - val_loss: 345.8033 - val_mae: 15.2610\n",
      "Epoch 36/200\n",
      "7/7 [==============================] - 0s 12ms/step - loss: 62.9396 - mae: 5.9597 - val_loss: 372.8511 - val_mae: 15.8478\n",
      "Epoch 37/200\n",
      "7/7 [==============================] - 0s 11ms/step - loss: 58.5647 - mae: 5.6974 - val_loss: 406.9012 - val_mae: 16.4013\n",
      "Epoch 38/200\n",
      "7/7 [==============================] - 0s 10ms/step - loss: 56.3242 - mae: 5.5879 - val_loss: 404.3787 - val_mae: 16.1065\n",
      "Epoch 39/200\n",
      "7/7 [==============================] - 0s 11ms/step - loss: 54.1924 - mae: 5.5241 - val_loss: 380.6891 - val_mae: 15.3672\n",
      "Epoch 40/200\n",
      "7/7 [==============================] - 0s 10ms/step - loss: 51.9890 - mae: 5.3569 - val_loss: 362.3710 - val_mae: 14.8706\n",
      "Epoch 41/200\n",
      "7/7 [==============================] - 0s 11ms/step - loss: 49.6762 - mae: 5.2181 - val_loss: 336.2782 - val_mae: 14.3284\n",
      "Epoch 42/200\n",
      "7/7 [==============================] - 0s 11ms/step - loss: 47.5436 - mae: 5.0672 - val_loss: 326.6052 - val_mae: 14.1426\n",
      "Epoch 43/200\n",
      "7/7 [==============================] - 0s 11ms/step - loss: 45.8999 - mae: 4.9782 - val_loss: 312.2594 - val_mae: 13.6770\n",
      "Epoch 44/200\n",
      "7/7 [==============================] - 0s 10ms/step - loss: 44.2037 - mae: 4.8546 - val_loss: 310.4671 - val_mae: 13.4840\n",
      "Epoch 45/200\n",
      "7/7 [==============================] - 0s 12ms/step - loss: 42.9264 - mae: 4.7568 - val_loss: 308.8251 - val_mae: 13.3656\n",
      "Epoch 46/200\n",
      "7/7 [==============================] - 0s 10ms/step - loss: 41.5522 - mae: 4.6215 - val_loss: 305.9231 - val_mae: 13.2207\n",
      "Epoch 47/200\n",
      "7/7 [==============================] - 0s 10ms/step - loss: 40.6012 - mae: 4.5687 - val_loss: 300.6047 - val_mae: 13.0150\n",
      "Epoch 48/200\n",
      "7/7 [==============================] - 0s 10ms/step - loss: 39.6067 - mae: 4.4642 - val_loss: 302.8246 - val_mae: 13.0086\n",
      "Epoch 49/200\n",
      "7/7 [==============================] - 0s 10ms/step - loss: 38.7289 - mae: 4.4124 - val_loss: 302.2304 - val_mae: 12.9057\n",
      "Epoch 50/200\n",
      "7/7 [==============================] - 0s 9ms/step - loss: 37.5201 - mae: 4.3121 - val_loss: 311.3026 - val_mae: 12.8198\n",
      "Epoch 51/200\n",
      "7/7 [==============================] - 0s 10ms/step - loss: 54.5790 - mae: 4.7565 - val_loss: 354.9544 - val_mae: 13.3853\n",
      "Epoch 52/200\n",
      "7/7 [==============================] - 0s 9ms/step - loss: 84.1859 - mae: 6.4581 - val_loss: 424.3073 - val_mae: 15.1159\n",
      "Epoch 53/200\n",
      "7/7 [==============================] - 0s 10ms/step - loss: 81.1444 - mae: 6.9320 - val_loss: 400.7128 - val_mae: 16.4609\n",
      "Epoch 54/200\n",
      "7/7 [==============================] - 0s 10ms/step - loss: 69.8084 - mae: 6.4953 - val_loss: 331.7045 - val_mae: 14.7765\n",
      "Epoch 55/200\n",
      "7/7 [==============================] - 0s 10ms/step - loss: 60.2665 - mae: 6.0530 - val_loss: 269.8881 - val_mae: 13.3501\n",
      "Epoch 56/200\n",
      "7/7 [==============================] - 0s 11ms/step - loss: 52.6275 - mae: 5.5706 - val_loss: 256.1453 - val_mae: 12.5490\n",
      "Epoch 57/200\n",
      "7/7 [==============================] - 0s 11ms/step - loss: 47.8357 - mae: 5.3106 - val_loss: 253.0494 - val_mae: 12.0746\n",
      "Epoch 58/200\n",
      "7/7 [==============================] - 0s 10ms/step - loss: 44.0537 - mae: 5.0539 - val_loss: 252.9928 - val_mae: 12.0300\n",
      "Epoch 59/200\n",
      "7/7 [==============================] - 0s 11ms/step - loss: 41.2884 - mae: 4.9014 - val_loss: 259.9930 - val_mae: 11.9496\n",
      "Epoch 60/200\n",
      "7/7 [==============================] - 0s 10ms/step - loss: 37.4039 - mae: 4.6304 - val_loss: 236.8281 - val_mae: 11.3773\n"
     ]
    },
    {
     "name": "stdout",
     "output_type": "stream",
     "text": [
      "Epoch 61/200\n",
      "7/7 [==============================] - 0s 10ms/step - loss: 35.4541 - mae: 4.5657 - val_loss: 229.1229 - val_mae: 11.2158\n",
      "Epoch 62/200\n",
      "7/7 [==============================] - 0s 10ms/step - loss: 33.5208 - mae: 4.4155 - val_loss: 232.4720 - val_mae: 11.3392\n",
      "Epoch 63/200\n",
      "7/7 [==============================] - 0s 10ms/step - loss: 31.4200 - mae: 4.2901 - val_loss: 218.1173 - val_mae: 10.9312\n",
      "Epoch 64/200\n",
      "7/7 [==============================] - 0s 10ms/step - loss: 29.8233 - mae: 4.2138 - val_loss: 216.7726 - val_mae: 10.9872\n",
      "Epoch 65/200\n",
      "7/7 [==============================] - 0s 11ms/step - loss: 28.5718 - mae: 4.0995 - val_loss: 220.1531 - val_mae: 11.1007\n",
      "Epoch 66/200\n",
      "7/7 [==============================] - 0s 10ms/step - loss: 26.6830 - mae: 4.0004 - val_loss: 202.3038 - val_mae: 10.5456\n",
      "Epoch 67/200\n",
      "7/7 [==============================] - 0s 10ms/step - loss: 25.0161 - mae: 3.9089 - val_loss: 194.0735 - val_mae: 10.3595\n",
      "Epoch 68/200\n",
      "7/7 [==============================] - 0s 9ms/step - loss: 23.1879 - mae: 3.7447 - val_loss: 195.5179 - val_mae: 10.3521\n",
      "Epoch 69/200\n",
      "7/7 [==============================] - 0s 10ms/step - loss: 21.0855 - mae: 3.6021 - val_loss: 182.6964 - val_mae: 9.7002\n",
      "Epoch 70/200\n",
      "7/7 [==============================] - 0s 10ms/step - loss: 19.9595 - mae: 3.5206 - val_loss: 175.4991 - val_mae: 9.3297\n",
      "Epoch 71/200\n",
      "7/7 [==============================] - 0s 10ms/step - loss: 19.4120 - mae: 3.4064 - val_loss: 183.4180 - val_mae: 9.4492\n",
      "Epoch 72/200\n",
      "7/7 [==============================] - 0s 10ms/step - loss: 18.8504 - mae: 3.3454 - val_loss: 181.6513 - val_mae: 9.2334\n",
      "Epoch 73/200\n",
      "7/7 [==============================] - 0s 13ms/step - loss: 18.3228 - mae: 3.2807 - val_loss: 174.8459 - val_mae: 9.1538\n",
      "Epoch 74/200\n",
      "7/7 [==============================] - 0s 12ms/step - loss: 17.8842 - mae: 3.2498 - val_loss: 173.2775 - val_mae: 9.1441\n",
      "Epoch 75/200\n",
      "7/7 [==============================] - 0s 11ms/step - loss: 17.3480 - mae: 3.2072 - val_loss: 167.4129 - val_mae: 8.9284\n",
      "Epoch 76/200\n",
      "7/7 [==============================] - 0s 12ms/step - loss: 16.8922 - mae: 3.1593 - val_loss: 165.0545 - val_mae: 8.8497\n",
      "Epoch 77/200\n",
      "7/7 [==============================] - 0s 12ms/step - loss: 16.4625 - mae: 3.1176 - val_loss: 161.7728 - val_mae: 8.7469\n",
      "Epoch 78/200\n",
      "7/7 [==============================] - 0s 13ms/step - loss: 16.0506 - mae: 3.0675 - val_loss: 158.4890 - val_mae: 8.6742\n",
      "Epoch 79/200\n",
      "7/7 [==============================] - 0s 16ms/step - loss: 15.6918 - mae: 3.0294 - val_loss: 157.1845 - val_mae: 8.6061\n",
      "Epoch 80/200\n",
      "7/7 [==============================] - 0s 16ms/step - loss: 15.3230 - mae: 2.9826 - val_loss: 155.4532 - val_mae: 8.5393\n",
      "Epoch 81/200\n",
      "7/7 [==============================] - 0s 15ms/step - loss: 14.9643 - mae: 2.9427 - val_loss: 152.6741 - val_mae: 8.4474\n",
      "Epoch 82/200\n",
      "7/7 [==============================] - 0s 13ms/step - loss: 14.5927 - mae: 2.8996 - val_loss: 149.7705 - val_mae: 8.3803\n",
      "Epoch 83/200\n",
      "7/7 [==============================] - 0s 15ms/step - loss: 14.2154 - mae: 2.8588 - val_loss: 147.2712 - val_mae: 8.3047\n",
      "Epoch 84/200\n",
      "7/7 [==============================] - 0s 14ms/step - loss: 13.8084 - mae: 2.8109 - val_loss: 144.3344 - val_mae: 8.2100\n",
      "Epoch 85/200\n",
      "7/7 [==============================] - 0s 12ms/step - loss: 13.3835 - mae: 2.7666 - val_loss: 141.1863 - val_mae: 8.0860\n",
      "Epoch 86/200\n",
      "7/7 [==============================] - 0s 12ms/step - loss: 12.9481 - mae: 2.7253 - val_loss: 137.7486 - val_mae: 7.9437\n",
      "Epoch 87/200\n",
      "7/7 [==============================] - 0s 13ms/step - loss: 12.5672 - mae: 2.6691 - val_loss: 134.2309 - val_mae: 7.7902\n",
      "Epoch 88/200\n",
      "7/7 [==============================] - 0s 15ms/step - loss: 12.2265 - mae: 2.6249 - val_loss: 130.3922 - val_mae: 7.7058\n",
      "Epoch 89/200\n",
      "7/7 [==============================] - 0s 13ms/step - loss: 11.9211 - mae: 2.5703 - val_loss: 125.6609 - val_mae: 7.6224\n",
      "Epoch 90/200\n",
      "7/7 [==============================] - 0s 11ms/step - loss: 11.6496 - mae: 2.5286 - val_loss: 121.9694 - val_mae: 7.5572\n",
      "Epoch 91/200\n",
      "7/7 [==============================] - 0s 12ms/step - loss: 11.4451 - mae: 2.4973 - val_loss: 119.8793 - val_mae: 7.5145\n",
      "Epoch 92/200\n",
      "7/7 [==============================] - 0s 13ms/step - loss: 11.2717 - mae: 2.4694 - val_loss: 118.7709 - val_mae: 7.5070\n",
      "Epoch 93/200\n",
      "7/7 [==============================] - 0s 13ms/step - loss: 11.1552 - mae: 2.4785 - val_loss: 117.0925 - val_mae: 7.4678\n",
      "Epoch 94/200\n",
      "7/7 [==============================] - 0s 11ms/step - loss: 11.1099 - mae: 2.4474 - val_loss: 115.5364 - val_mae: 7.4931\n",
      "Epoch 95/200\n",
      "7/7 [==============================] - 0s 11ms/step - loss: 11.0451 - mae: 2.4736 - val_loss: 113.7956 - val_mae: 7.3727\n",
      "Epoch 96/200\n",
      "7/7 [==============================] - 0s 12ms/step - loss: 10.8796 - mae: 2.4246 - val_loss: 106.6383 - val_mae: 7.3132\n",
      "Epoch 97/200\n",
      "7/7 [==============================] - 0s 12ms/step - loss: 10.7739 - mae: 2.4500 - val_loss: 111.0270 - val_mae: 7.2928\n",
      "Epoch 98/200\n",
      "7/7 [==============================] - 0s 11ms/step - loss: 10.5229 - mae: 2.3929 - val_loss: 102.1271 - val_mae: 7.1950\n",
      "Epoch 99/200\n",
      "7/7 [==============================] - 0s 11ms/step - loss: 10.4061 - mae: 2.3942 - val_loss: 106.5758 - val_mae: 7.1909\n",
      "Epoch 100/200\n",
      "7/7 [==============================] - 0s 11ms/step - loss: 10.1054 - mae: 2.3263 - val_loss: 97.3726 - val_mae: 7.0757\n",
      "Epoch 101/200\n",
      "7/7 [==============================] - 0s 12ms/step - loss: 9.9252 - mae: 2.3250 - val_loss: 103.9196 - val_mae: 7.1276\n",
      "Epoch 102/200\n",
      "7/7 [==============================] - 0s 11ms/step - loss: 9.5531 - mae: 2.2463 - val_loss: 98.6840 - val_mae: 7.0159\n",
      "Epoch 103/200\n",
      "7/7 [==============================] - 0s 11ms/step - loss: 9.2433 - mae: 2.2299 - val_loss: 100.7130 - val_mae: 7.0624\n",
      "Epoch 104/200\n",
      "7/7 [==============================] - 0s 11ms/step - loss: 9.0663 - mae: 2.1823 - val_loss: 99.3556 - val_mae: 7.1180\n",
      "Epoch 105/200\n",
      "7/7 [==============================] - 0s 12ms/step - loss: 8.8903 - mae: 2.1824 - val_loss: 98.1936 - val_mae: 6.9940\n",
      "Epoch 106/200\n",
      "7/7 [==============================] - 0s 12ms/step - loss: 8.7205 - mae: 2.1414 - val_loss: 97.5207 - val_mae: 7.1061\n",
      "Epoch 107/200\n",
      "7/7 [==============================] - 0s 14ms/step - loss: 8.5522 - mae: 2.1505 - val_loss: 96.5738 - val_mae: 6.9720\n",
      "Epoch 108/200\n",
      "7/7 [==============================] - 0s 13ms/step - loss: 8.4203 - mae: 2.1020 - val_loss: 93.2812 - val_mae: 6.9047\n",
      "Epoch 109/200\n",
      "7/7 [==============================] - 0s 12ms/step - loss: 8.2979 - mae: 2.1071 - val_loss: 94.9578 - val_mae: 7.0281\n",
      "Epoch 110/200\n",
      "7/7 [==============================] - 0s 13ms/step - loss: 8.1161 - mae: 2.0738 - val_loss: 93.3024 - val_mae: 7.1423\n",
      "Epoch 111/200\n",
      "7/7 [==============================] - 0s 13ms/step - loss: 7.9492 - mae: 2.0818 - val_loss: 92.6514 - val_mae: 6.8471\n",
      "Epoch 112/200\n",
      "7/7 [==============================] - 0s 12ms/step - loss: 7.8844 - mae: 2.0446 - val_loss: 86.3487 - val_mae: 6.8130\n",
      "Epoch 113/200\n",
      "7/7 [==============================] - 0s 13ms/step - loss: 7.7609 - mae: 2.0647 - val_loss: 88.7018 - val_mae: 6.7434\n",
      "Epoch 114/200\n",
      "7/7 [==============================] - 0s 13ms/step - loss: 7.6230 - mae: 2.0321 - val_loss: 86.5032 - val_mae: 6.9676\n",
      "Epoch 115/200\n",
      "7/7 [==============================] - 0s 13ms/step - loss: 7.3832 - mae: 2.0394 - val_loss: 80.9900 - val_mae: 6.4769\n",
      "Epoch 116/200\n",
      "7/7 [==============================] - 0s 11ms/step - loss: 7.4288 - mae: 1.9899 - val_loss: 74.7584 - val_mae: 6.5102\n",
      "Epoch 117/200\n",
      "7/7 [==============================] - 0s 11ms/step - loss: 7.5153 - mae: 2.0551 - val_loss: 74.3606 - val_mae: 6.3047\n",
      "Epoch 118/200\n",
      "7/7 [==============================] - 0s 12ms/step - loss: 7.7858 - mae: 2.0919 - val_loss: 87.0389 - val_mae: 6.9561\n",
      "Epoch 119/200\n",
      "7/7 [==============================] - 0s 12ms/step - loss: 9.1072 - mae: 2.2693 - val_loss: 81.8436 - val_mae: 6.6822\n",
      "Epoch 120/200\n",
      "7/7 [==============================] - 0s 13ms/step - loss: 8.7059 - mae: 2.1431 - val_loss: 79.0075 - val_mae: 6.6040\n",
      "Epoch 121/200\n",
      "7/7 [==============================] - 0s 14ms/step - loss: 8.7869 - mae: 2.1885 - val_loss: 84.8482 - val_mae: 6.7939\n",
      "Epoch 122/200\n",
      "7/7 [==============================] - 0s 12ms/step - loss: 6.9451 - mae: 1.9708 - val_loss: 88.8946 - val_mae: 6.7971\n",
      "Epoch 123/200\n",
      "7/7 [==============================] - 0s 12ms/step - loss: 6.6500 - mae: 1.9504 - val_loss: 85.4576 - val_mae: 6.7122\n",
      "Epoch 124/200\n",
      "7/7 [==============================] - 0s 12ms/step - loss: 7.0719 - mae: 1.9619 - val_loss: 72.3714 - val_mae: 6.5578\n",
      "Epoch 125/200\n",
      "7/7 [==============================] - 0s 11ms/step - loss: 6.2538 - mae: 1.8944 - val_loss: 80.0666 - val_mae: 6.5704\n",
      "Epoch 126/200\n",
      "7/7 [==============================] - 0s 11ms/step - loss: 6.0075 - mae: 1.8357 - val_loss: 72.6585 - val_mae: 6.4997\n",
      "Epoch 127/200\n",
      "7/7 [==============================] - 0s 11ms/step - loss: 5.8667 - mae: 1.8173 - val_loss: 83.0149 - val_mae: 6.7829\n",
      "Epoch 128/200\n",
      "7/7 [==============================] - 0s 11ms/step - loss: 5.8255 - mae: 1.7978 - val_loss: 65.5957 - val_mae: 6.2052\n",
      "Epoch 129/200\n",
      "7/7 [==============================] - 0s 12ms/step - loss: 5.6340 - mae: 1.7879 - val_loss: 71.5880 - val_mae: 6.2162\n",
      "Epoch 130/200\n",
      "7/7 [==============================] - 0s 12ms/step - loss: 5.8059 - mae: 1.8176 - val_loss: 73.3150 - val_mae: 6.3805\n",
      "Epoch 131/200\n",
      "7/7 [==============================] - 0s 11ms/step - loss: 5.5966 - mae: 1.7846 - val_loss: 66.9898 - val_mae: 6.0531\n",
      "Epoch 132/200\n",
      "7/7 [==============================] - 0s 13ms/step - loss: 5.7287 - mae: 1.7957 - val_loss: 57.0022 - val_mae: 5.8956\n",
      "Epoch 133/200\n",
      "7/7 [==============================] - 0s 12ms/step - loss: 5.6319 - mae: 1.7759 - val_loss: 72.5428 - val_mae: 6.4311\n",
      "Epoch 134/200\n",
      "7/7 [==============================] - 0s 11ms/step - loss: 5.6814 - mae: 1.8009 - val_loss: 55.6742 - val_mae: 5.8050\n",
      "Epoch 135/200\n",
      "7/7 [==============================] - 0s 13ms/step - loss: 5.2743 - mae: 1.7159 - val_loss: 69.6446 - val_mae: 6.1997\n",
      "Epoch 136/200\n",
      "7/7 [==============================] - 0s 11ms/step - loss: 5.3837 - mae: 1.7518 - val_loss: 54.0125 - val_mae: 5.8342\n",
      "Epoch 137/200\n",
      "7/7 [==============================] - 0s 13ms/step - loss: 5.1217 - mae: 1.6990 - val_loss: 64.2791 - val_mae: 5.9628\n",
      "Epoch 138/200\n",
      "7/7 [==============================] - 0s 14ms/step - loss: 5.3979 - mae: 1.7387 - val_loss: 59.0991 - val_mae: 5.8012\n",
      "Epoch 139/200\n",
      "7/7 [==============================] - 0s 11ms/step - loss: 5.1701 - mae: 1.6770 - val_loss: 61.5489 - val_mae: 5.7273\n",
      "Epoch 140/200\n",
      "7/7 [==============================] - 0s 12ms/step - loss: 5.3011 - mae: 1.7031 - val_loss: 41.1497 - val_mae: 5.1931\n",
      "Epoch 141/200\n",
      "7/7 [==============================] - 0s 13ms/step - loss: 4.7966 - mae: 1.6336 - val_loss: 64.3983 - val_mae: 5.9763\n",
      "Epoch 142/200\n",
      "7/7 [==============================] - 0s 12ms/step - loss: 4.9185 - mae: 1.6511 - val_loss: 56.5182 - val_mae: 5.9320\n",
      "Epoch 143/200\n",
      "7/7 [==============================] - 0s 11ms/step - loss: 4.7588 - mae: 1.6315 - val_loss: 62.4073 - val_mae: 5.9700\n",
      "Epoch 144/200\n",
      "7/7 [==============================] - 0s 13ms/step - loss: 5.3161 - mae: 1.6815 - val_loss: 46.6540 - val_mae: 5.4866\n",
      "Epoch 145/200\n",
      "7/7 [==============================] - 0s 12ms/step - loss: 5.1372 - mae: 1.7050 - val_loss: 58.4635 - val_mae: 5.7939\n",
      "Epoch 146/200\n",
      "7/7 [==============================] - 0s 11ms/step - loss: 5.7320 - mae: 1.7708 - val_loss: 57.9225 - val_mae: 5.7993\n",
      "Epoch 147/200\n",
      "7/7 [==============================] - 0s 11ms/step - loss: 5.1131 - mae: 1.6601 - val_loss: 58.8316 - val_mae: 5.6896\n",
      "Epoch 148/200\n",
      "7/7 [==============================] - 0s 12ms/step - loss: 5.5118 - mae: 1.6650 - val_loss: 29.8572 - val_mae: 4.5568\n",
      "Epoch 149/200\n",
      "7/7 [==============================] - 0s 13ms/step - loss: 4.6444 - mae: 1.5884 - val_loss: 54.3974 - val_mae: 5.6576\n",
      "Epoch 150/200\n",
      "7/7 [==============================] - 0s 13ms/step - loss: 4.2916 - mae: 1.5198 - val_loss: 51.3462 - val_mae: 5.5817\n",
      "Epoch 151/200\n",
      "7/7 [==============================] - 0s 14ms/step - loss: 4.3609 - mae: 1.5568 - val_loss: 53.8812 - val_mae: 5.6153\n",
      "Epoch 152/200\n",
      "7/7 [==============================] - 0s 13ms/step - loss: 5.2206 - mae: 1.6331 - val_loss: 41.3540 - val_mae: 5.2895\n",
      "Epoch 153/200\n",
      "7/7 [==============================] - 0s 13ms/step - loss: 5.0979 - mae: 1.6866 - val_loss: 48.8473 - val_mae: 5.4856\n",
      "Epoch 154/200\n",
      "7/7 [==============================] - 0s 13ms/step - loss: 5.0756 - mae: 1.6179 - val_loss: 43.6639 - val_mae: 5.2104\n",
      "Epoch 155/200\n",
      "7/7 [==============================] - 0s 12ms/step - loss: 4.5485 - mae: 1.5876 - val_loss: 48.0433 - val_mae: 5.3806\n",
      "Epoch 156/200\n",
      "7/7 [==============================] - 0s 12ms/step - loss: 5.0294 - mae: 1.6603 - val_loss: 39.8592 - val_mae: 5.2204\n",
      "Epoch 157/200\n",
      "7/7 [==============================] - 0s 12ms/step - loss: 5.3021 - mae: 1.7107 - val_loss: 37.5204 - val_mae: 4.7715\n",
      "Epoch 158/200\n",
      "7/7 [==============================] - 0s 15ms/step - loss: 5.9347 - mae: 1.8007 - val_loss: 49.8399 - val_mae: 5.5990\n",
      "1/1 [==============================] - 0s 393ms/step\n"
     ]
    }
   ],
   "source": [
    "es = EarlyStopping(monitor = \"val_loss\", mode= \"min\", patience = 10, restore_best_weights=True)\n",
    "callbacks = [es]\n",
    "history = model.fit(train_X, train_y, epochs = 200,\n",
    "                    validation_data = (val_X, val_y),\n",
    "                    callbacks = callbacks,\n",
    "                    verbose = 1,\n",
    "                    shuffle = False) # epochs = 200, EarlyStopping, use validation_data\n",
    "y_pred = model.predict(test_X)"
   ]
  },
  {
   "cell_type": "markdown",
   "metadata": {
    "ExecuteTime": {
     "end_time": "2022-01-29T15:27:52.753563Z",
     "start_time": "2022-01-29T15:27:52.723119Z"
    }
   },
   "source": [
    "<font color='red'>\n",
    "$TO DO - Students$\n",
    "\n",
    "* Plot learning curve\n",
    "</font>"
   ]
  },
  {
   "cell_type": "code",
   "execution_count": 65,
   "metadata": {
    "ExecuteTime": {
     "end_time": "2021-10-05T11:22:46.219894Z",
     "start_time": "2021-10-05T11:22:46.042233Z"
    }
   },
   "outputs": [
    {
     "data": {
      "image/png": "[encoded data removed]",
      "text/plain": [
       "<Figure size 1440x576 with 3 Axes>"
      ]
     },
     "metadata": {
      "needs_background": "light"
     },
     "output_type": "display_data"
    }
   ],
   "source": [
    "\"\"\" PLOT \"\"\"\n",
    "# plot history\n",
    "plt.figure(figsize=(20,8))\n",
    "\n",
    "plt.subplot(331)\n",
    "plt.plot(history.history['loss'][3:], label='loss')\n",
    "plt.plot(history.history['val_loss'][3:], label='val_loss')\n",
    "plt.legend()\n",
    "    \n",
    "plt.subplot(332)\n",
    "plt.plot(history.history['mae'][3:], label='mae')\n",
    "plt.plot(history.history['val_mae'][3:], label='val_mae')\n",
    "plt.legend()\n",
    "    \n",
    "plt.subplot(333)\n",
    "plt.plot(range(len(train_y)), train_y, label=\"train\")\n",
    "plt.plot(range(len(train_y), len(train_y)+len(val_y)), val_y, label=\"valid\")\n",
    "plt.plot(range(len(train_y)+len(val_y), len(train_y)+len(val_y)+len(y_pred)), test_y, label=\"test\")\n",
    "plt.plot(range(len(train_y)+len(val_y), len(train_y)+len(val_y)+len(y_pred)), y_pred, label=\"predict\")\n",
    "\n",
    "plt.legend(loc='center left')\n",
    "plt.show()"
   ]
  },
  {
   "cell_type": "markdown",
   "metadata": {},
   "source": [
    "<font color='red'>\n",
    "$TO DO - Students$\n",
    "\n",
    "* Use your model to predict test set data\n",
    "</font>"
   ]
  },
  {
   "cell_type": "code",
   "execution_count": 66,
   "metadata": {
    "ExecuteTime": {
     "end_time": "2021-10-05T11:22:47.463533Z",
     "start_time": "2021-10-05T11:22:46.226671Z"
    }
   },
   "outputs": [
    {
     "name": "stdout",
     "output_type": "stream",
     "text": [
      "1/1 [==============================] - 0s 26ms/step\n"
     ]
    }
   ],
   "source": [
    "# make a prediction\n",
    "y_pred = model.predict(test_X)\n"
   ]
  },
  {
   "cell_type": "markdown",
   "metadata": {},
   "source": [
    "<font color='red'>\n",
    "$TO DO - Students$\n",
    "\n",
    "* Evaluate your model with RMSA\n",
    "</font>"
   ]
  },
  {
   "cell_type": "code",
   "execution_count": 72,
   "metadata": {
    "ExecuteTime": {
     "end_time": "2021-10-05T11:22:47.487113Z",
     "start_time": "2021-10-05T11:22:47.474485Z"
    }
   },
   "outputs": [
    {
     "data": {
      "text/plain": [
       "'Test RMSE: 5.464'"
      ]
     },
     "execution_count": 72,
     "metadata": {},
     "output_type": "execute_result"
    }
   ],
   "source": [
    "from sklearn.metrics import mean_squared_error\n",
    "from math import sqrt\n",
    "\n",
    "# calculate RMSE\n",
    "rmse = sqrt(mean_squared_error(test_y, y_pred)) \n",
    "'Test RMSE: %.3f' % rmse"
   ]
  },
  {
   "cell_type": "markdown",
   "metadata": {},
   "source": [
    "### Predict next day\n",
    "\n",
    "Generally, what we are trying to predict is a pollution indicator for the day or per 12-hour period. \n",
    "\n",
    "Modify the datasets to create a new column giving a pollution indicator per half day: little pollution, moderate pollution, heavy pollution."
   ]
  },
  {
   "cell_type": "code",
   "execution_count": null,
   "metadata": {},
   "outputs": [],
   "source": []
  }
 ],
 "metadata": {
  "kernelspec": {
   "display_name": "Python 3 (ipykernel)",
   "language": "python",
   "name": "python3"
  },
  "language_info": {
   "codemirror_mode": {
    "name": "ipython",
    "version": 3
   },
   "file_extension": ".py",
   "mimetype": "text/x-python",
   "name": "python",
   "nbconvert_exporter": "python",
   "pygments_lexer": "ipython3",
   "version": "3.11.4"
  },
  "latex_envs": {
   "LaTeX_envs_menu_present": true,
   "autoclose": true,
   "autocomplete": true,
   "bibliofile": "biblio.bib",
   "cite_by": "apalike",
   "current_citInitial": 1,
   "eqLabelWithNumbers": true,
   "eqNumInitial": 1,
   "hotkeys": {
    "equation": "Ctrl-E",
    "itemize": "Ctrl-I"
   },
   "labels_anchors": false,
   "latex_user_defs": false,
   "report_style_numbering": false,
   "user_envs_cfg": false
  },
  "nbTranslate": {
   "displayLangs": [
    "*"
   ],
   "hotkey": "alt-t",
   "langInMainMenu": true,
   "sourceLang": "en",
   "targetLang": "fr",
   "useGoogleTranslate": true
  },
  "toc": {
   "base_numbering": 1,
   "nav_menu": {},
   "number_sections": true,
   "sideBar": true,
   "skip_h1_title": true,
   "title_cell": "Table of Contents",
   "title_sidebar": "Contents",
   "toc_cell": true,
   "toc_position": {},
   "toc_section_display": true,
   "toc_window_display": false
  }
 },
 "nbformat": 4,
 "nbformat_minor": 2
}
