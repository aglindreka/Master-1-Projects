{
 "cells": [
  {
   "cell_type": "markdown",
   "id": "bd2e3d9d",
   "metadata": {
    "tags": []
   },
   "source": [
    "<h1 style=\"font-size:3rem;color:#325B74;\">Lab 4</h1>\n",
    "\n",
    "## Ethical aspects of data"
   ]
  },
  {
   "cell_type": "markdown",
   "id": "a972f946",
   "metadata": {},
   "source": [
    "## 4.1 Fairness metrics for synthetic datasets\n"
   ]
  },
  {
   "cell_type": "code",
   "execution_count": 26,
   "id": "4f2ce6cd",
   "metadata": {},
   "outputs": [],
   "source": [
    "#we import all the required libraries\n",
    "import numpy as np\n",
    "import matplotlib.pyplot as plt # for plotting stuff\n",
    "from random import seed, shuffle\n",
    "from scipy.stats import multivariate_normal # for generating synthetic data \n",
    "from sklearn import datasets #For real datasets\n",
    "SEED = 1122334455\n",
    "import pandas as pd\n",
    "seed(SEED) # set the random seed so that the random permutations can be reproduced again\n",
    "np.random.seed(SEED)"
   ]
  },
  {
   "cell_type": "code",
   "execution_count": 27,
   "id": "d961851f",
   "metadata": {},
   "outputs": [],
   "source": [
    "from sklearn.svm import SVC\n",
    "from sklearn import metrics\n",
    "\n",
    "def plot_svc_decision_boundary(svm_clf, xmin, xmax):\n",
    "    w = svm_clf.coef_[0]\n",
    "    b = svm_clf.intercept_[0]\n",
    "\n",
    "    # At the decision boundary, w0*x0 + w1*x1 + b = 0\n",
    "    # => x1 = -w0/w1 * x0 - b/w1\n",
    "    x0 = np.linspace(xmin, xmax, 200)\n",
    "    decision_boundary = -w[0]/w[1] * x0 - b/w[1]\n",
    "\n",
    "    margin = 1/w[1]\n",
    "    gutter_up = decision_boundary + margin\n",
    "    gutter_down = decision_boundary - margin\n",
    "\n",
    "    svs = svm_clf.support_vectors_\n",
    "    plt.scatter(svs[:, 0], svs[:, 1], s=180, facecolors='#FFAAAA')\n",
    "    plt.plot(x0, decision_boundary, \"k-\", linewidth=2)\n",
    "    plt.plot(x0, gutter_up, \"k--\", linewidth=2)\n",
    "    plt.plot(x0, gutter_down, \"k--\", linewidth=2)"
   ]
  },
  {
   "cell_type": "code",
   "execution_count": 28,
   "id": "0c218582",
   "metadata": {},
   "outputs": [],
   "source": [
    "def generate_synthetic_data_bias():\n",
    "\n",
    "    \"\"\"\n",
    "        Code for generating the synthetic data.\n",
    "        We will have two features and a binary class.\n",
    "        \n",
    "    \"\"\"\n",
    "\n",
    "    n_samples = 20 # generate these many data points per class\n",
    "    #For biased data\n",
    "    p_sen=0.2 #this parameter sets the probability of being protected (sensitive feature=1)\n",
    "    delta1=[3,-2] # This is the increment of the mean for the positive class\n",
    "    delta2=[3,-2] # This is the increment of the mean for the negative class\n",
    "    \n",
    "    \n",
    "    def gen_gaussian_sensitive(size, mean_in, cov_in, class_label, sensitive):\n",
    "        nv = multivariate_normal(mean = mean_in, cov = cov_in)\n",
    "        X = nv.rvs(size)\n",
    "        y = np.ones(size, dtype=int) * class_label\n",
    "        x_sen = np.ones(size, dtype=float) * sensitive\n",
    "        return nv,X,y,x_sen\n",
    "\n",
    "    \"\"\" Generate the features randomly \"\"\"\n",
    "    #For the NON-protected group (sensitive feature=0, for ex. men)\n",
    "    # We will generate one gaussian cluster for each class\n",
    "    mu1, sigma1 = [2, 2], [[5, 1], [1, 5]]\n",
    "    mu2, sigma2 = [-2,-2], [[10, 1], [1, 3]]\n",
    "    nv1, X1, y1, x_sen1= gen_gaussian_sensitive(int((1-p_sen)*n_samples), mu1, sigma1, 1,0) # positive class\n",
    "    nv2, X2, y2, x_sen2= gen_gaussian_sensitive(int((1-p_sen)*n_samples),mu2, sigma2, 0,0) # negative class\n",
    "    \n",
    "    \n",
    "    #For the Protected group (sensitive feature=1, for ex. women)\n",
    "    # We will generate one gaussian cluster for each class\n",
    "    mu3, sigma3 = np.add(mu1,delta1), [[5, 1], [1, 5]]\n",
    "    mu4, sigma4 = np.add(mu2,delta2), [[10, 1], [1, 3]]\n",
    "    nv3, X3, y3, x_sen3 = gen_gaussian_sensitive(int(p_sen*n_samples), mu3, sigma3, 1,1.) # positive class\n",
    "    nv4, X4, y4, x_sen4 = gen_gaussian_sensitive(int(p_sen*n_samples),mu4, sigma4, 0,1.) # negative class\n",
    "    \n",
    "\n",
    "    \n",
    "\n",
    "    # join the positive and negative class clusters\n",
    "    X = np.vstack((X1, X2, X3, X4))\n",
    "    y = np.hstack((y1, y2, y3, y4))\n",
    "    x_prot= np.hstack((x_sen1, x_sen2, x_sen3, x_sen4))\n",
    "    \n",
    "\n",
    "    # shuffle the data\n",
    "    perm = list(range(0,n_samples*2))\n",
    "    shuffle(perm)\n",
    "    X = X[perm]\n",
    "    y = y[perm]\n",
    "    x_prot=x_prot[perm]\n",
    "    \n",
    "    \n",
    "\n",
    "    return X,y,x_prot"
   ]
  },
  {
   "cell_type": "code",
   "execution_count": 29,
   "id": "6714b6ba",
   "metadata": {},
   "outputs": [],
   "source": [
    "X_syn, y_syn, x_bias = generate_synthetic_data_bias()"
   ]
  },
  {
   "cell_type": "code",
   "execution_count": 30,
   "id": "5904344d",
   "metadata": {},
   "outputs": [
    {
     "data": {
      "image/png": "[encoded data removed]",
      "text/plain": [
       "<Figure size 432x288 with 1 Axes>"
      ]
     },
     "metadata": {
      "needs_background": "light"
     },
     "output_type": "display_data"
    }
   ],
   "source": [
    "#plt.scatter(X_syn[y_syn==1][:, 0], X_syn[y_syn==1][:, 1], color='#378661', marker='x', s=40, linewidth=1.5, label= \"Class +1\")\n",
    "#plt.scatter(X_syn[y_syn==0][:, 0], X_syn[y_syn==0][:, 1], color='#A73730', marker='x', s=40, linewidth=1.5, label = \"Class -1\")\n",
    "\n",
    "X_s_0 = X_syn[x_bias == 0.0]\n",
    "X_s_1 = X_syn[x_bias == 1.0]\n",
    "y_s_0 = y_syn[x_bias == 0.0]\n",
    "y_s_1 = y_syn[x_bias == 1.0]\n",
    "\n",
    "# SVM Classifier model\n",
    "#the hyperparameter C control the margin violations\n",
    "#smaller C leads to more margin violations but wider margin\n",
    "\n",
    "svm_clf = SVC(kernel=\"linear\", C=float(4))\n",
    "svm_clf.fit(X_syn, y_syn)\n",
    "\n",
    "plot_svc_decision_boundary(svm_clf, -6, 9)\n",
    "plt.scatter(X_s_0[y_s_0==1][:, 0], X_s_0[y_s_0==1][:, 1], color='green', marker='x', s=40, linewidth=1.5, label= \"Non-prot. +1\")\n",
    "plt.scatter(X_s_0[y_s_0==0][:, 0], X_s_0[y_s_0==0][:, 1], color='red', marker='x', s=40, linewidth=1.5, label = \"Non-prot. -1\")\n",
    "plt.scatter(X_s_1[y_s_1==1][:, 0], X_s_1[y_s_1==1][:, 1], color='green', marker='o', facecolors='none', s=40, label = \"Prot. +1\")\n",
    "plt.scatter(X_s_1[y_s_1==0][:, 0], X_s_1[y_s_1==0][:, 1], color='red', marker='o', facecolors='none', s=40, label = \"Prot. -1\")\n",
    "\n",
    "#plt.savefig('aggre.png')\n",
    "plt.show()"
   ]
  },
  {
   "cell_type": "markdown",
   "id": "cdcf318d",
   "metadata": {},
   "source": [
    "First we calculate the accuracy of the SVM classifier in our dataset:"
   ]
  },
  {
   "cell_type": "code",
   "execution_count": 31,
   "id": "f1f5eca1",
   "metadata": {},
   "outputs": [
    {
     "name": "stdout",
     "output_type": "stream",
     "text": [
      "Accuracy: 82.5 %\n"
     ]
    }
   ],
   "source": [
    "#Accuracy\n",
    "y_pred=svm_clf.predict(X_syn)\n",
    "\n",
    "print(\"Accuracy: %.1f\" % (metrics.accuracy_score(y_syn, y_pred)*100), \"%\")\n"
   ]
  },
  {
   "cell_type": "markdown",
   "id": "fcfc5e96",
   "metadata": {},
   "source": [
    "We first implement the equal opportunity metric:"
   ]
  },
  {
   "cell_type": "code",
   "execution_count": 32,
   "id": "388538c7",
   "metadata": {},
   "outputs": [],
   "source": [
    "#Let us now implement the equal opportunity metric:\n",
    "def equal_opportunity(y,y_pred, x_prot):\n",
    "    Pos_pro=0.0\n",
    "    Pos_nonpro=0.0\n",
    "    PPos_pro=0.0\n",
    "    PPos_nonpro=0.0\n",
    "    \n",
    "    n=y_pred.size\n",
    "\n",
    "    for i in range(0,n):\n",
    "        if (y[i]==1 and x_prot[i]==0):\n",
    "            Pos_nonpro=Pos_nonpro+1\n",
    "            if (y_pred[i]==1):\n",
    "                PPos_nonpro=PPos_nonpro+1\n",
    "        if (y[i]==1 and x_prot[i]==1):\n",
    "            Pos_pro=Pos_pro+1\n",
    "            if (y_pred[i]==1):\n",
    "                PPos_pro=PPos_pro+1\n",
    "    #print(Pos_nonpro)\n",
    "    #print(Pos_pro)\n",
    "    #print(PPos_pro)\n",
    "    #print(PPos_nonpro)\n",
    "    UNF_EOpp=abs((PPos_nonpro/Pos_nonpro)-(PPos_pro/Pos_pro))\n",
    "    \n",
    "    return UNF_EOpp\n"
   ]
  },
  {
   "cell_type": "code",
   "execution_count": 33,
   "id": "3974e220",
   "metadata": {},
   "outputs": [
    {
     "name": "stdout",
     "output_type": "stream",
     "text": [
      "UNF_EOpp = 43.75 %\n"
     ]
    }
   ],
   "source": [
    "UNF_EOpp=equal_opportunity(y_syn,y_pred, x_bias)\n",
    "print('UNF_EOpp = %.2f' % (UNF_EOpp*100),\"%\")"
   ]
  },
  {
   "cell_type": "code",
   "execution_count": 34,
   "id": "2275068a",
   "metadata": {},
   "outputs": [],
   "source": [
    "#1- Calculate the predictive equality metric for the given dataset and classifier.\n",
    "\n",
    "def predictive_equality(y,y_pred, x_prot):\n",
    "    Pos_pro=0.0\n",
    "    Pos_nonpro=0.0\n",
    "    PPos_pro=0.0\n",
    "    PPos_nonpro=0.0\n",
    "    \n",
    "    n=y_pred.size\n",
    "\n",
    "    for i in range(0,n):\n",
    "        if (y[i]==0 and x_prot[i]==0):\n",
    "            Pos_nonpro=Pos_nonpro+1\n",
    "            if (y_pred[i]==1):\n",
    "                PPos_nonpro=PPos_nonpro+1\n",
    "        if (y[i]==0 and x_prot[i]==1):\n",
    "            Pos_pro=Pos_pro+1\n",
    "            if (y_pred[i]==1):\n",
    "                PPos_pro=PPos_pro+1\n",
    "    #print(Pos_nonpro)\n",
    "    #print(Pos_pro)\n",
    "    #print(PPos_pro)\n",
    "    #print(PPos_nonpro)\n",
    "    UNF_PE =abs((PPos_nonpro/Pos_nonpro)-(PPos_pro/Pos_pro))\n",
    "    \n",
    "    return UNF_PE"
   ]
  },
  {
   "cell_type": "code",
   "execution_count": 35,
   "id": "e16da018",
   "metadata": {},
   "outputs": [
    {
     "name": "stdout",
     "output_type": "stream",
     "text": [
      "UNF_PE = 25.00 %\n"
     ]
    }
   ],
   "source": [
    "UNF_PE=predictive_equality(y_syn,y_pred, x_bias)\n",
    "print('UNF_PE = %.2f' % (UNF_PE*100),\"%\")"
   ]
  },
  {
   "cell_type": "code",
   "execution_count": 36,
   "id": "7e0cbfb6",
   "metadata": {},
   "outputs": [
    {
     "name": "stdout",
     "output_type": "stream",
     "text": [
      "0.6875\n"
     ]
    }
   ],
   "source": [
    "#Calculate the equalized odds metric for the given dataset and classifier.\n",
    "\n",
    "def Equalized_Odds(y,y_pred, x_prot):\n",
    "    return equal_opportunity(y,y_pred, x_prot) + predictive_equality(y,y_pred, x_prot)\n",
    "    \n",
    "UNF_EOdds = Equalized_Odds(y_syn,y_pred, x_bias)\n",
    "print(UNF_EOdds)"
   ]
  },
  {
   "cell_type": "code",
   "execution_count": 37,
   "id": "4489b241",
   "metadata": {},
   "outputs": [],
   "source": [
    "#3- Calculate the predictive parity metric for the given dataset and classifier.\n",
    "\n",
    "def Predictive_parity(y,y_pred, x_prot):\n",
    "    Pos_pro=0.0\n",
    "    Pos_nonpro=0.0\n",
    "    PPos_pro=0.0\n",
    "    PPos_nonpro=0.0\n",
    "    \n",
    "    n=y_pred.size\n",
    "\n",
    "    for i in range(0,n):\n",
    "        if (y_pred[i]==1 and x_prot[i]==0):\n",
    "            Pos_nonpro=Pos_nonpro+1\n",
    "            if (y[i]==1):\n",
    "                PPos_nonpro=PPos_nonpro+1\n",
    "        if (y_pred[i]==1 and x_prot[i]==1):\n",
    "            Pos_pro=Pos_pro+1\n",
    "            if (y[i]==1):\n",
    "                PPos_pro=PPos_pro+1\n",
    "    #print(Pos_nonpro)\n",
    "    #print(Pos_pro)\n",
    "    #print(PPos_pro)\n",
    "    #print(PPos_nonpro)\n",
    "    UNF_PE =abs((PPos_nonpro/Pos_nonpro)-(PPos_pro/Pos_pro))\n",
    "    \n",
    "    return UNF_PE"
   ]
  },
  {
   "cell_type": "code",
   "execution_count": 38,
   "id": "50dcee0f",
   "metadata": {},
   "outputs": [
    {
     "name": "stdout",
     "output_type": "stream",
     "text": [
      "UNF_PE = 21.05 %\n"
     ]
    }
   ],
   "source": [
    "UNF_PE=Predictive_parity(y_syn,y_pred, x_bias)\n",
    "print('UNF_PE = %.2f' % (UNF_PE*100),\"%\")"
   ]
  },
  {
   "cell_type": "code",
   "execution_count": 39,
   "id": "91e2140b",
   "metadata": {},
   "outputs": [],
   "source": [
    "#4- Calculate the statistical parity metric for the given dataset and classifier.\n",
    "\n",
    "def statistic_parity(y,y_pred, x_prot):\n",
    "    Pos_pro=0.0\n",
    "    Pos_nonpro=0.0\n",
    "    PPos_pro=0.0\n",
    "    PPos_nonpro=0.0\n",
    "    \n",
    "    n=y_pred.size\n",
    "\n",
    "    for i in range(0,n):\n",
    "        if (x_prot[i]==0):\n",
    "            Pos_nonpro=Pos_nonpro+1\n",
    "            if (y_pred[i]==1):\n",
    "                PPos_nonpro=PPos_nonpro+1\n",
    "        if (x_prot[i]==1):\n",
    "            Pos_pro=Pos_pro+1\n",
    "            if (y_pred[i]==1):\n",
    "                PPos_pro=PPos_pro+1\n",
    "    #print(Pos_nonpro)\n",
    "    #print(Pos_pro)\n",
    "    #print(PPos_pro)\n",
    "    #print(PPos_nonpro)\n",
    "    UNF_SP=abs((PPos_nonpro/Pos_nonpro)-(PPos_pro/Pos_pro))\n",
    "    \n",
    "    return UNF_SP"
   ]
  },
  {
   "cell_type": "code",
   "execution_count": 40,
   "id": "83ef4444",
   "metadata": {},
   "outputs": [
    {
     "name": "stdout",
     "output_type": "stream",
     "text": [
      "UNF_PE = 34.38 %\n"
     ]
    }
   ],
   "source": [
    "UNF_SP=statistic_parity(y_syn,y_pred, x_bias)\n",
    "print('UNF_PE = %.2f' % (UNF_SP*100),\"%\")"
   ]
  },
  {
   "cell_type": "code",
   "execution_count": 41,
   "id": "7236215a",
   "metadata": {},
   "outputs": [],
   "source": [
    "#5- a)Calculate the disparate impact metric for the given dataset and classifier.\n",
    "\n",
    "def disparate_impact(y,y_pred, x_prot):\n",
    "    Pos_pro=0.0\n",
    "    Pos_nonpro=0.0\n",
    "    PPos_pro=0.0\n",
    "    PPos_nonpro=0.0\n",
    "    \n",
    "    n=y_pred.size\n",
    "\n",
    "    for i in range(0,n):\n",
    "        if (x_prot[i]==0):\n",
    "            Pos_nonpro=Pos_nonpro+1\n",
    "            if (y_pred[i]==1):\n",
    "                PPos_nonpro=PPos_nonpro+1\n",
    "        if (x_prot[i]==1):\n",
    "            Pos_pro=Pos_pro+1\n",
    "            if (y_pred[i]==1):\n",
    "                PPos_pro=PPos_pro+1\n",
    "    #print(Pos_nonpro)\n",
    "    #print(Pos_pro)\n",
    "    #print(PPos_pro)\n",
    "    #print(PPos_nonpro)\n",
    "    UNF_DI=min((PPos_pro/Pos_pro)/(PPos_nonpro/Pos_nonpro), (PPos_nonpro/Pos_nonpro)/(PPos_pro/Pos_pro))\n",
    "    \n",
    "    return UNF_DI"
   ]
  },
  {
   "cell_type": "code",
   "execution_count": 42,
   "id": "befda5ba",
   "metadata": {},
   "outputs": [
    {
     "name": "stdout",
     "output_type": "stream",
     "text": [
      "UNF_PE = 42.11 %\n"
     ]
    }
   ],
   "source": [
    "UNF_DI=disparate_impact(y_syn,y_pred, x_bias)\n",
    "print('UNF_PE = %.2f' % (UNF_DI*100),\"%\")"
   ]
  },
  {
   "cell_type": "code",
   "execution_count": null,
   "id": "ac9769fa",
   "metadata": {},
   "outputs": [],
   "source": [
    "#b)Does this classifier satisfy the 80%-rule?\n",
    "\n",
    "#No it dosen't respect the 80% rule.\n",
    "\n"
   ]
  },
  {
   "cell_type": "markdown",
   "id": "2d1f5be3",
   "metadata": {},
   "source": [
    "### Questions:\n",
    "\n",
    "\n",
    "**1-** Calculate the predictive equality metric for the given dataset and classifier.\n",
    "\n",
    "**2-** Calculate the equalized odds metric for the given dataset and classifier.\n",
    "\n",
    "**3-** Calculate the predictive parity metric for the given dataset and classifier.\n",
    "\n",
    "**4-** Calculate the statistical parity metric for the given dataset and classifier.\n",
    "\n",
    "**5-** a)Calculate the disparate impact metric for the given dataset and classifier.\n",
    "\n",
    "  b)Does this classifier satisfy the 80%-rule?\n",
    "  \n"
   ]
  },
  {
   "cell_type": "markdown",
   "id": "a46434e8",
   "metadata": {},
   "source": [
    "## 4.2 Fairness metrics for the German dataset"
   ]
  },
  {
   "cell_type": "code",
   "execution_count": 43,
   "id": "b948976b",
   "metadata": {},
   "outputs": [],
   "source": [
    "German_data=np.loadtxt('German.txt')\n",
    "i_prot=40 #the protected features corresponds with column 40 from the txt file\n",
    "n_sample=500 # we define our training sample size\n",
    "C_param=5\n",
    "\n",
    "X_German=np.delete(German_data,[0,i_prot],1) #We eliminate the first column that correspond to labels and the protected feature\n",
    "\n",
    "y_German=German_data[:,0] #labels\n",
    "x_bias_german=German_data[:,i_prot] #protected feature\n",
    "\n",
    "#Now let us consider a training set\n",
    "X_G=X_German[1:n_sample,:]\n",
    "y_G=y_German[1:n_sample]\n",
    "x_bias_G=x_bias_german[1:n_sample]\n",
    "\n",
    "\n",
    "# SVM Classifier model\n",
    "#the hyperparameter C control the margin violations\n",
    "#smaller C leads to more margin violations but wider margin\n",
    "\n",
    "svm_clf = SVC(kernel=\"linear\", C=float(C_param))\n",
    "svm_clf.fit(X_G, y_G)\n",
    "\n",
    "y_pred_G=svm_clf.predict(X_G)"
   ]
  },
  {
   "cell_type": "code",
   "execution_count": 44,
   "id": "311d27fc",
   "metadata": {},
   "outputs": [
    {
     "data": {
      "text/html": [
       "<div>\n",
       "<style scoped>\n",
       "    .dataframe tbody tr th:only-of-type {\n",
       "        vertical-align: middle;\n",
       "    }\n",
       "\n",
       "    .dataframe tbody tr th {\n",
       "        vertical-align: top;\n",
       "    }\n",
       "\n",
       "    .dataframe thead th {\n",
       "        text-align: right;\n",
       "    }\n",
       "</style>\n",
       "<table border=\"1\" class=\"dataframe\">\n",
       "  <thead>\n",
       "    <tr style=\"text-align: right;\">\n",
       "      <th></th>\n",
       "      <th>metrics</th>\n",
       "      <th>values</th>\n",
       "    </tr>\n",
       "  </thead>\n",
       "  <tbody>\n",
       "    <tr>\n",
       "      <th>0</th>\n",
       "      <td>EO</td>\n",
       "      <td>0.042502</td>\n",
       "    </tr>\n",
       "    <tr>\n",
       "      <th>1</th>\n",
       "      <td>PE</td>\n",
       "      <td>0.206343</td>\n",
       "    </tr>\n",
       "    <tr>\n",
       "      <th>2</th>\n",
       "      <td>EOD</td>\n",
       "      <td>0.248844</td>\n",
       "    </tr>\n",
       "    <tr>\n",
       "      <th>3</th>\n",
       "      <td>PP</td>\n",
       "      <td>0.033378</td>\n",
       "    </tr>\n",
       "    <tr>\n",
       "      <th>4</th>\n",
       "      <td>SP</td>\n",
       "      <td>0.118545</td>\n",
       "    </tr>\n",
       "    <tr>\n",
       "      <th>5</th>\n",
       "      <td>DI</td>\n",
       "      <td>0.852146</td>\n",
       "    </tr>\n",
       "  </tbody>\n",
       "</table>\n",
       "</div>"
      ],
      "text/plain": [
       "  metrics    values\n",
       "0      EO  0.042502\n",
       "1      PE  0.206343\n",
       "2     EOD  0.248844\n",
       "3      PP  0.033378\n",
       "4      SP  0.118545\n",
       "5      DI  0.852146"
      ]
     },
     "execution_count": 44,
     "metadata": {},
     "output_type": "execute_result"
    }
   ],
   "source": [
    "#6- Provide a table with the accuracy and the 6 fairness metrics.\n",
    "\n",
    "EO = equal_opportunity(y_G,y_pred_G, x_bias_G)\n",
    "PE = predictive_equality(y_G,y_pred_G, x_bias_G)\n",
    "EOD= Equalized_Odds(y_G,y_pred_G, x_bias_G)\n",
    "PP = Predictive_parity(y_G,y_pred_G, x_bias_G)\n",
    "SP = statistic_parity(y_G,y_pred_G, x_bias_G)\n",
    "DI = disparate_impact(y_G,y_pred_G, x_bias_G)\n",
    "mat = [\"EO\", \"PE\", \"EOD\", \"PP\", \"SP\", \"DI\"]\n",
    "val = [EO, PE, EOD, PP, SP, DI]\n",
    "pd.DataFrame({\"metrics\": mat, \"values\": val})\n"
   ]
  },
  {
   "cell_type": "code",
   "execution_count": null,
   "id": "3794a0c1",
   "metadata": {},
   "outputs": [],
   "source": [
    "#Yes it satisfy the 80% rule"
   ]
  },
  {
   "cell_type": "code",
   "execution_count": 45,
   "id": "c0900d5b",
   "metadata": {},
   "outputs": [],
   "source": [
    "i_prot=39 #the protected features corresponds with column 40 from the txt file\n",
    "n_sample=500 # we define our training sample size\n",
    "C_param=5\n",
    "\n",
    "X_German=np.delete(German_data,[0,i_prot],1) #We eliminate the first column that correspond to labels and the protected feature\n",
    "\n",
    "y_German=German_data[:,0] #labels\n",
    "x_bias_german=German_data[:,i_prot] #protected feature\n",
    "\n",
    "#Now let us consider a training set\n",
    "X_G=X_German[1:n_sample,:]\n",
    "y_G=y_German[1:n_sample]\n",
    "x_bias_G=x_bias_german[1:n_sample]\n",
    "\n",
    "\n",
    "# SVM Classifier model\n",
    "#the hyperparameter C control the margin violations\n",
    "#smaller C leads to more margin violations but wider margin\n",
    "\n",
    "svm_clf = SVC(kernel=\"linear\", C=float(C_param))\n",
    "svm_clf.fit(X_G, y_G)\n",
    "\n",
    "y_pred_G=svm_clf.predict(X_G)"
   ]
  },
  {
   "cell_type": "code",
   "execution_count": 46,
   "id": "ea85d2dd",
   "metadata": {},
   "outputs": [
    {
     "data": {
      "text/html": [
       "<div>\n",
       "<style scoped>\n",
       "    .dataframe tbody tr th:only-of-type {\n",
       "        vertical-align: middle;\n",
       "    }\n",
       "\n",
       "    .dataframe tbody tr th {\n",
       "        vertical-align: top;\n",
       "    }\n",
       "\n",
       "    .dataframe thead th {\n",
       "        text-align: right;\n",
       "    }\n",
       "</style>\n",
       "<table border=\"1\" class=\"dataframe\">\n",
       "  <thead>\n",
       "    <tr style=\"text-align: right;\">\n",
       "      <th></th>\n",
       "      <th>metrics</th>\n",
       "      <th>values</th>\n",
       "    </tr>\n",
       "  </thead>\n",
       "  <tbody>\n",
       "    <tr>\n",
       "      <th>0</th>\n",
       "      <td>EO</td>\n",
       "      <td>0.021291</td>\n",
       "    </tr>\n",
       "    <tr>\n",
       "      <th>1</th>\n",
       "      <td>PE</td>\n",
       "      <td>0.133690</td>\n",
       "    </tr>\n",
       "    <tr>\n",
       "      <th>2</th>\n",
       "      <td>EOD</td>\n",
       "      <td>0.154981</td>\n",
       "    </tr>\n",
       "    <tr>\n",
       "      <th>3</th>\n",
       "      <td>PP</td>\n",
       "      <td>0.117172</td>\n",
       "    </tr>\n",
       "    <tr>\n",
       "      <th>4</th>\n",
       "      <td>SP</td>\n",
       "      <td>0.007337</td>\n",
       "    </tr>\n",
       "    <tr>\n",
       "      <th>5</th>\n",
       "      <td>DI</td>\n",
       "      <td>0.990421</td>\n",
       "    </tr>\n",
       "  </tbody>\n",
       "</table>\n",
       "</div>"
      ],
      "text/plain": [
       "  metrics    values\n",
       "0      EO  0.021291\n",
       "1      PE  0.133690\n",
       "2     EOD  0.154981\n",
       "3      PP  0.117172\n",
       "4      SP  0.007337\n",
       "5      DI  0.990421"
      ]
     },
     "execution_count": 46,
     "metadata": {},
     "output_type": "execute_result"
    }
   ],
   "source": [
    "#8 Provide a table with the 6 fairness metrics.\n",
    "EO = equal_opportunity(y_G,y_pred_G, x_bias_G)\n",
    "PE = predictive_equality(y_G,y_pred_G, x_bias_G)\n",
    "EOD= Equalized_Odds(y_G,y_pred_G, x_bias_G)\n",
    "PP = Predictive_parity(y_G,y_pred_G, x_bias_G)\n",
    "SP = statistic_parity(y_G,y_pred_G, x_bias_G)\n",
    "DI = disparate_impact(y_G,y_pred_G, x_bias_G)\n",
    "\n",
    "mat = [\"EO\", \"PE\", \"EOD\", \"PP\", \"SP\", \"DI\"]\n",
    "val = [EO, PE, EOD, PP, SP, DI]\n",
    "pd.DataFrame({\"metrics\": mat, \"values\": val})\n",
    "\n"
   ]
  },
  {
   "cell_type": "code",
   "execution_count": null,
   "id": "21bdbb7c",
   "metadata": {},
   "outputs": [],
   "source": [
    "#9\n",
    "#Yes it satisfy the 80% rule"
   ]
  },
  {
   "cell_type": "code",
   "execution_count": null,
   "id": "3a9b229c",
   "metadata": {},
   "outputs": [],
   "source": [
    "#10\n",
    "#Disparat Impact is way Higher and the fairness metrics are lesser for the men,\n",
    "#we can say ethat women are disadvantaged in the dataset"
   ]
  }
 ],
 "metadata": {
  "kernelspec": {
   "display_name": "Python 3 (ipykernel)",
   "language": "python",
   "name": "python3"
  },
  "language_info": {
   "codemirror_mode": {
    "name": "ipython",
    "version": 3
   },
   "file_extension": ".py",
   "mimetype": "text/x-python",
   "name": "python",
   "nbconvert_exporter": "python",
   "pygments_lexer": "ipython3",
   "version": "3.11.4"
  }
 },
 "nbformat": 4,
 "nbformat_minor": 5
}
