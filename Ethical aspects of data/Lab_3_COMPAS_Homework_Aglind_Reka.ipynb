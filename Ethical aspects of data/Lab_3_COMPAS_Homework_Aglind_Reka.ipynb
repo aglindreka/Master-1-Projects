{
 "cells": [
  {
   "cell_type": "markdown",
   "id": "bd2e3d9d",
   "metadata": {
    "tags": []
   },
   "source": [
    "<h1 style=\"font-size:3rem;color:#325B74;\">Lab 3: The COMPAS recividism dataset</h1>\n",
    "\n",
    "## Ethical aspects of data\n"
   ]
  },
  {
   "cell_type": "markdown",
   "id": "a972f946",
   "metadata": {},
   "source": [
    "## 1 Introduction\n",
    "\n",
    "First, we import the original COMPAS dataset used in the Propublica analysis from https://github.com/propublica/compas-analysis/blob/master/compas-scores-two-years.csv.\n",
    "\n",
    "We do the same filtering as in the Propublica analysis and we save our new csv file. For that, we will use R.\n"
   ]
  },
  {
   "cell_type": "code",
   "execution_count": 1,
   "id": "8a6d3033",
   "metadata": {},
   "outputs": [
    {
     "name": "stdout",
     "output_type": "stream",
     "text": [
      "Requirement already satisfied: rpy2 in c:\\users\\raffaele\\anaconda3\\lib\\site-packages (3.5.5)\n",
      "Requirement already satisfied: jinja2 in c:\\users\\raffaele\\anaconda3\\lib\\site-packages (from rpy2) (2.11.3)\n",
      "Requirement already satisfied: pytz in c:\\users\\raffaele\\anaconda3\\lib\\site-packages (from rpy2) (2021.3)\n",
      "Requirement already satisfied: cffi>=1.10.0 in c:\\users\\raffaele\\anaconda3\\lib\\site-packages (from rpy2) (1.15.0)\n",
      "Requirement already satisfied: packaging in c:\\users\\raffaele\\anaconda3\\lib\\site-packages (from rpy2) (21.3)\n",
      "Requirement already satisfied: tzlocal in c:\\users\\raffaele\\anaconda3\\lib\\site-packages (from rpy2) (4.2)\n",
      "Requirement already satisfied: pycparser in c:\\users\\raffaele\\anaconda3\\lib\\site-packages (from cffi>=1.10.0->rpy2) (2.21)\n",
      "Requirement already satisfied: MarkupSafe>=0.23 in c:\\users\\raffaele\\anaconda3\\lib\\site-packages (from jinja2->rpy2) (2.0.1)\n",
      "Requirement already satisfied: pyparsing!=3.0.5,>=2.0.2 in c:\\users\\raffaele\\anaconda3\\lib\\site-packages (from packaging->rpy2) (3.0.4)\n",
      "Requirement already satisfied: pytz-deprecation-shim in c:\\users\\raffaele\\anaconda3\\lib\\site-packages (from tzlocal->rpy2) (0.1.0.post0)\n",
      "Requirement already satisfied: tzdata in c:\\users\\raffaele\\anaconda3\\lib\\site-packages (from tzlocal->rpy2) (2022.5)\n",
      "Note: you may need to restart the kernel to use updated packages.\n"
     ]
    }
   ],
   "source": [
    " pip install rpy2"
   ]
  },
  {
   "cell_type": "code",
   "execution_count": 2,
   "id": "a017856a",
   "metadata": {},
   "outputs": [
    {
     "name": "stderr",
     "output_type": "stream",
     "text": [
      "Unable to determine R home: [WinError 2] The system cannot find the file specified\n",
      "C:\\Users\\Raffaele\\anaconda3\\lib\\site-packages\\rpy2\\robjects\\packages.py:367: UserWarning: The symbol 'quartz' is not in this R namespace/package.\n",
      "  warnings.warn(\n"
     ]
    }
   ],
   "source": [
    "# filter dplyr warnings\n",
    "%load_ext rpy2.ipython\n",
    "#import warnings\n",
    "#warnings.filterwarnings('ignore')"
   ]
  },
  {
   "cell_type": "code",
   "execution_count": 3,
   "id": "9768d9b1",
   "metadata": {},
   "outputs": [
    {
     "name": "stderr",
     "output_type": "stream",
     "text": [
      "R[write to console]: \n",
      "Attaching package: 'dplyr'\n",
      "\n",
      "\n",
      "R[write to console]: The following objects are masked from 'package:stats':\n",
      "\n",
      "    filter, lag\n",
      "\n",
      "\n",
      "R[write to console]: The following objects are masked from 'package:base':\n",
      "\n",
      "    intersect, setdiff, setequal, union\n",
      "\n",
      "\n"
     ]
    },
    {
     "name": "stdout",
     "output_type": "stream",
     "text": [
      "[1] 7214\n"
     ]
    }
   ],
   "source": [
    "%%R\n",
    "library(dplyr)\n",
    "#You can choose your favorite option:\n",
    "#a)Download the dataset and access it locally\n",
    "raw_data <- read.csv(\"./compas-scores-two-years.csv\") \n",
    "#b)Access the dataset directly from the repository\n",
    "raw_data <- read.csv(\"https://raw.githubusercontent.com/propublica/compas-analysis/master/compas-scores-two-years.csv\")\n",
    "\n",
    "nrow(raw_data)"
   ]
  },
  {
   "cell_type": "markdown",
   "id": "4dd678ec",
   "metadata": {},
   "source": [
    "Note: if you obtain the following error: \"UsageError: Cell magic `%%R` not found.\"\n",
    "Try this solution: pip install rpy2\n",
    "\n",
    "\n",
    "## Filtering of data\n",
    "\n",
    "<em>In a 2009 study examining the predictive power of its COMPAS score, Northpointe defined recidivism as “a finger-printable arrest involving a charge and a filing for any uniform crime reporting (UCR) code.” We interpreted that to mean a criminal offense that resulted in a jail booking and took place after the crime for which the person was COMPAS scored.\n",
    "\n",
    "It was not always clear, however, which criminal case was associated with an individual’s COMPAS score. To match COMPAS scores with accompanying cases, we considered cases with arrest dates or charge dates within 30 days of a COMPAS assessment being conducted. In some instances, we could not find any corresponding charges to COMPAS scores. We removed those cases from our analysis.\n",
    "\n",
    "Next, we sought to determine if a person had been charged with a new crime subsequent to crime for which they were COMPAS screened. We did not count traffic tickets and some municipal ordinance violations as recidivism. We did not count as recidivists people who were arrested for failing to appear at their court hearings, or people who were later charged with a crime that occurred prior to their COMPAS screening.</em>\n",
    "\n",
    "Finally we save the filtered csv file.\n",
    "\n"
   ]
  },
  {
   "cell_type": "code",
   "execution_count": 4,
   "id": "c09b7fb2",
   "metadata": {},
   "outputs": [
    {
     "name": "stdout",
     "output_type": "stream",
     "text": [
      "[1] 6172\n"
     ]
    }
   ],
   "source": [
    "%%R\n",
    "df <- dplyr::select(raw_data, age, c_charge_degree, race, age_cat, score_text, sex, priors_count, \n",
    "                    days_b_screening_arrest, decile_score, is_recid, two_year_recid, c_jail_in, c_jail_out) %>% \n",
    "        filter(days_b_screening_arrest <= 30) %>%\n",
    "        filter(days_b_screening_arrest >= -30) %>%\n",
    "        filter(is_recid != -1) %>%\n",
    "        filter(c_charge_degree != \"O\") %>%\n",
    "        filter(score_text != 'N/A')\n",
    "write.csv(df,\"propublica.csv\")\n",
    "nrow(df)\n"
   ]
  },
  {
   "cell_type": "markdown",
   "id": "36deb31a",
   "metadata": {},
   "source": [
    "Now we import the same libraries as in the previous labs."
   ]
  },
  {
   "cell_type": "code",
   "execution_count": 5,
   "id": "4f2ce6cd",
   "metadata": {},
   "outputs": [],
   "source": [
    "#we import all the required libraries\n",
    "import numpy as np\n",
    "import pandas as pd\n",
    "import matplotlib.pyplot as plt # for plotting stuff\n",
    "from random import seed, shuffle\n",
    "from scipy.stats import multivariate_normal # for generating synthetic data \n",
    "import seaborn as sns\n",
    "from sklearn import metrics\n",
    "from sklearn.metrics import confusion_matrix\n",
    "SEED = 1122334455\n",
    "seed(SEED) # set the random seed so that the random permutations can be reproduced again\n",
    "np.random.seed(SEED)"
   ]
  },
  {
   "cell_type": "markdown",
   "id": "6fdce0d7",
   "metadata": {},
   "source": [
    "We first read the filtered data. "
   ]
  },
  {
   "cell_type": "code",
   "execution_count": 6,
   "id": "b16f6c0f",
   "metadata": {},
   "outputs": [
    {
     "name": "stdout",
     "output_type": "stream",
     "text": [
      "<class 'pandas.core.frame.DataFrame'>\n",
      "RangeIndex: 6172 entries, 0 to 6171\n",
      "Data columns (total 14 columns):\n",
      " #   Column                   Non-Null Count  Dtype \n",
      "---  ------                   --------------  ----- \n",
      " 0   Unnamed: 0               6172 non-null   int64 \n",
      " 1   age                      6172 non-null   int64 \n",
      " 2   c_charge_degree          6172 non-null   object\n",
      " 3   race                     6172 non-null   object\n",
      " 4   age_cat                  6172 non-null   object\n",
      " 5   score_text               6172 non-null   object\n",
      " 6   sex                      6172 non-null   object\n",
      " 7   priors_count             6172 non-null   int64 \n",
      " 8   days_b_screening_arrest  6172 non-null   int64 \n",
      " 9   decile_score             6172 non-null   int64 \n",
      " 10  is_recid                 6172 non-null   int64 \n",
      " 11  two_year_recid           6172 non-null   int64 \n",
      " 12  c_jail_in                6172 non-null   object\n",
      " 13  c_jail_out               6172 non-null   object\n",
      "dtypes: int64(7), object(7)\n",
      "memory usage: 675.2+ KB\n",
      "Size of the dataset: 6172\n"
     ]
    }
   ],
   "source": [
    "df = pd.read_csv(\"propublica.csv\")\n",
    "df.info()\n",
    "print(\"Size of the dataset: %d\" % len(df.index)) #We calculate the number of objects in the dataset\n",
    "\n",
    "\n"
   ]
  },
  {
   "cell_type": "code",
   "execution_count": 7,
   "id": "43ed46d6",
   "metadata": {},
   "outputs": [
    {
     "name": "stdout",
     "output_type": "stream",
     "text": [
      "[1] 4743\n"
     ]
    }
   ],
   "source": [
    "%%R\n",
    "library(dplyr)\n",
    "#1-Load the data, select the variables and filter. Please note that in this dataset, there are 2 renamed variables:\n",
    "#𝑠𝑐𝑜𝑟𝑒_𝑡𝑒𝑥𝑡  becomes  𝑣_𝑠𝑐𝑜𝑟𝑒_𝑡𝑒𝑥𝑡  and  𝑑𝑒𝑐𝑖𝑙𝑒_𝑠𝑐𝑜𝑟𝑒  becomes  𝑣_𝑑𝑒𝑐𝑖𝑙𝑒_𝑠𝑐𝑜𝑟𝑒 .\n",
    "#2-Save it into a new file, \"propublica-violent.csv\".\n",
    "#3-Which is the size of the dataset before and after filtering?\n",
    "\n",
    "raw_data_2 <- read.csv(\"./compas-scores-two-years-violent.csv\")\n",
    "nrow(raw_data_2)\n",
    "\n",
    "#before filtring"
   ]
  },
  {
   "cell_type": "code",
   "execution_count": 8,
   "id": "e0423f4f",
   "metadata": {},
   "outputs": [
    {
     "name": "stdout",
     "output_type": "stream",
     "text": [
      "[1] 4020\n"
     ]
    }
   ],
   "source": [
    "%%R\n",
    "\n",
    "df_2 <- dplyr::select(raw_data_2, age, c_charge_degree, race, age_cat, v_score_text, sex, priors_count, \n",
    "                    days_b_screening_arrest, v_decile_score, is_recid, two_year_recid, c_jail_in, c_jail_out) %>% \n",
    "        filter(days_b_screening_arrest <= 30) %>%\n",
    "        filter(days_b_screening_arrest >= -30) %>%\n",
    "        filter(is_recid != -1) %>%\n",
    "        filter(c_charge_degree != \"O\") %>%\n",
    "        filter(v_score_text != 'N/A')\n",
    "write.csv(df_2,\"propublica-violent.csv\")\n",
    "nrow(df_2)\n",
    "#after filtring"
   ]
  },
  {
   "cell_type": "markdown",
   "id": "26e9ea55",
   "metadata": {},
   "source": [
    "The result reveals a total of 6172 entries in the dataset. From the last column, Dtype, we might observe three different types of variables: the columns with data type “int64” and “float64” denote numerical (integer and real respectively) data while data type “object” denotes categorical data.\n",
    "\n",
    "We will work with two different datasets. For basic descriptive analysis, we will use \"propublica.csv\". Later on, in order to obtain different classifiers, we will transform the dataset in order to binarize the categorical features.\n",
    "\n"
   ]
  },
  {
   "cell_type": "markdown",
   "id": "4a25ced4",
   "metadata": {},
   "source": [
    "Questions:\n",
    "\n",
    "Do the same preprocessing but for the \"compas-scores-two-years-violent.csv\" dataset.\n",
    "\n",
    "1-Load the data, select the variables and filter. Please note that in this dataset, there are 2 renamed variables: $score\\_text$ becomes $v\\_score\\_text$ and $decile\\_score$ becomes $v\\_decile\\_score$.\n",
    "\n",
    "2-Save it into a new file, \"propublica-violent.csv\".\n",
    "\n",
    "3-Which is the size of the dataset before and after filtering?\n",
    "\n",
    "    "
   ]
  },
  {
   "cell_type": "markdown",
   "id": "bd36eba5",
   "metadata": {},
   "source": [
    "We first observe the different type of variables and the values the take:"
   ]
  },
  {
   "cell_type": "code",
   "execution_count": 9,
   "id": "a2b9cd5b",
   "metadata": {},
   "outputs": [
    {
     "name": "stdout",
     "output_type": "stream",
     "text": [
      "[   1    2    3 ... 6170 6171 6172]\n",
      "[69 34 24 44 41 43 39 27 23 37 47 31 25 64 21 32 26 33 30 55 49 29 51 35\n",
      " 28 53 38 22 62 56 45 40 50 20 36 54 19 42 52 59 61 63 48 46 58 78 57 66\n",
      " 70 60 65 68 71 83 67 75 72 74 96 73 80 77 76 79 18]\n",
      "['F' 'M']\n",
      "['Other' 'African-American' 'Caucasian' 'Hispanic' 'Asian'\n",
      " 'Native American']\n",
      "['Greater than 45' '25 - 45' 'Less than 25']\n",
      "['Low' 'Medium' 'High']\n",
      "['Male' 'Female']\n",
      "[ 0  4 14  3  1  7  6  5 13  8  9 21  2 15 10 28 19 11 23 25 36 12 20 33\n",
      " 16 18 17 22 30 24 27 26 37 29 31 38]\n",
      "[ -1   0 -20  22  -2 -24 -13 -15 -10 -30  -4 -16 -26  -7  29  -3  23 -11\n",
      " -22 -21 -12  -8  -5 -23 -14  -9  -6 -27 -19 -18  26 -29  28   7 -17 -28\n",
      "   9 -25  13  20  17  30   6   2  16   8   1  18  15  21  27  11   3  14\n",
      "   5  24]\n",
      "[ 1  3  4  6 10  5  9  2  7  8]\n",
      "[0 1]\n",
      "[0 1]\n",
      "['2013-08-13 06:03:42' '2013-01-26 03:45:27' '2013-04-13 04:58:34' ...\n",
      " '2014-01-13 05:48:01' '2014-03-08 08:06:02' '2014-06-28 12:16:41']\n",
      "['2013-08-14 05:41:20' '2013-02-05 05:36:53' '2013-04-14 07:02:04' ...\n",
      " '2014-01-14 07:49:46' '2014-03-09 12:18:04' '2014-06-30 11:19:23']\n"
     ]
    }
   ],
   "source": [
    "for col in df:\n",
    "    print(df[col].unique())"
   ]
  },
  {
   "cell_type": "markdown",
   "id": "ff0b0107",
   "metadata": {},
   "source": [
    "We do some basic statistic descriptive analysis:"
   ]
  },
  {
   "cell_type": "code",
   "execution_count": 10,
   "id": "44fe35ea",
   "metadata": {},
   "outputs": [
    {
     "data": {
      "image/png": "[encoded data removed]",
      "text/plain": [
       "<Figure size 1152x432 with 2 Axes>"
      ]
     },
     "metadata": {
      "needs_background": "light"
     },
     "output_type": "display_data"
    }
   ],
   "source": [
    "fig, axes = plt.subplots(1,2, figsize=(16,6))\n",
    "\n",
    "(\n",
    "    df.sex.value_counts(normalize=False)\n",
    "    .plot(kind='bar', title='Distribution of gender among defendants', ax=axes[0],color='#325B74')\n",
    ")\n",
    "\n",
    "(\n",
    "    df.race.value_counts(normalize=False)\n",
    "    .plot(kind='bar', title='Distribution of race among defendants', ax=axes[1],color='#325B74')\n",
    ");\n",
    "\n",
    "\n",
    "#plt.savefig(\"Hist_sex_race.pdf\")"
   ]
  },
  {
   "cell_type": "code",
   "execution_count": 11,
   "id": "d318d60e",
   "metadata": {},
   "outputs": [
    {
     "data": {
      "image/png": "[encoded data removed]",
      "text/plain": [
       "<Figure size 1152x432 with 2 Axes>"
      ]
     },
     "metadata": {
      "needs_background": "light"
     },
     "output_type": "display_data"
    }
   ],
   "source": [
    "#4 Plot the histogram for the  𝑎𝑔𝑒_𝑐𝑎𝑡  variable\n",
    "#5 Plot a pie chart for the  𝑎𝑔𝑒_𝑐𝑎𝑡  variable.\n",
    "\n",
    "fig, axes = plt.subplots(1,2, figsize=(16,6))\n",
    "\n",
    "(\n",
    "    df.age_cat.value_counts(normalize=False)\n",
    "    .plot.hist(title='Distribution of the cats age', ax=axes[0],color='#325B74')\n",
    ")\n",
    "\n",
    "(\n",
    "    df.age_cat.value_counts(normalize=False)\n",
    "    .plot.pie(title='Distribution of the cats age  \"PIE\" ', ax=axes[1])\n",
    ");"
   ]
  },
  {
   "cell_type": "code",
   "execution_count": 12,
   "id": "3bc55ecd",
   "metadata": {},
   "outputs": [
    {
     "data": {
      "text/plain": [
       "<AxesSubplot:title={'center':'Distribution of the score age'}>"
      ]
     },
     "execution_count": 12,
     "metadata": {},
     "output_type": "execute_result"
    },
    {
     "data": {
      "image/png": "[encoded data removed]",
      "text/plain": [
       "<Figure size 432x288 with 1 Axes>"
      ]
     },
     "metadata": {
      "needs_background": "light"
     },
     "output_type": "display_data"
    }
   ],
   "source": [
    "#6 Create a bar chart for the \"variable\"  𝑠𝑐𝑜𝑟𝑒_𝑡𝑒𝑥𝑡 .\n",
    "\n",
    "\n",
    "df.score_text.value_counts(normalize=False).plot.bar(title='Distribution of the score age',color='#325B74')\n"
   ]
  },
  {
   "cell_type": "code",
   "execution_count": 13,
   "id": "492f0df1",
   "metadata": {},
   "outputs": [
    {
     "data": {
      "image/png": "[encoded data removed]",
      "text/plain": [
       "<Figure size 1152x432 with 2 Axes>"
      ]
     },
     "metadata": {
      "needs_background": "light"
     },
     "output_type": "display_data"
    }
   ],
   "source": [
    "#7 Create a bar chart for the compas score ( 𝑑𝑒𝑐𝑖𝑙𝑒_𝑠𝑐𝑜𝑟𝑒 ) for white defendants (caucasian) \n",
    "#and black defendants (African-American) separatedly.\n",
    "\n",
    "fig, axes = plt.subplots(1,2, figsize=(16,6))\n",
    "\n",
    "(\n",
    "    df.decile_score[df[\"race\"]=='Caucasian'].value_counts(normalize=True).plot(kind= 'bar',ax=axes[0],title='Dis. Compas Score caucasian',color='red')\n",
    "\n",
    ")\n",
    "\n",
    "(\n",
    "    df.decile_score[df[\"race\"]=='African-American'].value_counts(normalize=True).plot(kind= 'bar',ax=axes[1],title='Dis. Compas Score Af-Am',color='#325B74')\n",
    "\n",
    ");\n",
    "\n"
   ]
  },
  {
   "cell_type": "code",
   "execution_count": 14,
   "id": "c065343b",
   "metadata": {},
   "outputs": [
    {
     "data": {
      "image/png": "[encoded data removed]",
      "text/plain": [
       "<Figure size 1152x432 with 3 Axes>"
      ]
     },
     "metadata": {
      "needs_background": "light"
     },
     "output_type": "display_data"
    }
   ],
   "source": [
    "#8 Repeat question 7 for the  𝑠𝑐𝑜𝑟𝑒_𝑡𝑒𝑥𝑡 .\n",
    "\n",
    "\n",
    "fig, axes = plt.subplots(1,3, figsize=(16,6))\n",
    "\n",
    "(\n",
    "    df.decile_score[df[\"score_text\"]=='Low'].value_counts(normalize=True).plot(kind= 'bar',ax=axes[0],title='Dis. Low score',color='red')\n",
    "\n",
    ")\n",
    "\n",
    "(\n",
    "    df.decile_score[df[\"score_text\"]=='Medium'].value_counts(normalize=True).plot(kind= 'bar',ax=axes[1],title='Dis. Medium score',color='black')\n",
    "\n",
    ")\n",
    "(\n",
    "    df.decile_score[df[\"score_text\"]=='High'].value_counts(normalize=True).plot(kind= 'bar',ax=axes[2],title='Dis. High score',color='#325B74')\n",
    "\n",
    ");"
   ]
  },
  {
   "cell_type": "code",
   "execution_count": 15,
   "id": "acf4b0d5",
   "metadata": {},
   "outputs": [
    {
     "data": {
      "image/png": "[encoded data removed]",
      "text/plain": [
       "<Figure size 1152x432 with 2 Axes>"
      ]
     },
     "metadata": {
      "needs_background": "light"
     },
     "output_type": "display_data"
    }
   ],
   "source": [
    "#9 Repeat question 7 for the  𝑠𝑒𝑥 .\n",
    "\n",
    "fig, axes = plt.subplots(1,2, figsize=(16,6))\n",
    "\n",
    "(\n",
    "    df.decile_score[df[\"sex\"]=='Male'].value_counts(normalize=True).plot(kind= 'bar',ax=axes[0],title='Dis. sex Male',color='red')\n",
    "\n",
    ")\n",
    "\n",
    "(\n",
    "    df.decile_score[df[\"sex\"]=='Female'].value_counts(normalize=True).plot(kind= 'bar',ax=axes[1],title='Dis. sex Female',color='#325B74')\n",
    "\n",
    ");"
   ]
  },
  {
   "cell_type": "markdown",
   "id": "ce879920",
   "metadata": {},
   "source": [
    "Questions:\n",
    "\n",
    "4- Plot the histogram for the $age\\_cat$ variable.\n",
    "\n",
    "5- Plot a pie chart for the $age\\_cat$ variable."
   ]
  },
  {
   "cell_type": "markdown",
   "id": "0f93b902",
   "metadata": {},
   "source": [
    "Judges are often presented with two sets of scores from the Compas system - one that classifies people into High, Medium and Low risk, and a corresponding decile score. Let us analize this two outputs:"
   ]
  },
  {
   "cell_type": "code",
   "execution_count": 16,
   "id": "5f20cd13",
   "metadata": {},
   "outputs": [
    {
     "data": {
      "image/png": "[encoded data removed]",
      "text/plain": [
       "<Figure size 432x288 with 1 Axes>"
      ]
     },
     "metadata": {
      "needs_background": "light"
     },
     "output_type": "display_data"
    }
   ],
   "source": [
    "ax=df.decile_score.value_counts(normalize=True).plot(kind='bar', title='Distribution of COMPAS scores', color='#325B74')\n",
    "\n",
    "#plt.savefig(\"Hist_score_all.pdf\")"
   ]
  },
  {
   "cell_type": "markdown",
   "id": "4b21e778",
   "metadata": {},
   "source": [
    "Questions:\n",
    "\n",
    "6-Create a bar chart for the \"variable\" $score\\_text$.\n",
    "\n",
    "7-Create a bar chart for the compas score ($decile\\_score$) for white defendants (caucasian) and black defendants (African-American) separatedly.\n",
    "\n",
    "8-Repeat question 7 for the $score\\_text$.\n",
    "\n",
    "9-Repeat question 7 for the $sex$.\n"
   ]
  },
  {
   "cell_type": "markdown",
   "id": "3ecf4f84",
   "metadata": {},
   "source": [
    "ProPublica also conducted public records research to determine which defendants re-offended in the two years following their COMPAS screening. They were able to follow up on approximately half the defendants. \n",
    "\n",
    "This dataset contains a field $two\\_year\\_recid$ that is 1 if the defendant re-offended within two years of screening and 0 otherwise. This what we denote $y$, the binary label to be predicted.\n",
    "\n",
    "We will concern ourselves with comparing the Black and white populations, as in the article. \n",
    "\n",
    "Similarly, we will consider a COMPAS score of either 'Medium' or 'High' to be a prediction that the defendant will re-offend within two years, this is what we denote $\\hat{y}$, the predicted binary by the COMPAS algorithm.\n",
    "\n",
    "\n"
   ]
  },
  {
   "cell_type": "code",
   "execution_count": 17,
   "id": "783eb9fa",
   "metadata": {},
   "outputs": [],
   "source": [
    "df = (\n",
    "    pd.read_csv(\"propublica.csv\")\n",
    "    #We first binarize the categorical feature c_charge_degree\n",
    "    .assign(COMPAS_Decision=lambda x:x['score_text'].replace({'Low': 0, 'Medium':1, 'High': 1}))\n",
    ")\n",
    "\n"
   ]
  },
  {
   "cell_type": "markdown",
   "id": "3445679c",
   "metadata": {},
   "source": [
    "Now we compute the error table:"
   ]
  },
  {
   "cell_type": "code",
   "execution_count": 18,
   "id": "38d10929",
   "metadata": {},
   "outputs": [
    {
     "data": {
      "text/html": [
       "<div>\n",
       "<style scoped>\n",
       "    .dataframe tbody tr th:only-of-type {\n",
       "        vertical-align: middle;\n",
       "    }\n",
       "\n",
       "    .dataframe tbody tr th {\n",
       "        vertical-align: top;\n",
       "    }\n",
       "\n",
       "    .dataframe thead th {\n",
       "        text-align: right;\n",
       "    }\n",
       "</style>\n",
       "<table border=\"1\" class=\"dataframe\">\n",
       "  <thead>\n",
       "    <tr style=\"text-align: right;\">\n",
       "      <th>two_year_recid</th>\n",
       "      <th>0</th>\n",
       "      <th>1</th>\n",
       "      <th>All</th>\n",
       "    </tr>\n",
       "    <tr>\n",
       "      <th>COMPAS_Decision</th>\n",
       "      <th></th>\n",
       "      <th></th>\n",
       "      <th></th>\n",
       "    </tr>\n",
       "  </thead>\n",
       "  <tbody>\n",
       "    <tr>\n",
       "      <th>0</th>\n",
       "      <td>2345</td>\n",
       "      <td>1076</td>\n",
       "      <td>3421</td>\n",
       "    </tr>\n",
       "    <tr>\n",
       "      <th>1</th>\n",
       "      <td>1018</td>\n",
       "      <td>1733</td>\n",
       "      <td>2751</td>\n",
       "    </tr>\n",
       "    <tr>\n",
       "      <th>All</th>\n",
       "      <td>3363</td>\n",
       "      <td>2809</td>\n",
       "      <td>6172</td>\n",
       "    </tr>\n",
       "  </tbody>\n",
       "</table>\n",
       "</div>"
      ],
      "text/plain": [
       "two_year_recid      0     1   All\n",
       "COMPAS_Decision                  \n",
       "0                2345  1076  3421\n",
       "1                1018  1733  2751\n",
       "All              3363  2809  6172"
      ]
     },
     "execution_count": 18,
     "metadata": {},
     "output_type": "execute_result"
    }
   ],
   "source": [
    "pd.crosstab(df['COMPAS_Decision'], df['two_year_recid'], margins=True)\n",
    " \n"
   ]
  },
  {
   "cell_type": "code",
   "execution_count": 19,
   "id": "a95cd2ee",
   "metadata": {},
   "outputs": [
    {
     "name": "stdout",
     "output_type": "stream",
     "text": [
      "Fp rate -> Fp case :  0.31452791581408945\n",
      "Fp rate -> Fn case :  0.37004725554343876\n"
     ]
    }
   ],
   "source": [
    "#10 \n",
    "C_decision = pd.crosstab(df[\"COMPAS_Decision\"], df[\"two_year_recid\"], margins=True)\n",
    "Fp = C_decision[1][0]\n",
    "Tp = C_decision[1][1]\n",
    "Fn = C_decision[0][1]\n",
    "Tn = C_decision[0][0]\n",
    "print(\"Fp rate -> Fp case : \", str(Fp/(Fp+Tn)))\n",
    "print(\"Fp rate -> Fn case : \", str(Fn/(Fn+Tp)))"
   ]
  },
  {
   "cell_type": "code",
   "execution_count": 20,
   "id": "ad5b2204",
   "metadata": {},
   "outputs": [
    {
     "data": {
      "text/plain": [
       "0.6607258587167855"
      ]
     },
     "execution_count": 20,
     "metadata": {},
     "output_type": "execute_result"
    }
   ],
   "source": [
    "#11\n",
    "\n",
    "accuracy=(df[\"COMPAS_Decision\"]==df[\"two_year_recid\"]).sum()\n",
    "accuracy=accuracy/len(df)\n",
    "accuracy"
   ]
  },
  {
   "cell_type": "code",
   "execution_count": 21,
   "id": "0c36760c",
   "metadata": {},
   "outputs": [
    {
     "data": {
      "text/plain": [
       "0.7345771144278607"
      ]
     },
     "execution_count": 21,
     "metadata": {},
     "output_type": "execute_result"
    }
   ],
   "source": [
    "#12\n",
    "\n",
    "p_vio = (pd.read_csv(\"propublica-violent.csv\").assign(COMPAS_Decision=lambda x:x[\"v_score_text\"].replace({\"Low\": 0, \"Medium\":1, \"High\": 1})))\n",
    "accuracy=(p_vio[\"COMPAS_Decision\"]==p_vio[\"two_year_recid\"]).sum()\n",
    "accuracy=accuracy/len(p_vio)\n",
    "accuracy"
   ]
  },
  {
   "cell_type": "markdown",
   "id": "1fd707b5",
   "metadata": {},
   "source": [
    "Question: \n",
    "    \n",
    "10- Based on the previous table, which is the False Positive Rate for the COMPAS algorithm? And the False Negative Rate?\n",
    "\n",
    "11-Which is the accuracy of the COMPAS algorithm in the propublica dataset?\n",
    "\n",
    "12-Which is the accuracy of the COMPAS algorithm in the propublica-violent dataset?"
   ]
  },
  {
   "cell_type": "markdown",
   "id": "4ac7131b",
   "metadata": {},
   "source": [
    "We are going to visualize with a heatmap the different metrics we want to analyze: the number and rates of false/true negatives/positives:"
   ]
  },
  {
   "cell_type": "code",
   "execution_count": 22,
   "id": "872e13c7",
   "metadata": {},
   "outputs": [
    {
     "data": {
      "image/png": "[encoded data removed]",
      "text/plain": [
       "<Figure size 1008x432 with 2 Axes>"
      ]
     },
     "metadata": {
      "needs_background": "light"
     },
     "output_type": "display_data"
    }
   ],
   "source": [
    "#Warning: we need to normalize by column to obtain the FPR table\n",
    "cm=pd.crosstab(df['COMPAS_Decision'], df['two_year_recid'], rownames=['Predicted recividism'],colnames=['Actual recividism'])\n",
    "cm1=pd.crosstab(df['COMPAS_Decision'], df['two_year_recid'], rownames=['Predicted recividism'],colnames=['Actual recividism'],normalize='columns')\n",
    "\n",
    "fig, axes = plt.subplots(1,2, figsize=(14,6))\n",
    "(\n",
    "sns.heatmap(cm,annot=True,fmt=\"d\",cbar=False, ax=axes[0],cmap='RdPu', annot_kws={\"size\":18})\n",
    ")\n",
    "\n",
    "(\n",
    "sns.heatmap(cm1,annot=True,fmt=\"f\",cbar=False,ax=axes[1],cmap='RdPu', annot_kws={\"size\":18})\n",
    ");\n",
    "sns.set(font_scale=1.4)\n",
    "#plt.savefig(\"FreqTable_all.pdf\");"
   ]
  },
  {
   "cell_type": "code",
   "execution_count": 23,
   "id": "a7be9833",
   "metadata": {},
   "outputs": [
    {
     "data": {
      "image/png": "[encoded data removed]",
      "text/plain": [
       "<Figure size 1008x432 with 2 Axes>"
      ]
     },
     "metadata": {},
     "output_type": "display_data"
    }
   ],
   "source": [
    "#13\n",
    "\n",
    "#Warning: we need to normalize by column to obtain the FPR table\n",
    "cm=pd.crosstab(p_vio['COMPAS_Decision'], p_vio['two_year_recid'], rownames=['Predicted recividism'],colnames=['Actual recividism'])\n",
    "cm1=pd.crosstab(p_vio['COMPAS_Decision'], p_vio['two_year_recid'], rownames=['Predicted recividism'],colnames=['Actual recividism'],normalize='columns')\n",
    "\n",
    "fig, axes = plt.subplots(1,2, figsize=(14,6))\n",
    "(\n",
    "sns.heatmap(cm,annot=True,fmt=\"d\",cbar=False, ax=axes[0],cmap='RdPu', annot_kws={\"size\":18})\n",
    ")\n",
    "\n",
    "(\n",
    "sns.heatmap(cm1,annot=True,fmt=\"f\",cbar=False,ax=axes[1],cmap='RdPu', annot_kws={\"size\":18})\n",
    ");\n",
    "sns.set(font_scale=1.4)\n",
    "#plt.savefig(\"FreqTable_all.pdf\");\n"
   ]
  },
  {
   "cell_type": "markdown",
   "id": "3d059386",
   "metadata": {},
   "source": [
    "Question:\n",
    "\n",
    "13-Provide the same tables (heatmaps) for the propublica-violent dataset."
   ]
  },
  {
   "cell_type": "markdown",
   "id": "ad60a514",
   "metadata": {},
   "source": [
    "Now we do are going to do the same analysis by race to see if there is any bias:"
   ]
  },
  {
   "cell_type": "code",
   "execution_count": 24,
   "id": "96dbe0be",
   "metadata": {},
   "outputs": [
    {
     "data": {
      "text/html": [
       "<div>\n",
       "<style scoped>\n",
       "    .dataframe tbody tr th:only-of-type {\n",
       "        vertical-align: middle;\n",
       "    }\n",
       "\n",
       "    .dataframe tbody tr th {\n",
       "        vertical-align: top;\n",
       "    }\n",
       "\n",
       "    .dataframe thead tr th {\n",
       "        text-align: left;\n",
       "    }\n",
       "\n",
       "    .dataframe thead tr:last-of-type th {\n",
       "        text-align: right;\n",
       "    }\n",
       "</style>\n",
       "<table border=\"1\" class=\"dataframe\">\n",
       "  <thead>\n",
       "    <tr>\n",
       "      <th></th>\n",
       "      <th colspan=\"2\" halign=\"left\">Black</th>\n",
       "      <th colspan=\"2\" halign=\"left\">White</th>\n",
       "    </tr>\n",
       "    <tr>\n",
       "      <th>two_year_recid</th>\n",
       "      <th>0</th>\n",
       "      <th>1</th>\n",
       "      <th>0</th>\n",
       "      <th>1</th>\n",
       "    </tr>\n",
       "    <tr>\n",
       "      <th>COMPAS_Decision</th>\n",
       "      <th></th>\n",
       "      <th></th>\n",
       "      <th></th>\n",
       "      <th></th>\n",
       "    </tr>\n",
       "  </thead>\n",
       "  <tbody>\n",
       "    <tr>\n",
       "      <th>0</th>\n",
       "      <td>0.576618</td>\n",
       "      <td>0.284768</td>\n",
       "      <td>0.779859</td>\n",
       "      <td>0.49635</td>\n",
       "    </tr>\n",
       "    <tr>\n",
       "      <th>1</th>\n",
       "      <td>0.423382</td>\n",
       "      <td>0.715232</td>\n",
       "      <td>0.220141</td>\n",
       "      <td>0.50365</td>\n",
       "    </tr>\n",
       "  </tbody>\n",
       "</table>\n",
       "</div>"
      ],
      "text/plain": [
       "                    Black               White         \n",
       "two_year_recid          0         1         0        1\n",
       "COMPAS_Decision                                       \n",
       "0                0.576618  0.284768  0.779859  0.49635\n",
       "1                0.423382  0.715232  0.220141  0.50365"
      ]
     },
     "execution_count": 24,
     "metadata": {},
     "output_type": "execute_result"
    }
   ],
   "source": [
    "b_recid = df[df['race'] == 'African-American']\n",
    "w_recid = df[df['race'] == 'Caucasian']\n",
    "\n",
    "pd.concat([\n",
    "    pd.crosstab(b_recid['COMPAS_Decision'], b_recid['two_year_recid'], normalize='columns', margins=False),\n",
    "    pd.crosstab(w_recid['COMPAS_Decision'], w_recid['two_year_recid'], normalize='columns', margins=False)    \n",
    "], axis=1, keys=['Black', 'White'])"
   ]
  },
  {
   "cell_type": "code",
   "execution_count": 25,
   "id": "ec8a9fe9",
   "metadata": {},
   "outputs": [
    {
     "data": {
      "text/plain": [
       "0.6491338582677165"
      ]
     },
     "execution_count": 25,
     "metadata": {},
     "output_type": "execute_result"
    }
   ],
   "source": [
    "#14- Which is the accuracy of the COMPAS algorithm for black defendants in the propublica dataset?\n",
    "\n",
    "\n",
    "\n",
    "accuracy= (df.COMPAS_Decision[df[\"race\"]=='African-American']== df.two_year_recid[df[\"race\"]=='African-American']).sum()\n",
    "accuracy=accuracy/len(df.COMPAS_Decision[df[\"race\"]=='African-American'])\n",
    "accuracy\n"
   ]
  },
  {
   "cell_type": "code",
   "execution_count": 26,
   "id": "99a107dd",
   "metadata": {},
   "outputs": [
    {
     "data": {
      "text/plain": [
       "0.6718972895863052"
      ]
     },
     "execution_count": 26,
     "metadata": {},
     "output_type": "execute_result"
    }
   ],
   "source": [
    "#15- Which is the accuracy of the COMPAS algorithm for white defendants in the propublica dataset?\n",
    "\n",
    "accuracy= (df.COMPAS_Decision[df[\"race\"]=='Caucasian']== df.two_year_recid[df[\"race\"]=='Caucasian']).sum()\n",
    "accuracy=accuracy/len(df.COMPAS_Decision[df[\"race\"]=='Caucasian'])\n",
    "accuracy"
   ]
  },
  {
   "cell_type": "code",
   "execution_count": 27,
   "id": "6c852bd3",
   "metadata": {},
   "outputs": [
    {
     "data": {
      "text/html": [
       "<div>\n",
       "<style scoped>\n",
       "    .dataframe tbody tr th:only-of-type {\n",
       "        vertical-align: middle;\n",
       "    }\n",
       "\n",
       "    .dataframe tbody tr th {\n",
       "        vertical-align: top;\n",
       "    }\n",
       "\n",
       "    .dataframe thead tr th {\n",
       "        text-align: left;\n",
       "    }\n",
       "\n",
       "    .dataframe thead tr:last-of-type th {\n",
       "        text-align: right;\n",
       "    }\n",
       "</style>\n",
       "<table border=\"1\" class=\"dataframe\">\n",
       "  <thead>\n",
       "    <tr>\n",
       "      <th></th>\n",
       "      <th colspan=\"2\" halign=\"left\">Black</th>\n",
       "      <th colspan=\"2\" halign=\"left\">White</th>\n",
       "    </tr>\n",
       "    <tr>\n",
       "      <th>two_year_recid</th>\n",
       "      <th>0</th>\n",
       "      <th>1</th>\n",
       "      <th>0</th>\n",
       "      <th>1</th>\n",
       "    </tr>\n",
       "    <tr>\n",
       "      <th>COMPAS_Decision</th>\n",
       "      <th></th>\n",
       "      <th></th>\n",
       "      <th></th>\n",
       "      <th></th>\n",
       "    </tr>\n",
       "  </thead>\n",
       "  <tbody>\n",
       "    <tr>\n",
       "      <th>0</th>\n",
       "      <td>0.576618</td>\n",
       "      <td>0.284768</td>\n",
       "      <td>0.779859</td>\n",
       "      <td>0.49635</td>\n",
       "    </tr>\n",
       "    <tr>\n",
       "      <th>1</th>\n",
       "      <td>0.423382</td>\n",
       "      <td>0.715232</td>\n",
       "      <td>0.220141</td>\n",
       "      <td>0.50365</td>\n",
       "    </tr>\n",
       "  </tbody>\n",
       "</table>\n",
       "</div>"
      ],
      "text/plain": [
       "                    Black               White         \n",
       "two_year_recid          0         1         0        1\n",
       "COMPAS_Decision                                       \n",
       "0                0.576618  0.284768  0.779859  0.49635\n",
       "1                0.423382  0.715232  0.220141  0.50365"
      ]
     },
     "execution_count": 27,
     "metadata": {},
     "output_type": "execute_result"
    }
   ],
   "source": [
    "#16 Calculate the same table for the propublica-violent dataset.\n",
    "b_recid_vio = p_vio[p_vio['race'] == 'African-American']\n",
    "w_recid_vio = p_vio[p_vio['race'] == 'Caucasian']\n",
    "\n",
    "pd.concat([\n",
    "    pd.crosstab(b_recid['COMPAS_Decision'], b_recid['two_year_recid'], normalize='columns', margins=False),\n",
    "    pd.crosstab(w_recid['COMPAS_Decision'], w_recid['two_year_recid'], normalize='columns', margins=False)    \n",
    "], axis=1, keys=['Black', 'White'])"
   ]
  },
  {
   "cell_type": "markdown",
   "id": "733c8d4c",
   "metadata": {},
   "source": [
    "Question:\n",
    "\n",
    "14- Which is the accuracy of the COMPAS algorithm for black defendants in the propublica dataset?\n",
    "\n",
    "15- Which is the accuracy of the COMPAS algorithm for white defendants in the propublica dataset?  \n",
    "\n",
    "16- Calculate the same table for the propublica-violent dataset.\n"
   ]
  },
  {
   "cell_type": "markdown",
   "id": "27df49b6",
   "metadata": {},
   "source": [
    "We are going to visualize with a heatmap the different metrics we want to analyze but this time for black defendants and white defendants separatedly:"
   ]
  },
  {
   "cell_type": "code",
   "execution_count": 28,
   "id": "c9bfbde2",
   "metadata": {},
   "outputs": [
    {
     "data": {
      "image/png": "[encoded data removed]",
      "text/plain": [
       "<Figure size 1008x432 with 2 Axes>"
      ]
     },
     "metadata": {},
     "output_type": "display_data"
    }
   ],
   "source": [
    "FT_black=pd.crosstab(b_recid['COMPAS_Decision'], b_recid['two_year_recid'], rownames=['Predicted recividism'],colnames=['Actual recividism'],normalize='columns')\n",
    "FT_white=pd.crosstab(w_recid['COMPAS_Decision'], w_recid['two_year_recid'], rownames=['Predicted recividism'],colnames=['Actual recividism'],normalize='columns')  \n",
    "\n",
    "fig, axes = plt.subplots(1,2, figsize=(14,6))\n",
    "axes[0].set_title('Black defendants',fontsize = 18)\n",
    "axes[1].set_title('White defendants',fontsize = 18)\n",
    "\n",
    "(\n",
    "sns.heatmap(FT_black,annot=True,fmt=\"f\",cbar=False, ax=axes[0],cmap='RdPu', annot_kws={\"size\":18})\n",
    ")\n",
    "\n",
    "(\n",
    "sns.heatmap(FT_white,annot=True,fmt=\"f\",cbar=False,ax=axes[1],cmap='RdPu', annot_kws={\"size\":18})\n",
    ");\n",
    "sns.set(font_scale=1.4)\n",
    "\n",
    "#plt.savefig(\"FreqTable_BW.pdf\")"
   ]
  },
  {
   "cell_type": "code",
   "execution_count": 29,
   "id": "b1bcb60b",
   "metadata": {},
   "outputs": [
    {
     "data": {
      "image/png": "[encoded data removed]",
      "text/plain": [
       "<Figure size 1008x432 with 2 Axes>"
      ]
     },
     "metadata": {},
     "output_type": "display_data"
    }
   ],
   "source": [
    "#17- Provide the same tables for black and white defendants for the propublica-violent dataset.\n",
    "\n",
    "\n",
    "FT_black=pd.crosstab(b_recid_vio['COMPAS_Decision'], b_recid_vio['two_year_recid'], rownames=['Predicted recividism'],colnames=['Actual recividism'],normalize='columns')\n",
    "FT_white=pd.crosstab(w_recid_vio['COMPAS_Decision'], w_recid_vio['two_year_recid'], rownames=['Predicted recividism'],colnames=['Actual recividism'],normalize='columns')  \n",
    "\n",
    "fig, axes = plt.subplots(1,2, figsize=(14,6))\n",
    "axes[0].set_title('Black defendants',fontsize = 18)\n",
    "axes[1].set_title('White defendants',fontsize = 18)\n",
    "\n",
    "(\n",
    "sns.heatmap(FT_black,annot=True,fmt=\"f\",cbar=False, ax=axes[0],cmap='RdPu', annot_kws={\"size\":18})\n",
    ")\n",
    "\n",
    "(\n",
    "sns.heatmap(FT_white,annot=True,fmt=\"f\",cbar=False,ax=axes[1],cmap='RdPu', annot_kws={\"size\":18})\n",
    ");\n",
    "sns.set(font_scale=1.4)\n",
    "\n",
    "#plt.savefig(\"FreqTable_BW.pdf\")"
   ]
  },
  {
   "cell_type": "code",
   "execution_count": 30,
   "id": "f57fbae8",
   "metadata": {},
   "outputs": [
    {
     "data": {
      "text/plain": [
       "0.67570385818561"
      ]
     },
     "execution_count": 30,
     "metadata": {},
     "output_type": "execute_result"
    }
   ],
   "source": [
    "#18 Which is the accuracy of the COMPAS algorithm for black defendants in the propublica-violent dataset?\n",
    "\n",
    "accuracy_vio= (p_vio.COMPAS_Decision[p_vio[\"race\"]=='African-American']== p_vio.two_year_recid[p_vio[\"race\"]=='African-American']).sum()\n",
    "accuracy_vio=accuracy_vio/len(p_vio.COMPAS_Decision[p_vio[\"race\"]=='African-American'])\n",
    "accuracy_vio"
   ]
  },
  {
   "cell_type": "code",
   "execution_count": 31,
   "id": "d2ea747b",
   "metadata": {},
   "outputs": [
    {
     "data": {
      "text/plain": [
       "0.7888965044551063"
      ]
     },
     "execution_count": 31,
     "metadata": {},
     "output_type": "execute_result"
    }
   ],
   "source": [
    "#19Which is the accuracy of the COMPAS algorithm for white defendants in the propublica-violent dataset?\n",
    "\n",
    "accuracy_vio_white= (p_vio.COMPAS_Decision[p_vio[\"race\"]=='Caucasian']== p_vio.two_year_recid[p_vio[\"race\"]=='Caucasian']).sum()\n",
    "accuracy_vio_white=accuracy_vio_white/len(p_vio.COMPAS_Decision[p_vio[\"race\"]=='Caucasian'])\n",
    "accuracy_vio_white"
   ]
  },
  {
   "cell_type": "markdown",
   "id": "118f8b5a",
   "metadata": {},
   "source": [
    "Question:\n",
    "\n",
    "17- Provide the same tables for black and white defendants for the propublica-violent dataset. \n",
    "\n",
    "18- Which is the accuracy of the COMPAS algorithm for black defendants in the propublica-violent dataset?\n",
    "\n",
    "19- Which is the accuracy of the COMPAS algorithm for white defendants in the propublica-violent dataset?\n",
    "\n",
    "Optional question:\n",
    "\n",
    "20- In the propublica dataset, we justified unfairness in the FNR and FPR differences between black and white defendants. Can we say the same for the propublica-violent dataset? Why?\n"
   ]
  },
  {
   "cell_type": "code",
   "execution_count": 32,
   "id": "6db23af0",
   "metadata": {},
   "outputs": [
    {
     "name": "stdout",
     "output_type": "stream",
     "text": [
      "Fp rate -> Fp case :  0.10504634397528322\n",
      "Fp rate -> Fn case :  0.6874435411020777\n"
     ]
    }
   ],
   "source": [
    "C_decision = pd.crosstab(p_vio[\"COMPAS_Decision\"], p_vio[\"two_year_recid\"], margins=True)\n",
    "Fp = C_decision[1][0]\n",
    "Tp = C_decision[1][1]\n",
    "Fn = C_decision[0][1]\n",
    "Tn = C_decision[0][0]\n",
    "print(\"Fp rate -> Fp case : \", str(Fp/(Fp+Tn)))\n",
    "print(\"Fp rate -> Fn case : \", str(Fn/(Fn+Tp)))\n",
    "\n",
    "#We can't say the same, in this dataset, the difference it's bigger, it's worse that one before"
   ]
  }
 ],
 "metadata": {
  "kernelspec": {
   "display_name": "Python 3 (ipykernel)",
   "language": "python",
   "name": "python3"
  },
  "language_info": {
   "codemirror_mode": {
    "name": "ipython",
    "version": 3
   },
   "file_extension": ".py",
   "mimetype": "text/x-python",
   "name": "python",
   "nbconvert_exporter": "python",
   "pygments_lexer": "ipython3",
   "version": "3.11.4"
  }
 },
 "nbformat": 4,
 "nbformat_minor": 5
}
