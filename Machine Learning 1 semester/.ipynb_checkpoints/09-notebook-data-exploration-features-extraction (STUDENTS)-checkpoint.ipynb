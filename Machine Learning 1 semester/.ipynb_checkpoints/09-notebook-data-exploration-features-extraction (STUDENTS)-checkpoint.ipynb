{
 "cells": [
  {
   "cell_type": "markdown",
   "id": "f0cb25b9",
   "metadata": {},
   "source": [
    "# Data exploration and Feature extraction\n",
    "\n",
    "sources:\n",
    "* https://www.sharpsightlabs.com/blog/data-analysis-machine-learning-example-1/\n",
    "\n",
    "**THE MAIN PREREQUISITE FOR MACHINE LEARNING IS DATA ANALYSIS**\n",
    "\n",
    "**80% OF THE DATA SCIENTIST WORK WILL BE DATA PREPARATION, EDA, AND VISUALIZATION**"
   ]
  },
  {
   "cell_type": "code",
   "execution_count": 1,
   "id": "807c7d0d",
   "metadata": {},
   "outputs": [
    {
     "name": "stdout",
     "output_type": "stream",
     "text": [
      "Collecting imbalanced-learn\n",
      "  Downloading imbalanced_learn-0.10.0-py3-none-any.whl (225 kB)\n",
      "Requirement already satisfied: scipy>=1.3.2 in c:\\users\\raffaele\\anaconda3\\lib\\site-packages (from imbalanced-learn) (1.7.3)\n",
      "Requirement already satisfied: threadpoolctl>=2.0.0 in c:\\users\\raffaele\\anaconda3\\lib\\site-packages (from imbalanced-learn) (2.2.0)\n",
      "Requirement already satisfied: scikit-learn>=1.0.2 in c:\\users\\raffaele\\anaconda3\\lib\\site-packages (from imbalanced-learn) (1.0.2)\n",
      "Requirement already satisfied: numpy>=1.17.3 in c:\\users\\raffaele\\anaconda3\\lib\\site-packages (from imbalanced-learn) (1.21.5)\n",
      "Collecting joblib>=1.1.1\n",
      "  Downloading joblib-1.2.0-py3-none-any.whl (297 kB)\n",
      "Installing collected packages: joblib, imbalanced-learn\n",
      "  Attempting uninstall: joblib\n",
      "    Found existing installation: joblib 1.1.0\n",
      "    Uninstalling joblib-1.1.0:\n",
      "      Successfully uninstalled joblib-1.1.0\n",
      "Successfully installed imbalanced-learn-0.10.0 joblib-1.2.0\n"
     ]
    }
   ],
   "source": [
    "# Install imblearn\n",
    "!pip install -U imbalanced-learn"
   ]
  },
  {
   "cell_type": "code",
   "execution_count": 2,
   "id": "316faf81",
   "metadata": {
    "ExecuteTime": {
     "end_time": "2022-12-12T10:03:38.878143Z",
     "start_time": "2022-12-12T10:03:38.658007Z"
    }
   },
   "outputs": [],
   "source": [
    "import matplotlib.pyplot as plt\n",
    "import pandas as pd\n",
    "import numpy as np\n",
    "import seaborn as sns\n",
    "\n",
    "from sklearn.compose import ColumnTransformer\n",
    "from sklearn.pipeline import Pipeline, FeatureUnion\n",
    "from sklearn.impute import SimpleImputer\n",
    "from sklearn.preprocessing import StandardScaler, OneHotEncoder\n",
    "\n",
    "import warnings\n",
    "warnings.filterwarnings('ignore')"
   ]
  },
  {
   "cell_type": "markdown",
   "id": "f0e53168",
   "metadata": {
    "toc": true
   },
   "source": [
    "<h1>Table of Contents<span class=\"tocSkip\"></span></h1>\n",
    "<div class=\"toc\"><ul class=\"toc-item\"><li><span><a href=\"#Step-1:-get-the-data\" data-toc-modified-id=\"Step-1:-get-the-data-1\"><span class=\"toc-item-num\">1&nbsp;&nbsp;</span>Step 1: get the data</a></span></li><li><span><a href=\"#Step-2:-basic-data-exploration\" data-toc-modified-id=\"Step-2:-basic-data-exploration-2\"><span class=\"toc-item-num\">2&nbsp;&nbsp;</span>Step 2: basic data exploration</a></span><ul class=\"toc-item\"><li><span><a href=\"#Missing-value\" data-toc-modified-id=\"Missing-value-2.1\"><span class=\"toc-item-num\">2.1&nbsp;&nbsp;</span>Missing value</a></span></li><li><span><a href=\"#View-data-distribution\" data-toc-modified-id=\"View-data-distribution-2.2\"><span class=\"toc-item-num\">2.2&nbsp;&nbsp;</span>View data distribution</a></span></li><li><span><a href=\"#Identify-outlier\" data-toc-modified-id=\"Identify-outlier-2.3\"><span class=\"toc-item-num\">2.3&nbsp;&nbsp;</span>Identify outlier</a></span></li><li><span><a href=\"#Check-correlation-between-features\" data-toc-modified-id=\"Check-correlation-between-features-2.4\"><span class=\"toc-item-num\">2.4&nbsp;&nbsp;</span>Check correlation between features</a></span></li></ul></li><li><span><a href=\"#Prepare-dataset\" data-toc-modified-id=\"Prepare-dataset-3\"><span class=\"toc-item-num\">3&nbsp;&nbsp;</span>Prepare dataset</a></span><ul class=\"toc-item\"><li><span><a href=\"#Split-the-dataset\" data-toc-modified-id=\"Split-the-dataset-3.1\"><span class=\"toc-item-num\">3.1&nbsp;&nbsp;</span>Split the dataset</a></span></li><li><span><a href=\"#Build-the-pipeline\" data-toc-modified-id=\"Build-the-pipeline-3.2\"><span class=\"toc-item-num\">3.2&nbsp;&nbsp;</span>Build the pipeline</a></span></li></ul></li><li><span><a href=\"#Your-work---Palmer-Archipelago-(Antarctica)-penguin-data\" data-toc-modified-id=\"Your-work---Palmer-Archipelago-(Antarctica)-penguin-data-4\"><span class=\"toc-item-num\">4&nbsp;&nbsp;</span>Your work - Palmer Archipelago (Antarctica) penguin data</a></span></li></ul></div>"
   ]
  },
  {
   "cell_type": "markdown",
   "id": "3a117325",
   "metadata": {},
   "source": [
    "## Your work - Palmer Archipelago (Antarctica) penguin data\n",
    "\n",
    "Data were collected and made available by Dr. Kristen Gorman and the Palmer Station, Antarctica LTER, a member of the Long Term Ecological Research Network. \n",
    "\n",
    "Please cite this data using: *Gorman KB, Williams TD, Fraser WR (2014) Ecological Sexual Dimorphism and Environmental Variability within a Community of Antarctic Penguins (Genus Pygoscelis). PLoS ONE 9(3): e90081. doi:10.1371/journal.pone.0090081*\n",
    "\n",
    "`penguins_size.csv` is simplified data from original penguin data sets and contains variables:\n",
    "\n",
    "* species: penguin species (Chinstrap, Adélie, or Gentoospecies: penguin species (Chinstrap, Adélie, or Gentoo`)\n",
    "* culmen_length_mm: culmen length (mm) \n",
    "* culmen_depth_mm: culmen depth (mm) \n",
    "* flipper_length_mm: flipper length (mm) \n",
    "* body_mass_g: body mass (g) \n",
    "* island: island name (Dream, Torgersen, or Biscoe) in the Palmer Archipelago (Antarctica)\n",
    "* sex: penguin sex\n",
    "\n",
    "The culmen is \"the upper ridge of a bird's beak\" (definition from Oxford Languages). \n",
    "\n",
    "The goal, is to predict the species ![species](https://imgur.com/orZWHly.png)"
   ]
  },
  {
   "cell_type": "markdown",
   "id": "73c6bb12",
   "metadata": {},
   "source": [
    "## Data loading"
   ]
  },
  {
   "cell_type": "code",
   "execution_count": 3,
   "id": "697d32eb",
   "metadata": {
    "ExecuteTime": {
     "end_time": "2022-12-12T10:26:41.801575Z",
     "start_time": "2022-12-12T10:26:41.798348Z"
    }
   },
   "outputs": [],
   "source": [
    "import ssl\n",
    "\n",
    "try:\n",
    "    _create_unverified_https_context = ssl._create_unverified_context\n",
    "except AttributeError:\n",
    "    # Legacy Python that doesn't verify HTTPS certificates by default\n",
    "    pass\n",
    "else:\n",
    "    # Handle target environment that doesn't support HTTPS verification\n",
    "    ssl._create_default_https_context = _create_unverified_https_context"
   ]
  },
  {
   "cell_type": "code",
   "execution_count": 4,
   "id": "03ee2e1c",
   "metadata": {
    "ExecuteTime": {
     "end_time": "2022-12-12T10:26:42.168605Z",
     "start_time": "2022-12-12T10:26:42.115280Z"
    }
   },
   "outputs": [
    {
     "data": {
      "text/html": [
       "<div>\n",
       "<style scoped>\n",
       "    .dataframe tbody tr th:only-of-type {\n",
       "        vertical-align: middle;\n",
       "    }\n",
       "\n",
       "    .dataframe tbody tr th {\n",
       "        vertical-align: top;\n",
       "    }\n",
       "\n",
       "    .dataframe thead th {\n",
       "        text-align: right;\n",
       "    }\n",
       "</style>\n",
       "<table border=\"1\" class=\"dataframe\">\n",
       "  <thead>\n",
       "    <tr style=\"text-align: right;\">\n",
       "      <th></th>\n",
       "      <th>species</th>\n",
       "      <th>island</th>\n",
       "      <th>culmen_length_mm</th>\n",
       "      <th>culmen_depth_mm</th>\n",
       "      <th>flipper_length_mm</th>\n",
       "      <th>body_mass_g</th>\n",
       "      <th>sex</th>\n",
       "    </tr>\n",
       "  </thead>\n",
       "  <tbody>\n",
       "    <tr>\n",
       "      <th>0</th>\n",
       "      <td>Adelie</td>\n",
       "      <td>Torgersen</td>\n",
       "      <td>39.1</td>\n",
       "      <td>18.7</td>\n",
       "      <td>181.0</td>\n",
       "      <td>3750.0</td>\n",
       "      <td>MALE</td>\n",
       "    </tr>\n",
       "    <tr>\n",
       "      <th>1</th>\n",
       "      <td>Adelie</td>\n",
       "      <td>Torgersen</td>\n",
       "      <td>39.5</td>\n",
       "      <td>17.4</td>\n",
       "      <td>186.0</td>\n",
       "      <td>3800.0</td>\n",
       "      <td>FEMALE</td>\n",
       "    </tr>\n",
       "    <tr>\n",
       "      <th>2</th>\n",
       "      <td>Adelie</td>\n",
       "      <td>Torgersen</td>\n",
       "      <td>40.3</td>\n",
       "      <td>18.0</td>\n",
       "      <td>195.0</td>\n",
       "      <td>3250.0</td>\n",
       "      <td>FEMALE</td>\n",
       "    </tr>\n",
       "    <tr>\n",
       "      <th>3</th>\n",
       "      <td>Adelie</td>\n",
       "      <td>Torgersen</td>\n",
       "      <td>NaN</td>\n",
       "      <td>NaN</td>\n",
       "      <td>NaN</td>\n",
       "      <td>NaN</td>\n",
       "      <td>NaN</td>\n",
       "    </tr>\n",
       "    <tr>\n",
       "      <th>4</th>\n",
       "      <td>Adelie</td>\n",
       "      <td>Torgersen</td>\n",
       "      <td>36.7</td>\n",
       "      <td>19.3</td>\n",
       "      <td>193.0</td>\n",
       "      <td>3450.0</td>\n",
       "      <td>FEMALE</td>\n",
       "    </tr>\n",
       "  </tbody>\n",
       "</table>\n",
       "</div>"
      ],
      "text/plain": [
       "  species     island  culmen_length_mm  culmen_depth_mm  flipper_length_mm  \\\n",
       "0  Adelie  Torgersen              39.1             18.7              181.0   \n",
       "1  Adelie  Torgersen              39.5             17.4              186.0   \n",
       "2  Adelie  Torgersen              40.3             18.0              195.0   \n",
       "3  Adelie  Torgersen               NaN              NaN                NaN   \n",
       "4  Adelie  Torgersen              36.7             19.3              193.0   \n",
       "\n",
       "   body_mass_g     sex  \n",
       "0       3750.0    MALE  \n",
       "1       3800.0  FEMALE  \n",
       "2       3250.0  FEMALE  \n",
       "3          NaN     NaN  \n",
       "4       3450.0  FEMALE  "
      ]
     },
     "execution_count": 4,
     "metadata": {},
     "output_type": "execute_result"
    }
   ],
   "source": [
    "# Read dataset with pandas\n",
    "path = \"http://www.i3s.unice.fr/~riveill/dataset/penguins_size.csv\"\n",
    "\n",
    "penguins = pd.read_csv(path)\n",
    "penguins.head(5)"
   ]
  },
  {
   "cell_type": "code",
   "execution_count": 9,
   "id": "7ccc80ee",
   "metadata": {
    "ExecuteTime": {
     "end_time": "2022-12-12T10:26:43.041183Z",
     "start_time": "2022-12-12T10:26:43.036976Z"
    }
   },
   "outputs": [
    {
     "data": {
      "text/plain": [
       "species               object\n",
       "island                object\n",
       "culmen_length_mm     float64\n",
       "culmen_depth_mm      float64\n",
       "flipper_length_mm    float64\n",
       "body_mass_g          float64\n",
       "sex                   object\n",
       "dtype: object"
      ]
     },
     "execution_count": 9,
     "metadata": {},
     "output_type": "execute_result"
    }
   ],
   "source": [
    "# Look at the initial type of each column\n",
    "\n",
    "\"\"\" Put your code here. Tips: use dtypes from pandas \"\"\"\n",
    "penguins.dtypes"
   ]
  },
  {
   "cell_type": "code",
   "execution_count": 10,
   "id": "1f723219",
   "metadata": {
    "ExecuteTime": {
     "end_time": "2022-12-12T10:26:44.386357Z",
     "start_time": "2022-12-12T10:26:44.381799Z"
    }
   },
   "outputs": [
    {
     "data": {
      "text/plain": [
       "0        MALE\n",
       "1      FEMALE\n",
       "2      FEMALE\n",
       "3        <NA>\n",
       "4      FEMALE\n",
       "        ...  \n",
       "339      <NA>\n",
       "340    FEMALE\n",
       "341      MALE\n",
       "342    FEMALE\n",
       "343      MALE\n",
       "Name: sex, Length: 344, dtype: string"
      ]
     },
     "execution_count": 10,
     "metadata": {},
     "output_type": "execute_result"
    }
   ],
   "source": [
    "# Assign the correct type to each column\n",
    "\n",
    "\"\"\" Put your code here. Tips: use astype() from pandas \"\"\"\n",
    "penguins[\"species\"].astype(\"string\")\n",
    "penguins[\"island\"].astype(\"string\")\n",
    "penguins[\"sex\"].astype(\"string\")\n",
    "\n"
   ]
  },
  {
   "cell_type": "code",
   "execution_count": 11,
   "id": "d0e18a71",
   "metadata": {
    "ExecuteTime": {
     "end_time": "2022-12-12T10:26:47.674314Z",
     "start_time": "2022-12-12T10:26:47.670155Z"
    }
   },
   "outputs": [],
   "source": [
    "# Replace the name of the target column \"species\" with \"target\"\n",
    "\n",
    "\"\"\" Put your code here. Tips: use rename() from pandas \"\"\"\n",
    "penguins = penguins.rename(columns = {'species':'target'})"
   ]
  },
  {
   "cell_type": "code",
   "execution_count": 12,
   "id": "9558b1df",
   "metadata": {
    "ExecuteTime": {
     "end_time": "2022-12-12T10:27:12.257072Z",
     "start_time": "2022-12-12T10:27:12.245347Z"
    }
   },
   "outputs": [
    {
     "data": {
      "text/html": [
       "<div>\n",
       "<style scoped>\n",
       "    .dataframe tbody tr th:only-of-type {\n",
       "        vertical-align: middle;\n",
       "    }\n",
       "\n",
       "    .dataframe tbody tr th {\n",
       "        vertical-align: top;\n",
       "    }\n",
       "\n",
       "    .dataframe thead th {\n",
       "        text-align: right;\n",
       "    }\n",
       "</style>\n",
       "<table border=\"1\" class=\"dataframe\">\n",
       "  <thead>\n",
       "    <tr style=\"text-align: right;\">\n",
       "      <th></th>\n",
       "      <th>target</th>\n",
       "      <th>island</th>\n",
       "      <th>culmen_length_mm</th>\n",
       "      <th>culmen_depth_mm</th>\n",
       "      <th>flipper_length_mm</th>\n",
       "      <th>body_mass_g</th>\n",
       "      <th>sex</th>\n",
       "    </tr>\n",
       "  </thead>\n",
       "  <tbody>\n",
       "    <tr>\n",
       "      <th>0</th>\n",
       "      <td>Adelie</td>\n",
       "      <td>Torgersen</td>\n",
       "      <td>39.1</td>\n",
       "      <td>18.7</td>\n",
       "      <td>181.0</td>\n",
       "      <td>3750.0</td>\n",
       "      <td>MALE</td>\n",
       "    </tr>\n",
       "    <tr>\n",
       "      <th>1</th>\n",
       "      <td>Adelie</td>\n",
       "      <td>Torgersen</td>\n",
       "      <td>39.5</td>\n",
       "      <td>17.4</td>\n",
       "      <td>186.0</td>\n",
       "      <td>3800.0</td>\n",
       "      <td>FEMALE</td>\n",
       "    </tr>\n",
       "    <tr>\n",
       "      <th>2</th>\n",
       "      <td>Adelie</td>\n",
       "      <td>Torgersen</td>\n",
       "      <td>40.3</td>\n",
       "      <td>18.0</td>\n",
       "      <td>195.0</td>\n",
       "      <td>3250.0</td>\n",
       "      <td>FEMALE</td>\n",
       "    </tr>\n",
       "    <tr>\n",
       "      <th>3</th>\n",
       "      <td>Adelie</td>\n",
       "      <td>Torgersen</td>\n",
       "      <td>NaN</td>\n",
       "      <td>NaN</td>\n",
       "      <td>NaN</td>\n",
       "      <td>NaN</td>\n",
       "      <td>NaN</td>\n",
       "    </tr>\n",
       "    <tr>\n",
       "      <th>4</th>\n",
       "      <td>Adelie</td>\n",
       "      <td>Torgersen</td>\n",
       "      <td>36.7</td>\n",
       "      <td>19.3</td>\n",
       "      <td>193.0</td>\n",
       "      <td>3450.0</td>\n",
       "      <td>FEMALE</td>\n",
       "    </tr>\n",
       "  </tbody>\n",
       "</table>\n",
       "</div>"
      ],
      "text/plain": [
       "   target     island  culmen_length_mm  culmen_depth_mm  flipper_length_mm  \\\n",
       "0  Adelie  Torgersen              39.1             18.7              181.0   \n",
       "1  Adelie  Torgersen              39.5             17.4              186.0   \n",
       "2  Adelie  Torgersen              40.3             18.0              195.0   \n",
       "3  Adelie  Torgersen               NaN              NaN                NaN   \n",
       "4  Adelie  Torgersen              36.7             19.3              193.0   \n",
       "\n",
       "   body_mass_g     sex  \n",
       "0       3750.0    MALE  \n",
       "1       3800.0  FEMALE  \n",
       "2       3250.0  FEMALE  \n",
       "3          NaN     NaN  \n",
       "4       3450.0  FEMALE  "
      ]
     },
     "execution_count": 12,
     "metadata": {},
     "output_type": "execute_result"
    }
   ],
   "source": [
    "penguins.head()"
   ]
  },
  {
   "cell_type": "markdown",
   "id": "d4c5d8a8",
   "metadata": {
    "ExecuteTime": {
     "end_time": "2022-12-12T10:27:05.090894Z",
     "start_time": "2022-12-12T10:27:05.088530Z"
    }
   },
   "source": [
    "## Data Analysis"
   ]
  },
  {
   "cell_type": "code",
   "execution_count": 15,
   "id": "e95c0439",
   "metadata": {
    "ExecuteTime": {
     "end_time": "2022-12-12T10:07:45.399194Z",
     "start_time": "2022-12-12T10:07:45.391458Z"
    }
   },
   "outputs": [
    {
     "data": {
      "text/html": [
       "<div>\n",
       "<style scoped>\n",
       "    .dataframe tbody tr th:only-of-type {\n",
       "        vertical-align: middle;\n",
       "    }\n",
       "\n",
       "    .dataframe tbody tr th {\n",
       "        vertical-align: top;\n",
       "    }\n",
       "\n",
       "    .dataframe thead th {\n",
       "        text-align: right;\n",
       "    }\n",
       "</style>\n",
       "<table border=\"1\" class=\"dataframe\">\n",
       "  <thead>\n",
       "    <tr style=\"text-align: right;\">\n",
       "      <th></th>\n",
       "      <th>target</th>\n",
       "      <th>island</th>\n",
       "      <th>culmen_length_mm</th>\n",
       "      <th>culmen_depth_mm</th>\n",
       "      <th>flipper_length_mm</th>\n",
       "      <th>body_mass_g</th>\n",
       "      <th>sex</th>\n",
       "    </tr>\n",
       "  </thead>\n",
       "  <tbody>\n",
       "    <tr>\n",
       "      <th>0</th>\n",
       "      <td>False</td>\n",
       "      <td>False</td>\n",
       "      <td>False</td>\n",
       "      <td>False</td>\n",
       "      <td>False</td>\n",
       "      <td>False</td>\n",
       "      <td>False</td>\n",
       "    </tr>\n",
       "    <tr>\n",
       "      <th>1</th>\n",
       "      <td>False</td>\n",
       "      <td>False</td>\n",
       "      <td>False</td>\n",
       "      <td>False</td>\n",
       "      <td>False</td>\n",
       "      <td>False</td>\n",
       "      <td>False</td>\n",
       "    </tr>\n",
       "    <tr>\n",
       "      <th>2</th>\n",
       "      <td>False</td>\n",
       "      <td>False</td>\n",
       "      <td>False</td>\n",
       "      <td>False</td>\n",
       "      <td>False</td>\n",
       "      <td>False</td>\n",
       "      <td>False</td>\n",
       "    </tr>\n",
       "    <tr>\n",
       "      <th>3</th>\n",
       "      <td>False</td>\n",
       "      <td>False</td>\n",
       "      <td>True</td>\n",
       "      <td>True</td>\n",
       "      <td>True</td>\n",
       "      <td>True</td>\n",
       "      <td>True</td>\n",
       "    </tr>\n",
       "    <tr>\n",
       "      <th>4</th>\n",
       "      <td>False</td>\n",
       "      <td>False</td>\n",
       "      <td>False</td>\n",
       "      <td>False</td>\n",
       "      <td>False</td>\n",
       "      <td>False</td>\n",
       "      <td>False</td>\n",
       "    </tr>\n",
       "    <tr>\n",
       "      <th>...</th>\n",
       "      <td>...</td>\n",
       "      <td>...</td>\n",
       "      <td>...</td>\n",
       "      <td>...</td>\n",
       "      <td>...</td>\n",
       "      <td>...</td>\n",
       "      <td>...</td>\n",
       "    </tr>\n",
       "    <tr>\n",
       "      <th>339</th>\n",
       "      <td>False</td>\n",
       "      <td>False</td>\n",
       "      <td>True</td>\n",
       "      <td>True</td>\n",
       "      <td>True</td>\n",
       "      <td>True</td>\n",
       "      <td>True</td>\n",
       "    </tr>\n",
       "    <tr>\n",
       "      <th>340</th>\n",
       "      <td>False</td>\n",
       "      <td>False</td>\n",
       "      <td>False</td>\n",
       "      <td>False</td>\n",
       "      <td>False</td>\n",
       "      <td>False</td>\n",
       "      <td>False</td>\n",
       "    </tr>\n",
       "    <tr>\n",
       "      <th>341</th>\n",
       "      <td>False</td>\n",
       "      <td>False</td>\n",
       "      <td>False</td>\n",
       "      <td>False</td>\n",
       "      <td>False</td>\n",
       "      <td>False</td>\n",
       "      <td>False</td>\n",
       "    </tr>\n",
       "    <tr>\n",
       "      <th>342</th>\n",
       "      <td>False</td>\n",
       "      <td>False</td>\n",
       "      <td>False</td>\n",
       "      <td>False</td>\n",
       "      <td>False</td>\n",
       "      <td>False</td>\n",
       "      <td>False</td>\n",
       "    </tr>\n",
       "    <tr>\n",
       "      <th>343</th>\n",
       "      <td>False</td>\n",
       "      <td>False</td>\n",
       "      <td>False</td>\n",
       "      <td>False</td>\n",
       "      <td>False</td>\n",
       "      <td>False</td>\n",
       "      <td>False</td>\n",
       "    </tr>\n",
       "  </tbody>\n",
       "</table>\n",
       "<p>344 rows × 7 columns</p>\n",
       "</div>"
      ],
      "text/plain": [
       "     target  island  culmen_length_mm  culmen_depth_mm  flipper_length_mm  \\\n",
       "0     False   False             False            False              False   \n",
       "1     False   False             False            False              False   \n",
       "2     False   False             False            False              False   \n",
       "3     False   False              True             True               True   \n",
       "4     False   False             False            False              False   \n",
       "..      ...     ...               ...              ...                ...   \n",
       "339   False   False              True             True               True   \n",
       "340   False   False             False            False              False   \n",
       "341   False   False             False            False              False   \n",
       "342   False   False             False            False              False   \n",
       "343   False   False             False            False              False   \n",
       "\n",
       "     body_mass_g    sex  \n",
       "0          False  False  \n",
       "1          False  False  \n",
       "2          False  False  \n",
       "3           True   True  \n",
       "4          False  False  \n",
       "..           ...    ...  \n",
       "339         True   True  \n",
       "340        False  False  \n",
       "341        False  False  \n",
       "342        False  False  \n",
       "343        False  False  \n",
       "\n",
       "[344 rows x 7 columns]"
      ]
     },
     "execution_count": 15,
     "metadata": {},
     "output_type": "execute_result"
    }
   ],
   "source": [
    "# Are there any missing values ?\n",
    "\n",
    "\"\"\" Put your code here. Tips: use isnull(), sum() from pandas \"\"\"\n",
    "\"\"\" (cf. https://towardsdatascience.com/how-to-check-for-missing-values-in-pandas-d2749e45a345) \"\"\"\n",
    "penguins.isnull()"
   ]
  },
  {
   "cell_type": "markdown",
   "id": "9b022f7c",
   "metadata": {},
   "source": [
    "We now know that the dataset contains missing values.\n",
    "\n",
    "We will remove these later when we build the pipeline."
   ]
  },
  {
   "cell_type": "code",
   "execution_count": 16,
   "id": "44d5e573",
   "metadata": {
    "ExecuteTime": {
     "end_time": "2022-12-12T10:15:23.714791Z",
     "start_time": "2022-12-12T10:15:23.710939Z"
    }
   },
   "outputs": [
    {
     "data": {
      "text/plain": [
       "<AxesSubplot:>"
      ]
     },
     "execution_count": 16,
     "metadata": {},
     "output_type": "execute_result"
    },
    {
     "data": {
      "image/png": "[encoded data removed]",
      "text/plain": [
       "<Figure size 432x288 with 1 Axes>"
      ]
     },
     "metadata": {
      "needs_background": "light"
     },
     "output_type": "display_data"
    }
   ],
   "source": [
    "# Is the dataset well balanced? To do so, display the histogram or a pie of the target class.\n",
    "\n",
    "\"\"\" Put your code here. Tips: use value_counts(), plot(), pie() from pandas \"\"\"\n",
    "\"\"\" https://pandas.pydata.org/docs/reference/api/pandas.DataFrame.value_counts.html \"\"\"\n",
    "\"\"\" https://pandas.pydata.org/docs/reference/api/pandas.DataFrame.plot.pie.html \"\"\"\n",
    "penguins.plot()"
   ]
  },
  {
   "cell_type": "code",
   "execution_count": null,
   "id": "6f76fb90",
   "metadata": {},
   "outputs": [],
   "source": []
  },
  {
   "cell_type": "code",
   "execution_count": 23,
   "id": "fa036a1e",
   "metadata": {
    "ExecuteTime": {
     "end_time": "2022-12-12T09:54:11.246564Z",
     "start_time": "2022-12-12T09:54:10.508045Z"
    }
   },
   "outputs": [
    {
     "data": {
      "text/plain": [
       "array([[<AxesSubplot:title={'center':'culmen_length_mm'}>,\n",
       "        <AxesSubplot:title={'center':'culmen_depth_mm'}>,\n",
       "        <AxesSubplot:title={'center':'flipper_length_mm'}>,\n",
       "        <AxesSubplot:title={'center':'body_mass_g'}>],\n",
       "       [<AxesSubplot:>, <AxesSubplot:>, <AxesSubplot:>, <AxesSubplot:>],\n",
       "       [<AxesSubplot:>, <AxesSubplot:>, <AxesSubplot:>, <AxesSubplot:>],\n",
       "       [<AxesSubplot:>, <AxesSubplot:>, <AxesSubplot:>, <AxesSubplot:>]],\n",
       "      dtype=object)"
      ]
     },
     "execution_count": 23,
     "metadata": {},
     "output_type": "execute_result"
    },
    {
     "data": {
      "image/png": "[encoded data removed]",
      "text/plain": [
       "<Figure size 1080x648 with 16 Axes>"
      ]
     },
     "metadata": {
      "needs_background": "light"
     },
     "output_type": "display_data"
    }
   ],
   "source": [
    "# Plot the distribution of each features\n",
    "\n",
    "\"\"\" Put your code here. Tips use hist() \"\"\"\n",
    "penguins.hist(layout =(4,4), bins=50, xlabelsize=8, ylabelsize=8, figsize=(15,9))\n"
   ]
  },
  {
   "cell_type": "code",
   "execution_count": 24,
   "id": "08a01ffc",
   "metadata": {},
   "outputs": [
    {
     "data": {
      "text/plain": [
       "target\n",
       "Adelie       [[AxesSubplot(0.125,0.725918;0.158163x0.154082...\n",
       "Chinstrap    [[AxesSubplot(0.125,0.725918;0.158163x0.154082...\n",
       "Gentoo       [[AxesSubplot(0.125,0.725918;0.158163x0.154082...\n",
       "dtype: object"
      ]
     },
     "execution_count": 24,
     "metadata": {},
     "output_type": "execute_result"
    },
    {
     "data": {
      "image/png": "[encoded data removed]",
      "text/plain": [
       "<Figure size 1080x648 with 16 Axes>"
      ]
     },
     "metadata": {
      "needs_background": "light"
     },
     "output_type": "display_data"
    },
    {
     "data": {
      "image/png": "[encoded data removed]",
      "text/plain": [
       "<Figure size 1080x648 with 16 Axes>"
      ]
     },
     "metadata": {
      "needs_background": "light"
     },
     "output_type": "display_data"
    },
    {
     "data": {
      "image/png": "[encoded data removed]",
      "text/plain": [
       "<Figure size 1080x648 with 16 Axes>"
      ]
     },
     "metadata": {
      "needs_background": "light"
     },
     "output_type": "display_data"
    }
   ],
   "source": [
    "#grouping by target class\n",
    "penguins.groupby(\"target\").hist(layout =(4,4), bins=50, xlabelsize=8, ylabelsize=8, figsize=(15,9))"
   ]
  },
  {
   "cell_type": "code",
   "execution_count": 25,
   "id": "558ca6b9",
   "metadata": {
    "ExecuteTime": {
     "end_time": "2022-12-12T10:50:02.547024Z",
     "start_time": "2022-12-12T10:50:01.659102Z"
    }
   },
   "outputs": [
    {
     "data": {
      "image/png": "[encoded data removed]",
      "text/plain": [
       "<Figure size 900x180 with 6 Axes>"
      ]
     },
     "metadata": {
      "needs_background": "light"
     },
     "output_type": "display_data"
    },
    {
     "data": {
      "image/png": "[encoded data removed]",
      "text/plain": [
       "<Figure size 360x180 with 2 Axes>"
      ]
     },
     "metadata": {
      "needs_background": "light"
     },
     "output_type": "display_data"
    }
   ],
   "source": [
    "# Try to identify outliers\n",
    "for i in range(0, len(penguins.columns), 5):\n",
    "    sns.pairplot(data=penguins,\n",
    "                x_vars=penguins.columns[i:i+5],\n",
    "                y_vars=['target'])"
   ]
  },
  {
   "cell_type": "markdown",
   "id": "0e3b7f66",
   "metadata": {},
   "source": [
    "Rmq: It seems that the sex is not known for some observations. We have to \"treat this problem later\"."
   ]
  },
  {
   "cell_type": "markdown",
   "id": "31dd881b",
   "metadata": {},
   "source": [
    "You can also use one of the methods seen in class to identify outliers."
   ]
  },
  {
   "cell_type": "code",
   "execution_count": 28,
   "id": "38428340",
   "metadata": {},
   "outputs": [
    {
     "ename": "TypeError",
     "evalue": "can only concatenate str (not \"float\") to str",
     "output_type": "error",
     "traceback": [
      "\u001b[1;31m---------------------------------------------------------------------------\u001b[0m",
      "\u001b[1;31mTypeError\u001b[0m                                 Traceback (most recent call last)",
      "Input \u001b[1;32mIn [28]\u001b[0m, in \u001b[0;36m<cell line: 3>\u001b[1;34m()\u001b[0m\n\u001b[0;32m      1\u001b[0m \u001b[38;5;124;03m\"\"\" Put your code here \"\"\"\u001b[39;00m\n\u001b[0;32m      2\u001b[0m \u001b[38;5;28;01mimport\u001b[39;00m \u001b[38;5;21;01mscipy\u001b[39;00m\n\u001b[1;32m----> 3\u001b[0m z \u001b[38;5;241m=\u001b[39m np\u001b[38;5;241m.\u001b[39mabs(\u001b[43mscipy\u001b[49m\u001b[38;5;241;43m.\u001b[39;49m\u001b[43mstats\u001b[49m\u001b[38;5;241;43m.\u001b[39;49m\u001b[43mzscore\u001b[49m\u001b[43m(\u001b[49m\u001b[43mpenguins\u001b[49m\u001b[43m)\u001b[49m)\n",
      "File \u001b[1;32m~\\anaconda3\\lib\\site-packages\\scipy\\stats\\stats.py:2474\u001b[0m, in \u001b[0;36mzscore\u001b[1;34m(a, axis, ddof, nan_policy)\u001b[0m\n\u001b[0;32m   2406\u001b[0m \u001b[38;5;28;01mdef\u001b[39;00m \u001b[38;5;21mzscore\u001b[39m(a, axis\u001b[38;5;241m=\u001b[39m\u001b[38;5;241m0\u001b[39m, ddof\u001b[38;5;241m=\u001b[39m\u001b[38;5;241m0\u001b[39m, nan_policy\u001b[38;5;241m=\u001b[39m\u001b[38;5;124m'\u001b[39m\u001b[38;5;124mpropagate\u001b[39m\u001b[38;5;124m'\u001b[39m):\n\u001b[0;32m   2407\u001b[0m     \u001b[38;5;124;03m\"\"\"\u001b[39;00m\n\u001b[0;32m   2408\u001b[0m \u001b[38;5;124;03m    Compute the z score.\u001b[39;00m\n\u001b[0;32m   2409\u001b[0m \n\u001b[1;32m   (...)\u001b[0m\n\u001b[0;32m   2472\u001b[0m \u001b[38;5;124;03m           [-0.91611681, -0.89090508,  1.4983032 ,  0.88731639, -0.5785977 ]])\u001b[39;00m\n\u001b[0;32m   2473\u001b[0m \u001b[38;5;124;03m    \"\"\"\u001b[39;00m\n\u001b[1;32m-> 2474\u001b[0m     \u001b[38;5;28;01mreturn\u001b[39;00m \u001b[43mzmap\u001b[49m\u001b[43m(\u001b[49m\u001b[43ma\u001b[49m\u001b[43m,\u001b[49m\u001b[43m \u001b[49m\u001b[43ma\u001b[49m\u001b[43m,\u001b[49m\u001b[43m \u001b[49m\u001b[43maxis\u001b[49m\u001b[38;5;241;43m=\u001b[39;49m\u001b[43maxis\u001b[49m\u001b[43m,\u001b[49m\u001b[43m \u001b[49m\u001b[43mddof\u001b[49m\u001b[38;5;241;43m=\u001b[39;49m\u001b[43mddof\u001b[49m\u001b[43m,\u001b[49m\u001b[43m \u001b[49m\u001b[43mnan_policy\u001b[49m\u001b[38;5;241;43m=\u001b[39;49m\u001b[43mnan_policy\u001b[49m\u001b[43m)\u001b[49m\n",
      "File \u001b[1;32m~\\anaconda3\\lib\\site-packages\\scipy\\stats\\stats.py:2544\u001b[0m, in \u001b[0;36mzmap\u001b[1;34m(scores, compare, axis, ddof, nan_policy)\u001b[0m\n\u001b[0;32m   2542\u001b[0m         isconst \u001b[38;5;241m=\u001b[39m np\u001b[38;5;241m.\u001b[39mapply_along_axis(_isconst, axis, a)\n\u001b[0;32m   2543\u001b[0m \u001b[38;5;28;01melse\u001b[39;00m:\n\u001b[1;32m-> 2544\u001b[0m     mn \u001b[38;5;241m=\u001b[39m \u001b[43ma\u001b[49m\u001b[38;5;241;43m.\u001b[39;49m\u001b[43mmean\u001b[49m\u001b[43m(\u001b[49m\u001b[43maxis\u001b[49m\u001b[38;5;241;43m=\u001b[39;49m\u001b[43maxis\u001b[49m\u001b[43m,\u001b[49m\u001b[43m \u001b[49m\u001b[43mkeepdims\u001b[49m\u001b[38;5;241;43m=\u001b[39;49m\u001b[38;5;28;43;01mTrue\u001b[39;49;00m\u001b[43m)\u001b[49m\n\u001b[0;32m   2545\u001b[0m     std \u001b[38;5;241m=\u001b[39m a\u001b[38;5;241m.\u001b[39mstd(axis\u001b[38;5;241m=\u001b[39maxis, ddof\u001b[38;5;241m=\u001b[39mddof, keepdims\u001b[38;5;241m=\u001b[39m\u001b[38;5;28;01mTrue\u001b[39;00m)\n\u001b[0;32m   2546\u001b[0m     \u001b[38;5;28;01mif\u001b[39;00m axis \u001b[38;5;129;01mis\u001b[39;00m \u001b[38;5;28;01mNone\u001b[39;00m:\n",
      "File \u001b[1;32m~\\anaconda3\\lib\\site-packages\\numpy\\core\\_methods.py:179\u001b[0m, in \u001b[0;36m_mean\u001b[1;34m(a, axis, dtype, out, keepdims, where)\u001b[0m\n\u001b[0;32m    176\u001b[0m         dtype \u001b[38;5;241m=\u001b[39m mu\u001b[38;5;241m.\u001b[39mdtype(\u001b[38;5;124m'\u001b[39m\u001b[38;5;124mf4\u001b[39m\u001b[38;5;124m'\u001b[39m)\n\u001b[0;32m    177\u001b[0m         is_float16_result \u001b[38;5;241m=\u001b[39m \u001b[38;5;28;01mTrue\u001b[39;00m\n\u001b[1;32m--> 179\u001b[0m ret \u001b[38;5;241m=\u001b[39m \u001b[43mumr_sum\u001b[49m\u001b[43m(\u001b[49m\u001b[43marr\u001b[49m\u001b[43m,\u001b[49m\u001b[43m \u001b[49m\u001b[43maxis\u001b[49m\u001b[43m,\u001b[49m\u001b[43m \u001b[49m\u001b[43mdtype\u001b[49m\u001b[43m,\u001b[49m\u001b[43m \u001b[49m\u001b[43mout\u001b[49m\u001b[43m,\u001b[49m\u001b[43m \u001b[49m\u001b[43mkeepdims\u001b[49m\u001b[43m,\u001b[49m\u001b[43m \u001b[49m\u001b[43mwhere\u001b[49m\u001b[38;5;241;43m=\u001b[39;49m\u001b[43mwhere\u001b[49m\u001b[43m)\u001b[49m\n\u001b[0;32m    180\u001b[0m \u001b[38;5;28;01mif\u001b[39;00m \u001b[38;5;28misinstance\u001b[39m(ret, mu\u001b[38;5;241m.\u001b[39mndarray):\n\u001b[0;32m    181\u001b[0m     ret \u001b[38;5;241m=\u001b[39m um\u001b[38;5;241m.\u001b[39mtrue_divide(\n\u001b[0;32m    182\u001b[0m             ret, rcount, out\u001b[38;5;241m=\u001b[39mret, casting\u001b[38;5;241m=\u001b[39m\u001b[38;5;124m'\u001b[39m\u001b[38;5;124munsafe\u001b[39m\u001b[38;5;124m'\u001b[39m, subok\u001b[38;5;241m=\u001b[39m\u001b[38;5;28;01mFalse\u001b[39;00m)\n",
      "\u001b[1;31mTypeError\u001b[0m: can only concatenate str (not \"float\") to str"
     ]
    }
   ],
   "source": [
    "\"\"\" Put your code here \"\"\"\n",
    "import scipy\n",
    "z = np.abs(scipy.stats.zscore(penguins))#only the numerical columns"
   ]
  },
  {
   "cell_type": "code",
   "execution_count": null,
   "id": "fb5ec3c1",
   "metadata": {},
   "outputs": [],
   "source": [
    "Again, we do not modify the dataset, we will build a sampler to eliminate outliers."
   ]
  },
  {
   "cell_type": "code",
   "execution_count": null,
   "id": "0a61ec7f",
   "metadata": {
    "ExecuteTime": {
     "end_time": "2022-12-12T09:54:16.053104Z",
     "start_time": "2022-12-12T09:54:15.885146Z"
    }
   },
   "outputs": [],
   "source": [
    "# Using sns, display the correlations between the features. What do you observe?\n",
    "sns.heatmap(penguins.corr().abs());"
   ]
  },
  {
   "cell_type": "markdown",
   "id": "9685b984",
   "metadata": {},
   "source": [
    "Rm: It is not possible to see a correlation between all the features. It is only possible between numerical values."
   ]
  },
  {
   "cell_type": "markdown",
   "id": "905584c5",
   "metadata": {},
   "source": [
    "## Data splitting\n",
    "\n",
    "* Step 1: build X and y\n",
    "* Step 2: select 75 % for training and 25 % for testing (use random_state=2022 for train_test_split))\n",
    "    * Store the result in X_train, y_train, X_test, y_test"
   ]
  },
  {
   "cell_type": "code",
   "execution_count": null,
   "id": "518f26dc",
   "metadata": {
    "ExecuteTime": {
     "end_time": "2022-12-12T09:54:23.025865Z",
     "start_time": "2022-12-12T09:54:23.017346Z"
    }
   },
   "outputs": [],
   "source": [
    "# Step 1\n",
    "\n",
    "\"\"\" Put your code here \"\"\""
   ]
  },
  {
   "cell_type": "code",
   "execution_count": null,
   "id": "070c7343",
   "metadata": {},
   "outputs": [],
   "source": [
    "# Step 2\n",
    "\n",
    "\"\"\" Put your code here \"\"\""
   ]
  },
  {
   "cell_type": "markdown",
   "id": "9b564471",
   "metadata": {},
   "source": [
    "## Build a pipeline"
   ]
  },
  {
   "cell_type": "code",
   "execution_count": null,
   "id": "fe1d1bd9",
   "metadata": {
    "ExecuteTime": {
     "end_time": "2022-12-12T09:54:26.558020Z",
     "start_time": "2022-12-12T09:54:26.551923Z"
    }
   },
   "outputs": [],
   "source": [
    "'''\n",
    "Build a pipeline that\n",
    "- remove observation without sex\n",
    "- remove your outlier\n",
    "- replaces missing numerical values with the mean value\n",
    "- replaces missing categorical values with the most frequent value\n",
    "- normalizes the numerical features\n",
    "- one hot encodes the other categorical features\n",
    "'''"
   ]
  },
  {
   "cell_type": "code",
   "execution_count": null,
   "id": "a11a8c11",
   "metadata": {},
   "outputs": [],
   "source": [
    "# Build an imblearn sampler the remove observation with sex==\".\"\n",
    "from imblearn import FunctionSampler\n",
    "\n",
    "def with_sex_only(X, y):\n",
    "    \"\"\"This will be our function used to resample our dataset.\"\"\"\n",
    "    is_not_missing = X['sex']!=\".\"\n",
    "    return X[is_not_missing], y[is_not_missing]\n",
    "\n",
    "cleaner = FunctionSampler(func=with_sex_only, validate=False)\n",
    "X_train_clean, y_train_clean = cleaner.fit_resample(X_train, y_train)\n",
    "X_train.shape, X_train_clean.shape"
   ]
  },
  {
   "cell_type": "code",
   "execution_count": null,
   "id": "f3645d37",
   "metadata": {
    "ExecuteTime": {
     "end_time": "2022-12-12T11:11:19.488372Z",
     "start_time": "2022-12-12T11:11:19.482700Z"
    }
   },
   "outputs": [],
   "source": [
    "# Now it's your turn: build your own FunctionSampler that remove your outlier\n",
    "\n",
    "# Define your function\n",
    "\n",
    "... = FunctionSampler(func=\"\"\" Put your code here \"\"\", validate=False) "
   ]
  },
  {
   "cell_type": "code",
   "execution_count": null,
   "id": "5b707505",
   "metadata": {},
   "outputs": [],
   "source": [
    "# Build a pipeline for the numeric features\n",
    "# Step 1: impute missing value with median\n",
    "# Step 2: normalize the value\n",
    "numeric_features = [f for f, t in zip(X_train.columns, X_train.dtypes) if t in ['float64', 'int32']]\n",
    "\n",
    "numeric_transformer = Pipeline(steps=[\n",
    "\"\"\" Put you code here\"\"\"\n",
    "])\n",
    "\n",
    "numeric_features"
   ]
  },
  {
   "cell_type": "code",
   "execution_count": null,
   "id": "53af4bc0",
   "metadata": {
    "ExecuteTime": {
     "end_time": "2022-12-12T09:54:27.267485Z",
     "start_time": "2022-12-12T09:54:27.262343Z"
    }
   },
   "outputs": [],
   "source": [
    "# Build a pipeline for the categorical features\n",
    "# Step 1: impute missing value with most frequent\n",
    "# Step 2: one hot encode\n",
    "categorical_features = [f for f in X_train.columns if f not in numeric_features]\n",
    "\n",
    "categorical_transformer = Pipeline(steps=[\n",
    "\"\"\" Put you code here\"\"\"\n",
    "])\n",
    "\n",
    "categorical_features"
   ]
  },
  {
   "cell_type": "code",
   "execution_count": null,
   "id": "26d008f9",
   "metadata": {
    "ExecuteTime": {
     "end_time": "2022-12-12T09:54:28.635878Z",
     "start_time": "2022-12-12T09:54:28.632808Z"
    }
   },
   "outputs": [],
   "source": [
    "# Now we group the two dedicated pipeline in the same ColumTransformer\n",
    "preprocessor = ColumnTransformer(\n",
    "    transformers=[\n",
    "        ('num', numeric_transformer, numeric_features),\n",
    "        ('cat', categorical_transformer, categorical_features)])"
   ]
  },
  {
   "cell_type": "code",
   "execution_count": null,
   "id": "f85d94f3",
   "metadata": {
    "ExecuteTime": {
     "end_time": "2022-12-12T09:54:29.595182Z",
     "start_time": "2022-12-12T09:54:29.592215Z"
    }
   },
   "outputs": [],
   "source": [
    "# Create a classifier\n",
    "from sklearn.linear_model import LogisticRegression\n",
    "\n",
    "clf = LogisticRegression()"
   ]
  },
  {
   "cell_type": "code",
   "execution_count": null,
   "id": "a802108b",
   "metadata": {},
   "outputs": [],
   "source": [
    "# Create a full pipeline\n",
    "pipeline = Pipeline(steps=[('no_sex', cleaner),\n",
    "                           ('outlier', your_outlier_sampler)\n",
    "                           ('preprocessor', preprocessor),\n",
    "                           ('classifier', clf)\n",
    "                          ])"
   ]
  },
  {
   "cell_type": "code",
   "execution_count": null,
   "id": "51515c8b",
   "metadata": {
    "ExecuteTime": {
     "end_time": "2022-12-12T10:01:31.557826Z",
     "start_time": "2022-12-12T10:01:31.504425Z"
    }
   },
   "outputs": [],
   "source": [
    "from sklearn import set_config\n",
    "set_config(display=\"diagram\")\n",
    "pipeline"
   ]
  },
  {
   "cell_type": "markdown",
   "id": "6a92b080",
   "metadata": {},
   "source": [
    "## Fit and evaluate the pipeline"
   ]
  },
  {
   "cell_type": "code",
   "execution_count": null,
   "id": "6bf6171e",
   "metadata": {
    "ExecuteTime": {
     "end_time": "2022-12-12T09:54:31.035394Z",
     "start_time": "2022-12-12T09:54:30.859166Z"
    }
   },
   "outputs": [],
   "source": [
    "# Model training\n",
    "???.fit(X_train, y_train)"
   ]
  },
  {
   "cell_type": "code",
   "execution_count": null,
   "id": "c0b732f8",
   "metadata": {
    "ExecuteTime": {
     "end_time": "2022-12-12T09:54:33.651158Z",
     "start_time": "2022-12-12T09:54:33.640844Z"
    }
   },
   "outputs": [],
   "source": [
    "# Prediction\n",
    "y_pred = ???.predict(X_test)"
   ]
  },
  {
   "cell_type": "code",
   "execution_count": null,
   "id": "90bd8786",
   "metadata": {
    "ExecuteTime": {
     "end_time": "2022-11-22T07:34:55.563446Z",
     "start_time": "2022-11-22T07:34:55.558892Z"
    }
   },
   "outputs": [],
   "source": [
    "# Model evaluation\n",
    "from sklearn.metrics import accuracy_score\n",
    "\n",
    "ACC = accuracy_score(y_test, y_pred)\n",
    "print(\"model accuracy: %.3f\" % ACC)"
   ]
  },
  {
   "cell_type": "code",
   "execution_count": null,
   "id": "7bb4f6c5",
   "metadata": {
    "ExecuteTime": {
     "end_time": "2022-11-22T07:34:57.306984Z",
     "start_time": "2022-11-22T07:34:57.302355Z"
    }
   },
   "outputs": [],
   "source": [
    "from sklearn.metrics import confusion_matrix, ConfusionMatrixDisplay\n",
    "\n",
    "cm = confusion_matrix(y_test, y_pred, labels=pipeline.classes_)\n",
    "disp = ConfusionMatrixDisplay(confusion_matrix=cm,\n",
    "                              display_labels=pipeline.classes_)\n",
    "disp.plot()"
   ]
  },
  {
   "cell_type": "code",
   "execution_count": null,
   "id": "9f52a248",
   "metadata": {
    "ExecuteTime": {
     "end_time": "2022-11-22T07:35:01.722556Z",
     "start_time": "2022-11-22T07:35:01.717239Z"
    }
   },
   "outputs": [],
   "source": [
    "# From confusion matrix, calculate Accuracy, Recall and Precision\n",
    "\n",
    "\"\"\" Put your code here \"\"\""
   ]
  },
  {
   "cell_type": "code",
   "execution_count": null,
   "id": "7be6000c",
   "metadata": {
    "ExecuteTime": {
     "end_time": "2022-11-22T07:35:02.759668Z",
     "start_time": "2022-11-22T07:35:02.749422Z"
    }
   },
   "outputs": [],
   "source": [
    "# Verify your value with classification_report from sklearn\n",
    "from sklearn.metrics import classification_report\n",
    "\n",
    "print(classification_report(y_test, y_pred, labels=categories))"
   ]
  },
  {
   "cell_type": "markdown",
   "id": "d0100f64",
   "metadata": {},
   "source": [
    "## Search best model\n",
    "\n",
    "\n",
    "Use RandomSearch_CV with different missing value imputation strategies, several models to find the best hyper_parameters. Try almost 2 imputing strategies, 2 models with 2 differents hyperparameters.\n",
    "\n",
    "* [How to tune multiple ML models with GridSearchCV at once?](\n",
    "https://towardsdatascience.com/how-to-tune-multiple-ml-models-with-gridsearchcv-at-once-9fcebfcc6c23)\n",
    "* Use pipeline.get_params().keys() to get the param names."
   ]
  },
  {
   "cell_type": "code",
   "execution_count": null,
   "id": "56526582",
   "metadata": {},
   "outputs": [],
   "source": [
    "# To obtain the list of parameters\n",
    "pipeline.get_params().keys()"
   ]
  },
  {
   "cell_type": "code",
   "execution_count": null,
   "id": "15d80f17",
   "metadata": {},
   "outputs": [],
   "source": [
    "params = [\n",
    "    ... \"\"\" YOUR Search parameters \"\"\"\n",
    "]"
   ]
  },
  {
   "cell_type": "code",
   "execution_count": null,
   "id": "29a7434c",
   "metadata": {
    "ExecuteTime": {
     "end_time": "2022-12-14T09:41:13.475895Z",
     "start_time": "2022-12-14T09:41:13.469687Z"
    }
   },
   "outputs": [],
   "source": [
    "search = RandomizedSearchCV(pipeline,             # Your pipeline\n",
    "                            param_grid,           # Your search parameters\n",
    "                            n_iter=...,\n",
    "                            scoring=...,          # Your strategy to evaluate the performance of the cross-validated model\n",
    "                            refit=...,\n",
    "                            cv=...\n",
    "                            n_jobs=...)\n",
    "\n",
    "search.fit(X_train, y_train)\n",
    "\"Best scores: %0.3f\" % search.best_score_  "
   ]
  },
  {
   "cell_type": "code",
   "execution_count": null,
   "id": "a4d320ef",
   "metadata": {},
   "outputs": [],
   "source": []
  },
  {
   "cell_type": "markdown",
   "id": "c9fcb647",
   "metadata": {
    "ExecuteTime": {
     "end_time": "2022-12-14T08:21:55.674388Z",
     "start_time": "2022-12-14T08:21:55.671772Z"
    }
   },
   "source": [
    "## How to create the best pipeline using the selected best_params\n",
    "\n",
    "<font color=\"red\">VERY IMPORTANT PART FOR THE PROJECT</font>"
   ]
  },
  {
   "cell_type": "code",
   "execution_count": null,
   "id": "33a924c5",
   "metadata": {
    "ExecuteTime": {
     "end_time": "2022-12-14T08:29:46.560472Z",
     "start_time": "2022-12-14T08:29:46.557823Z"
    }
   },
   "outputs": [],
   "source": [
    "# Keep your best params\n",
    "best_params = ...    # Put here the dictionnary gives by search.best_params_"
   ]
  },
  {
   "cell_type": "code",
   "execution_count": null,
   "id": "f7b80d7c",
   "metadata": {
    "ExecuteTime": {
     "end_time": "2022-12-14T08:30:02.852091Z",
     "start_time": "2022-12-14T08:30:02.849496Z"
    }
   },
   "outputs": [],
   "source": [
    "# Initialize the pipeline by the best params\n",
    "pipeline.set_params(**best_params)"
   ]
  },
  {
   "cell_type": "code",
   "execution_count": null,
   "id": "b3251f99",
   "metadata": {},
   "outputs": [],
   "source": [
    "# Fit your pipeline\n",
    "pipeline.fit(...)\n"
   ]
  },
  {
   "cell_type": "code",
   "execution_count": null,
   "id": "cec78a36",
   "metadata": {},
   "outputs": [],
   "source": [
    "\"\"\" I will use this pipeline on the test set \"\"\""
   ]
  }
 ],
 "metadata": {
  "kernelspec": {
   "display_name": "Python 3 (ipykernel)",
   "language": "python",
   "name": "python3"
  },
  "language_info": {
   "codemirror_mode": {
    "name": "ipython",
    "version": 3
   },
   "file_extension": ".py",
   "mimetype": "text/x-python",
   "name": "python",
   "nbconvert_exporter": "python",
   "pygments_lexer": "ipython3",
   "version": "3.11.4"
  },
  "latex_envs": {
   "LaTeX_envs_menu_present": true,
   "autoclose": true,
   "autocomplete": true,
   "bibliofile": "biblio.bib",
   "cite_by": "apalike",
   "current_citInitial": 1,
   "eqLabelWithNumbers": true,
   "eqNumInitial": 1,
   "hotkeys": {
    "equation": "Ctrl-E",
    "itemize": "Ctrl-I"
   },
   "labels_anchors": false,
   "latex_user_defs": false,
   "report_style_numbering": false,
   "user_envs_cfg": false
  },
  "nbTranslate": {
   "displayLangs": [
    "*"
   ],
   "hotkey": "alt-t",
   "langInMainMenu": true,
   "sourceLang": "en",
   "targetLang": "fr",
   "useGoogleTranslate": true
  },
  "toc": {
   "base_numbering": 1,
   "nav_menu": {},
   "number_sections": true,
   "sideBar": true,
   "skip_h1_title": true,
   "title_cell": "Table of Contents",
   "title_sidebar": "Contents",
   "toc_cell": true,
   "toc_position": {},
   "toc_section_display": true,
   "toc_window_display": false
  }
 },
 "nbformat": 4,
 "nbformat_minor": 5
}
