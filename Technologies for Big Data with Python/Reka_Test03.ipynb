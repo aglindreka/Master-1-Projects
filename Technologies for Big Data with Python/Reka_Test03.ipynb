{
 "cells": [
  {
   "cell_type": "markdown",
   "id": "ccb0c381",
   "metadata": {},
   "source": [
    "# DATABASE DESCRIPTION\n",
    "\n",
    "We are dealing with data coming from a vast expedition across the oceans to assess coral health.\n",
    "During the expedition, several islands were visited. On each island, a certain number of sites of interest have been identified, and on each site a certain number of coral colonies have been found, photographed and measured in any possible way.\n",
    "\n",
    "You are given a `corals.db` sqlite file.\n",
    "\n",
    "It's a database file containing `2` tables: `annotation` and `biomarker`.\n",
    "\n",
    "Table `annotation` contains the manual annotations of the pictures collected during the expedition. Each picture (i.e., each `sample`) was annotated by considering what is visible on the picture. You can consider this a summarized description of the picture.\n",
    "\n",
    "Table `biomarker` contains some measured biological parameters sampled out of each colony.\n",
    "\n",
    "The attributes of the tables are as follows.\n",
    "\n",
    "### annotation\n",
    "\n",
    "| number | attribute | type | \n",
    "|:--: | :------:| :----------|\n",
    "|1| sample_id | number | \n",
    "|2 | colony_id| text | \n",
    "|3 | target | text |\n",
    "|4 | parrotfish_scars | number |\n",
    "|5 | spirobranchus | number |\n",
    "|6 | tridacna | number |\n",
    "|7 | sponge | number |\n",
    "|8 | turbinaria | number |\n",
    "|9 | dictyota | number |\n",
    "|10 | lobophora | number |\n",
    "|11 | galaxaura | number |\n",
    "|12 | sargassum | number |\n",
    "|13 | otheralgae | text |\n",
    "\n",
    "Attribute `1` uniquely identify the annotated sample (numerical primary key).\n",
    "\n",
    "Attribute `2` and `3` identify the colony (i.e., the coral colony from which the sample was taken), and its genus.\n",
    "\n",
    "Attributes `4` to `13` are the annotation itself. All attributes are related to a particular kind of coral injury (`4`), to different symbiont organisms living on the coral (`5`, `6`, `7`), and finally to different species of algae that can grow on the colony (`8` to `12`). All these attributes have to be considered **BOOLEAN**: `1` meaning the attribute value is **TRUE**, `0` meaning it's **FALSE**.\n",
    "\n",
    "For example `sponge = 1` means that a sponge is living on to the colony (`colony_id`) and it was annotated on the sample `sample_id`.\n",
    "\n",
    "Attribute `13` is a miscellaneous annotation for any other algae that have been found on the sample.\n",
    "\n",
    "\n",
    "### biomarker\n",
    "\n",
    "| number | attribute | type | \n",
    "|:--: | :------:| :----------|\n",
    "|1| colony_id| text | \n",
    "|2 | sym_biomass_mg | number | \n",
    "|3 | sym_biomass_cm2 | number |\n",
    "|4 | animal_biomass | number |\n",
    "\n",
    "\n",
    "Attribute `1` is the colony identifier. E.g., `I01S02C010` means Colony number `10` (`C010`) found on Site number `2` (`S02`) on Island number `1` (`I01`).\n",
    "\n",
    "Attributes `2` and `3` are weigth and dimensions measurements of symbiotic organisms on the colony (e.g., algae or others)\n",
    "\n",
    "Attribute `4` is related to animal traces, wastes or tissues found on the corals (in grams).\n"
   ]
  },
  {
   "cell_type": "markdown",
   "id": "7fe2c76f",
   "metadata": {},
   "source": [
    "## Ex 1: Read both tables into 2 different Pandas dataframes\n",
    "\n",
    "`1` point.\n",
    "\n",
    "* Call the two dataframes `df_ann` for annotation table and `df_bio` for biomarker table."
   ]
  },
  {
   "cell_type": "code",
   "execution_count": 124,
   "id": "ff9a8513",
   "metadata": {},
   "outputs": [],
   "source": [
    "# FOR YOUR CONVENIENCE, HERE YOU HAVE THE NAMES OF THE ATTRIBUTES FOR EACH TABLE\n",
    "annotation_columns = ['sample_id', 'colony_id', 'target', 'parrotfish_scars', 'spirobranchus', 'tridacna', \n",
    "                      'sponge', 'halimeda', 'turbinaria', 'dictyota', 'lobophora', 'galaxaura', 'sargassum', \n",
    "                      'otheralgae'] \n",
    "biomarker_columns = ['colony_id', 'sym_biomass_mg', 'sym_biomass_cm2', 'animal_biomass']\n",
    "\n",
    "\n",
    "import sqlite3\n",
    "import pandas as pd\n",
    "\n",
    "corals = sqlite3.connect('corals.db')\n",
    "\n",
    "df_ann = pd.read_sql_query(\"SELECT * FROM annotation\", corals)\n",
    "df_bio = pd.read_sql_query(\"SELECT * FROM biomarker\", corals)"
   ]
  },
  {
   "cell_type": "markdown",
   "id": "c3d7d254",
   "metadata": {},
   "source": [
    "## Ex 2:  Annotation dataframe (I)\n",
    "\n",
    "`2` point max.\n",
    "\n",
    "`target` and `parrotfish_scars`\n",
    "\n",
    "* Using the `matplotlib` library, plot the distribution of values of the `target` attribute (i.e., with an histogram) *[0.5]*\n",
    "* Modify `df_ann` in the following way:\n",
    "  * drop all rows that contain null values (np.nan, None or '') on those 2 attributes *[0.5]*\n",
    "  * convert `parrotfish_scars` into an Integer column populated only by 1 and 0  *[1]*"
   ]
  },
  {
   "cell_type": "code",
   "execution_count": 125,
   "id": "939f5216",
   "metadata": {},
   "outputs": [
    {
     "data": {
      "text/plain": [
       "(array([2083.,    0.,    0.,    0.,    0., 2203.,    0.,    0.,    0.,\n",
       "        1250.]),\n",
       " array([0. , 0.2, 0.4, 0.6, 0.8, 1. , 1.2, 1.4, 1.6, 1.8, 2. ]),\n",
       " <BarContainer object of 10 artists>)"
      ]
     },
     "execution_count": 125,
     "metadata": {},
     "output_type": "execute_result"
    },
    {
     "data": {
      "image/png": "[encoded data removed]",
      "text/plain": [
       "<Figure size 432x288 with 1 Axes>"
      ]
     },
     "metadata": {
      "needs_background": "light"
     },
     "output_type": "display_data"
    }
   ],
   "source": [
    "#Using the matplotlib library, plot the distribution of values of the target attribute (i.e., with an histogram) [0.5]\n",
    "import matplotlib.pyplot as plt\n",
    "import matplotlib\n",
    "%matplotlib inline\n",
    " \n",
    "plt.hist(df_ann.target)"
   ]
  },
  {
   "cell_type": "code",
   "execution_count": 126,
   "id": "8e86049f",
   "metadata": {},
   "outputs": [],
   "source": [
    "#Modify df_ann in the following way:\n",
    "###drop all rows that contain null values (np.nan, None or '') on those 2 attributes \n",
    "df_ann = df_ann.dropna(subset = ['target','parrotfish_scars'])"
   ]
  },
  {
   "cell_type": "code",
   "execution_count": 127,
   "id": "4ce73758",
   "metadata": {},
   "outputs": [
    {
     "data": {
      "text/plain": [
       "0    4483\n",
       "1     979\n",
       "Name: parrotfish_scars, dtype: int64"
      ]
     },
     "execution_count": 127,
     "metadata": {},
     "output_type": "execute_result"
    }
   ],
   "source": [
    "#convert parrotfish_scars into an Integer column populated only by 1 and 0\n",
    "df_ann['parrotfish_scars'] = pd.to_numeric(df_ann['parrotfish_scars'], downcast='integer')\n",
    "df_ann['parrotfish_scars'].value_counts()"
   ]
  },
  {
   "cell_type": "markdown",
   "id": "20f2446e",
   "metadata": {},
   "source": [
    "##  Ex 3: Annotation dataframe (II)\n",
    "\n",
    "`1.5` points max\n",
    "\n",
    "`organisms_columns = [spirobranchus, tridacna, sponge]`\n",
    "\n",
    "* Modify `df_ann` in the following way:\n",
    "    1. Create a new column: `organisms`, defined as the sum of the values in these 3 attributes. *[1]*\n",
    "\n",
    "    >For example, consider a row in which the values of the three attributes are `[1, 0, 1]`.\n",
    "    >For that row, the values of the new column will be: `2` (1 + 0 + 1)\n",
    "\n",
    "    2. Drop the three original columns. *[0.5]*"
   ]
  },
  {
   "cell_type": "code",
   "execution_count": 128,
   "id": "8c6d6037",
   "metadata": {},
   "outputs": [
    {
     "data": {
      "text/plain": [
       "0       0\n",
       "1       0\n",
       "2       0\n",
       "3       0\n",
       "4       0\n",
       "       ..\n",
       "5531    0\n",
       "5532    0\n",
       "5533    1\n",
       "5534    0\n",
       "5535    0\n",
       "Name: organisms, Length: 5462, dtype: int64"
      ]
     },
     "execution_count": 128,
     "metadata": {},
     "output_type": "execute_result"
    }
   ],
   "source": [
    "#3.1\n",
    "organisms_columns = ['spirobranchus', 'tridacna', 'sponge']\n",
    "\n",
    "df_ann['organisms'] = df_ann[organisms_columns].sum(axis=1)\n",
    "df_ann['organisms']"
   ]
  },
  {
   "cell_type": "code",
   "execution_count": 129,
   "id": "64db3c83",
   "metadata": {},
   "outputs": [
    {
     "data": {
      "text/html": [
       "<div>\n",
       "<style scoped>\n",
       "    .dataframe tbody tr th:only-of-type {\n",
       "        vertical-align: middle;\n",
       "    }\n",
       "\n",
       "    .dataframe tbody tr th {\n",
       "        vertical-align: top;\n",
       "    }\n",
       "\n",
       "    .dataframe thead th {\n",
       "        text-align: right;\n",
       "    }\n",
       "</style>\n",
       "<table border=\"1\" class=\"dataframe\">\n",
       "  <thead>\n",
       "    <tr style=\"text-align: right;\">\n",
       "      <th></th>\n",
       "      <th>sample_id</th>\n",
       "      <th>colony_id</th>\n",
       "      <th>target</th>\n",
       "      <th>parrotfish_scars</th>\n",
       "      <th>halimeda</th>\n",
       "      <th>turbinaria</th>\n",
       "      <th>dictyota</th>\n",
       "      <th>lobophora</th>\n",
       "      <th>galaxaura</th>\n",
       "      <th>sargassum</th>\n",
       "      <th>otheralgae</th>\n",
       "      <th>organisms</th>\n",
       "    </tr>\n",
       "  </thead>\n",
       "  <tbody>\n",
       "    <tr>\n",
       "      <th>0</th>\n",
       "      <td>3000113</td>\n",
       "      <td>I01S01C001</td>\n",
       "      <td>Pocillopora (NCBI:txid46730)</td>\n",
       "      <td>0</td>\n",
       "      <td>0</td>\n",
       "      <td>0</td>\n",
       "      <td>0</td>\n",
       "      <td>0</td>\n",
       "      <td>0</td>\n",
       "      <td>0</td>\n",
       "      <td>none</td>\n",
       "      <td>0</td>\n",
       "    </tr>\n",
       "    <tr>\n",
       "      <th>1</th>\n",
       "      <td>3000114</td>\n",
       "      <td>I01S01C001</td>\n",
       "      <td>Pocillopora (NCBI:txid46730)</td>\n",
       "      <td>0</td>\n",
       "      <td>0</td>\n",
       "      <td>0</td>\n",
       "      <td>0</td>\n",
       "      <td>0</td>\n",
       "      <td>0</td>\n",
       "      <td>0</td>\n",
       "      <td>none</td>\n",
       "      <td>0</td>\n",
       "    </tr>\n",
       "    <tr>\n",
       "      <th>2</th>\n",
       "      <td>3000115</td>\n",
       "      <td>I01S01C001</td>\n",
       "      <td>Pocillopora (NCBI:txid46730)</td>\n",
       "      <td>0</td>\n",
       "      <td>0</td>\n",
       "      <td>0</td>\n",
       "      <td>0</td>\n",
       "      <td>0</td>\n",
       "      <td>0</td>\n",
       "      <td>0</td>\n",
       "      <td>none</td>\n",
       "      <td>0</td>\n",
       "    </tr>\n",
       "    <tr>\n",
       "      <th>3</th>\n",
       "      <td>3000116</td>\n",
       "      <td>I01S01C001</td>\n",
       "      <td>Pocillopora (NCBI:txid46730)</td>\n",
       "      <td>0</td>\n",
       "      <td>0</td>\n",
       "      <td>0</td>\n",
       "      <td>0</td>\n",
       "      <td>0</td>\n",
       "      <td>0</td>\n",
       "      <td>0</td>\n",
       "      <td>none</td>\n",
       "      <td>0</td>\n",
       "    </tr>\n",
       "    <tr>\n",
       "      <th>4</th>\n",
       "      <td>3000117</td>\n",
       "      <td>I01S01C001</td>\n",
       "      <td>Pocillopora (NCBI:txid46730)</td>\n",
       "      <td>0</td>\n",
       "      <td>0</td>\n",
       "      <td>0</td>\n",
       "      <td>0</td>\n",
       "      <td>0</td>\n",
       "      <td>0</td>\n",
       "      <td>0</td>\n",
       "      <td>none</td>\n",
       "      <td>0</td>\n",
       "    </tr>\n",
       "  </tbody>\n",
       "</table>\n",
       "</div>"
      ],
      "text/plain": [
       "  sample_id   colony_id                        target  parrotfish_scars  \\\n",
       "0   3000113  I01S01C001  Pocillopora (NCBI:txid46730)                 0   \n",
       "1   3000114  I01S01C001  Pocillopora (NCBI:txid46730)                 0   \n",
       "2   3000115  I01S01C001  Pocillopora (NCBI:txid46730)                 0   \n",
       "3   3000116  I01S01C001  Pocillopora (NCBI:txid46730)                 0   \n",
       "4   3000117  I01S01C001  Pocillopora (NCBI:txid46730)                 0   \n",
       "\n",
       "   halimeda  turbinaria  dictyota  lobophora  galaxaura  sargassum otheralgae  \\\n",
       "0         0           0         0          0          0          0       none   \n",
       "1         0           0         0          0          0          0       none   \n",
       "2         0           0         0          0          0          0       none   \n",
       "3         0           0         0          0          0          0       none   \n",
       "4         0           0         0          0          0          0       none   \n",
       "\n",
       "   organisms  \n",
       "0          0  \n",
       "1          0  \n",
       "2          0  \n",
       "3          0  \n",
       "4          0  "
      ]
     },
     "execution_count": 129,
     "metadata": {},
     "output_type": "execute_result"
    }
   ],
   "source": [
    "#Drop the three original columns\n",
    "df_ann.drop(['spirobranchus', 'tridacna','sponge'], axis=1, inplace=True)\n",
    "df_ann.head()"
   ]
  },
  {
   "cell_type": "markdown",
   "id": "7cfacabd",
   "metadata": {},
   "source": [
    "## Ex 4: Annotation dataframe (III)\n",
    "\n",
    "`2.5` points max\n",
    "\n",
    "`algae_columns = [halimeda, turbinaria, dictyota, lobophora, galaxaura, sargassum, otheralgae]`\n",
    "\n",
    "* Modify `df_ann` in the following way:\n",
    "    1. Convert `otheralgae` into a binary value. `0` if no information, `1` on the contrary. *[1.5]*\n",
    "\n",
    "    2. As in exercise `3`: Create a new column: `algae` defined as the sum of these columns. *[0.5]*\n",
    "\n",
    "    >For example, consider a row in which the values of the attributes are `[1, 1, 0, 0, 0, 0, 1]`. For that row, the values of the new columns will be equal to `3`  \n",
    "   \n",
    "    3. Drop the original `algae_columns` . *[0.5]*"
   ]
  },
  {
   "cell_type": "code",
   "execution_count": 130,
   "id": "3034bb04",
   "metadata": {},
   "outputs": [
    {
     "name": "stderr",
     "output_type": "stream",
     "text": [
      "C:\\Users\\Raffaele\\AppData\\Local\\Temp\\ipykernel_9536\\3472727748.py:4: SettingWithCopyWarning: \n",
      "A value is trying to be set on a copy of a slice from a DataFrame\n",
      "\n",
      "See the caveats in the documentation: https://pandas.pydata.org/pandas-docs/stable/user_guide/indexing.html#returning-a-view-versus-a-copy\n",
      "  df_ann['otheralgae'].loc[(df_ann['otheralgae']==\"none\") | (df_ann['otheralgae']==\"can't id\") ] = 0\n",
      "C:\\Users\\Raffaele\\AppData\\Local\\Temp\\ipykernel_9536\\3472727748.py:5: SettingWithCopyWarning: \n",
      "A value is trying to be set on a copy of a slice from a DataFrame\n",
      "\n",
      "See the caveats in the documentation: https://pandas.pydata.org/pandas-docs/stable/user_guide/indexing.html#returning-a-view-versus-a-copy\n",
      "  df_ann['otheralgae'].loc[(df_ann['otheralgae']==\"red\") | (df_ann['otheralgae']==\"green\") ] = 1\n"
     ]
    },
    {
     "data": {
      "text/plain": [
       "0    5427\n",
       "1      35\n",
       "Name: otheralgae, dtype: int64"
      ]
     },
     "execution_count": 130,
     "metadata": {},
     "output_type": "execute_result"
    }
   ],
   "source": [
    "#4.1\n",
    "algae_columns = ['halimeda', 'turbinaria', 'dictyota', 'lobophora', 'galaxaura', 'sargassum', 'otheralgae']\n",
    "\n",
    "df_ann['otheralgae'].loc[(df_ann['otheralgae']==\"none\") | (df_ann['otheralgae']==\"can't id\") ] = 0\n",
    "df_ann['otheralgae'].loc[(df_ann['otheralgae']==\"red\") | (df_ann['otheralgae']==\"green\") ] = 1\n",
    "df_ann['otheralgae'].value_counts()"
   ]
  },
  {
   "cell_type": "code",
   "execution_count": 131,
   "id": "24052575",
   "metadata": {},
   "outputs": [
    {
     "data": {
      "text/plain": [
       "0.0    4905\n",
       "1.0     523\n",
       "2.0      32\n",
       "3.0       2\n",
       "Name: algae, dtype: int64"
      ]
     },
     "execution_count": 131,
     "metadata": {},
     "output_type": "execute_result"
    }
   ],
   "source": [
    "#4.2\n",
    "df_ann['algae'] = df_ann[algae_columns].sum(axis=1)\n",
    "df_ann['algae'].value_counts()"
   ]
  },
  {
   "cell_type": "code",
   "execution_count": 132,
   "id": "01123f88",
   "metadata": {},
   "outputs": [
    {
     "data": {
      "text/html": [
       "<div>\n",
       "<style scoped>\n",
       "    .dataframe tbody tr th:only-of-type {\n",
       "        vertical-align: middle;\n",
       "    }\n",
       "\n",
       "    .dataframe tbody tr th {\n",
       "        vertical-align: top;\n",
       "    }\n",
       "\n",
       "    .dataframe thead th {\n",
       "        text-align: right;\n",
       "    }\n",
       "</style>\n",
       "<table border=\"1\" class=\"dataframe\">\n",
       "  <thead>\n",
       "    <tr style=\"text-align: right;\">\n",
       "      <th></th>\n",
       "      <th>sample_id</th>\n",
       "      <th>colony_id</th>\n",
       "      <th>target</th>\n",
       "      <th>parrotfish_scars</th>\n",
       "      <th>organisms</th>\n",
       "      <th>algae</th>\n",
       "    </tr>\n",
       "  </thead>\n",
       "  <tbody>\n",
       "    <tr>\n",
       "      <th>0</th>\n",
       "      <td>3000113</td>\n",
       "      <td>I01S01C001</td>\n",
       "      <td>Pocillopora (NCBI:txid46730)</td>\n",
       "      <td>0</td>\n",
       "      <td>0</td>\n",
       "      <td>0.0</td>\n",
       "    </tr>\n",
       "    <tr>\n",
       "      <th>1</th>\n",
       "      <td>3000114</td>\n",
       "      <td>I01S01C001</td>\n",
       "      <td>Pocillopora (NCBI:txid46730)</td>\n",
       "      <td>0</td>\n",
       "      <td>0</td>\n",
       "      <td>0.0</td>\n",
       "    </tr>\n",
       "    <tr>\n",
       "      <th>2</th>\n",
       "      <td>3000115</td>\n",
       "      <td>I01S01C001</td>\n",
       "      <td>Pocillopora (NCBI:txid46730)</td>\n",
       "      <td>0</td>\n",
       "      <td>0</td>\n",
       "      <td>0.0</td>\n",
       "    </tr>\n",
       "    <tr>\n",
       "      <th>3</th>\n",
       "      <td>3000116</td>\n",
       "      <td>I01S01C001</td>\n",
       "      <td>Pocillopora (NCBI:txid46730)</td>\n",
       "      <td>0</td>\n",
       "      <td>0</td>\n",
       "      <td>0.0</td>\n",
       "    </tr>\n",
       "    <tr>\n",
       "      <th>4</th>\n",
       "      <td>3000117</td>\n",
       "      <td>I01S01C001</td>\n",
       "      <td>Pocillopora (NCBI:txid46730)</td>\n",
       "      <td>0</td>\n",
       "      <td>0</td>\n",
       "      <td>0.0</td>\n",
       "    </tr>\n",
       "  </tbody>\n",
       "</table>\n",
       "</div>"
      ],
      "text/plain": [
       "  sample_id   colony_id                        target  parrotfish_scars  \\\n",
       "0   3000113  I01S01C001  Pocillopora (NCBI:txid46730)                 0   \n",
       "1   3000114  I01S01C001  Pocillopora (NCBI:txid46730)                 0   \n",
       "2   3000115  I01S01C001  Pocillopora (NCBI:txid46730)                 0   \n",
       "3   3000116  I01S01C001  Pocillopora (NCBI:txid46730)                 0   \n",
       "4   3000117  I01S01C001  Pocillopora (NCBI:txid46730)                 0   \n",
       "\n",
       "   organisms  algae  \n",
       "0          0    0.0  \n",
       "1          0    0.0  \n",
       "2          0    0.0  \n",
       "3          0    0.0  \n",
       "4          0    0.0  "
      ]
     },
     "execution_count": 132,
     "metadata": {},
     "output_type": "execute_result"
    }
   ],
   "source": [
    "#Drop the original algae_columns \n",
    "df_ann.drop(['halimeda', 'turbinaria', 'dictyota', 'lobophora', 'galaxaura', 'sargassum', 'otheralgae'], axis=1, inplace=True)\n",
    "df_ann.head()"
   ]
  },
  {
   "cell_type": "markdown",
   "id": "4c2319b7",
   "metadata": {},
   "source": [
    "## Ex 5: Annotation dataframe (IV)\n",
    "\n",
    "`1` point\n",
    "\n",
    "You should have here a dataframe for which the following is true: `df_ann.shape = (5462, 6)`.\n",
    "\n",
    "* Modify `df_ann` in the following way: *[1]*\n",
    "    1. Group all samples belonging to the same colony `colony_id`, and summing the values over the annotation columns.\n",
    "\n",
    "    >For example, let's consider the following dataframe (synthetic example):\n",
    "\n",
    "\n",
    "| | sample_id | colony_id | target | parrotfish_scars | organisms | algae |\n",
    "|:-:|:-------:|:-------:|:------:|:-------:|:------:|:---:|\n",
    "| 0 | 30013 | I01S01C001 | Poc | 0 | 0 | 0 |\n",
    "| 1 | 30014 | I01S01C001 | Poc | 0 | 0 | 0 |\n",
    "| 2 | 30015 | I01S01C001 | Poc | 0 | 0 | 1 |\n",
    "| 3 | 30016 | I02S02C001 | Poc | 1 | 0 | 0 |\n",
    "| 4 | 30017 | I02S02C001 | Poc | 1 | 0 | 0 |\n",
    "\n",
    "The result should be:\n",
    "\n",
    "| | colony_id |parrotfish_scars | organisms | algae |\n",
    "|:-:|:-------:|:-------:|:------:|:---:|\n",
    "|0 | I01S01C001 | 0 | 0 | 1 |\n",
    "|1 | I02S02C001 | 2 | 0 | 0 |\n",
    "\n"
   ]
  },
  {
   "cell_type": "code",
   "execution_count": 133,
   "id": "61f911e9",
   "metadata": {},
   "outputs": [
    {
     "data": {
      "text/html": [
       "<div>\n",
       "<style scoped>\n",
       "    .dataframe tbody tr th:only-of-type {\n",
       "        vertical-align: middle;\n",
       "    }\n",
       "\n",
       "    .dataframe tbody tr th {\n",
       "        vertical-align: top;\n",
       "    }\n",
       "\n",
       "    .dataframe thead th {\n",
       "        text-align: right;\n",
       "    }\n",
       "</style>\n",
       "<table border=\"1\" class=\"dataframe\">\n",
       "  <thead>\n",
       "    <tr style=\"text-align: right;\">\n",
       "      <th></th>\n",
       "      <th>colony_id</th>\n",
       "      <th>parrotfish_scars</th>\n",
       "      <th>organisms</th>\n",
       "      <th>algae</th>\n",
       "    </tr>\n",
       "  </thead>\n",
       "  <tbody>\n",
       "    <tr>\n",
       "      <th>0</th>\n",
       "      <td>I01S01C001</td>\n",
       "      <td>0</td>\n",
       "      <td>0</td>\n",
       "      <td>0.0</td>\n",
       "    </tr>\n",
       "    <tr>\n",
       "      <th>1</th>\n",
       "      <td>I01S01C002</td>\n",
       "      <td>1</td>\n",
       "      <td>0</td>\n",
       "      <td>0.0</td>\n",
       "    </tr>\n",
       "    <tr>\n",
       "      <th>2</th>\n",
       "      <td>I01S01C003</td>\n",
       "      <td>6</td>\n",
       "      <td>0</td>\n",
       "      <td>0.0</td>\n",
       "    </tr>\n",
       "    <tr>\n",
       "      <th>3</th>\n",
       "      <td>I01S01C004</td>\n",
       "      <td>5</td>\n",
       "      <td>0</td>\n",
       "      <td>0.0</td>\n",
       "    </tr>\n",
       "    <tr>\n",
       "      <th>4</th>\n",
       "      <td>I01S01C005</td>\n",
       "      <td>1</td>\n",
       "      <td>0</td>\n",
       "      <td>2.0</td>\n",
       "    </tr>\n",
       "  </tbody>\n",
       "</table>\n",
       "</div>"
      ],
      "text/plain": [
       "    colony_id  parrotfish_scars  organisms  algae\n",
       "0  I01S01C001                 0          0    0.0\n",
       "1  I01S01C002                 1          0    0.0\n",
       "2  I01S01C003                 6          0    0.0\n",
       "3  I01S01C004                 5          0    0.0\n",
       "4  I01S01C005                 1          0    2.0"
      ]
     },
     "execution_count": 133,
     "metadata": {},
     "output_type": "execute_result"
    }
   ],
   "source": [
    "#5\n",
    "df_ann = df_ann.groupby('colony_id').agg({'parrotfish_scars':'sum','organisms':'sum','algae':sum}).reset_index()\n",
    "df_ann.head()"
   ]
  },
  {
   "cell_type": "markdown",
   "id": "59ec2a1d",
   "metadata": {},
   "source": [
    "## Ex 6: Both dataframes\n",
    "\n",
    "`2` points max\n",
    "\n",
    "* Join/Merge the dataframe resulting from `Ex 5` with the original `biomarker` dataframe of `Ex 1`, matching each `colony_id`. Call the result `tot_df`. *[1]*\n",
    "\n",
    "* What is the shape of the resulting dataframe? *[0.1]*\n",
    "* Save it to a `csv` file. *[0.1]*\n",
    "* Verify that the two dataframes (`tot_df` and the one read from the saved csv) are equal. *[0.2]*\n",
    "* List the colonies that are missing in the resulting dataframe from the biomarker dataframe. *[0.2]*\n",
    "* Is there any relevant correlation between the columns of the resulting dataframe ? *[0.2]*\n",
    "   * Use 0.3 in absolute value to claim \"relevance\" of the correlation\n",
    "   * You should see two of them, but one is trivial. \n",
    "* Convert the np.array of the `tot_df` correlation matrix values into a flat numpy array of positive values *[0.2]*\n",
    "   >For example: `[[1, -2, 3],[-4, -5, 6]]` &rarr; `[1,2,3,4,5,6]`"
   ]
  },
  {
   "cell_type": "code",
   "execution_count": 134,
   "id": "a78c3731",
   "metadata": {},
   "outputs": [
    {
     "data": {
      "text/html": [
       "<div>\n",
       "<style scoped>\n",
       "    .dataframe tbody tr th:only-of-type {\n",
       "        vertical-align: middle;\n",
       "    }\n",
       "\n",
       "    .dataframe tbody tr th {\n",
       "        vertical-align: top;\n",
       "    }\n",
       "\n",
       "    .dataframe thead th {\n",
       "        text-align: right;\n",
       "    }\n",
       "</style>\n",
       "<table border=\"1\" class=\"dataframe\">\n",
       "  <thead>\n",
       "    <tr style=\"text-align: right;\">\n",
       "      <th></th>\n",
       "      <th>colony_id</th>\n",
       "      <th>parrotfish_scars</th>\n",
       "      <th>organisms</th>\n",
       "      <th>algae</th>\n",
       "      <th>sym_biomass_mg</th>\n",
       "      <th>sym_biomass_cm2</th>\n",
       "      <th>animal_biomass</th>\n",
       "    </tr>\n",
       "  </thead>\n",
       "  <tbody>\n",
       "    <tr>\n",
       "      <th>0</th>\n",
       "      <td>I01S01C001</td>\n",
       "      <td>0</td>\n",
       "      <td>0</td>\n",
       "      <td>0.0</td>\n",
       "      <td>524000.0</td>\n",
       "      <td>589000.0</td>\n",
       "      <td>1.12</td>\n",
       "    </tr>\n",
       "    <tr>\n",
       "      <th>1</th>\n",
       "      <td>I01S01C002</td>\n",
       "      <td>1</td>\n",
       "      <td>0</td>\n",
       "      <td>0.0</td>\n",
       "      <td>461000.0</td>\n",
       "      <td>468000.0</td>\n",
       "      <td>1.02</td>\n",
       "    </tr>\n",
       "    <tr>\n",
       "      <th>2</th>\n",
       "      <td>I01S01C003</td>\n",
       "      <td>6</td>\n",
       "      <td>0</td>\n",
       "      <td>0.0</td>\n",
       "      <td>721000.0</td>\n",
       "      <td>867000.0</td>\n",
       "      <td>1.20</td>\n",
       "    </tr>\n",
       "    <tr>\n",
       "      <th>3</th>\n",
       "      <td>I01S01C006</td>\n",
       "      <td>0</td>\n",
       "      <td>0</td>\n",
       "      <td>0.0</td>\n",
       "      <td>1730000.0</td>\n",
       "      <td>1730000.0</td>\n",
       "      <td>1.00</td>\n",
       "    </tr>\n",
       "    <tr>\n",
       "      <th>4</th>\n",
       "      <td>I01S01C010</td>\n",
       "      <td>0</td>\n",
       "      <td>0</td>\n",
       "      <td>0.0</td>\n",
       "      <td>1720000.0</td>\n",
       "      <td>2320000.0</td>\n",
       "      <td>1.35</td>\n",
       "    </tr>\n",
       "  </tbody>\n",
       "</table>\n",
       "</div>"
      ],
      "text/plain": [
       "    colony_id  parrotfish_scars  organisms  algae  sym_biomass_mg  \\\n",
       "0  I01S01C001                 0          0    0.0        524000.0   \n",
       "1  I01S01C002                 1          0    0.0        461000.0   \n",
       "2  I01S01C003                 6          0    0.0        721000.0   \n",
       "3  I01S01C006                 0          0    0.0       1730000.0   \n",
       "4  I01S01C010                 0          0    0.0       1720000.0   \n",
       "\n",
       "   sym_biomass_cm2  animal_biomass  \n",
       "0         589000.0            1.12  \n",
       "1         468000.0            1.02  \n",
       "2         867000.0            1.20  \n",
       "3        1730000.0            1.00  \n",
       "4        2320000.0            1.35  "
      ]
     },
     "execution_count": 134,
     "metadata": {},
     "output_type": "execute_result"
    }
   ],
   "source": [
    "#exercise - 6.1\n",
    "tot_df = df_ann.merge(df_bio,on='colony_id')\n",
    "tot_df.head()"
   ]
  },
  {
   "cell_type": "code",
   "execution_count": 135,
   "id": "14301f37",
   "metadata": {},
   "outputs": [
    {
     "data": {
      "text/plain": [
       "(231, 7)"
      ]
     },
     "execution_count": 135,
     "metadata": {},
     "output_type": "execute_result"
    }
   ],
   "source": [
    "#6.2\n",
    "tot_df.shape"
   ]
  },
  {
   "cell_type": "code",
   "execution_count": 136,
   "id": "2daabe89",
   "metadata": {},
   "outputs": [
    {
     "data": {
      "text/html": [
       "<div>\n",
       "<style scoped>\n",
       "    .dataframe tbody tr th:only-of-type {\n",
       "        vertical-align: middle;\n",
       "    }\n",
       "\n",
       "    .dataframe tbody tr th {\n",
       "        vertical-align: top;\n",
       "    }\n",
       "\n",
       "    .dataframe thead th {\n",
       "        text-align: right;\n",
       "    }\n",
       "</style>\n",
       "<table border=\"1\" class=\"dataframe\">\n",
       "  <thead>\n",
       "    <tr style=\"text-align: right;\">\n",
       "      <th></th>\n",
       "      <th>colony_id</th>\n",
       "      <th>parrotfish_scars</th>\n",
       "      <th>organisms</th>\n",
       "      <th>algae</th>\n",
       "      <th>sym_biomass_mg</th>\n",
       "      <th>sym_biomass_cm2</th>\n",
       "      <th>animal_biomass</th>\n",
       "    </tr>\n",
       "  </thead>\n",
       "  <tbody>\n",
       "    <tr>\n",
       "      <th>0</th>\n",
       "      <td>I01S01C001</td>\n",
       "      <td>0</td>\n",
       "      <td>0</td>\n",
       "      <td>0.0</td>\n",
       "      <td>524000.0</td>\n",
       "      <td>589000.0</td>\n",
       "      <td>1.12</td>\n",
       "    </tr>\n",
       "    <tr>\n",
       "      <th>1</th>\n",
       "      <td>I01S01C002</td>\n",
       "      <td>1</td>\n",
       "      <td>0</td>\n",
       "      <td>0.0</td>\n",
       "      <td>461000.0</td>\n",
       "      <td>468000.0</td>\n",
       "      <td>1.02</td>\n",
       "    </tr>\n",
       "    <tr>\n",
       "      <th>2</th>\n",
       "      <td>I01S01C003</td>\n",
       "      <td>6</td>\n",
       "      <td>0</td>\n",
       "      <td>0.0</td>\n",
       "      <td>721000.0</td>\n",
       "      <td>867000.0</td>\n",
       "      <td>1.20</td>\n",
       "    </tr>\n",
       "    <tr>\n",
       "      <th>3</th>\n",
       "      <td>I01S01C006</td>\n",
       "      <td>0</td>\n",
       "      <td>0</td>\n",
       "      <td>0.0</td>\n",
       "      <td>1730000.0</td>\n",
       "      <td>1730000.0</td>\n",
       "      <td>1.00</td>\n",
       "    </tr>\n",
       "    <tr>\n",
       "      <th>4</th>\n",
       "      <td>I01S01C010</td>\n",
       "      <td>0</td>\n",
       "      <td>0</td>\n",
       "      <td>0.0</td>\n",
       "      <td>1720000.0</td>\n",
       "      <td>2320000.0</td>\n",
       "      <td>1.35</td>\n",
       "    </tr>\n",
       "  </tbody>\n",
       "</table>\n",
       "</div>"
      ],
      "text/plain": [
       "    colony_id  parrotfish_scars  organisms  algae  sym_biomass_mg  \\\n",
       "0  I01S01C001                 0          0    0.0        524000.0   \n",
       "1  I01S01C002                 1          0    0.0        461000.0   \n",
       "2  I01S01C003                 6          0    0.0        721000.0   \n",
       "3  I01S01C006                 0          0    0.0       1730000.0   \n",
       "4  I01S01C010                 0          0    0.0       1720000.0   \n",
       "\n",
       "   sym_biomass_cm2  animal_biomass  \n",
       "0         589000.0            1.12  \n",
       "1         468000.0            1.02  \n",
       "2         867000.0            1.20  \n",
       "3        1730000.0            1.00  \n",
       "4        2320000.0            1.35  "
      ]
     },
     "execution_count": 136,
     "metadata": {},
     "output_type": "execute_result"
    }
   ],
   "source": [
    "#6.3\n",
    "tot_df.to_csv('tot_df.csv', index = False)\n",
    "tot_df.head()"
   ]
  },
  {
   "cell_type": "code",
   "execution_count": 137,
   "id": "a13b4f95",
   "metadata": {},
   "outputs": [
    {
     "data": {
      "text/plain": [
       "False"
      ]
     },
     "execution_count": 137,
     "metadata": {},
     "output_type": "execute_result"
    }
   ],
   "source": [
    "#6.4\n",
    "tot_df_cleaned = pd.read_csv('tot_df.csv')\n",
    "tot_df_cleaned.head()\n",
    "tot_df_cleaned.equals(tot_df)"
   ]
  },
  {
   "cell_type": "code",
   "execution_count": 138,
   "id": "dde9d912",
   "metadata": {},
   "outputs": [
    {
     "data": {
      "text/plain": [
       "80     I15S03C003\n",
       "92     I15S03C006\n",
       "94     I15S03C001\n",
       "112    I15S03C010\n",
       "215    I15S03C012\n",
       "233    I15S03C013\n",
       "Name: colony_id, dtype: object"
      ]
     },
     "execution_count": 138,
     "metadata": {},
     "output_type": "execute_result"
    }
   ],
   "source": [
    "#6.5 List the colonies that are missing in the resulting dataframe from the biomarker dataframe.\n",
    "df_bio.colony_id[~df_bio.colony_id.isin(tot_df_cleaned.colony_id)]"
   ]
  },
  {
   "cell_type": "code",
   "execution_count": 139,
   "id": "7e357ac3",
   "metadata": {},
   "outputs": [
    {
     "data": {
      "text/html": [
       "<div>\n",
       "<style scoped>\n",
       "    .dataframe tbody tr th:only-of-type {\n",
       "        vertical-align: middle;\n",
       "    }\n",
       "\n",
       "    .dataframe tbody tr th {\n",
       "        vertical-align: top;\n",
       "    }\n",
       "\n",
       "    .dataframe thead th {\n",
       "        text-align: right;\n",
       "    }\n",
       "</style>\n",
       "<table border=\"1\" class=\"dataframe\">\n",
       "  <thead>\n",
       "    <tr style=\"text-align: right;\">\n",
       "      <th></th>\n",
       "      <th>index</th>\n",
       "      <th>variable</th>\n",
       "      <th>value</th>\n",
       "    </tr>\n",
       "  </thead>\n",
       "  <tbody>\n",
       "    <tr>\n",
       "      <th>5</th>\n",
       "      <td>animal_biomass</td>\n",
       "      <td>parrotfish_scars</td>\n",
       "      <td>0.340330</td>\n",
       "    </tr>\n",
       "    <tr>\n",
       "      <th>22</th>\n",
       "      <td>sym_biomass_cm2</td>\n",
       "      <td>sym_biomass_mg</td>\n",
       "      <td>0.991222</td>\n",
       "    </tr>\n",
       "  </tbody>\n",
       "</table>\n",
       "</div>"
      ],
      "text/plain": [
       "              index          variable     value\n",
       "5    animal_biomass  parrotfish_scars  0.340330\n",
       "22  sym_biomass_cm2    sym_biomass_mg  0.991222"
      ]
     },
     "execution_count": 139,
     "metadata": {},
     "output_type": "execute_result"
    }
   ],
   "source": [
    "#6.6 Is there any relevant correlation between the columns of the resulting dataframe \n",
    "corr = tot_df_cleaned.corr()\n",
    "corr = corr.where(corr.abs().gt(0.3)).reset_index().melt('index').dropna()\n",
    "corr = corr[corr['index'] != corr['variable']]\n",
    "corr.drop_duplicates(subset=['value'])"
   ]
  },
  {
   "cell_type": "markdown",
   "id": "0af4e574",
   "metadata": {},
   "source": [
    "## DON'T WRITE ANYTHING PAST THIS POINT"
   ]
  },
  {
   "cell_type": "code",
   "execution_count": 140,
   "id": "8633d843",
   "metadata": {},
   "outputs": [
    {
     "name": "stdout",
     "output_type": "stream",
     "text": [
      "Complete\n"
     ]
    }
   ],
   "source": [
    "print(\"Complete\")"
   ]
  }
 ],
 "metadata": {
  "kernelspec": {
   "display_name": "Python 3 (ipykernel)",
   "language": "python",
   "name": "python3"
  },
  "language_info": {
   "codemirror_mode": {
    "name": "ipython",
    "version": 3
   },
   "file_extension": ".py",
   "mimetype": "text/x-python",
   "name": "python",
   "nbconvert_exporter": "python",
   "pygments_lexer": "ipython3",
   "version": "3.11.4"
  }
 },
 "nbformat": 4,
 "nbformat_minor": 5
}
